{
 "cells": [
  {
   "cell_type": "code",
   "execution_count": 1,
   "metadata": {
    "collapsed": true,
    "jupyter": {
     "outputs_hidden": true
    }
   },
   "outputs": [],
   "source": [
    "import os\n",
    "import sys\n",
    "os.environ[\"PYSPARK_PYTHON\"] = sys.executable\n",
    "os.environ[\"PYSPARK_DRIVER_PYTHON\"] = sys.executable"
   ]
  },
  {
   "cell_type": "code",
   "execution_count": 2,
   "metadata": {},
   "outputs": [
    {
     "data": {
      "text/plain": [
       "'2.3.0'"
      ]
     },
     "execution_count": 2,
     "metadata": {},
     "output_type": "execute_result"
    }
   ],
   "source": [
    "from pyspark import SparkContext\n",
    "sc = SparkContext(master=\"local[4]\")\n",
    "sc.version"
   ]
  },
  {
   "cell_type": "code",
   "execution_count": 3,
   "metadata": {},
   "outputs": [
    {
     "data": {
      "text/plain": [
       "<pyspark.sql.context.SQLContext at 0x7fbc1d72f240>"
      ]
     },
     "execution_count": 3,
     "metadata": {},
     "output_type": "execute_result"
    }
   ],
   "source": [
    "from pyspark import SparkContext\n",
    "from pyspark.sql import SQLContext\n",
    "from pyspark.sql.types import Row, StructField, StructType, StringType, IntegerType, BinaryType\n",
    "\n",
    "sqlContext = SQLContext(sc)\n",
    "sqlContext"
   ]
  },
  {
   "cell_type": "code",
   "execution_count": 4,
   "metadata": {
    "collapsed": true,
    "jupyter": {
     "outputs_hidden": true
    }
   },
   "outputs": [],
   "source": [
    "#read in the dataset"
   ]
  },
  {
   "cell_type": "code",
   "execution_count": 5,
   "metadata": {
    "collapsed": true,
    "jupyter": {
     "outputs_hidden": true
    }
   },
   "outputs": [],
   "source": [
    "from pyspark.sql import SparkSession\n",
    "spark = SparkSession.builder.appName(\"CSV Reader\").getOrCreate()"
   ]
  },
  {
   "cell_type": "code",
   "execution_count": 6,
   "metadata": {
    "collapsed": true,
    "jupyter": {
     "outputs_hidden": true
    }
   },
   "outputs": [],
   "source": [
    "df1 = spark.read.format(\"csv\").option(\"header\", \"true\").option(\"inferSchema\", \"true\").option(\"escape\", \"\\\"\").load(\"merged_data.csv\")"
   ]
  },
  {
   "cell_type": "code",
   "execution_count": 7,
   "metadata": {
    "collapsed": true,
    "jupyter": {
     "outputs_hidden": true
    }
   },
   "outputs": [],
   "source": [
    "#df = spark.read.format(\"csv\").option(\"header\", \"true\").option(\"inferSchema\", \"true\").load(\"merged_data.csv\")\n",
    "#df.show()"
   ]
  },
  {
   "cell_type": "code",
   "execution_count": 8,
   "metadata": {},
   "outputs": [],
   "source": [
    "#return schema for database"
   ]
  },
  {
   "cell_type": "code",
   "execution_count": 9,
   "metadata": {},
   "outputs": [
    {
     "name": "stdout",
     "output_type": "stream",
     "text": [
      "root\n",
      " |-- _c0: integer (nullable = true)\n",
      " |-- title: string (nullable = true)\n",
      " |-- rank: integer (nullable = true)\n",
      " |-- date: string (nullable = true)\n",
      " |-- artist: string (nullable = true)\n",
      " |-- url: string (nullable = true)\n",
      " |-- region: string (nullable = true)\n",
      " |-- chart: string (nullable = true)\n",
      " |-- trend: string (nullable = true)\n",
      " |-- streams: integer (nullable = true)\n",
      " |-- track_id: string (nullable = true)\n",
      " |-- album: string (nullable = true)\n",
      " |-- popularity: integer (nullable = true)\n",
      " |-- duration_ms: integer (nullable = true)\n",
      " |-- explicit: boolean (nullable = true)\n",
      " |-- release_date: string (nullable = true)\n",
      " |-- available_markets: string (nullable = true)\n",
      " |-- af_danceability: double (nullable = true)\n",
      " |-- af_energy: double (nullable = true)\n",
      " |-- af_key: integer (nullable = true)\n",
      " |-- af_loudness: double (nullable = true)\n",
      " |-- af_mode: integer (nullable = true)\n",
      " |-- af_speechiness: double (nullable = true)\n",
      " |-- af_acousticness: double (nullable = true)\n",
      " |-- af_instrumentalness: double (nullable = true)\n",
      " |-- af_liveness: double (nullable = true)\n",
      " |-- af_valence: double (nullable = true)\n",
      " |-- af_tempo: double (nullable = true)\n",
      " |-- af_time_signature: integer (nullable = true)\n",
      "\n"
     ]
    }
   ],
   "source": [
    "df1.printSchema()"
   ]
  },
  {
   "cell_type": "code",
   "execution_count": 10,
   "metadata": {
    "collapsed": true,
    "jupyter": {
     "outputs_hidden": true
    }
   },
   "outputs": [],
   "source": [
    "#return all columns "
   ]
  },
  {
   "cell_type": "code",
   "execution_count": 11,
   "metadata": {},
   "outputs": [
    {
     "data": {
      "text/plain": [
       "['_c0',\n",
       " 'title',\n",
       " 'rank',\n",
       " 'date',\n",
       " 'artist',\n",
       " 'url',\n",
       " 'region',\n",
       " 'chart',\n",
       " 'trend',\n",
       " 'streams',\n",
       " 'track_id',\n",
       " 'album',\n",
       " 'popularity',\n",
       " 'duration_ms',\n",
       " 'explicit',\n",
       " 'release_date',\n",
       " 'available_markets',\n",
       " 'af_danceability',\n",
       " 'af_energy',\n",
       " 'af_key',\n",
       " 'af_loudness',\n",
       " 'af_mode',\n",
       " 'af_speechiness',\n",
       " 'af_acousticness',\n",
       " 'af_instrumentalness',\n",
       " 'af_liveness',\n",
       " 'af_valence',\n",
       " 'af_tempo',\n",
       " 'af_time_signature']"
      ]
     },
     "execution_count": 11,
     "metadata": {},
     "output_type": "execute_result"
    }
   ],
   "source": [
    "df1.columns"
   ]
  },
  {
   "cell_type": "code",
   "execution_count": 12,
   "metadata": {
    "collapsed": true,
    "jupyter": {
     "outputs_hidden": true
    }
   },
   "outputs": [],
   "source": [
    "#return count of all records in the dataframe "
   ]
  },
  {
   "cell_type": "code",
   "execution_count": 13,
   "metadata": {},
   "outputs": [
    {
     "data": {
      "text/plain": [
       "1048575"
      ]
     },
     "execution_count": 13,
     "metadata": {},
     "output_type": "execute_result"
    }
   ],
   "source": [
    "df1.count()"
   ]
  },
  {
   "cell_type": "code",
   "execution_count": 14,
   "metadata": {
    "collapsed": true,
    "jupyter": {
     "outputs_hidden": true
    }
   },
   "outputs": [],
   "source": [
    "#check to see if any null values  \n",
    "#we have a lot of null values, particularly in the streams column\n",
    "#drop null values "
   ]
  },
  {
   "cell_type": "code",
   "execution_count": 15,
   "metadata": {},
   "outputs": [
    {
     "name": "stdout",
     "output_type": "stream",
     "text": [
      "+---+--------------------+----+--------+--------------------+--------------------+---------+------+-------------+-------+--------------------+--------------------+----------+-----------+--------+------------+--------------------+---------------+---------+------+-----------+-------+--------------+---------------+-------------------+-----------+----------+--------+-----------------+\n",
      "|_c0|               title|rank|    date|              artist|                 url|   region| chart|        trend|streams|            track_id|               album|popularity|duration_ms|explicit|release_date|   available_markets|af_danceability|af_energy|af_key|af_loudness|af_mode|af_speechiness|af_acousticness|af_instrumentalness|af_liveness|af_valence|af_tempo|af_time_signature|\n",
      "+---+--------------------+----+--------+--------------------+--------------------+---------+------+-------------+-------+--------------------+--------------------+----------+-----------+--------+------------+--------------------+---------------+---------+------+-----------+-------+--------------+---------------+-------------------+-----------+----------+--------+-----------------+\n",
      "|  0|Chantaje (feat. M...|   1|1/1/2017|             Shakira|https://open.spot...|Argentina|top200|SAME_POSITION| 253019|6mICuAdrwEjh6Y6lr...|           El Dorado|        78|     195840|   false|   5/26/2017|['AR', 'AU', 'AT'...|          0.852|    0.773|     8|     -2.921|      0|        0.0776|          0.187|            3.05E-5|      0.159|     0.907| 102.034|                4|\n",
      "|  1|Vente Pa' Ca (fea...|   2|1/1/2017|        Ricky Martin|https://open.spot...|Argentina|top200|      MOVE_UP| 223988|7DM4BPaS7uofFul3y...|Vente Pa' Ca (fea...|        72|     259195|   false|   9/22/2016|['AR', 'AU', 'AT'...|          0.663|     0.92|    11|      -4.07|      0|         0.226|        0.00431|            1.69E-5|      0.101|     0.533|  99.935|                4|\n",
      "|  2|Reggaetón Lento (...|   3|1/1/2017|                CNCO|https://open.spot...|Argentina|top200|    MOVE_DOWN| 210943|3AEZUABDXNtecAOSC...|        Primera Cita|        73|     222560|   false|   8/26/2016|['AR', 'AU', 'AT'...|          0.761|    0.838|     4|     -3.073|      0|        0.0502|            0.4|                0.0|      0.176|      0.71|  93.974|                4|\n",
      "|  3|              Safari|   4|1/1/2017|J Balvin, Pharrel...|https://open.spot...|Argentina|top200|SAME_POSITION| 173865|6rQSrBHf7HlZjtcMZ...|             Energía|         0|     205600|   false|   6/24/2016|                  []|          0.508|    0.687|     0|     -4.361|      1|         0.326|          0.551|            3.41E-6|      0.126|     0.555| 180.044|                4|\n",
      "|  4|         Shaky Shaky|   5|1/1/2017|        Daddy Yankee|https://open.spot...|Argentina|top200|      MOVE_UP| 153956|58IL315gMSTD37DOZ...|         Shaky Shaky|         0|     234320|   false|    4/8/2016|                  []|          0.899|    0.626|     6|     -4.228|      0|         0.292|          0.076|                0.0|     0.0631|     0.873|  88.007|                4|\n",
      "|  5|         Traicionera|   6|1/1/2017|     Sebastian Yatra|https://open.spot...|Argentina|top200|    MOVE_DOWN| 151140|5J1c3M4EldCfNxXwr...|         Traicionera|         0|     228466|   false|   6/24/2016|                  []|          0.776|    0.669|    11|     -4.933|      1|        0.0638|          0.142|                0.0|      0.219|     0.661|  91.012|                4|\n",
      "|  6|Cuando Se Pone a ...|   7|1/1/2017|              Rombai|https://open.spot...|Argentina|top200|    MOVE_DOWN| 148369|1MpKZi1zTXpERKwxm...|Cuando Se Pone a ...|        56|     195274|   false|   12/2/2016|['AR', 'AU', 'AT'...|          0.588|    0.682|    11|     -7.169|      0|         0.173|         0.0851|            2.69E-5|      0.084|     0.937| 205.643|                4|\n",
      "|  7|Otra vez (feat. J...|   8|1/1/2017|       Zion & Lennox|https://open.spot...|Argentina|top200|    MOVE_DOWN| 143004|3QwBODjSEzelZyVjx...|            Motivan2|        74|     209453|   false|   9/30/2016|['AG', 'AM', 'AR'...|          0.832|    0.772|    10|     -5.429|      1|           0.1|         0.0559|            4.86E-4|       0.44|     0.704|  96.016|                4|\n",
      "|  8|        La Bicicleta|   9|1/1/2017|Carlos Vives, Sha...|https://open.spot...|Argentina|top200|      MOVE_UP| 126389|0sXvAOmXgjR2QUqLK...|           El Dorado|        59|     227706|   false|   5/26/2017|['AR', 'AU', 'AT'...|          0.736|    0.964|     0|     -2.147|      1|         0.129|          0.198|            2.32E-6|      0.336|     0.953| 179.935|                4|\n",
      "|  9|Dile Que Tu Me Qu...|  10|1/1/2017|               Ozuna|https://open.spot...|Argentina|top200|    MOVE_DOWN| 112012|20ZAJdsKB5IGbGj4i...|Dile Que Tu Me Qu...|         0|     226400|   false|    6/6/2016|                  []|          0.721|    0.687|     1|     -6.682|      1|        0.0782|         0.0998|                0.0|     0.0679|     0.825| 175.914|                4|\n",
      "| 10|  Andas En Mi Cabeza|  11|1/1/2017|Chino & Nacho, Da...|https://open.spot...|Argentina|top200|SAME_POSITION| 110395|5mey7CLLuFToM2P68...|  Andas En Mi Cabeza|         0|     247493|   false|   2/19/2016|                  []|           0.68|    0.954|     9|     -1.823|      1|         0.119|         0.0244|                0.0|      0.112|     0.521| 104.029|                4|\n",
      "| 11|Desde Esa Noche (...|  12|1/1/2017|              Thalia|https://open.spot...|Argentina|top200|      MOVE_UP| 104592|1pWYnQIlqxTh5bxuP...|              Latina|        66|     227693|   false|    5/6/2016|['AR', 'AU', 'AT'...|           0.78|    0.929|    11|     -0.739|      0|        0.0532|          0.171|                0.0|     0.0677|     0.837|  95.012|                4|\n",
      "| 12|      Borro Cassette|  13|1/1/2017|              Maluma|https://open.spot...|Argentina|top200|      MOVE_UP| 101535|6DUdDIRgLqCGq1Dwk...|Pretty Boy, Dirty...|        80|     207306|   false|  10/30/2015|['AR', 'AU', 'AT'...|           0.73|    0.701|     5|     -5.885|      0|         0.106|          0.132|                0.0|      0.151|     0.785|  175.95|                4|\n",
      "| 13|Gyal You A Party ...|  14|1/1/2017|Charly Black, Dad...|https://open.spot...|Argentina|top200|    MOVE_DOWN|  99722|1AkTW13ysu0AJrwuM...|Gyal You A Party ...|         0|     224320|   false|   10/7/2016|                  []|          0.723|    0.889|     0|     -4.017|      1|        0.0939|         0.0673|                0.0|      0.363|     0.701| 101.032|                4|\n",
      "| 14|Me llamas (feat. ...|  15|1/1/2017|             Piso 21|https://open.spot...|Argentina|top200|    MOVE_DOWN|  95010|5hEM0JchdVzQ5PwvS...|Me Llamas (feat. ...|        69|     210322|   false|   12/2/2016|['AR', 'AU', 'AT'...|           0.76|    0.838|     7|     -3.828|      0|        0.0529|          0.547|             1.3E-6|     0.0664|     0.745|   93.05|                4|\n",
      "| 15|La Bicicleta (fea...|  16|1/1/2017|Carlos Vives, Sha...|https://open.spot...|Argentina|top200|      MOVE_UP|  92723|7IRuf7FrdQvOGs0g9...|La Bicicleta (fea...|        48|     254069|   false|   8/19/2016|['AR', 'AU', 'AT'...|          0.598|    0.917|     0|     -3.455|      1|         0.159|          0.117|                0.0|      0.398|     0.575| 180.049|                4|\n",
      "| 16|DUELE EL CORAZON ...|  17|1/1/2017|    Enrique Iglesias|https://open.spot...|Argentina|top200|      MOVE_UP|  91325|6YZdkObH88npeKrrk...|DUELE EL CORAZON ...|        69|     199693|   false|   4/18/2016|['AR', 'AU', 'AT'...|          0.716|    0.908|     8|     -3.254|      0|         0.103|         0.0858|                0.0|      0.135|     0.869|   91.03|                4|\n",
      "| 17|     Let Me Love You|  18|1/1/2017|DJ Snake, Justin ...|https://open.spot...|Argentina|top200|    MOVE_DOWN|  87926|4pdPtRcBmOSQDlJ3F...|              Encore|         2|     205946|   false|    8/5/2016|                  []|          0.476|    0.718|     8|     -5.309|      1|        0.0576|         0.0784|            1.02E-5|      0.122|     0.142| 199.864|                4|\n",
      "| 18|La Noche No Es pa...|  19|1/1/2017|         Mano Arriba|https://open.spot...|Argentina|top200|SAME_POSITION|  87033|3gEebOzxHpEwElicl...|La Noche No Es pa...|         0|     199495|   false|   3/11/2016|                  []|          0.549|    0.798|     6|     -4.185|      1|        0.0705|          0.126|                0.0|      0.329|     0.905| 100.054|                4|\n",
      "| 19|          Vacaciones|  20|1/1/2017|               Wisin|https://open.spot...|Argentina|top200|    MOVE_DOWN|  86103|3dQDid3IUNhZy1Oeh...|          Vacaciones|         0|     238800|   false|   9/30/2016|                  []|          0.772|    0.909|     6|     -3.225|      0|         0.166|          0.256|                0.0|      0.255|     0.694|  96.031|                4|\n",
      "+---+--------------------+----+--------+--------------------+--------------------+---------+------+-------------+-------+--------------------+--------------------+----------+-----------+--------+------------+--------------------+---------------+---------+------+-----------+-------+--------------+---------------+-------------------+-----------+----------+--------+-----------------+\n",
      "only showing top 20 rows\n",
      "\n"
     ]
    }
   ],
   "source": [
    "df2 = df1.dropna(\"any\")\n",
    "df2.show()"
   ]
  },
  {
   "cell_type": "code",
   "execution_count": 16,
   "metadata": {},
   "outputs": [
    {
     "data": {
      "text/plain": [
       "881194"
      ]
     },
     "execution_count": 16,
     "metadata": {},
     "output_type": "execute_result"
    }
   ],
   "source": [
    "df2.count()"
   ]
  },
  {
   "cell_type": "code",
   "execution_count": 17,
   "metadata": {},
   "outputs": [],
   "source": [
    "#check for duplicates \n",
    "#this means that there are no duplicates among the columns, we are good to go "
   ]
  },
  {
   "cell_type": "code",
   "execution_count": 18,
   "metadata": {
    "collapsed": true,
    "jupyter": {
     "outputs_hidden": true
    }
   },
   "outputs": [],
   "source": [
    "from pyspark.sql.functions import count, col"
   ]
  },
  {
   "cell_type": "code",
   "execution_count": 19,
   "metadata": {},
   "outputs": [],
   "source": [
    "duplicates = df2.groupBy(df2.columns)\\\n",
    "    .agg(count(\"*\").alias(\"count\"))\\\n",
    "    .filter(col(\"count\") > 1)"
   ]
  },
  {
   "cell_type": "code",
   "execution_count": 20,
   "metadata": {},
   "outputs": [
    {
     "name": "stdout",
     "output_type": "stream",
     "text": [
      "+---+-----+----+----+------+---+------+-----+-----+-------+--------+-----+----------+-----------+--------+------------+-----------------+---------------+---------+------+-----------+-------+--------------+---------------+-------------------+-----------+----------+--------+-----------------+-----+\n",
      "|_c0|title|rank|date|artist|url|region|chart|trend|streams|track_id|album|popularity|duration_ms|explicit|release_date|available_markets|af_danceability|af_energy|af_key|af_loudness|af_mode|af_speechiness|af_acousticness|af_instrumentalness|af_liveness|af_valence|af_tempo|af_time_signature|count|\n",
      "+---+-----+----+----+------+---+------+-----+-----+-------+--------+-----+----------+-----------+--------+------------+-----------------+---------------+---------+------+-----------+-------+--------------+---------------+-------------------+-----------+----------+--------+-----------------+-----+\n",
      "+---+-----+----+----+------+---+------+-----+-----+-------+--------+-----+----------+-----------+--------+------------+-----------------+---------------+---------+------+-----------+-------+--------------+---------------+-------------------+-----------+----------+--------+-----------------+-----+\n",
      "\n"
     ]
    }
   ],
   "source": [
    "duplicates.show()"
   ]
  },
  {
   "cell_type": "code",
   "execution_count": 21,
   "metadata": {
    "collapsed": true,
    "jupyter": {
     "outputs_hidden": true
    }
   },
   "outputs": [],
   "source": [
    "#change data type for streams, popularity and duration_ms from string to integer"
   ]
  },
  {
   "cell_type": "code",
   "execution_count": 22,
   "metadata": {},
   "outputs": [
    {
     "name": "stdout",
     "output_type": "stream",
     "text": [
      "root\n",
      " |-- _c0: integer (nullable = true)\n",
      " |-- title: string (nullable = true)\n",
      " |-- rank: integer (nullable = true)\n",
      " |-- date: string (nullable = true)\n",
      " |-- artist: string (nullable = true)\n",
      " |-- url: string (nullable = true)\n",
      " |-- region: string (nullable = true)\n",
      " |-- chart: string (nullable = true)\n",
      " |-- trend: string (nullable = true)\n",
      " |-- streams: integer (nullable = true)\n",
      " |-- track_id: string (nullable = true)\n",
      " |-- album: string (nullable = true)\n",
      " |-- popularity: integer (nullable = true)\n",
      " |-- duration_ms: integer (nullable = true)\n",
      " |-- explicit: boolean (nullable = true)\n",
      " |-- release_date: string (nullable = true)\n",
      " |-- available_markets: string (nullable = true)\n",
      " |-- af_danceability: double (nullable = true)\n",
      " |-- af_energy: double (nullable = true)\n",
      " |-- af_key: integer (nullable = true)\n",
      " |-- af_loudness: double (nullable = true)\n",
      " |-- af_mode: integer (nullable = true)\n",
      " |-- af_speechiness: double (nullable = true)\n",
      " |-- af_acousticness: double (nullable = true)\n",
      " |-- af_instrumentalness: double (nullable = true)\n",
      " |-- af_liveness: double (nullable = true)\n",
      " |-- af_valence: double (nullable = true)\n",
      " |-- af_tempo: double (nullable = true)\n",
      " |-- af_time_signature: integer (nullable = true)\n",
      "\n"
     ]
    }
   ],
   "source": [
    "df2.printSchema()"
   ]
  },
  {
   "cell_type": "code",
   "execution_count": 23,
   "metadata": {
    "collapsed": true,
    "jupyter": {
     "outputs_hidden": true
    }
   },
   "outputs": [],
   "source": [
    "#change data types from string to integer"
   ]
  },
  {
   "cell_type": "code",
   "execution_count": 24,
   "metadata": {
    "collapsed": true,
    "jupyter": {
     "outputs_hidden": true
    }
   },
   "outputs": [],
   "source": [
    "df2 = df2.withColumn(\"streams\", df1[\"streams\"].cast(\"Integer\"))"
   ]
  },
  {
   "cell_type": "code",
   "execution_count": 25,
   "metadata": {
    "collapsed": true,
    "jupyter": {
     "outputs_hidden": true
    }
   },
   "outputs": [],
   "source": [
    "df2 = df2.withColumn(\"popularity\", df1[\"popularity\"].cast(\"Integer\"))"
   ]
  },
  {
   "cell_type": "code",
   "execution_count": 26,
   "metadata": {
    "collapsed": true,
    "jupyter": {
     "outputs_hidden": true
    }
   },
   "outputs": [],
   "source": [
    "df2 = df2.withColumn(\"duration_ms\", df1[\"duration_ms\"].cast(\"Integer\"))"
   ]
  },
  {
   "cell_type": "code",
   "execution_count": 27,
   "metadata": {},
   "outputs": [
    {
     "name": "stdout",
     "output_type": "stream",
     "text": [
      "root\n",
      " |-- _c0: integer (nullable = true)\n",
      " |-- title: string (nullable = true)\n",
      " |-- rank: integer (nullable = true)\n",
      " |-- date: string (nullable = true)\n",
      " |-- artist: string (nullable = true)\n",
      " |-- url: string (nullable = true)\n",
      " |-- region: string (nullable = true)\n",
      " |-- chart: string (nullable = true)\n",
      " |-- trend: string (nullable = true)\n",
      " |-- streams: integer (nullable = true)\n",
      " |-- track_id: string (nullable = true)\n",
      " |-- album: string (nullable = true)\n",
      " |-- popularity: integer (nullable = true)\n",
      " |-- duration_ms: integer (nullable = true)\n",
      " |-- explicit: boolean (nullable = true)\n",
      " |-- release_date: string (nullable = true)\n",
      " |-- available_markets: string (nullable = true)\n",
      " |-- af_danceability: double (nullable = true)\n",
      " |-- af_energy: double (nullable = true)\n",
      " |-- af_key: integer (nullable = true)\n",
      " |-- af_loudness: double (nullable = true)\n",
      " |-- af_mode: integer (nullable = true)\n",
      " |-- af_speechiness: double (nullable = true)\n",
      " |-- af_acousticness: double (nullable = true)\n",
      " |-- af_instrumentalness: double (nullable = true)\n",
      " |-- af_liveness: double (nullable = true)\n",
      " |-- af_valence: double (nullable = true)\n",
      " |-- af_tempo: double (nullable = true)\n",
      " |-- af_time_signature: integer (nullable = true)\n",
      "\n"
     ]
    }
   ],
   "source": [
    "df2.printSchema()"
   ]
  },
  {
   "cell_type": "code",
   "execution_count": 28,
   "metadata": {
    "collapsed": true,
    "jupyter": {
     "outputs_hidden": true
    }
   },
   "outputs": [],
   "source": [
    "#descriptive statistics for streams popularity and duration ms"
   ]
  },
  {
   "cell_type": "code",
   "execution_count": 29,
   "metadata": {},
   "outputs": [
    {
     "name": "stdout",
     "output_type": "stream",
     "text": [
      "+-------+-----------------+------------------+------------------+\n",
      "|summary|          streams|        popularity|       duration_ms|\n",
      "+-------+-----------------+------------------+------------------+\n",
      "|  count|           881194|            881194|            881194|\n",
      "|   mean|51662.10985322188|41.246040032047425|216176.87010465347|\n",
      "| stddev|199992.0502176531| 32.81812068147051| 56106.56857221959|\n",
      "|    min|             1001|                 0|                 0|\n",
      "|    max|          7985803|                90|           9318296|\n",
      "+-------+-----------------+------------------+------------------+\n",
      "\n"
     ]
    }
   ],
   "source": [
    "df2.select(\"streams\", \"popularity\", \"duration_ms\").describe().show()"
   ]
  },
  {
   "cell_type": "code",
   "execution_count": 30,
   "metadata": {
    "collapsed": true,
    "jupyter": {
     "outputs_hidden": true
    }
   },
   "outputs": [],
   "source": [
    "#descriptive statistics for #af numerical values "
   ]
  },
  {
   "cell_type": "code",
   "execution_count": 98,
   "metadata": {},
   "outputs": [
    {
     "name": "stdout",
     "output_type": "stream",
     "text": [
      "+-------+-------------------+--------------------+-------------------+-------------------+------------------+\n",
      "|summary|     af_speechiness| af_instrumentalness|        af_liveness|         af_valence|          af_tempo|\n",
      "+-------+-------------------+--------------------+-------------------+-------------------+------------------+\n",
      "|  count|             881194|              881194|             881194|             881194|            881194|\n",
      "|   mean| 0.1036562745547574|0.007402772556520002| 0.1666076523444272| 0.5157139318924048|120.42735367127528|\n",
      "| stddev|0.09284140512009223| 0.06087904450319127|0.12424479466780335|0.22296872218563127| 29.21653759331071|\n",
      "|    min|              0.022|                 0.0|             0.0176|             0.0306|            31.262|\n",
      "|    max|              0.955|               0.987|              0.993|              0.989|           216.821|\n",
      "+-------+-------------------+--------------------+-------------------+-------------------+------------------+\n",
      "\n"
     ]
    }
   ],
   "source": [
    "df2.select(\"af_speechiness\", \"af_instrumentalness\", \"af_liveness\", \"af_valence\", \"af_tempo\").describe().show()"
   ]
  },
  {
   "cell_type": "code",
   "execution_count": 32,
   "metadata": {},
   "outputs": [
    {
     "name": "stdout",
     "output_type": "stream",
     "text": [
      "+---+--------------------+----+--------+-------+--------------------+---------+------+-------------+-------+--------------------+---------+----------+-----------+--------+------------+--------------------+---------------+---------+------+-----------+-------+--------------+---------------+-------------------+-----------+----------+--------+-----------------+\n",
      "|_c0|               title|rank|    date| artist|                 url|   region| chart|        trend|streams|            track_id|    album|popularity|duration_ms|explicit|release_date|   available_markets|af_danceability|af_energy|af_key|af_loudness|af_mode|af_speechiness|af_acousticness|af_instrumentalness|af_liveness|af_valence|af_tempo|af_time_signature|\n",
      "+---+--------------------+----+--------+-------+--------------------+---------+------+-------------+-------+--------------------+---------+----------+-----------+--------+------------+--------------------+---------------+---------+------+-----------+-------+--------------+---------------+-------------------+-----------+----------+--------+-----------------+\n",
      "|  0|Chantaje (feat. M...|   1|1/1/2017|Shakira|https://open.spot...|Argentina|top200|SAME_POSITION| 253019|6mICuAdrwEjh6Y6lr...|El Dorado|        78|     195840|   false|   5/26/2017|['AR', 'AU', 'AT'...|          0.852|    0.773|     8|     -2.921|      0|        0.0776|          0.187|            3.05E-5|      0.159|     0.907| 102.034|                4|\n",
      "+---+--------------------+----+--------+-------+--------------------+---------+------+-------------+-------+--------------------+---------+----------+-----------+--------+------------+--------------------+---------------+---------+------+-----------+-------+--------------+---------------+-------------------+-----------+----------+--------+-----------------+\n",
      "only showing top 1 row\n",
      "\n"
     ]
    }
   ],
   "source": [
    "df2.show(1)"
   ]
  },
  {
   "cell_type": "code",
   "execution_count": 100,
   "metadata": {},
   "outputs": [
    {
     "name": "stdout",
     "output_type": "stream",
     "text": [
      "+-------+------------------+-------------------+------------------+\n",
      "|summary|       af_loudness|     af_speechiness| af_time_signature|\n",
      "+-------+------------------+-------------------+------------------+\n",
      "|  count|            881194|             881194|            881194|\n",
      "|   mean|-5.930670455086607| 0.1036562745547574|3.9799726280478533|\n",
      "| stddev|2.2369797982472805|0.09284140512009223|0.2283049545989595|\n",
      "|    min|           -31.042|              0.022|                 1|\n",
      "|    max|             1.509|              0.955|                 5|\n",
      "+-------+------------------+-------------------+------------------+\n",
      "\n"
     ]
    }
   ],
   "source": [
    "df2.select(\"af_loudness\", \"af_speechiness\", \"af_time_signature\").describe().show()"
   ]
  },
  {
   "cell_type": "code",
   "execution_count": 33,
   "metadata": {},
   "outputs": [
    {
     "name": "stdout",
     "output_type": "stream",
     "text": [
      "root\n",
      " |-- _c0: integer (nullable = true)\n",
      " |-- title: string (nullable = true)\n",
      " |-- rank: integer (nullable = true)\n",
      " |-- date: string (nullable = true)\n",
      " |-- artist: string (nullable = true)\n",
      " |-- url: string (nullable = true)\n",
      " |-- region: string (nullable = true)\n",
      " |-- chart: string (nullable = true)\n",
      " |-- trend: string (nullable = true)\n",
      " |-- streams: integer (nullable = true)\n",
      " |-- track_id: string (nullable = true)\n",
      " |-- album: string (nullable = true)\n",
      " |-- popularity: integer (nullable = true)\n",
      " |-- duration_ms: integer (nullable = true)\n",
      " |-- explicit: boolean (nullable = true)\n",
      " |-- release_date: string (nullable = true)\n",
      " |-- available_markets: string (nullable = true)\n",
      " |-- af_danceability: double (nullable = true)\n",
      " |-- af_energy: double (nullable = true)\n",
      " |-- af_key: integer (nullable = true)\n",
      " |-- af_loudness: double (nullable = true)\n",
      " |-- af_mode: integer (nullable = true)\n",
      " |-- af_speechiness: double (nullable = true)\n",
      " |-- af_acousticness: double (nullable = true)\n",
      " |-- af_instrumentalness: double (nullable = true)\n",
      " |-- af_liveness: double (nullable = true)\n",
      " |-- af_valence: double (nullable = true)\n",
      " |-- af_tempo: double (nullable = true)\n",
      " |-- af_time_signature: integer (nullable = true)\n",
      "\n"
     ]
    }
   ],
   "source": [
    "df2.printSchema()"
   ]
  },
  {
   "cell_type": "code",
   "execution_count": 34,
   "metadata": {
    "collapsed": true,
    "jupyter": {
     "outputs_hidden": true
    }
   },
   "outputs": [],
   "source": [
    "#return number of regions in descending order "
   ]
  },
  {
   "cell_type": "code",
   "execution_count": 35,
   "metadata": {},
   "outputs": [
    {
     "name": "stdout",
     "output_type": "stream",
     "text": [
      "+-----------+-----+\n",
      "|     region|count|\n",
      "+-----------+-----+\n",
      "|  Argentina|18601|\n",
      "|  Australia|18600|\n",
      "|    Austria|18472|\n",
      "|    Belgium|18400|\n",
      "|     Brazil|18396|\n",
      "|     Canada|18326|\n",
      "|    Ecuador|18202|\n",
      "| Costa Rica|18201|\n",
      "|      Chile|18200|\n",
      "|     Global|18200|\n",
      "|   Colombia|18200|\n",
      "|    Denmark|18200|\n",
      "|    Finland|18200|\n",
      "|     France|18200|\n",
      "|    Germany|18071|\n",
      "|  Hong Kong|17893|\n",
      "|  Indonesia|17802|\n",
      "|    Ireland|17801|\n",
      "|   Malaysia|17800|\n",
      "|New Zealand|17800|\n",
      "+-----------+-----+\n",
      "only showing top 20 rows\n",
      "\n"
     ]
    }
   ],
   "source": [
    "df2.groupBy(\"region\").count().sort(col(\"count\").desc()).show()"
   ]
  },
  {
   "cell_type": "code",
   "execution_count": 36,
   "metadata": {
    "collapsed": true,
    "jupyter": {
     "outputs_hidden": true
    }
   },
   "outputs": [],
   "source": [
    "#filter for the top 10 regions"
   ]
  },
  {
   "cell_type": "code",
   "execution_count": 37,
   "metadata": {},
   "outputs": [
    {
     "name": "stdout",
     "output_type": "stream",
     "text": [
      "+----------+-----+\n",
      "|    region|count|\n",
      "+----------+-----+\n",
      "| Argentina|18601|\n",
      "| Australia|18600|\n",
      "|   Austria|18472|\n",
      "|   Belgium|18400|\n",
      "|    Brazil|18396|\n",
      "|    Canada|18326|\n",
      "|   Ecuador|18202|\n",
      "|Costa Rica|18201|\n",
      "|   Finland|18200|\n",
      "|    Global|18200|\n",
      "+----------+-----+\n",
      "only showing top 10 rows\n",
      "\n"
     ]
    }
   ],
   "source": [
    "df2.groupBy(\"region\").count().sort(col(\"count\").desc()).show(10)"
   ]
  },
  {
   "cell_type": "code",
   "execution_count": 38,
   "metadata": {
    "collapsed": true,
    "jupyter": {
     "outputs_hidden": true
    }
   },
   "outputs": [],
   "source": [
    "#group by artists that occur most frequently "
   ]
  },
  {
   "cell_type": "code",
   "execution_count": 39,
   "metadata": {},
   "outputs": [
    {
     "name": "stdout",
     "output_type": "stream",
     "text": [
      "+-----------------+-----+\n",
      "|           artist|count|\n",
      "+-----------------+-----+\n",
      "|       Ed Sheeran|20479|\n",
      "|      Post Malone| 9921|\n",
      "|            Drake| 8693|\n",
      "|       The Weeknd| 8136|\n",
      "|         Dua Lipa| 7503|\n",
      "|       Bruno Mars| 7020|\n",
      "|     Shawn Mendes| 6825|\n",
      "|  Imagine Dragons| 6369|\n",
      "| The Chainsmokers| 5853|\n",
      "|     Charlie Puth| 5630|\n",
      "|   Camila Cabello| 5609|\n",
      "|            Ozuna| 5598|\n",
      "|        Bad Bunny| 5301|\n",
      "|    Justin Bieber| 5284|\n",
      "|           Maluma| 5137|\n",
      "|     Clean Bandit| 4845|\n",
      "|Twenty One Pilots| 4792|\n",
      "|              Sia| 4635|\n",
      "|      Major Lazer| 4579|\n",
      "|   Kendrick Lamar| 4449|\n",
      "+-----------------+-----+\n",
      "only showing top 20 rows\n",
      "\n"
     ]
    }
   ],
   "source": [
    "df2.groupBy(\"artist\").count().sort(col(\"count\").desc()).show()"
   ]
  },
  {
   "cell_type": "code",
   "execution_count": 40,
   "metadata": {
    "collapsed": true,
    "jupyter": {
     "outputs_hidden": true
    }
   },
   "outputs": [],
   "source": [
    "#group by top 10 artists that occur most frequently "
   ]
  },
  {
   "cell_type": "code",
   "execution_count": 41,
   "metadata": {},
   "outputs": [
    {
     "name": "stdout",
     "output_type": "stream",
     "text": [
      "+----------------+-----+\n",
      "|          artist|count|\n",
      "+----------------+-----+\n",
      "|      Ed Sheeran|20479|\n",
      "|     Post Malone| 9921|\n",
      "|           Drake| 8693|\n",
      "|      The Weeknd| 8136|\n",
      "|        Dua Lipa| 7503|\n",
      "|      Bruno Mars| 7020|\n",
      "|    Shawn Mendes| 6825|\n",
      "| Imagine Dragons| 6369|\n",
      "|The Chainsmokers| 5853|\n",
      "|    Charlie Puth| 5630|\n",
      "+----------------+-----+\n",
      "only showing top 10 rows\n",
      "\n"
     ]
    }
   ],
   "source": [
    "df2.groupBy(\"artist\").count().sort(col(\"count\").desc()).show(10)"
   ]
  },
  {
   "cell_type": "code",
   "execution_count": 42,
   "metadata": {
    "collapsed": true,
    "jupyter": {
     "outputs_hidden": true
    }
   },
   "outputs": [],
   "source": [
    "#return the unique records for trends"
   ]
  },
  {
   "cell_type": "code",
   "execution_count": 43,
   "metadata": {},
   "outputs": [
    {
     "name": "stdout",
     "output_type": "stream",
     "text": [
      "+-------------+------+\n",
      "|        trend| count|\n",
      "+-------------+------+\n",
      "|    MOVE_DOWN|387450|\n",
      "|      MOVE_UP|338921|\n",
      "|SAME_POSITION|101845|\n",
      "|    NEW_ENTRY| 52978|\n",
      "+-------------+------+\n",
      "\n"
     ]
    }
   ],
   "source": [
    "df2.groupBy(\"trend\").count().sort(col(\"count\").desc()).show()"
   ]
  },
  {
   "cell_type": "code",
   "execution_count": 44,
   "metadata": {
    "collapsed": true,
    "jupyter": {
     "outputs_hidden": true
    }
   },
   "outputs": [],
   "source": [
    "#return records for af time signature "
   ]
  },
  {
   "cell_type": "code",
   "execution_count": 45,
   "metadata": {},
   "outputs": [
    {
     "name": "stdout",
     "output_type": "stream",
     "text": [
      "+-----------------+------+\n",
      "|af_time_signature| count|\n",
      "+-----------------+------+\n",
      "|                4|848342|\n",
      "|                3| 21892|\n",
      "|                5|  9281|\n",
      "|                1|  1679|\n",
      "+-----------------+------+\n",
      "\n"
     ]
    }
   ],
   "source": [
    "df2.groupBy(\"af_time_signature\").count().sort(col(\"count\").desc()).show()"
   ]
  },
  {
   "cell_type": "code",
   "execution_count": 46,
   "metadata": {
    "collapsed": true,
    "jupyter": {
     "outputs_hidden": true
    }
   },
   "outputs": [],
   "source": [
    "#return records for explcit content "
   ]
  },
  {
   "cell_type": "code",
   "execution_count": 47,
   "metadata": {},
   "outputs": [
    {
     "name": "stdout",
     "output_type": "stream",
     "text": [
      "+--------+------+\n",
      "|explicit| count|\n",
      "+--------+------+\n",
      "|   false|656785|\n",
      "|    true|224409|\n",
      "+--------+------+\n",
      "\n"
     ]
    }
   ],
   "source": [
    "df2.groupBy(\"explicit\").count().sort(col(\"count\").desc()).show()"
   ]
  },
  {
   "cell_type": "code",
   "execution_count": 48,
   "metadata": {
    "collapsed": true,
    "jupyter": {
     "outputs_hidden": true
    }
   },
   "outputs": [],
   "source": [
    "#return records for af mode "
   ]
  },
  {
   "cell_type": "code",
   "execution_count": 49,
   "metadata": {},
   "outputs": [
    {
     "name": "stdout",
     "output_type": "stream",
     "text": [
      "+-------+------+\n",
      "|af_mode| count|\n",
      "+-------+------+\n",
      "|      1|516271|\n",
      "|      0|364923|\n",
      "+-------+------+\n",
      "\n"
     ]
    }
   ],
   "source": [
    "df2.groupBy(\"af_mode\").count().sort(col(\"count\").desc()).show()"
   ]
  },
  {
   "cell_type": "code",
   "execution_count": 50,
   "metadata": {
    "collapsed": true,
    "jupyter": {
     "outputs_hidden": true
    }
   },
   "outputs": [],
   "source": [
    "#return unique count of all records where the number of streams is above average (51667)\n",
    "#there are a total of 51667 songs that have a total stream amount that is greater than average "
   ]
  },
  {
   "cell_type": "code",
   "execution_count": 51,
   "metadata": {},
   "outputs": [
    {
     "data": {
      "text/plain": [
       "139719"
      ]
     },
     "execution_count": 51,
     "metadata": {},
     "output_type": "execute_result"
    }
   ],
   "source": [
    "from pyspark.sql.functions import col\n",
    "df2.filter(col(\"streams\") > 51667).count()"
   ]
  },
  {
   "cell_type": "code",
   "execution_count": 52,
   "metadata": {},
   "outputs": [
    {
     "data": {
      "text/plain": [
       "497873"
      ]
     },
     "execution_count": 52,
     "metadata": {},
     "output_type": "execute_result"
    }
   ],
   "source": [
    "#return unique count of all records where the popularity is greater than the average (42)\n",
    "df2.filter(col(\"popularity\")>42).count()"
   ]
  },
  {
   "cell_type": "code",
   "execution_count": 53,
   "metadata": {
    "collapsed": true,
    "jupyter": {
     "outputs_hidden": true
    }
   },
   "outputs": [],
   "source": [
    "#return unique count of all records where the duration in ms is greater than the average (215886)"
   ]
  },
  {
   "cell_type": "code",
   "execution_count": 54,
   "metadata": {},
   "outputs": [
    {
     "data": {
      "text/plain": [
       "396595"
      ]
     },
     "execution_count": 54,
     "metadata": {},
     "output_type": "execute_result"
    }
   ],
   "source": [
    "from pyspark.sql.functions import col\n",
    "df2.filter(col(\"duration_ms\")>215886).count()"
   ]
  },
  {
   "cell_type": "code",
   "execution_count": 55,
   "metadata": {
    "collapsed": true,
    "jupyter": {
     "outputs_hidden": true
    }
   },
   "outputs": [],
   "source": [
    "#filter for all records where region is in NAFTA (USA, Mexico, Canada)"
   ]
  },
  {
   "cell_type": "code",
   "execution_count": 56,
   "metadata": {},
   "outputs": [
    {
     "data": {
      "text/plain": [
       "53311"
      ]
     },
     "execution_count": 56,
     "metadata": {},
     "output_type": "execute_result"
    }
   ],
   "source": [
    "df2.filter(col(\"Region\").isin(\"United States\", \"Mexico\", \"Canada\")).count()"
   ]
  },
  {
   "cell_type": "code",
   "execution_count": 57,
   "metadata": {
    "collapsed": true,
    "jupyter": {
     "outputs_hidden": true
    }
   },
   "outputs": [],
   "source": [
    "#songs that populated the most in this dataset"
   ]
  },
  {
   "cell_type": "code",
   "execution_count": 58,
   "metadata": {},
   "outputs": [
    {
     "name": "stdout",
     "output_type": "stream",
     "text": [
      "+--------------------+--------------------+-----+\n",
      "|              artist|               title|count|\n",
      "+--------------------+--------------------+-----+\n",
      "|          Ed Sheeran|        Shape of You| 4021|\n",
      "|        James Arthur|Say You Won't Let Go| 3006|\n",
      "|The Chainsmokers,...|              Closer| 2919|\n",
      "|          Ed Sheeran|   Thinking out Loud| 2798|\n",
      "|          Ed Sheeran|          Photograph| 2740|\n",
      "|     Imagine Dragons|            Believer| 2715|\n",
      "| Drake, WizKid, Kyla|           One Dance| 2579|\n",
      "|  ZAYN, Taylor Swift|I Don’t Wanna Liv...| 2544|\n",
      "|          Ed Sheeran|             Perfect| 2303|\n",
      "|        Clean Bandit|Rockabye (feat. S...| 2273|\n",
      "+--------------------+--------------------+-----+\n",
      "only showing top 10 rows\n",
      "\n"
     ]
    }
   ],
   "source": [
    "df2.groupBy(\"artist\", \"title\").count().sort(col(\"count\").desc()).show(10)"
   ]
  },
  {
   "cell_type": "code",
   "execution_count": 59,
   "metadata": {
    "collapsed": true,
    "jupyter": {
     "outputs_hidden": true
    }
   },
   "outputs": [],
   "source": [
    "#return top 10 drake songs that are referenced in the dataframe "
   ]
  },
  {
   "cell_type": "code",
   "execution_count": 60,
   "metadata": {},
   "outputs": [
    {
     "name": "stdout",
     "output_type": "stream",
     "text": [
      "+------+--------------------+-----+\n",
      "|artist|               title|count|\n",
      "+------+--------------------+-----+\n",
      "| Drake|          God's Plan| 2249|\n",
      "| Drake|           Fake Love| 1641|\n",
      "| Drake|        Toosie Slide|  970|\n",
      "| Drake|       Nice For What|  485|\n",
      "| Drake|           Controlla|  450|\n",
      "| Drake|Chicago Freestyle...|  404|\n",
      "| Drake|Pain 1993 (with P...|  374|\n",
      "| Drake|        Passionfruit|  311|\n",
      "| Drake|       Hotline Bling|  267|\n",
      "| Drake|Money In The Grav...|  182|\n",
      "+------+--------------------+-----+\n",
      "only showing top 10 rows\n",
      "\n"
     ]
    }
   ],
   "source": [
    "df3 = df2.filter(col(\"artist\")==\"Drake\")\n",
    "df3.groupBy(\"artist\", \"title\").count().sort(col(\"count\").desc()).show(10)"
   ]
  },
  {
   "cell_type": "code",
   "execution_count": 61,
   "metadata": {
    "collapsed": true,
    "jupyter": {
     "outputs_hidden": true
    }
   },
   "outputs": [],
   "source": [
    "#return the regions where drake appears most frequently on a top list "
   ]
  },
  {
   "cell_type": "code",
   "execution_count": 62,
   "metadata": {},
   "outputs": [
    {
     "name": "stdout",
     "output_type": "stream",
     "text": [
      "+------+--------------+-----+\n",
      "|artist|        region|count|\n",
      "+------+--------------+-----+\n",
      "| Drake|        Canada|  458|\n",
      "| Drake| United States|  412|\n",
      "| Drake|     Australia|  316|\n",
      "| Drake|        Global|  314|\n",
      "| Drake|United Kingdom|  309|\n",
      "| Drake|       Ireland|  276|\n",
      "| Drake|   New Zealand|  257|\n",
      "| Drake|      Portugal|  248|\n",
      "| Drake|   Switzerland|  200|\n",
      "| Drake|       Belgium|  194|\n",
      "+------+--------------+-----+\n",
      "only showing top 10 rows\n",
      "\n"
     ]
    }
   ],
   "source": [
    "df3.groupBy(\"artist\", \"region\").count().sort(col(\"count\").desc()).show(10)"
   ]
  },
  {
   "cell_type": "code",
   "execution_count": 63,
   "metadata": {
    "collapsed": true,
    "jupyter": {
     "outputs_hidden": true
    }
   },
   "outputs": [],
   "source": [
    "#there are 28 unique drake songs that appear in these top lists"
   ]
  },
  {
   "cell_type": "code",
   "execution_count": 64,
   "metadata": {},
   "outputs": [
    {
     "name": "stdout",
     "output_type": "stream",
     "text": [
      "+----------------------------+\n",
      "|approx_count_distinct(title)|\n",
      "+----------------------------+\n",
      "|                          28|\n",
      "+----------------------------+\n",
      "\n"
     ]
    }
   ],
   "source": [
    "df3.agg({\"title\": \"approx_count_distinct\"}).show()"
   ]
  },
  {
   "cell_type": "code",
   "execution_count": 65,
   "metadata": {
    "collapsed": true,
    "jupyter": {
     "outputs_hidden": true
    }
   },
   "outputs": [],
   "source": [
    "#return the top 10 post malone songs that occur the most in these lists "
   ]
  },
  {
   "cell_type": "code",
   "execution_count": 66,
   "metadata": {},
   "outputs": [
    {
     "name": "stdout",
     "output_type": "stream",
     "text": [
      "+-----------+--------------------+-----+\n",
      "|     artist|               title|count|\n",
      "+-----------+--------------------+-----+\n",
      "|Post Malone|Psycho (feat. Ty ...| 1489|\n",
      "|Post Malone|        I Fall Apart| 1222|\n",
      "|Post Malone|             Circles|  826|\n",
      "|Post Malone|rockstar (feat. 2...|  763|\n",
      "|Post Malone|         Candy Paint|  705|\n",
      "|Post Malone|             Go Flex|  518|\n",
      "|Post Malone|          Better Now|  486|\n",
      "|Post Malone|       White Iverson|  437|\n",
      "|Post Malone|            Paranoid|  349|\n",
      "|Post Malone|Spoil My Night (f...|  299|\n",
      "+-----------+--------------------+-----+\n",
      "only showing top 10 rows\n",
      "\n"
     ]
    }
   ],
   "source": [
    "df4 = df2.filter(col(\"artist\")==\"Post Malone\")\n",
    "df4.groupBy(\"artist\", \"title\").count().sort(col(\"count\").desc()).show(10)"
   ]
  },
  {
   "cell_type": "code",
   "execution_count": 67,
   "metadata": {
    "collapsed": true,
    "jupyter": {
     "outputs_hidden": true
    }
   },
   "outputs": [],
   "source": [
    "#return the regions where post malone occurs most frequently on a top list "
   ]
  },
  {
   "cell_type": "code",
   "execution_count": 68,
   "metadata": {},
   "outputs": [
    {
     "name": "stdout",
     "output_type": "stream",
     "text": [
      "+-----------+--------------+-----+\n",
      "|     artist|        region|count|\n",
      "+-----------+--------------+-----+\n",
      "|Post Malone|        Canada|  500|\n",
      "|Post Malone| United States|  474|\n",
      "|Post Malone|     Australia|  404|\n",
      "|Post Malone|        Global|  402|\n",
      "|Post Malone|   New Zealand|  392|\n",
      "|Post Malone|       Ireland|  360|\n",
      "|Post Malone|        Norway|  320|\n",
      "|Post Malone|       Denmark|  317|\n",
      "|Post Malone|United Kingdom|  316|\n",
      "|Post Malone|        Sweden|  291|\n",
      "+-----------+--------------+-----+\n",
      "only showing top 10 rows\n",
      "\n"
     ]
    }
   ],
   "source": [
    "df4.groupBy(\"artist\", \"region\").count().sort(col(\"count\").desc()).show(10)"
   ]
  },
  {
   "cell_type": "code",
   "execution_count": 69,
   "metadata": {
    "collapsed": true,
    "jupyter": {
     "outputs_hidden": true
    }
   },
   "outputs": [],
   "source": [
    "#return unique number of post malone songs that return in the top lists \n",
    "#there are 30 unique post malone songs that appears on these lists"
   ]
  },
  {
   "cell_type": "code",
   "execution_count": 70,
   "metadata": {},
   "outputs": [
    {
     "name": "stdout",
     "output_type": "stream",
     "text": [
      "+----------------------------+\n",
      "|approx_count_distinct(title)|\n",
      "+----------------------------+\n",
      "|                          30|\n",
      "+----------------------------+\n",
      "\n"
     ]
    }
   ],
   "source": [
    "df4.agg({\"title\": \"approx_count_distinct\"}).show()"
   ]
  },
  {
   "cell_type": "code",
   "execution_count": 71,
   "metadata": {
    "collapsed": true,
    "jupyter": {
     "outputs_hidden": true
    }
   },
   "outputs": [],
   "source": [
    "#top 10 referenced artists for united states "
   ]
  },
  {
   "cell_type": "code",
   "execution_count": 72,
   "metadata": {},
   "outputs": [
    {
     "name": "stdout",
     "output_type": "stream",
     "text": [
      "+--------------+-------------+-----+\n",
      "|        artist|       region|count|\n",
      "+--------------+-------------+-----+\n",
      "|   Post Malone|United States|  474|\n",
      "|    The Weeknd|United States|  413|\n",
      "|         Drake|United States|  412|\n",
      "|       J. Cole|United States|  381|\n",
      "|         Migos|United States|  346|\n",
      "|  XXXTENTACION|United States|  342|\n",
      "|  Lil Uzi Vert|United States|  339|\n",
      "|Kendrick Lamar|United States|  226|\n",
      "|  Travis Scott|United States|  216|\n",
      "|    Ed Sheeran|United States|  215|\n",
      "+--------------+-------------+-----+\n",
      "only showing top 10 rows\n",
      "\n"
     ]
    }
   ],
   "source": [
    "df5 = df2.filter(col(\"region\")==\"United States\")\n",
    "df5.groupBy(\"artist\", \"region\").count().sort(col(\"count\").desc()).show(10)"
   ]
  },
  {
   "cell_type": "code",
   "execution_count": 73,
   "metadata": {
    "collapsed": true,
    "jupyter": {
     "outputs_hidden": true
    }
   },
   "outputs": [],
   "source": [
    "#top 10 referenced artists in canada"
   ]
  },
  {
   "cell_type": "code",
   "execution_count": 74,
   "metadata": {},
   "outputs": [
    {
     "name": "stdout",
     "output_type": "stream",
     "text": [
      "+--------------+------+-----+\n",
      "|        artist|region|count|\n",
      "+--------------+------+-----+\n",
      "|   Post Malone|Canada|  500|\n",
      "|    The Weeknd|Canada|  469|\n",
      "|         Drake|Canada|  458|\n",
      "|    Ed Sheeran|Canada|  449|\n",
      "|         Migos|Canada|  304|\n",
      "|  XXXTENTACION|Canada|  246|\n",
      "|       J. Cole|Canada|  228|\n",
      "|Kendrick Lamar|Canada|  227|\n",
      "|  Travis Scott|Canada|  214|\n",
      "|    Tory Lanez|Canada|  208|\n",
      "+--------------+------+-----+\n",
      "only showing top 10 rows\n",
      "\n"
     ]
    }
   ],
   "source": [
    "df6 = df2.filter(col(\"region\")==\"Canada\")\n",
    "df6.groupBy(\"artist\", \"region\").count().sort(col(\"count\").desc()).show(10)"
   ]
  },
  {
   "cell_type": "code",
   "execution_count": 75,
   "metadata": {
    "collapsed": true,
    "jupyter": {
     "outputs_hidden": true
    }
   },
   "outputs": [],
   "source": [
    "#top 10 referenced artists for mexico"
   ]
  },
  {
   "cell_type": "code",
   "execution_count": 76,
   "metadata": {},
   "outputs": [
    {
     "name": "stdout",
     "output_type": "stream",
     "text": [
      "+--------------------+------+-----+\n",
      "|              artist|region|count|\n",
      "+--------------------+------+-----+\n",
      "|Banda MS de Sergi...|Mexico|  417|\n",
      "|              Maluma|Mexico|  384|\n",
      "|               Ozuna|Mexico|  308|\n",
      "|          Ed Sheeran|Mexico|  285|\n",
      "|     Cartel De Santa|Mexico|  284|\n",
      "|           Bad Bunny|Mexico|  273|\n",
      "|            J Balvin|Mexico|  257|\n",
      "|     Christian Nodal|Mexico|  246|\n",
      "|         Luis Miguel|Mexico|  237|\n",
      "|                Reik|Mexico|  184|\n",
      "+--------------------+------+-----+\n",
      "only showing top 10 rows\n",
      "\n"
     ]
    }
   ],
   "source": [
    "df7 = df2.filter(col(\"region\")==\"Mexico\")\n",
    "df7.groupBy(\"artist\", \"region\").count().sort(col(\"count\").desc()).show(10)"
   ]
  },
  {
   "cell_type": "code",
   "execution_count": 77,
   "metadata": {
    "collapsed": true,
    "jupyter": {
     "outputs_hidden": true
    }
   },
   "outputs": [],
   "source": [
    "#top 10 most referenced songs in america"
   ]
  },
  {
   "cell_type": "code",
   "execution_count": 78,
   "metadata": {},
   "outputs": [
    {
     "name": "stdout",
     "output_type": "stream",
     "text": [
      "+-------------------+--------------------+-------------+-----+\n",
      "|             artist|               title|       region|count|\n",
      "+-------------------+--------------------+-------------+-----+\n",
      "|       Travis Scott|          goosebumps|United States|   86|\n",
      "|            J. Cole|      No Role Modelz|United States|   84|\n",
      "| Post Malone, Quavo|     Congratulations|United States|   82|\n",
      "|       James Arthur|Say You Won't Let Go|United States|   79|\n",
      "|   Childish Gambino|             Redbone|United States|   74|\n",
      "|        Post Malone|             Go Flex|United States|   72|\n",
      "|Drake, WizKid, Kyla|           One Dance|United States|   72|\n",
      "|        Post Malone|       White Iverson|United States|   72|\n",
      "|             Khalid|            Location|United States|   71|\n",
      "|               KYLE|iSpy (feat. Lil Y...|United States|   68|\n",
      "+-------------------+--------------------+-------------+-----+\n",
      "only showing top 10 rows\n",
      "\n"
     ]
    }
   ],
   "source": [
    "df5 = df2.filter(col(\"region\")==\"United States\")\n",
    "df5.groupBy(\"artist\", \"title\", \"region\").count().sort(col(\"count\").desc()).show(10)"
   ]
  },
  {
   "cell_type": "code",
   "execution_count": 79,
   "metadata": {
    "collapsed": true,
    "jupyter": {
     "outputs_hidden": true
    }
   },
   "outputs": [],
   "source": [
    "#top 10 referenced songs in canada"
   ]
  },
  {
   "cell_type": "code",
   "execution_count": 80,
   "metadata": {},
   "outputs": [
    {
     "name": "stdout",
     "output_type": "stream",
     "text": [
      "+--------------------+--------------------+------+-----+\n",
      "|              artist|               title|region|count|\n",
      "+--------------------+--------------------+------+-----+\n",
      "|        Travis Scott|          goosebumps|Canada|   92|\n",
      "|        James Arthur|Say You Won't Let Go|Canada|   91|\n",
      "|          Ed Sheeran|        Shape of You|Canada|   80|\n",
      "|         Post Malone|       White Iverson|Canada|   76|\n",
      "| Drake, WizKid, Kyla|           One Dance|Canada|   76|\n",
      "|    Childish Gambino|             Redbone|Canada|   76|\n",
      "|The Chainsmokers,...|              Closer|Canada|   74|\n",
      "|            Sam Hunt|Body Like A Back ...|Canada|   72|\n",
      "|   Eminem, Nate Dogg|    'Till I Collapse|Canada|   71|\n",
      "|              Eminem|Lose Yourself - F...|Canada|   68|\n",
      "+--------------------+--------------------+------+-----+\n",
      "only showing top 10 rows\n",
      "\n"
     ]
    }
   ],
   "source": [
    "df6 = df2.filter(col(\"region\")==\"Canada\")\n",
    "df6.groupBy(\"artist\", \"title\", \"region\").count().sort(col(\"count\").desc()).show(10)"
   ]
  },
  {
   "cell_type": "code",
   "execution_count": 81,
   "metadata": {
    "collapsed": true,
    "jupyter": {
     "outputs_hidden": true
    }
   },
   "outputs": [],
   "source": [
    "#top 10 referenced songs in mexico "
   ]
  },
  {
   "cell_type": "code",
   "execution_count": 82,
   "metadata": {},
   "outputs": [
    {
     "name": "stdout",
     "output_type": "stream",
     "text": [
      "+--------------------+--------------------+------+-----+\n",
      "|              artist|               title|region|count|\n",
      "+--------------------+--------------------+------+-----+\n",
      "|     Christian Nodal|          Adiós Amor|Mexico|   89|\n",
      "|         Luis Miguel|Ahora Te Puedes M...|Mexico|   89|\n",
      "|       León Larregui|             Brillas|Mexico|   89|\n",
      "| Alejandro Fernández|Me Dediqué a Perd...|Mexico|   88|\n",
      "|               Queen|Bohemian Rhapsody...|Mexico|   84|\n",
      "|      Panteon Rococo|   La Dosis Perfecta|Mexico|   75|\n",
      "|Ozuna, Bad Bunny,...|Diles (feat. Arca...|Mexico|   74|\n",
      "|               Morat|     Cómo Te Atreves|Mexico|   74|\n",
      "|                CNCO|Reggaetón Lento (...|Mexico|   74|\n",
      "|  Natalia Lafourcade|       Hasta la Raíz|Mexico|   74|\n",
      "+--------------------+--------------------+------+-----+\n",
      "only showing top 10 rows\n",
      "\n"
     ]
    }
   ],
   "source": [
    "df7 = df2.filter(col(\"region\")==\"Mexico\")\n",
    "df7.groupBy(\"artist\", \"title\", \"region\").count().sort(col(\"count\").desc()).show(10)"
   ]
  },
  {
   "cell_type": "code",
   "execution_count": 87,
   "metadata": {
    "collapsed": true,
    "jupyter": {
     "outputs_hidden": true
    }
   },
   "outputs": [],
   "source": [
    "#whicl album is referenced the most frequenly on a top 200 list? "
   ]
  },
  {
   "cell_type": "code",
   "execution_count": 88,
   "metadata": {},
   "outputs": [
    {
     "name": "stdout",
     "output_type": "stream",
     "text": [
      "+--------------------+--------------------+-----+\n",
      "|              artist|               album|count|\n",
      "+--------------------+--------------------+-----+\n",
      "|          Ed Sheeran|          ÷ (Deluxe)| 9894|\n",
      "|          Ed Sheeran| x (Wembley Edition)| 6343|\n",
      "|     Imagine Dragons|              Evolve| 5722|\n",
      "|      Camila Cabello|              Camila| 5268|\n",
      "|         Post Malone|beerbongs & bentleys| 4974|\n",
      "|            Dua Lipa|   Dua Lipa (Deluxe)| 4866|\n",
      "|          Bruno Mars|           24K Magic| 4431|\n",
      "|The Weeknd, Daft ...|             Starboy| 4392|\n",
      "|       Justin Bieber|    Purpose (Deluxe)| 3482|\n",
      "|        Shawn Mendes|          Illuminate| 3365|\n",
      "+--------------------+--------------------+-----+\n",
      "only showing top 10 rows\n",
      "\n"
     ]
    }
   ],
   "source": [
    "df2.groupBy(\"artist\", \"album\").count().sort(col(\"count\").desc()).show(10)"
   ]
  },
  {
   "cell_type": "code",
   "execution_count": null,
   "metadata": {
    "collapsed": true,
    "jupyter": {
     "outputs_hidden": true
    }
   },
   "outputs": [],
   "source": [
    "#which album populates the most frequenly in United States "
   ]
  },
  {
   "cell_type": "code",
   "execution_count": 89,
   "metadata": {},
   "outputs": [
    {
     "name": "stdout",
     "output_type": "stream",
     "text": [
      "+--------------+--------------------+-----+\n",
      "|        artist|               album|count|\n",
      "+--------------+--------------------+-----+\n",
      "|    The Weeknd|             Starboy|  240|\n",
      "|         Migos|             Culture|  229|\n",
      "|   Post Malone|     Stoney (Deluxe)|  209|\n",
      "|      Big Sean|          I Decided.|  168|\n",
      "|       J. Cole|    4 Your Eyez Only|  167|\n",
      "|   Post Malone|beerbongs & bentleys|  154|\n",
      "|Kendrick Lamar|               DAMN.|  148|\n",
      "|  XXXTENTACION|                  17|  148|\n",
      "|        Khalid|       American Teen|  137|\n",
      "|  XXXTENTACION|                   ?|  136|\n",
      "+--------------+--------------------+-----+\n",
      "only showing top 10 rows\n",
      "\n"
     ]
    }
   ],
   "source": [
    "df5 = df2.filter(col(\"region\")==\"United States\")\n",
    "df5.groupBy(\"artist\", \"album\").count().sort(col(\"count\").desc()).show(10)"
   ]
  },
  {
   "cell_type": "code",
   "execution_count": 91,
   "metadata": {
    "collapsed": true,
    "jupyter": {
     "outputs_hidden": true
    }
   },
   "outputs": [],
   "source": [
    "#which albums populate the most frequenly in canada "
   ]
  },
  {
   "cell_type": "code",
   "execution_count": 92,
   "metadata": {},
   "outputs": [
    {
     "name": "stdout",
     "output_type": "stream",
     "text": [
      "+--------------+--------------------+-----+\n",
      "|        artist|               album|count|\n",
      "+--------------+--------------------+-----+\n",
      "|    The Weeknd|             Starboy|  290|\n",
      "|   Post Malone|     Stoney (Deluxe)|  219|\n",
      "|    Ed Sheeran|          ÷ (Deluxe)|  214|\n",
      "|         Migos|             Culture|  197|\n",
      "|   Post Malone|beerbongs & bentleys|  173|\n",
      "|Kendrick Lamar|               DAMN.|  137|\n",
      "|    Tory Lanez|  MEMORIES DON'T DIE|  135|\n",
      "|      Big Sean|          I Decided.|  135|\n",
      "|    Ed Sheeran| x (Wembley Edition)|  135|\n",
      "|Camila Cabello|              Camila|  134|\n",
      "+--------------+--------------------+-----+\n",
      "only showing top 10 rows\n",
      "\n"
     ]
    }
   ],
   "source": [
    "df6 = df2.filter(col(\"region\")==\"Canada\")\n",
    "df6.groupBy(\"artist\", \"album\").count().sort(col(\"count\").desc()).show(10)"
   ]
  },
  {
   "cell_type": "code",
   "execution_count": 95,
   "metadata": {
    "collapsed": true,
    "jupyter": {
     "outputs_hidden": true
    }
   },
   "outputs": [],
   "source": [
    "#which albums populate the most frquently in Mexico? "
   ]
  },
  {
   "cell_type": "code",
   "execution_count": 96,
   "metadata": {},
   "outputs": [
    {
     "name": "stdout",
     "output_type": "stream",
     "text": [
      "+--------------------+-------------------+-----+\n",
      "|              artist|              album|count|\n",
      "+--------------------+-------------------+-----+\n",
      "|     Cartel De Santa|    Viejo Marihuano|  219|\n",
      "|Banda MS de Sergi...|      Que Bendición|  204|\n",
      "|               Ozuna|             Odisea|  192|\n",
      "|             Shakira|          El Dorado|  160|\n",
      "|     Christian Nodal|     Me Dejé Llevar|  141|\n",
      "|          Ed Sheeran|         ÷ (Deluxe)|  139|\n",
      "|          Ed Sheeran|x (Wembley Edition)|  127|\n",
      "|           Nicky Jam|              Fénix|  125|\n",
      "|            J Balvin|            Colores|  120|\n",
      "|The Weeknd, Daft ...|            Starboy|  113|\n",
      "+--------------------+-------------------+-----+\n",
      "only showing top 10 rows\n",
      "\n"
     ]
    }
   ],
   "source": [
    "df7 = df2.filter(col(\"region\")==\"Mexico\")\n",
    "df7.groupBy(\"artist\", \"album\").count().sort(col(\"count\").desc()).show(10)"
   ]
  },
  {
   "cell_type": "code",
   "execution_count": 85,
   "metadata": {
    "collapsed": true,
    "jupyter": {
     "outputs_hidden": true
    }
   },
   "outputs": [],
   "source": [
    "#return all records where popularity is 0 "
   ]
  },
  {
   "cell_type": "code",
   "execution_count": 86,
   "metadata": {},
   "outputs": [
    {
     "data": {
      "text/plain": [
       "277882"
      ]
     },
     "execution_count": 86,
     "metadata": {},
     "output_type": "execute_result"
    }
   ],
   "source": [
    "df2.filter(col(\"popularity\")==0).count()"
   ]
  },
  {
   "cell_type": "code",
   "execution_count": 101,
   "metadata": {
    "collapsed": true,
    "jupyter": {
     "outputs_hidden": true
    }
   },
   "outputs": [],
   "source": [
    "#create limited dataframe in pandas to check the dsitribution of the numerical columns"
   ]
  },
  {
   "cell_type": "code",
   "execution_count": 102,
   "metadata": {
    "collapsed": true,
    "jupyter": {
     "outputs_hidden": true
    }
   },
   "outputs": [],
   "source": [
    "import matplotlib.pyplot as plt \n",
    "import pandas as pd "
   ]
  },
  {
   "cell_type": "code",
   "execution_count": 103,
   "metadata": {
    "collapsed": true,
    "jupyter": {
     "outputs_hidden": true
    }
   },
   "outputs": [],
   "source": [
    "pandas_df = df2.limit(1000).toPandas()"
   ]
  },
  {
   "cell_type": "code",
   "execution_count": 159,
   "metadata": {
    "collapsed": true,
    "jupyter": {
     "outputs_hidden": true
    }
   },
   "outputs": [],
   "source": [
    "#find histogram for distribution of streams \n",
    "#the distribution is skewed to the right\n",
    "#this is a unimodal distribution, one distinct peak"
   ]
  },
  {
   "cell_type": "code",
   "execution_count": 125,
   "metadata": {},
   "outputs": [
    {
     "data": {
      "image/png": "[encoded data removed]",
      "text/plain": [
       "<Figure size 864x576 with 1 Axes>"
      ]
     },
     "metadata": {},
     "output_type": "display_data"
    }
   ],
   "source": [
    "plt.figure(figsize=(12, 8))\n",
    "plt.hist(pandas_df[\"streams\"], bins=50, alpha=0.5)\n",
    "plt.title(\"Histogram of streams\")\n",
    "plt.xlabel(\"streams\")\n",
    "plt.ylabel(\"Frequency\")\n",
    "plt.grid(True)\n",
    "plt.show()"
   ]
  },
  {
   "cell_type": "code",
   "execution_count": 158,
   "metadata": {
    "collapsed": true,
    "jupyter": {
     "outputs_hidden": true
    }
   },
   "outputs": [],
   "source": [
    "#find the ditribution of popularity \n",
    "#the distribution of popularity with 1000 records is skewed to the right \n",
    "#this is a unimodal distribution, one distinct peak"
   ]
  },
  {
   "cell_type": "code",
   "execution_count": 119,
   "metadata": {},
   "outputs": [
    {
     "data": {
      "image/png": "[encoded data removed]",
      "text/plain": [
       "<Figure size 864x576 with 1 Axes>"
      ]
     },
     "metadata": {},
     "output_type": "display_data"
    }
   ],
   "source": [
    "plt.figure(figsize=(12, 8))\n",
    "plt.hist(pandas_df[\"popularity\"], bins=50, alpha=0.5)\n",
    "plt.title(\"Histogram of popularity\")\n",
    "plt.xlabel(\"populairty (0-100)\")\n",
    "plt.ylabel(\"Frequency\")\n",
    "plt.grid(True)\n",
    "plt.show()"
   ]
  },
  {
   "cell_type": "code",
   "execution_count": 157,
   "metadata": {
    "collapsed": true,
    "jupyter": {
     "outputs_hidden": true
    }
   },
   "outputs": [],
   "source": [
    "#find the histogram for duration in miloseconds \n",
    "#the distibution follows a normal distribution, not skewed to the left or right "
   ]
  },
  {
   "cell_type": "code",
   "execution_count": 108,
   "metadata": {},
   "outputs": [
    {
     "data": {
      "image/png": "[encoded data removed]",
      "text/plain": [
       "<Figure size 936x720 with 1 Axes>"
      ]
     },
     "metadata": {},
     "output_type": "display_data"
    }
   ],
   "source": [
    "plt.figure(figsize=(13, 10))\n",
    "plt.hist(pandas_df[\"duration_ms\"], bins=50, alpha=0.5)\n",
    "plt.xlabel(\"Duration in MS\")\n",
    "plt.ylabel(\"Frequency\")\n",
    "plt.grid(True)\n",
    "plt.show()"
   ]
  },
  {
   "cell_type": "code",
   "execution_count": 115,
   "metadata": {
    "collapsed": true,
    "jupyter": {
     "outputs_hidden": true
    }
   },
   "outputs": [],
   "source": [
    "#the distribution for the af danceability column is skewed to the left\n",
    "#there is a multimodal distribution, there are more than two distinct peaks in the distribution "
   ]
  },
  {
   "cell_type": "code",
   "execution_count": 111,
   "metadata": {},
   "outputs": [
    {
     "data": {
      "image/png": "[encoded data removed]",
      "text/plain": [
       "<Figure size 864x792 with 1 Axes>"
      ]
     },
     "metadata": {},
     "output_type": "display_data"
    }
   ],
   "source": [
    "plt.figure(figsize=(12, 11))\n",
    "plt.hist(pandas_df[\"af_danceability\"], bins=50, alpha=0.5)\n",
    "plt.title(\"Histogram of danceability\")\n",
    "plt.xlabel(\"Danceability (Scale of 0 to 1)\")\n",
    "plt.ylabel(\"Frequency\")\n",
    "plt.grid(True)\n",
    "plt.show()"
   ]
  },
  {
   "cell_type": "code",
   "execution_count": 156,
   "metadata": {
    "collapsed": true,
    "jupyter": {
     "outputs_hidden": true
    }
   },
   "outputs": [],
   "source": [
    "#find the histogram for energy \n",
    "#the histogram for energy is skewed to the left \n",
    "#this is a multi modal distribution, there are more than two distinct peaks in this distribution "
   ]
  },
  {
   "cell_type": "code",
   "execution_count": 117,
   "metadata": {},
   "outputs": [
    {
     "data": {
      "image/png": "[encoded data removed]",
      "text/plain": [
       "<Figure size 936x864 with 1 Axes>"
      ]
     },
     "metadata": {},
     "output_type": "display_data"
    }
   ],
   "source": [
    "plt.figure(figsize=(13, 12))\n",
    "plt.hist(pandas_df[\"af_energy\"], bins=50, alpha=0.5)\n",
    "plt.title(\"Histogram of Energy\")\n",
    "plt.xlabel(\"Energy\")\n",
    "plt.ylabel(\"Frequency\")\n",
    "plt.grid(True)\n",
    "plt.show()"
   ]
  },
  {
   "cell_type": "code",
   "execution_count": 155,
   "metadata": {
    "collapsed": true,
    "jupyter": {
     "outputs_hidden": true
    }
   },
   "outputs": [],
   "source": [
    "#find the distribution for af loudness\n",
    "#the distribution is skewed to the left \n",
    "#this is a bimodal distribution, there are two distinct peaks in the distribution "
   ]
  },
  {
   "cell_type": "code",
   "execution_count": 130,
   "metadata": {},
   "outputs": [
    {
     "data": {
      "image/png": "[encoded data removed]",
      "text/plain": [
       "<Figure size 936x792 with 1 Axes>"
      ]
     },
     "metadata": {},
     "output_type": "display_data"
    }
   ],
   "source": [
    "plt.figure(figsize=(13, 11))\n",
    "plt.hist(pandas_df[\"af_loudness\"], bins=50, alpha=0.5)\n",
    "plt.title(\"Histogram of Af Loudness\")\n",
    "plt.xlabel(\"Af Loudness\")\n",
    "plt.ylabel(\"Frequency\")\n",
    "plt.grid(True)\n",
    "plt.show()"
   ]
  },
  {
   "cell_type": "code",
   "execution_count": 154,
   "metadata": {
    "collapsed": true,
    "jupyter": {
     "outputs_hidden": true
    }
   },
   "outputs": [],
   "source": [
    "#find the distribution for af speechiness \n",
    "#the distribution for af speechiness is skewed to the right\n",
    "#this is a bimodal distribution, there are two distinct peaks "
   ]
  },
  {
   "cell_type": "code",
   "execution_count": 132,
   "metadata": {},
   "outputs": [
    {
     "data": {
      "image/png": "[encoded data removed]",
      "text/plain": [
       "<Figure size 936x792 with 1 Axes>"
      ]
     },
     "metadata": {},
     "output_type": "display_data"
    }
   ],
   "source": [
    "plt.figure(figsize=(13, 11))\n",
    "plt.hist(pandas_df[\"af_speechiness\"], bins=50, alpha=0.5)\n",
    "plt.title(\"Histogram of Af Speechiness\")\n",
    "plt.xlabel(\"Af Speechiness\")\n",
    "plt.ylabel(\"Frequency\")\n",
    "plt.grid(True)\n",
    "plt.show()"
   ]
  },
  {
   "cell_type": "code",
   "execution_count": 153,
   "metadata": {
    "collapsed": true,
    "jupyter": {
     "outputs_hidden": true
    }
   },
   "outputs": [],
   "source": [
    "#the disitrbution for af acuosticness is skewed to the right \n",
    "#this is a unimodal distribution, one distinct peak "
   ]
  },
  {
   "cell_type": "code",
   "execution_count": 133,
   "metadata": {},
   "outputs": [
    {
     "data": {
      "image/png": "[encoded data removed]",
      "text/plain": [
       "<Figure size 936x792 with 1 Axes>"
      ]
     },
     "metadata": {},
     "output_type": "display_data"
    }
   ],
   "source": [
    "plt.figure(figsize=(13, 11))\n",
    "plt.hist(pandas_df[\"af_acousticness\"], bins=50, alpha=0.5)\n",
    "plt.title(\"Histogram of Af acousticness\")\n",
    "plt.xlabel(\"Af acousticness\")\n",
    "plt.ylabel(\"Frequency\")\n",
    "plt.grid(True)\n",
    "plt.show()"
   ]
  },
  {
   "cell_type": "code",
   "execution_count": 152,
   "metadata": {
    "collapsed": true,
    "jupyter": {
     "outputs_hidden": true
    }
   },
   "outputs": [],
   "source": [
    "#the distrubtion for af liveness is skewed to the right \n",
    "#this is a bimodal distribution, there are two distinct peaks in this distribution "
   ]
  },
  {
   "cell_type": "code",
   "execution_count": 138,
   "metadata": {},
   "outputs": [
    {
     "data": {
      "image/png": "[encoded data removed]",
      "text/plain": [
       "<Figure size 1008x720 with 1 Axes>"
      ]
     },
     "metadata": {},
     "output_type": "display_data"
    }
   ],
   "source": [
    "plt.figure(figsize=(14, 10))\n",
    "plt.hist(pandas_df[\"af_liveness\"], bins=50, alpha=0.5)\n",
    "plt.title(\"Histogram of AF Liveness\")\n",
    "plt.xlabel(\"af_liveness\")\n",
    "plt.ylabel(\"Frequency\")\n",
    "plt.grid(True)\n",
    "plt.show()"
   ]
  },
  {
   "cell_type": "code",
   "execution_count": 144,
   "metadata": {
    "collapsed": true,
    "jupyter": {
     "outputs_hidden": true
    }
   },
   "outputs": [],
   "source": [
    "#the distrubtion isn't skewed in either direction \n",
    "#the distribution isn't exactly a normal distribution \n",
    "#this is a multimodal distribution, there are more than two distinct peaks in this distribution "
   ]
  },
  {
   "cell_type": "code",
   "execution_count": 145,
   "metadata": {},
   "outputs": [
    {
     "data": {
      "image/png": "[encoded data removed]",
      "text/plain": [
       "<Figure size 1008x1080 with 1 Axes>"
      ]
     },
     "metadata": {},
     "output_type": "display_data"
    }
   ],
   "source": [
    "plt.figure(figsize=(14, 15))\n",
    "plt.title(\"Histogram for AF Valence\")\n",
    "plt.hist(pandas_df[\"af_valence\"], bins=50, alpha=0.5)\n",
    "plt.xlabel(\"AF Valence\")\n",
    "plt.grid(True)\n",
    "plt.show()"
   ]
  },
  {
   "cell_type": "code",
   "execution_count": 150,
   "metadata": {
    "collapsed": true,
    "jupyter": {
     "outputs_hidden": true
    }
   },
   "outputs": [],
   "source": [
    "#histogram for af tempo \n",
    "#the dsitribution is a multi modal distribution, there are more than two distinct peaks in this distribution \n",
    "#not skewed either to the left or right "
   ]
  },
  {
   "cell_type": "code",
   "execution_count": 151,
   "metadata": {},
   "outputs": [
    {
     "data": {
      "image/png": "[encoded data removed]",
      "text/plain": [
       "<Figure size 1008x1080 with 1 Axes>"
      ]
     },
     "metadata": {},
     "output_type": "display_data"
    }
   ],
   "source": [
    "plt.figure(figsize=(14, 15))\n",
    "plt.title(\"Histogram for AF Tempo\")\n",
    "plt.hist(pandas_df[\"af_tempo\"], bins=50, alpha=0.5)\n",
    "plt.xlabel(\"AF Valence\")\n",
    "plt.grid(True)\n",
    "plt.show()"
   ]
  },
  {
   "cell_type": "code",
   "execution_count": null,
   "metadata": {
    "collapsed": true,
    "jupyter": {
     "outputs_hidden": true
    }
   },
   "outputs": [],
   "source": []
  }
 ],
 "metadata": {
  "kernelspec": {
   "display_name": "Python 3 (ipykernel)",
   "language": "python",
   "name": "python3"
  },
  "language_info": {
   "codemirror_mode": {
    "name": "ipython",
    "version": 3
   },
   "file_extension": ".py",
   "mimetype": "text/x-python",
   "name": "python",
   "nbconvert_exporter": "python",
   "pygments_lexer": "ipython3",
   "version": "3.11.6"
  }
 },
 "nbformat": 4,
 "nbformat_minor": 4
}
