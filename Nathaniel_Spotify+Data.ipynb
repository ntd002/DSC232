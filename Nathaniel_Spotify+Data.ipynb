{
  "cells": [
    {
      "cell_type": "code",
      "execution_count": 4,
      "metadata": {
        "collapsed": true,
        "colab": {
          "base_uri": "https://localhost:8080/"
        },
        "id": "4hDm2Xb_OoLL",
        "outputId": "3f83472d-a2b2-434c-89cf-566611582935"
      },
      "outputs": [
        {
          "output_type": "stream",
          "name": "stdout",
          "text": [
            "Requirement already satisfied: pyspark in /usr/local/lib/python3.10/dist-packages (3.5.1)\n",
            "Requirement already satisfied: py4j==0.10.9.7 in /usr/local/lib/python3.10/dist-packages (from pyspark) (0.10.9.7)\n"
          ]
        }
      ],
      "source": [
        "!pip install pyspark\n",
        "\n",
        "from pyspark.sql import SparkSession\n",
        "\n",
        "spark = SparkSession.builder.appName(\"Read CSV\").getOrCreate()\n",
        "\n",
        "# Read csv. Escape must be set (see next cell)\n",
        "df = spark.read.csv(\"/content/merged_data_10000.csv\", header=True, inferSchema=True, escape=\"\\\"\")"
      ]
    },
    {
      "cell_type": "code",
      "source": [
        "# Problem row. If escape is not set, the commas in 'artist' count as new columns and push data into columns to the right\n",
        "# In this case, the 'url' was pushed into 'trend'\n",
        "df.collect()[1359]"
      ],
      "metadata": {
        "id": "j9IfRpmFbiUX",
        "colab": {
          "base_uri": "https://localhost:8080/"
        },
        "outputId": "2e0f7233-cd14-41c4-a856-620060841493"
      },
      "execution_count": 5,
      "outputs": [
        {
          "output_type": "execute_result",
          "data": {
            "text/plain": [
              "Row(_c0=1359, title='Bailen (Remix)', rank=87, date='1/1/2017', artist='Franco \"El Gorilla\", De La Ghetto, Luigi 21 Plus, Ozuna', url='https://open.spotify.com/track/3dqBmUFihufaWii7TGLXyE', region='Chile', chart='top200', trend='MOVE_UP', streams=19176, track_id='3dqBmUFihufaWii7TGLXyE', album='Reloaded', popularity=0, duration_ms=223861, explicit=True, release_date='7/15/2016', available_markets='[]', af_danceability=0.733, af_energy=0.857, af_key=7, af_loudness=-3.454, af_mode=0, af_speechiness=0.0846, af_acousticness=0.134, af_instrumentalness=0.0, af_liveness=0.208, af_valence=0.677, af_tempo=176.004, af_time_signature=4)"
            ]
          },
          "metadata": {},
          "execution_count": 5
        }
      ]
    },
    {
      "cell_type": "code",
      "execution_count": 6,
      "metadata": {
        "collapsed": true,
        "id": "tszLMwiMOoLM",
        "colab": {
          "base_uri": "https://localhost:8080/"
        },
        "outputId": "f3785529-b56a-446d-8d28-e6333aee969a"
      },
      "outputs": [
        {
          "output_type": "stream",
          "name": "stdout",
          "text": [
            "+---+--------------------+----+--------+--------------------+--------------------+---------+------+-------------+-------+--------------------+--------------------+----------+-----------+--------+------------+--------------------+---------------+---------+------+-----------+-------+--------------+---------------+-------------------+-----------+----------+--------+-----------------+\n",
            "|_c0|               title|rank|    date|              artist|                 url|   region| chart|        trend|streams|            track_id|               album|popularity|duration_ms|explicit|release_date|   available_markets|af_danceability|af_energy|af_key|af_loudness|af_mode|af_speechiness|af_acousticness|af_instrumentalness|af_liveness|af_valence|af_tempo|af_time_signature|\n",
            "+---+--------------------+----+--------+--------------------+--------------------+---------+------+-------------+-------+--------------------+--------------------+----------+-----------+--------+------------+--------------------+---------------+---------+------+-----------+-------+--------------+---------------+-------------------+-----------+----------+--------+-----------------+\n",
            "|  0|Chantaje (feat. M...|   1|1/1/2017|             Shakira|https://open.spot...|Argentina|top200|SAME_POSITION| 253019|6mICuAdrwEjh6Y6lr...|           El Dorado|        78|     195840|   false|   5/26/2017|['AR', 'AU', 'AT'...|          0.852|    0.773|     8|     -2.921|      0|        0.0776|          0.187|            3.05E-5|      0.159|     0.907| 102.034|                4|\n",
            "|  1|Vente Pa' Ca (fea...|   2|1/1/2017|        Ricky Martin|https://open.spot...|Argentina|top200|      MOVE_UP| 223988|7DM4BPaS7uofFul3y...|Vente Pa' Ca (fea...|        72|     259195|   false|   9/22/2016|['AR', 'AU', 'AT'...|          0.663|     0.92|    11|      -4.07|      0|         0.226|        0.00431|            1.69E-5|      0.101|     0.533|  99.935|                4|\n",
            "|  2|ReggaetÃ³n Lento ...|   3|1/1/2017|                CNCO|https://open.spot...|Argentina|top200|    MOVE_DOWN| 210943|3AEZUABDXNtecAOSC...|        Primera Cita|        73|     222560|   false|   8/26/2016|['AR', 'AU', 'AT'...|          0.761|    0.838|     4|     -3.073|      0|        0.0502|            0.4|                0.0|      0.176|      0.71|  93.974|                4|\n",
            "|  3|              Safari|   4|1/1/2017|J Balvin, Pharrel...|https://open.spot...|Argentina|top200|SAME_POSITION| 173865|6rQSrBHf7HlZjtcMZ...|            EnergÃ­a|         0|     205600|   false|   6/24/2016|                  []|          0.508|    0.687|     0|     -4.361|      1|         0.326|          0.551|            3.41E-6|      0.126|     0.555| 180.044|                4|\n",
            "|  4|         Shaky Shaky|   5|1/1/2017|        Daddy Yankee|https://open.spot...|Argentina|top200|      MOVE_UP| 153956|58IL315gMSTD37DOZ...|         Shaky Shaky|         0|     234320|   false|    4/8/2016|                  []|          0.899|    0.626|     6|     -4.228|      0|         0.292|          0.076|                0.0|     0.0631|     0.873|  88.007|                4|\n",
            "+---+--------------------+----+--------+--------------------+--------------------+---------+------+-------------+-------+--------------------+--------------------+----------+-----------+--------+------------+--------------------+---------------+---------+------+-----------+-------+--------------+---------------+-------------------+-----------+----------+--------+-----------------+\n",
            "only showing top 5 rows\n",
            "\n"
          ]
        }
      ],
      "source": [
        "# Print the schema to understand the data types and column names\n",
        "df.show(5)"
      ]
    },
    {
      "cell_type": "code",
      "source": [
        "# Print the schema to understand the data types and column names\n",
        "df.schema"
      ],
      "metadata": {
        "colab": {
          "base_uri": "https://localhost:8080/"
        },
        "id": "oo6KeRzGqDGD",
        "outputId": "0741aff9-3b02-4123-d198-30692c01d0c9"
      },
      "execution_count": 9,
      "outputs": [
        {
          "output_type": "execute_result",
          "data": {
            "text/plain": [
              "StructType([StructField('_c0', IntegerType(), True), StructField('title', StringType(), True), StructField('rank', IntegerType(), True), StructField('date', StringType(), True), StructField('artist', StringType(), True), StructField('url', StringType(), True), StructField('region', StringType(), True), StructField('chart', StringType(), True), StructField('trend', StringType(), True), StructField('streams', IntegerType(), True), StructField('track_id', StringType(), True), StructField('album', StringType(), True), StructField('popularity', IntegerType(), True), StructField('duration_ms', IntegerType(), True), StructField('explicit', BooleanType(), True), StructField('release_date', StringType(), True), StructField('available_markets', StringType(), True), StructField('af_danceability', DoubleType(), True), StructField('af_energy', DoubleType(), True), StructField('af_key', IntegerType(), True), StructField('af_loudness', DoubleType(), True), StructField('af_mode', IntegerType(), True), StructField('af_speechiness', DoubleType(), True), StructField('af_acousticness', DoubleType(), True), StructField('af_instrumentalness', DoubleType(), True), StructField('af_liveness', DoubleType(), True), StructField('af_valence', DoubleType(), True), StructField('af_tempo', DoubleType(), True), StructField('af_time_signature', IntegerType(), True)])"
            ]
          },
          "metadata": {},
          "execution_count": 9
        }
      ]
    },
    {
      "cell_type": "code",
      "execution_count": 10,
      "metadata": {
        "collapsed": true,
        "id": "IdbOpzihOoLM",
        "colab": {
          "base_uri": "https://localhost:8080/"
        },
        "outputId": "62c29411-ebc9-4992-8f48-847e7f5f51a3"
      },
      "outputs": [
        {
          "output_type": "stream",
          "name": "stdout",
          "text": [
            "+-------+------------------+--------------------+------------------+--------+------------+--------------------+---------+------+-------------+------------------+--------------------+--------------------+-----------------+------------------+------------------+--------------------+------------------+-------------------+------------------+------------------+------------------+-------------------+-------------------+-------------------+-------------------+-------------------+------------------+-------------------+\n",
            "|summary|               _c0|               title|              rank|    date|      artist|                 url|   region| chart|        trend|           streams|            track_id|               album|       popularity|       duration_ms|      release_date|   available_markets|   af_danceability|          af_energy|            af_key|       af_loudness|           af_mode|     af_speechiness|    af_acousticness|af_instrumentalness|        af_liveness|         af_valence|          af_tempo|  af_time_signature|\n",
            "+-------+------------------+--------------------+------------------+--------+------------+--------------------+---------+------+-------------+------------------+--------------------+--------------------+-----------------+------------------+------------------+--------------------+------------------+-------------------+------------------+------------------+------------------+-------------------+-------------------+-------------------+-------------------+-------------------+------------------+-------------------+\n",
            "|  count|             10000|               10000|             10000|   10000|       10000|               10000|    10000| 10000|        10000|             10000|               10000|                9998|            10000|             10000|             10000|               10000|             10000|              10000|             10000|             10000|             10000|              10000|              10000|              10000|              10000|              10000|             10000|              10000|\n",
            "|   mean|            4999.5|  1036.6666666666667|           93.1914|    NULL|        NULL|                NULL|     NULL|  NULL|         NULL|        38133.9841|                NULL|  2720.7858421052633|          37.6835|       221895.1085|1987.4758364312268|                NULL|0.6692071000000022| 0.6906255099999986|            5.2918|-5.849113499999998|             0.562|0.09956310999999973|0.20232996142999968|0.00870529908599997|0.17628130000000083| 0.5511859900000013|120.00902689999961|             3.9975|\n",
            "| stddev|2886.8956799071675|   762.3672780665934|57.968472469265876|    NULL|        NULL|                NULL|     NULL|  NULL|         NULL|135640.07921235185|                NULL|  25303.272693709863|32.35199519209427|106647.21624594172| 173.1119158850886|                NULL| 0.125851211604562|0.16208891745568613|3.7272029679367313| 2.227489019625241|0.4961659178760726|0.08942668386620763|0.21759782261687693|0.06680791403768808|0.13976123519988112|0.23187531080452714|29.021347057913754|0.19156570606967777|\n",
            "|    min|                 0|                 #99|                 1|1/1/2017|#TocoParaVos|https://open.spot...|Argentina|top200|    MOVE_DOWN|              1001|000xYdQfIZ4pDmBGz...|!Pa'que Nadie Se ...|                0|                 0|                 0|['AD', 'AL', 'AM'...|             0.176|             0.0126|                 0|           -26.257|                 0|             0.0227|            2.55E-5|                0.0|              0.021|             0.0384|            48.754|                  1|\n",
            "|    max|              9999|ëŸ¬ì‹œì•ˆ ë£°ë › ...|               200|3/2/2018|   é™³ä»¥æ¡|https://open.spot...|  Uruguay|top200|SAME_POSITION|           3135625|7zyYmIdjqqiX6kLry...|í™”ì–‘ì—°í™” The ...|               90|           9318296|          9/9/2016|                  []|             0.976|              0.999|                11|             0.076|                 1|              0.789|              0.992|              0.987|              0.993|              0.989|           210.158|                  5|\n",
            "+-------+------------------+--------------------+------------------+--------+------------+--------------------+---------+------+-------------+------------------+--------------------+--------------------+-----------------+------------------+------------------+--------------------+------------------+-------------------+------------------+------------------+------------------+-------------------+-------------------+-------------------+-------------------+-------------------+------------------+-------------------+\n",
            "\n"
          ]
        }
      ],
      "source": [
        "# Summary statistics for numerical columns\n",
        "df.describe().show()"
      ]
    },
    {
      "cell_type": "code",
      "execution_count": 44,
      "metadata": {
        "collapsed": true,
        "id": "dRnSYi_1OoLN",
        "colab": {
          "base_uri": "https://localhost:8080/"
        },
        "outputId": "707a3379-864c-4a34-ab73-b64f76f6b92a"
      },
      "outputs": [
        {
          "output_type": "stream",
          "name": "stdout",
          "text": [
            "+---------------+-----+\n",
            "|af_danceability|IsInt|\n",
            "+---------------+-----+\n",
            "+---------------+-----+\n",
            "\n",
            "+---------+-----+\n",
            "|af_energy|IsInt|\n",
            "+---------+-----+\n",
            "+---------+-----+\n",
            "\n",
            "+------+-----+\n",
            "|af_key|IsInt|\n",
            "+------+-----+\n",
            "+------+-----+\n",
            "\n",
            "+-----------+-----+\n",
            "|af_loudness|IsInt|\n",
            "+-----------+-----+\n",
            "+-----------+-----+\n",
            "\n",
            "+-------+-----+\n",
            "|af_mode|IsInt|\n",
            "+-------+-----+\n",
            "+-------+-----+\n",
            "\n",
            "+--------------+-----+\n",
            "|af_speechiness|IsInt|\n",
            "+--------------+-----+\n",
            "+--------------+-----+\n",
            "\n",
            "+---------------+-----+\n",
            "|af_acousticness|IsInt|\n",
            "+---------------+-----+\n",
            "+---------------+-----+\n",
            "\n",
            "+-------------------+-----+\n",
            "|af_instrumentalness|IsInt|\n",
            "+-------------------+-----+\n",
            "+-------------------+-----+\n",
            "\n",
            "+-----------+-----+\n",
            "|af_liveness|IsInt|\n",
            "+-----------+-----+\n",
            "+-----------+-----+\n",
            "\n",
            "+----------+-----+\n",
            "|af_valence|IsInt|\n",
            "+----------+-----+\n",
            "+----------+-----+\n",
            "\n",
            "+--------+-----+\n",
            "|af_tempo|IsInt|\n",
            "+--------+-----+\n",
            "+--------+-----+\n",
            "\n",
            "+-----------------+-----+\n",
            "|af_time_signature|IsInt|\n",
            "+-----------------+-----+\n",
            "+-----------------+-----+\n",
            "\n"
          ]
        }
      ],
      "source": [
        "# Check 'af_' values for any text. If any text appears, other columns have shifted over\n",
        "from pyspark.sql import functions as F\n",
        "\n",
        "column_af = [ 'af_danceability', 'af_energy', 'af_key', 'af_loudness', 'af_mode', 'af_speechiness', 'af_acousticness',\n",
        "             'af_instrumentalness', 'af_liveness', 'af_valence', 'af_tempo', 'af_time_signature']\n",
        "\n",
        "# Displays non-numbers if they show up in the column. For proof, see cell below\n",
        "for column in column_af:\n",
        "  temp_df = df.select(column, F.col(column).cast(\"int\").isNotNull().alias(\"IsInt\"))\n",
        "  temp_df.filter(temp_df.IsInt==False).show()\n"
      ]
    },
    {
      "cell_type": "code",
      "source": [
        "temp_df = df.select('title', F.col('title').cast(\"int\").isNotNull().alias(\"IsInt\"))\n",
        "temp_df.filter(temp_df.IsInt==False).show()"
      ],
      "metadata": {
        "colab": {
          "base_uri": "https://localhost:8080/"
        },
        "id": "NxxwT4wSt_UI",
        "outputId": "3b33ad52-e839-4374-aad7-a319a09cf45f"
      },
      "execution_count": 45,
      "outputs": [
        {
          "output_type": "stream",
          "name": "stdout",
          "text": [
            "+-----+-----+\n",
            "|title|IsInt|\n",
            "+-----+-----+\n",
            "|  743| true|\n",
            "|  743| true|\n",
            "| 1955| true|\n",
            "|   47| true|\n",
            "|  777| true|\n",
            "| 1955| true|\n",
            "+-----+-----+\n",
            "\n"
          ]
        }
      ]
    },
    {
      "cell_type": "code",
      "source": [],
      "metadata": {
        "id": "mYXyBvrCwk9V"
      },
      "execution_count": null,
      "outputs": []
    }
  ],
  "metadata": {
    "kernelspec": {
      "display_name": "Python 3 [3.6]",
      "language": "python",
      "name": "python3"
    },
    "language_info": {
      "codemirror_mode": {
        "name": "ipython",
        "version": 3
      },
      "file_extension": ".py",
      "mimetype": "text/x-python",
      "name": "python",
      "nbconvert_exporter": "python",
      "pygments_lexer": "ipython3",
      "version": "3.6.4"
    },
    "colab": {
      "provenance": []
    }
  },
  "nbformat": 4,
  "nbformat_minor": 0
}