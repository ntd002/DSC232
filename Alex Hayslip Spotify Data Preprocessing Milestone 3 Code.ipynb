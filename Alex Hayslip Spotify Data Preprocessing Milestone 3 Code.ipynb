{
 "cells": [
  {
   "cell_type": "code",
   "execution_count": 1,
   "metadata": {
    "collapsed": true
   },
   "outputs": [],
   "source": [
    "import os\n",
    "import sys\n",
    "os.environ[\"PYSPARK_PYTHON\"] = sys.executable\n",
    "os.environ[\"PYSPARK_DRIVER_PYTHON\"] = sys.executable"
   ]
  },
  {
   "cell_type": "code",
   "execution_count": 2,
   "metadata": {},
   "outputs": [
    {
     "data": {
      "text/plain": [
       "'2.3.0'"
      ]
     },
     "execution_count": 2,
     "metadata": {},
     "output_type": "execute_result"
    }
   ],
   "source": [
    "from pyspark import SparkContext\n",
    "sc = SparkContext(master=\"local[4]\")\n",
    "sc.version"
   ]
  },
  {
   "cell_type": "code",
   "execution_count": 3,
   "metadata": {},
   "outputs": [
    {
     "data": {
      "text/plain": [
       "<pyspark.sql.context.SQLContext at 0x7fe29d72a438>"
      ]
     },
     "execution_count": 3,
     "metadata": {},
     "output_type": "execute_result"
    }
   ],
   "source": [
    "from pyspark import SparkContext\n",
    "from pyspark.sql import SQLContext\n",
    "from pyspark.sql.types import Row, StructField, StructType, StringType, IntegerType, BinaryType\n",
    "\n",
    "sqlContext = SQLContext(sc)\n",
    "sqlContext"
   ]
  },
  {
   "cell_type": "code",
   "execution_count": 4,
   "metadata": {
    "collapsed": true
   },
   "outputs": [],
   "source": [
    "from pyspark.sql import SparkSession\n",
    "spark = SparkSession.builder.appName(\"CSV Reader\").getOrCreate()\n",
    "df1 = spark.read.format(\"csv\").option(\"header\", \"true\").option(\"inferSchema\", \"true\").option(\"escape\", \"\\\"\").load(\"merged_data.csv\")"
   ]
  },
  {
   "cell_type": "code",
   "execution_count": 5,
   "metadata": {},
   "outputs": [
    {
     "name": "stdout",
     "output_type": "stream",
     "text": [
      "+---+--------------------+----+--------+--------------------+--------------------+---------+------+-------------+-------+--------------------+--------------------+----------+-----------+--------+------------+--------------------+---------------+---------+------+-----------+-------+--------------+---------------+-------------------+-----------+----------+--------+-----------------+\n",
      "|_c0|               title|rank|    date|              artist|                 url|   region| chart|        trend|streams|            track_id|               album|popularity|duration_ms|explicit|release_date|   available_markets|af_danceability|af_energy|af_key|af_loudness|af_mode|af_speechiness|af_acousticness|af_instrumentalness|af_liveness|af_valence|af_tempo|af_time_signature|\n",
      "+---+--------------------+----+--------+--------------------+--------------------+---------+------+-------------+-------+--------------------+--------------------+----------+-----------+--------+------------+--------------------+---------------+---------+------+-----------+-------+--------------+---------------+-------------------+-----------+----------+--------+-----------------+\n",
      "|  0|Chantaje (feat. M...|   1|1/1/2017|             Shakira|https://open.spot...|Argentina|top200|SAME_POSITION| 253019|6mICuAdrwEjh6Y6lr...|           El Dorado|        78|     195840|   false|   5/26/2017|['AR', 'AU', 'AT'...|          0.852|    0.773|     8|     -2.921|      0|        0.0776|          0.187|            3.05E-5|      0.159|     0.907| 102.034|                4|\n",
      "|  1|Vente Pa' Ca (fea...|   2|1/1/2017|        Ricky Martin|https://open.spot...|Argentina|top200|      MOVE_UP| 223988|7DM4BPaS7uofFul3y...|Vente Pa' Ca (fea...|        72|     259195|   false|   9/22/2016|['AR', 'AU', 'AT'...|          0.663|     0.92|    11|      -4.07|      0|         0.226|        0.00431|            1.69E-5|      0.101|     0.533|  99.935|                4|\n",
      "|  2|Reggaetón Lento (...|   3|1/1/2017|                CNCO|https://open.spot...|Argentina|top200|    MOVE_DOWN| 210943|3AEZUABDXNtecAOSC...|        Primera Cita|        73|     222560|   false|   8/26/2016|['AR', 'AU', 'AT'...|          0.761|    0.838|     4|     -3.073|      0|        0.0502|            0.4|                0.0|      0.176|      0.71|  93.974|                4|\n",
      "|  3|              Safari|   4|1/1/2017|J Balvin, Pharrel...|https://open.spot...|Argentina|top200|SAME_POSITION| 173865|6rQSrBHf7HlZjtcMZ...|             Energía|         0|     205600|   false|   6/24/2016|                  []|          0.508|    0.687|     0|     -4.361|      1|         0.326|          0.551|            3.41E-6|      0.126|     0.555| 180.044|                4|\n",
      "|  4|         Shaky Shaky|   5|1/1/2017|        Daddy Yankee|https://open.spot...|Argentina|top200|      MOVE_UP| 153956|58IL315gMSTD37DOZ...|         Shaky Shaky|         0|     234320|   false|    4/8/2016|                  []|          0.899|    0.626|     6|     -4.228|      0|         0.292|          0.076|                0.0|     0.0631|     0.873|  88.007|                4|\n",
      "|  5|         Traicionera|   6|1/1/2017|     Sebastian Yatra|https://open.spot...|Argentina|top200|    MOVE_DOWN| 151140|5J1c3M4EldCfNxXwr...|         Traicionera|         0|     228466|   false|   6/24/2016|                  []|          0.776|    0.669|    11|     -4.933|      1|        0.0638|          0.142|                0.0|      0.219|     0.661|  91.012|                4|\n",
      "|  6|Cuando Se Pone a ...|   7|1/1/2017|              Rombai|https://open.spot...|Argentina|top200|    MOVE_DOWN| 148369|1MpKZi1zTXpERKwxm...|Cuando Se Pone a ...|        56|     195274|   false|   12/2/2016|['AR', 'AU', 'AT'...|          0.588|    0.682|    11|     -7.169|      0|         0.173|         0.0851|            2.69E-5|      0.084|     0.937| 205.643|                4|\n",
      "|  7|Otra vez (feat. J...|   8|1/1/2017|       Zion & Lennox|https://open.spot...|Argentina|top200|    MOVE_DOWN| 143004|3QwBODjSEzelZyVjx...|            Motivan2|        74|     209453|   false|   9/30/2016|['AG', 'AM', 'AR'...|          0.832|    0.772|    10|     -5.429|      1|           0.1|         0.0559|            4.86E-4|       0.44|     0.704|  96.016|                4|\n",
      "|  8|        La Bicicleta|   9|1/1/2017|Carlos Vives, Sha...|https://open.spot...|Argentina|top200|      MOVE_UP| 126389|0sXvAOmXgjR2QUqLK...|           El Dorado|        59|     227706|   false|   5/26/2017|['AR', 'AU', 'AT'...|          0.736|    0.964|     0|     -2.147|      1|         0.129|          0.198|            2.32E-6|      0.336|     0.953| 179.935|                4|\n",
      "|  9|Dile Que Tu Me Qu...|  10|1/1/2017|               Ozuna|https://open.spot...|Argentina|top200|    MOVE_DOWN| 112012|20ZAJdsKB5IGbGj4i...|Dile Que Tu Me Qu...|         0|     226400|   false|    6/6/2016|                  []|          0.721|    0.687|     1|     -6.682|      1|        0.0782|         0.0998|                0.0|     0.0679|     0.825| 175.914|                4|\n",
      "| 10|  Andas En Mi Cabeza|  11|1/1/2017|Chino & Nacho, Da...|https://open.spot...|Argentina|top200|SAME_POSITION| 110395|5mey7CLLuFToM2P68...|  Andas En Mi Cabeza|         0|     247493|   false|   2/19/2016|                  []|           0.68|    0.954|     9|     -1.823|      1|         0.119|         0.0244|                0.0|      0.112|     0.521| 104.029|                4|\n",
      "| 11|Desde Esa Noche (...|  12|1/1/2017|              Thalia|https://open.spot...|Argentina|top200|      MOVE_UP| 104592|1pWYnQIlqxTh5bxuP...|              Latina|        66|     227693|   false|    5/6/2016|['AR', 'AU', 'AT'...|           0.78|    0.929|    11|     -0.739|      0|        0.0532|          0.171|                0.0|     0.0677|     0.837|  95.012|                4|\n",
      "| 12|      Borro Cassette|  13|1/1/2017|              Maluma|https://open.spot...|Argentina|top200|      MOVE_UP| 101535|6DUdDIRgLqCGq1Dwk...|Pretty Boy, Dirty...|        80|     207306|   false|  10/30/2015|['AR', 'AU', 'AT'...|           0.73|    0.701|     5|     -5.885|      0|         0.106|          0.132|                0.0|      0.151|     0.785|  175.95|                4|\n",
      "| 13|Gyal You A Party ...|  14|1/1/2017|Charly Black, Dad...|https://open.spot...|Argentina|top200|    MOVE_DOWN|  99722|1AkTW13ysu0AJrwuM...|Gyal You A Party ...|         0|     224320|   false|   10/7/2016|                  []|          0.723|    0.889|     0|     -4.017|      1|        0.0939|         0.0673|                0.0|      0.363|     0.701| 101.032|                4|\n",
      "| 14|Me llamas (feat. ...|  15|1/1/2017|             Piso 21|https://open.spot...|Argentina|top200|    MOVE_DOWN|  95010|5hEM0JchdVzQ5PwvS...|Me Llamas (feat. ...|        69|     210322|   false|   12/2/2016|['AR', 'AU', 'AT'...|           0.76|    0.838|     7|     -3.828|      0|        0.0529|          0.547|             1.3E-6|     0.0664|     0.745|   93.05|                4|\n",
      "| 15|La Bicicleta (fea...|  16|1/1/2017|Carlos Vives, Sha...|https://open.spot...|Argentina|top200|      MOVE_UP|  92723|7IRuf7FrdQvOGs0g9...|La Bicicleta (fea...|        48|     254069|   false|   8/19/2016|['AR', 'AU', 'AT'...|          0.598|    0.917|     0|     -3.455|      1|         0.159|          0.117|                0.0|      0.398|     0.575| 180.049|                4|\n",
      "| 16|DUELE EL CORAZON ...|  17|1/1/2017|    Enrique Iglesias|https://open.spot...|Argentina|top200|      MOVE_UP|  91325|6YZdkObH88npeKrrk...|DUELE EL CORAZON ...|        69|     199693|   false|   4/18/2016|['AR', 'AU', 'AT'...|          0.716|    0.908|     8|     -3.254|      0|         0.103|         0.0858|                0.0|      0.135|     0.869|   91.03|                4|\n",
      "| 17|     Let Me Love You|  18|1/1/2017|DJ Snake, Justin ...|https://open.spot...|Argentina|top200|    MOVE_DOWN|  87926|4pdPtRcBmOSQDlJ3F...|              Encore|         2|     205946|   false|    8/5/2016|                  []|          0.476|    0.718|     8|     -5.309|      1|        0.0576|         0.0784|            1.02E-5|      0.122|     0.142| 199.864|                4|\n",
      "| 18|La Noche No Es pa...|  19|1/1/2017|         Mano Arriba|https://open.spot...|Argentina|top200|SAME_POSITION|  87033|3gEebOzxHpEwElicl...|La Noche No Es pa...|         0|     199495|   false|   3/11/2016|                  []|          0.549|    0.798|     6|     -4.185|      1|        0.0705|          0.126|                0.0|      0.329|     0.905| 100.054|                4|\n",
      "| 19|          Vacaciones|  20|1/1/2017|               Wisin|https://open.spot...|Argentina|top200|    MOVE_DOWN|  86103|3dQDid3IUNhZy1Oeh...|          Vacaciones|         0|     238800|   false|   9/30/2016|                  []|          0.772|    0.909|     6|     -3.225|      0|         0.166|          0.256|                0.0|      0.255|     0.694|  96.031|                4|\n",
      "+---+--------------------+----+--------+--------------------+--------------------+---------+------+-------------+-------+--------------------+--------------------+----------+-----------+--------+------------+--------------------+---------------+---------+------+-----------+-------+--------------+---------------+-------------------+-----------+----------+--------+-----------------+\n",
      "only showing top 20 rows\n",
      "\n"
     ]
    }
   ],
   "source": [
    "df2 = df1.dropna(\"any\")\n",
    "df2.show()"
   ]
  },
  {
   "cell_type": "code",
   "execution_count": 6,
   "metadata": {
    "collapsed": true
   },
   "outputs": [],
   "source": [
    "df2 = df2.withColumn(\"streams\", df1[\"streams\"].cast(\"Integer\"))"
   ]
  },
  {
   "cell_type": "code",
   "execution_count": 7,
   "metadata": {
    "collapsed": true
   },
   "outputs": [],
   "source": [
    "df2 = df2.withColumn(\"popularity\", df1[\"popularity\"].cast(\"Integer\"))"
   ]
  },
  {
   "cell_type": "code",
   "execution_count": 8,
   "metadata": {
    "collapsed": true
   },
   "outputs": [],
   "source": [
    "df2 = df2.withColumn(\"duration_ms\", df1[\"duration_ms\"].cast(\"Integer\"))"
   ]
  },
  {
   "cell_type": "code",
   "execution_count": 9,
   "metadata": {
    "collapsed": true
   },
   "outputs": [],
   "source": [
    "#pre processing code "
   ]
  },
  {
   "cell_type": "code",
   "execution_count": 10,
   "metadata": {},
   "outputs": [
    {
     "name": "stdout",
     "output_type": "stream",
     "text": [
      "+---+--------------------+----+--------+------------+--------------------+---------+------+-------------+-------+--------------------+--------------------+----------+-----------+--------+------------+--------------------+---------------+---------+------+-----------+-------+--------------+---------------+-------------------+-----------+----------+--------+-----------------+\n",
      "|_c0|               title|rank|    date|      artist|                 url|   region| chart|        trend|streams|            track_id|               album|popularity|duration_ms|explicit|release_date|   available_markets|af_danceability|af_energy|af_key|af_loudness|af_mode|af_speechiness|af_acousticness|af_instrumentalness|af_liveness|af_valence|af_tempo|af_time_signature|\n",
      "+---+--------------------+----+--------+------------+--------------------+---------+------+-------------+-------+--------------------+--------------------+----------+-----------+--------+------------+--------------------+---------------+---------+------+-----------+-------+--------------+---------------+-------------------+-----------+----------+--------+-----------------+\n",
      "|  0|Chantaje (feat. M...|   1|1/1/2017|     Shakira|https://open.spot...|Argentina|top200|SAME_POSITION| 253019|6mICuAdrwEjh6Y6lr...|           El Dorado|        78|     195840|   false|   5/26/2017|['AR', 'AU', 'AT'...|          0.852|    0.773|     8|     -2.921|      0|        0.0776|          0.187|            3.05E-5|      0.159|     0.907| 102.034|                4|\n",
      "|  1|Vente Pa' Ca (fea...|   2|1/1/2017|Ricky Martin|https://open.spot...|Argentina|top200|      MOVE_UP| 223988|7DM4BPaS7uofFul3y...|Vente Pa' Ca (fea...|        72|     259195|   false|   9/22/2016|['AR', 'AU', 'AT'...|          0.663|     0.92|    11|      -4.07|      0|         0.226|        0.00431|            1.69E-5|      0.101|     0.533|  99.935|                4|\n",
      "|  2|Reggaetón Lento (...|   3|1/1/2017|        CNCO|https://open.spot...|Argentina|top200|    MOVE_DOWN| 210943|3AEZUABDXNtecAOSC...|        Primera Cita|        73|     222560|   false|   8/26/2016|['AR', 'AU', 'AT'...|          0.761|    0.838|     4|     -3.073|      0|        0.0502|            0.4|                0.0|      0.176|      0.71|  93.974|                4|\n",
      "+---+--------------------+----+--------+------------+--------------------+---------+------+-------------+-------+--------------------+--------------------+----------+-----------+--------+------------+--------------------+---------------+---------+------+-----------+-------+--------------+---------------+-------------------+-----------+----------+--------+-----------------+\n",
      "only showing top 3 rows\n",
      "\n"
     ]
    }
   ],
   "source": [
    "df2.show(3)"
   ]
  },
  {
   "cell_type": "code",
   "execution_count": 11,
   "metadata": {
    "collapsed": true
   },
   "outputs": [],
   "source": [
    "#create new column is_explict which returns 0, 1\n",
    "#new column is_explicit is created to return a binary variable with indicates whether the music has swear words"
   ]
  },
  {
   "cell_type": "code",
   "execution_count": 12,
   "metadata": {
    "collapsed": true
   },
   "outputs": [],
   "source": [
    "from pyspark.sql.functions import when\n",
    "from pyspark.sql.functions import lit"
   ]
  },
  {
   "cell_type": "code",
   "execution_count": 13,
   "metadata": {
    "collapsed": true
   },
   "outputs": [],
   "source": [
    "df3 = df2.withColumn(\"contains_cussing\", \\\n",
    "               when((df2.explicit == True), lit(1))\\\n",
    "               .otherwise(lit(0)))"
   ]
  },
  {
   "cell_type": "code",
   "execution_count": 14,
   "metadata": {},
   "outputs": [
    {
     "name": "stdout",
     "output_type": "stream",
     "text": [
      "+---+--------------------+----+--------+--------------------+--------------------+---------+------+-------------+-------+--------------------+--------------------+----------+-----------+--------+------------+--------------------+---------------+---------+------+-----------+-------+--------------+---------------+-------------------+-----------+----------+--------+-----------------+----------------+\n",
      "|_c0|               title|rank|    date|              artist|                 url|   region| chart|        trend|streams|            track_id|               album|popularity|duration_ms|explicit|release_date|   available_markets|af_danceability|af_energy|af_key|af_loudness|af_mode|af_speechiness|af_acousticness|af_instrumentalness|af_liveness|af_valence|af_tempo|af_time_signature|contains_cussing|\n",
      "+---+--------------------+----+--------+--------------------+--------------------+---------+------+-------------+-------+--------------------+--------------------+----------+-----------+--------+------------+--------------------+---------------+---------+------+-----------+-------+--------------+---------------+-------------------+-----------+----------+--------+-----------------+----------------+\n",
      "|  0|Chantaje (feat. M...|   1|1/1/2017|             Shakira|https://open.spot...|Argentina|top200|SAME_POSITION| 253019|6mICuAdrwEjh6Y6lr...|           El Dorado|        78|     195840|   false|   5/26/2017|['AR', 'AU', 'AT'...|          0.852|    0.773|     8|     -2.921|      0|        0.0776|          0.187|            3.05E-5|      0.159|     0.907| 102.034|                4|               0|\n",
      "|  1|Vente Pa' Ca (fea...|   2|1/1/2017|        Ricky Martin|https://open.spot...|Argentina|top200|      MOVE_UP| 223988|7DM4BPaS7uofFul3y...|Vente Pa' Ca (fea...|        72|     259195|   false|   9/22/2016|['AR', 'AU', 'AT'...|          0.663|     0.92|    11|      -4.07|      0|         0.226|        0.00431|            1.69E-5|      0.101|     0.533|  99.935|                4|               0|\n",
      "|  2|Reggaetón Lento (...|   3|1/1/2017|                CNCO|https://open.spot...|Argentina|top200|    MOVE_DOWN| 210943|3AEZUABDXNtecAOSC...|        Primera Cita|        73|     222560|   false|   8/26/2016|['AR', 'AU', 'AT'...|          0.761|    0.838|     4|     -3.073|      0|        0.0502|            0.4|                0.0|      0.176|      0.71|  93.974|                4|               0|\n",
      "|  3|              Safari|   4|1/1/2017|J Balvin, Pharrel...|https://open.spot...|Argentina|top200|SAME_POSITION| 173865|6rQSrBHf7HlZjtcMZ...|             Energía|         0|     205600|   false|   6/24/2016|                  []|          0.508|    0.687|     0|     -4.361|      1|         0.326|          0.551|            3.41E-6|      0.126|     0.555| 180.044|                4|               0|\n",
      "|  4|         Shaky Shaky|   5|1/1/2017|        Daddy Yankee|https://open.spot...|Argentina|top200|      MOVE_UP| 153956|58IL315gMSTD37DOZ...|         Shaky Shaky|         0|     234320|   false|    4/8/2016|                  []|          0.899|    0.626|     6|     -4.228|      0|         0.292|          0.076|                0.0|     0.0631|     0.873|  88.007|                4|               0|\n",
      "|  5|         Traicionera|   6|1/1/2017|     Sebastian Yatra|https://open.spot...|Argentina|top200|    MOVE_DOWN| 151140|5J1c3M4EldCfNxXwr...|         Traicionera|         0|     228466|   false|   6/24/2016|                  []|          0.776|    0.669|    11|     -4.933|      1|        0.0638|          0.142|                0.0|      0.219|     0.661|  91.012|                4|               0|\n",
      "|  6|Cuando Se Pone a ...|   7|1/1/2017|              Rombai|https://open.spot...|Argentina|top200|    MOVE_DOWN| 148369|1MpKZi1zTXpERKwxm...|Cuando Se Pone a ...|        56|     195274|   false|   12/2/2016|['AR', 'AU', 'AT'...|          0.588|    0.682|    11|     -7.169|      0|         0.173|         0.0851|            2.69E-5|      0.084|     0.937| 205.643|                4|               0|\n",
      "|  7|Otra vez (feat. J...|   8|1/1/2017|       Zion & Lennox|https://open.spot...|Argentina|top200|    MOVE_DOWN| 143004|3QwBODjSEzelZyVjx...|            Motivan2|        74|     209453|   false|   9/30/2016|['AG', 'AM', 'AR'...|          0.832|    0.772|    10|     -5.429|      1|           0.1|         0.0559|            4.86E-4|       0.44|     0.704|  96.016|                4|               0|\n",
      "|  8|        La Bicicleta|   9|1/1/2017|Carlos Vives, Sha...|https://open.spot...|Argentina|top200|      MOVE_UP| 126389|0sXvAOmXgjR2QUqLK...|           El Dorado|        59|     227706|   false|   5/26/2017|['AR', 'AU', 'AT'...|          0.736|    0.964|     0|     -2.147|      1|         0.129|          0.198|            2.32E-6|      0.336|     0.953| 179.935|                4|               0|\n",
      "|  9|Dile Que Tu Me Qu...|  10|1/1/2017|               Ozuna|https://open.spot...|Argentina|top200|    MOVE_DOWN| 112012|20ZAJdsKB5IGbGj4i...|Dile Que Tu Me Qu...|         0|     226400|   false|    6/6/2016|                  []|          0.721|    0.687|     1|     -6.682|      1|        0.0782|         0.0998|                0.0|     0.0679|     0.825| 175.914|                4|               0|\n",
      "| 10|  Andas En Mi Cabeza|  11|1/1/2017|Chino & Nacho, Da...|https://open.spot...|Argentina|top200|SAME_POSITION| 110395|5mey7CLLuFToM2P68...|  Andas En Mi Cabeza|         0|     247493|   false|   2/19/2016|                  []|           0.68|    0.954|     9|     -1.823|      1|         0.119|         0.0244|                0.0|      0.112|     0.521| 104.029|                4|               0|\n",
      "| 11|Desde Esa Noche (...|  12|1/1/2017|              Thalia|https://open.spot...|Argentina|top200|      MOVE_UP| 104592|1pWYnQIlqxTh5bxuP...|              Latina|        66|     227693|   false|    5/6/2016|['AR', 'AU', 'AT'...|           0.78|    0.929|    11|     -0.739|      0|        0.0532|          0.171|                0.0|     0.0677|     0.837|  95.012|                4|               0|\n",
      "| 12|      Borro Cassette|  13|1/1/2017|              Maluma|https://open.spot...|Argentina|top200|      MOVE_UP| 101535|6DUdDIRgLqCGq1Dwk...|Pretty Boy, Dirty...|        80|     207306|   false|  10/30/2015|['AR', 'AU', 'AT'...|           0.73|    0.701|     5|     -5.885|      0|         0.106|          0.132|                0.0|      0.151|     0.785|  175.95|                4|               0|\n",
      "| 13|Gyal You A Party ...|  14|1/1/2017|Charly Black, Dad...|https://open.spot...|Argentina|top200|    MOVE_DOWN|  99722|1AkTW13ysu0AJrwuM...|Gyal You A Party ...|         0|     224320|   false|   10/7/2016|                  []|          0.723|    0.889|     0|     -4.017|      1|        0.0939|         0.0673|                0.0|      0.363|     0.701| 101.032|                4|               0|\n",
      "| 14|Me llamas (feat. ...|  15|1/1/2017|             Piso 21|https://open.spot...|Argentina|top200|    MOVE_DOWN|  95010|5hEM0JchdVzQ5PwvS...|Me Llamas (feat. ...|        69|     210322|   false|   12/2/2016|['AR', 'AU', 'AT'...|           0.76|    0.838|     7|     -3.828|      0|        0.0529|          0.547|             1.3E-6|     0.0664|     0.745|   93.05|                4|               0|\n",
      "| 15|La Bicicleta (fea...|  16|1/1/2017|Carlos Vives, Sha...|https://open.spot...|Argentina|top200|      MOVE_UP|  92723|7IRuf7FrdQvOGs0g9...|La Bicicleta (fea...|        48|     254069|   false|   8/19/2016|['AR', 'AU', 'AT'...|          0.598|    0.917|     0|     -3.455|      1|         0.159|          0.117|                0.0|      0.398|     0.575| 180.049|                4|               0|\n",
      "| 16|DUELE EL CORAZON ...|  17|1/1/2017|    Enrique Iglesias|https://open.spot...|Argentina|top200|      MOVE_UP|  91325|6YZdkObH88npeKrrk...|DUELE EL CORAZON ...|        69|     199693|   false|   4/18/2016|['AR', 'AU', 'AT'...|          0.716|    0.908|     8|     -3.254|      0|         0.103|         0.0858|                0.0|      0.135|     0.869|   91.03|                4|               0|\n",
      "| 17|     Let Me Love You|  18|1/1/2017|DJ Snake, Justin ...|https://open.spot...|Argentina|top200|    MOVE_DOWN|  87926|4pdPtRcBmOSQDlJ3F...|              Encore|         2|     205946|   false|    8/5/2016|                  []|          0.476|    0.718|     8|     -5.309|      1|        0.0576|         0.0784|            1.02E-5|      0.122|     0.142| 199.864|                4|               0|\n",
      "| 18|La Noche No Es pa...|  19|1/1/2017|         Mano Arriba|https://open.spot...|Argentina|top200|SAME_POSITION|  87033|3gEebOzxHpEwElicl...|La Noche No Es pa...|         0|     199495|   false|   3/11/2016|                  []|          0.549|    0.798|     6|     -4.185|      1|        0.0705|          0.126|                0.0|      0.329|     0.905| 100.054|                4|               0|\n",
      "| 19|          Vacaciones|  20|1/1/2017|               Wisin|https://open.spot...|Argentina|top200|    MOVE_DOWN|  86103|3dQDid3IUNhZy1Oeh...|          Vacaciones|         0|     238800|   false|   9/30/2016|                  []|          0.772|    0.909|     6|     -3.225|      0|         0.166|          0.256|                0.0|      0.255|     0.694|  96.031|                4|               0|\n",
      "+---+--------------------+----+--------+--------------------+--------------------+---------+------+-------------+-------+--------------------+--------------------+----------+-----------+--------+------------+--------------------+---------------+---------+------+-----------+-------+--------------+---------------+-------------------+-----------+----------+--------+-----------------+----------------+\n",
      "only showing top 20 rows\n",
      "\n"
     ]
    }
   ],
   "source": [
    "df3.show()"
   ]
  },
  {
   "cell_type": "code",
   "execution_count": 15,
   "metadata": {},
   "outputs": [
    {
     "name": "stdout",
     "output_type": "stream",
     "text": [
      "+----------------+\n",
      "|contains_cussing|\n",
      "+----------------+\n",
      "|               0|\n",
      "|               0|\n",
      "|               0|\n",
      "|               0|\n",
      "|               0|\n",
      "|               0|\n",
      "|               0|\n",
      "|               0|\n",
      "|               0|\n",
      "|               0|\n",
      "|               0|\n",
      "|               0|\n",
      "|               0|\n",
      "|               0|\n",
      "|               0|\n",
      "|               0|\n",
      "|               0|\n",
      "|               0|\n",
      "|               0|\n",
      "|               0|\n",
      "+----------------+\n",
      "only showing top 20 rows\n",
      "\n"
     ]
    }
   ],
   "source": [
    "df3.select(\"contains_cussing\").show()"
   ]
  },
  {
   "cell_type": "code",
   "execution_count": 16,
   "metadata": {
    "collapsed": true
   },
   "outputs": [],
   "source": [
    "#create a new column popularity increased to indicate whether the popularity of a song increased"
   ]
  },
  {
   "cell_type": "code",
   "execution_count": 17,
   "metadata": {
    "collapsed": true
   },
   "outputs": [],
   "source": [
    "df3 = df3.withColumn(\"popularity_increased\", \\\n",
    "                    when((df3.trend == \"MOVE_UP\"), lit(1))\\\n",
    "                    .otherwise(lit(0)))"
   ]
  },
  {
   "cell_type": "code",
   "execution_count": 18,
   "metadata": {},
   "outputs": [
    {
     "name": "stdout",
     "output_type": "stream",
     "text": [
      "+--------------------+\n",
      "|popularity_increased|\n",
      "+--------------------+\n",
      "|                   0|\n",
      "|                   1|\n",
      "|                   0|\n",
      "|                   0|\n",
      "|                   1|\n",
      "|                   0|\n",
      "|                   0|\n",
      "|                   0|\n",
      "|                   1|\n",
      "|                   0|\n",
      "|                   0|\n",
      "|                   1|\n",
      "|                   1|\n",
      "|                   0|\n",
      "|                   0|\n",
      "|                   1|\n",
      "|                   1|\n",
      "|                   0|\n",
      "|                   0|\n",
      "|                   0|\n",
      "+--------------------+\n",
      "only showing top 20 rows\n",
      "\n"
     ]
    }
   ],
   "source": [
    "df3.select(\"popularity_increased\").show()"
   ]
  },
  {
   "cell_type": "code",
   "execution_count": 19,
   "metadata": {
    "collapsed": true
   },
   "outputs": [],
   "source": [
    "#create a new column popularity decreased to indicate whether the popularity of a song decreased \n",
    "#returns 0, 1 "
   ]
  },
  {
   "cell_type": "code",
   "execution_count": 20,
   "metadata": {
    "collapsed": true
   },
   "outputs": [],
   "source": [
    "df3 = df3.withColumn(\"popularity_decreased\", \\\n",
    "                    when((df3.trend == \"MOVE_DOWN\"), lit(1))\\\n",
    "                    .otherwise(lit(0)))"
   ]
  },
  {
   "cell_type": "code",
   "execution_count": 21,
   "metadata": {},
   "outputs": [
    {
     "name": "stdout",
     "output_type": "stream",
     "text": [
      "+--------------------+\n",
      "|popularity_decreased|\n",
      "+--------------------+\n",
      "|                   0|\n",
      "|                   0|\n",
      "|                   1|\n",
      "|                   0|\n",
      "|                   0|\n",
      "|                   1|\n",
      "|                   1|\n",
      "|                   1|\n",
      "|                   0|\n",
      "|                   1|\n",
      "|                   0|\n",
      "|                   0|\n",
      "|                   0|\n",
      "|                   1|\n",
      "|                   1|\n",
      "|                   0|\n",
      "|                   0|\n",
      "|                   1|\n",
      "|                   0|\n",
      "|                   1|\n",
      "+--------------------+\n",
      "only showing top 20 rows\n",
      "\n"
     ]
    }
   ],
   "source": [
    "df3.select(\"popularity_decreased\").show()"
   ]
  },
  {
   "cell_type": "code",
   "execution_count": 22,
   "metadata": {
    "collapsed": true
   },
   "outputs": [],
   "source": [
    "#create column sme popularity which return 0, 1 "
   ]
  },
  {
   "cell_type": "code",
   "execution_count": 23,
   "metadata": {
    "collapsed": true
   },
   "outputs": [],
   "source": [
    "df3 = df3.withColumn(\"populairty_same\", \\\n",
    "                    when((df3.trend == \"SAME_POSITION\"), lit(1))\\\n",
    "                    .otherwise(lit(0)))"
   ]
  },
  {
   "cell_type": "code",
   "execution_count": 24,
   "metadata": {},
   "outputs": [
    {
     "name": "stdout",
     "output_type": "stream",
     "text": [
      "+---------------+\n",
      "|populairty_same|\n",
      "+---------------+\n",
      "|              1|\n",
      "|              0|\n",
      "|              0|\n",
      "|              1|\n",
      "|              0|\n",
      "|              0|\n",
      "|              0|\n",
      "|              0|\n",
      "|              0|\n",
      "|              0|\n",
      "|              1|\n",
      "|              0|\n",
      "|              0|\n",
      "|              0|\n",
      "|              0|\n",
      "|              0|\n",
      "|              0|\n",
      "|              0|\n",
      "|              1|\n",
      "|              0|\n",
      "+---------------+\n",
      "only showing top 20 rows\n",
      "\n"
     ]
    }
   ],
   "source": [
    "df3.select(\"populairty_same\").show()"
   ]
  },
  {
   "cell_type": "code",
   "execution_count": 25,
   "metadata": {
    "collapsed": true
   },
   "outputs": [],
   "source": [
    "#create a column new entry for songs that are a new entry into the popularity list "
   ]
  },
  {
   "cell_type": "code",
   "execution_count": 26,
   "metadata": {
    "collapsed": true
   },
   "outputs": [],
   "source": [
    "df3 = df3.withColumn(\"new_entry\", \\\n",
    "                    when((df3.trend == \"NEW_ENTRY\"), lit(1))\\\n",
    "                    .otherwise(lit(0))) "
   ]
  },
  {
   "cell_type": "code",
   "execution_count": 27,
   "metadata": {},
   "outputs": [
    {
     "name": "stdout",
     "output_type": "stream",
     "text": [
      "+---------+\n",
      "|new_entry|\n",
      "+---------+\n",
      "|        0|\n",
      "|        0|\n",
      "|        0|\n",
      "|        0|\n",
      "|        0|\n",
      "|        0|\n",
      "|        0|\n",
      "|        0|\n",
      "|        0|\n",
      "|        0|\n",
      "|        0|\n",
      "|        0|\n",
      "|        0|\n",
      "|        0|\n",
      "|        0|\n",
      "|        0|\n",
      "|        0|\n",
      "|        0|\n",
      "|        0|\n",
      "|        0|\n",
      "+---------+\n",
      "only showing top 20 rows\n",
      "\n"
     ]
    }
   ],
   "source": [
    "df3.select(\"new_entry\").show()"
   ]
  },
  {
   "cell_type": "code",
   "execution_count": 28,
   "metadata": {
    "collapsed": true
   },
   "outputs": [],
   "source": [
    "#standardization or normalization? "
   ]
  },
  {
   "cell_type": "code",
   "execution_count": 29,
   "metadata": {
    "collapsed": true
   },
   "outputs": [],
   "source": [
    "#check is the column of af_acousticness follows a gaussian distribution \n",
    "#the af acousticness column does not follow a gaussian distribution "
   ]
  },
  {
   "cell_type": "code",
   "execution_count": 30,
   "metadata": {
    "collapsed": true
   },
   "outputs": [],
   "source": [
    "pandas_df = df3.limit(1000).toPandas()"
   ]
  },
  {
   "cell_type": "code",
   "execution_count": 31,
   "metadata": {
    "collapsed": true
   },
   "outputs": [],
   "source": [
    "import matplotlib.pyplot as plt "
   ]
  },
  {
   "cell_type": "code",
   "execution_count": 32,
   "metadata": {},
   "outputs": [
    {
     "data": {
      "image/png": "[encoded data removed]",
      "text/plain": [
       "<Figure size 864x576 with 1 Axes>"
      ]
     },
     "metadata": {},
     "output_type": "display_data"
    }
   ],
   "source": [
    "plt.figure(figsize=(12, 8))\n",
    "plt.hist(pandas_df[\"af_acousticness\"], bins=50, alpha=0.5)\n",
    "plt.xlabel(\"af_acousticness\")\n",
    "plt.ylabel(\"Frequency\")\n",
    "plt.grid(True)\n",
    "plt.show()"
   ]
  },
  {
   "cell_type": "code",
   "execution_count": 33,
   "metadata": {
    "collapsed": true
   },
   "outputs": [],
   "source": [
    "#normalize the af acousticness column "
   ]
  },
  {
   "cell_type": "code",
   "execution_count": 34,
   "metadata": {
    "collapsed": true
   },
   "outputs": [],
   "source": [
    "#normalize af acousticness "
   ]
  },
  {
   "cell_type": "code",
   "execution_count": 35,
   "metadata": {
    "collapsed": true
   },
   "outputs": [],
   "source": [
    "from pyspark.sql.functions import col, min, max"
   ]
  },
  {
   "cell_type": "code",
   "execution_count": 36,
   "metadata": {
    "collapsed": true
   },
   "outputs": [],
   "source": [
    "af_acousticness_min = df3.select(min(col(\"af_acousticness\"))).collect()[0][0]"
   ]
  },
  {
   "cell_type": "code",
   "execution_count": 37,
   "metadata": {
    "collapsed": true
   },
   "outputs": [],
   "source": [
    "af_acousticness_max = df3.select(max(col(\"af_acousticness\"))).collect()[0][0]"
   ]
  },
  {
   "cell_type": "code",
   "execution_count": 38,
   "metadata": {
    "collapsed": true
   },
   "outputs": [],
   "source": [
    "df3_normalized = df3.withColumn(\"af_acousticness_normalized\", (col(\"af_acousticness\") - af_acousticness_min) / (af_acousticness_max - af_acousticness_min))"
   ]
  },
  {
   "cell_type": "code",
   "execution_count": 39,
   "metadata": {},
   "outputs": [
    {
     "name": "stdout",
     "output_type": "stream",
     "text": [
      "+--------------------------+\n",
      "|af_acousticness_normalized|\n",
      "+--------------------------+\n",
      "|       0.18850086573348634|\n",
      "|      0.004335925560629973|\n",
      "|       0.40322051244002977|\n",
      "|        0.5554396047061708|\n",
      "|       0.07660471181599192|\n",
      "|       0.14313756009125886|\n",
      "|       0.08577818029030902|\n",
      "|       0.05634243529579697|\n",
      "|       0.19958967377936418|\n",
      "|       0.10059686013343667|\n",
      "|       0.02458812134623775|\n",
      "|        0.1723716903940277|\n",
      "|       0.13305682550409723|\n",
      "|       0.06783447272516127|\n",
      "|        0.5514073108713061|\n",
      "|       0.11793572362335474|\n",
      "|       0.08648383171141034|\n",
      "|       0.07902408811691071|\n",
      "|        0.1270083847518002|\n",
      "|        0.2580579343849018|\n",
      "+--------------------------+\n",
      "only showing top 20 rows\n",
      "\n"
     ]
    }
   ],
   "source": [
    "df3_normalized.select(\"af_acousticness_normalized\").show()"
   ]
  },
  {
   "cell_type": "code",
   "execution_count": 40,
   "metadata": {
    "collapsed": true
   },
   "outputs": [],
   "source": [
    "#normalize af lousness"
   ]
  },
  {
   "cell_type": "code",
   "execution_count": 41,
   "metadata": {
    "collapsed": true
   },
   "outputs": [],
   "source": [
    "af_loudness_min = df3.select(min(col(\"af_loudness\"))).collect()[0][0]"
   ]
  },
  {
   "cell_type": "code",
   "execution_count": 42,
   "metadata": {
    "collapsed": true
   },
   "outputs": [],
   "source": [
    "af_loudness_max = df3.select(max(col(\"af_loudness\"))).collect()[0][0]"
   ]
  },
  {
   "cell_type": "code",
   "execution_count": 43,
   "metadata": {
    "collapsed": true
   },
   "outputs": [],
   "source": [
    "df3_normalized = df3.withColumn(\"af_loudness_normalized\", (col(\"af_loudness\") - af_loudness_min) / (af_loudness_max - af_loudness_min))"
   ]
  },
  {
   "cell_type": "code",
   "execution_count": 44,
   "metadata": {},
   "outputs": [
    {
     "name": "stdout",
     "output_type": "stream",
     "text": [
      "+----------------------+\n",
      "|af_loudness_normalized|\n",
      "+----------------------+\n",
      "|    0.8639058707873798|\n",
      "|    0.8286074160548063|\n",
      "|    0.8592362753832448|\n",
      "|    0.8196675985376793|\n",
      "|    0.8237534945162974|\n",
      "|    0.8020951737273817|\n",
      "|    0.7334029676507634|\n",
      "|    0.7868575466191514|\n",
      "|    0.8876839421215938|\n",
      "|    0.7483641055574329|\n",
      "|    0.8976375533777764|\n",
      "|    0.9309391416546342|\n",
      "|    0.7728487604067464|\n",
      "|    0.8302356302417745|\n",
      "|    0.8360419034745477|\n",
      "|    0.8475008448281159|\n",
      "|    0.8536757703296365|\n",
      "|    0.7905440693066265|\n",
      "|    0.8250744984793095|\n",
      "|    0.8545666799791096|\n",
      "+----------------------+\n",
      "only showing top 20 rows\n",
      "\n"
     ]
    }
   ],
   "source": [
    "df3_normalized.select(\"af_loudness_normalized\").show()"
   ]
  },
  {
   "cell_type": "code",
   "execution_count": 45,
   "metadata": {
    "collapsed": true
   },
   "outputs": [],
   "source": [
    "from pyspark.sql import SparkSession\n",
    "from pyspark.ml.stat import Correlation\n",
    "import pyspark.sql.functions as f\n",
    "from pyspark.ml.linalg import Vector\n",
    "from pyspark.ml.feature import VectorAssembler\n",
    "from pyspark.ml.evaluation import RegressionEvaluator"
   ]
  },
  {
   "cell_type": "code",
   "execution_count": 46,
   "metadata": {},
   "outputs": [
    {
     "name": "stdout",
     "output_type": "stream",
     "text": [
      "+---+--------------------+----+--------+--------------------+--------------------+---------+------+-------------+-------+--------------------+--------------------+----------+-----------+--------+------------+--------------------+---------------+---------+------+-----------+-------+--------------+---------------+-------------------+-----------+----------+--------+-----------------+----------------+--------------------+--------------------+---------------+---------+----------------------+\n",
      "|_c0|               title|rank|    date|              artist|                 url|   region| chart|        trend|streams|            track_id|               album|popularity|duration_ms|explicit|release_date|   available_markets|af_danceability|af_energy|af_key|af_loudness|af_mode|af_speechiness|af_acousticness|af_instrumentalness|af_liveness|af_valence|af_tempo|af_time_signature|contains_cussing|popularity_increased|popularity_decreased|populairty_same|new_entry|af_loudness_normalized|\n",
      "+---+--------------------+----+--------+--------------------+--------------------+---------+------+-------------+-------+--------------------+--------------------+----------+-----------+--------+------------+--------------------+---------------+---------+------+-----------+-------+--------------+---------------+-------------------+-----------+----------+--------+-----------------+----------------+--------------------+--------------------+---------------+---------+----------------------+\n",
      "|  0|Chantaje (feat. M...|   1|1/1/2017|             Shakira|https://open.spot...|Argentina|top200|SAME_POSITION| 253019|6mICuAdrwEjh6Y6lr...|           El Dorado|        78|     195840|   false|   5/26/2017|['AR', 'AU', 'AT'...|          0.852|    0.773|     8|     -2.921|      0|        0.0776|          0.187|            3.05E-5|      0.159|     0.907| 102.034|                4|               0|                   0|                   0|              1|        0|    0.8639058707873798|\n",
      "|  1|Vente Pa' Ca (fea...|   2|1/1/2017|        Ricky Martin|https://open.spot...|Argentina|top200|      MOVE_UP| 223988|7DM4BPaS7uofFul3y...|Vente Pa' Ca (fea...|        72|     259195|   false|   9/22/2016|['AR', 'AU', 'AT'...|          0.663|     0.92|    11|      -4.07|      0|         0.226|        0.00431|            1.69E-5|      0.101|     0.533|  99.935|                4|               0|                   1|                   0|              0|        0|    0.8286074160548063|\n",
      "|  2|Reggaetón Lento (...|   3|1/1/2017|                CNCO|https://open.spot...|Argentina|top200|    MOVE_DOWN| 210943|3AEZUABDXNtecAOSC...|        Primera Cita|        73|     222560|   false|   8/26/2016|['AR', 'AU', 'AT'...|          0.761|    0.838|     4|     -3.073|      0|        0.0502|            0.4|                0.0|      0.176|      0.71|  93.974|                4|               0|                   0|                   1|              0|        0|    0.8592362753832448|\n",
      "|  3|              Safari|   4|1/1/2017|J Balvin, Pharrel...|https://open.spot...|Argentina|top200|SAME_POSITION| 173865|6rQSrBHf7HlZjtcMZ...|             Energía|         0|     205600|   false|   6/24/2016|                  []|          0.508|    0.687|     0|     -4.361|      1|         0.326|          0.551|            3.41E-6|      0.126|     0.555| 180.044|                4|               0|                   0|                   0|              1|        0|    0.8196675985376793|\n",
      "|  4|         Shaky Shaky|   5|1/1/2017|        Daddy Yankee|https://open.spot...|Argentina|top200|      MOVE_UP| 153956|58IL315gMSTD37DOZ...|         Shaky Shaky|         0|     234320|   false|    4/8/2016|                  []|          0.899|    0.626|     6|     -4.228|      0|         0.292|          0.076|                0.0|     0.0631|     0.873|  88.007|                4|               0|                   1|                   0|              0|        0|    0.8237534945162974|\n",
      "|  5|         Traicionera|   6|1/1/2017|     Sebastian Yatra|https://open.spot...|Argentina|top200|    MOVE_DOWN| 151140|5J1c3M4EldCfNxXwr...|         Traicionera|         0|     228466|   false|   6/24/2016|                  []|          0.776|    0.669|    11|     -4.933|      1|        0.0638|          0.142|                0.0|      0.219|     0.661|  91.012|                4|               0|                   0|                   1|              0|        0|    0.8020951737273817|\n",
      "|  6|Cuando Se Pone a ...|   7|1/1/2017|              Rombai|https://open.spot...|Argentina|top200|    MOVE_DOWN| 148369|1MpKZi1zTXpERKwxm...|Cuando Se Pone a ...|        56|     195274|   false|   12/2/2016|['AR', 'AU', 'AT'...|          0.588|    0.682|    11|     -7.169|      0|         0.173|         0.0851|            2.69E-5|      0.084|     0.937| 205.643|                4|               0|                   0|                   1|              0|        0|    0.7334029676507634|\n",
      "|  7|Otra vez (feat. J...|   8|1/1/2017|       Zion & Lennox|https://open.spot...|Argentina|top200|    MOVE_DOWN| 143004|3QwBODjSEzelZyVjx...|            Motivan2|        74|     209453|   false|   9/30/2016|['AG', 'AM', 'AR'...|          0.832|    0.772|    10|     -5.429|      1|           0.1|         0.0559|            4.86E-4|       0.44|     0.704|  96.016|                4|               0|                   0|                   1|              0|        0|    0.7868575466191514|\n",
      "|  8|        La Bicicleta|   9|1/1/2017|Carlos Vives, Sha...|https://open.spot...|Argentina|top200|      MOVE_UP| 126389|0sXvAOmXgjR2QUqLK...|           El Dorado|        59|     227706|   false|   5/26/2017|['AR', 'AU', 'AT'...|          0.736|    0.964|     0|     -2.147|      1|         0.129|          0.198|            2.32E-6|      0.336|     0.953| 179.935|                4|               0|                   1|                   0|              0|        0|    0.8876839421215938|\n",
      "|  9|Dile Que Tu Me Qu...|  10|1/1/2017|               Ozuna|https://open.spot...|Argentina|top200|    MOVE_DOWN| 112012|20ZAJdsKB5IGbGj4i...|Dile Que Tu Me Qu...|         0|     226400|   false|    6/6/2016|                  []|          0.721|    0.687|     1|     -6.682|      1|        0.0782|         0.0998|                0.0|     0.0679|     0.825| 175.914|                4|               0|                   0|                   1|              0|        0|    0.7483641055574329|\n",
      "| 10|  Andas En Mi Cabeza|  11|1/1/2017|Chino & Nacho, Da...|https://open.spot...|Argentina|top200|SAME_POSITION| 110395|5mey7CLLuFToM2P68...|  Andas En Mi Cabeza|         0|     247493|   false|   2/19/2016|                  []|           0.68|    0.954|     9|     -1.823|      1|         0.119|         0.0244|                0.0|      0.112|     0.521| 104.029|                4|               0|                   0|                   0|              1|        0|    0.8976375533777764|\n",
      "| 11|Desde Esa Noche (...|  12|1/1/2017|              Thalia|https://open.spot...|Argentina|top200|      MOVE_UP| 104592|1pWYnQIlqxTh5bxuP...|              Latina|        66|     227693|   false|    5/6/2016|['AR', 'AU', 'AT'...|           0.78|    0.929|    11|     -0.739|      0|        0.0532|          0.171|                0.0|     0.0677|     0.837|  95.012|                4|               0|                   1|                   0|              0|        0|    0.9309391416546342|\n",
      "| 12|      Borro Cassette|  13|1/1/2017|              Maluma|https://open.spot...|Argentina|top200|      MOVE_UP| 101535|6DUdDIRgLqCGq1Dwk...|Pretty Boy, Dirty...|        80|     207306|   false|  10/30/2015|['AR', 'AU', 'AT'...|           0.73|    0.701|     5|     -5.885|      0|         0.106|          0.132|                0.0|      0.151|     0.785|  175.95|                4|               0|                   1|                   0|              0|        0|    0.7728487604067464|\n",
      "| 13|Gyal You A Party ...|  14|1/1/2017|Charly Black, Dad...|https://open.spot...|Argentina|top200|    MOVE_DOWN|  99722|1AkTW13ysu0AJrwuM...|Gyal You A Party ...|         0|     224320|   false|   10/7/2016|                  []|          0.723|    0.889|     0|     -4.017|      1|        0.0939|         0.0673|                0.0|      0.363|     0.701| 101.032|                4|               0|                   0|                   1|              0|        0|    0.8302356302417745|\n",
      "| 14|Me llamas (feat. ...|  15|1/1/2017|             Piso 21|https://open.spot...|Argentina|top200|    MOVE_DOWN|  95010|5hEM0JchdVzQ5PwvS...|Me Llamas (feat. ...|        69|     210322|   false|   12/2/2016|['AR', 'AU', 'AT'...|           0.76|    0.838|     7|     -3.828|      0|        0.0529|          0.547|             1.3E-6|     0.0664|     0.745|   93.05|                4|               0|                   0|                   1|              0|        0|    0.8360419034745477|\n",
      "| 15|La Bicicleta (fea...|  16|1/1/2017|Carlos Vives, Sha...|https://open.spot...|Argentina|top200|      MOVE_UP|  92723|7IRuf7FrdQvOGs0g9...|La Bicicleta (fea...|        48|     254069|   false|   8/19/2016|['AR', 'AU', 'AT'...|          0.598|    0.917|     0|     -3.455|      1|         0.159|          0.117|                0.0|      0.398|     0.575| 180.049|                4|               0|                   1|                   0|              0|        0|    0.8475008448281159|\n",
      "| 16|DUELE EL CORAZON ...|  17|1/1/2017|    Enrique Iglesias|https://open.spot...|Argentina|top200|      MOVE_UP|  91325|6YZdkObH88npeKrrk...|DUELE EL CORAZON ...|        69|     199693|   false|   4/18/2016|['AR', 'AU', 'AT'...|          0.716|    0.908|     8|     -3.254|      0|         0.103|         0.0858|                0.0|      0.135|     0.869|   91.03|                4|               0|                   1|                   0|              0|        0|    0.8536757703296365|\n",
      "| 17|     Let Me Love You|  18|1/1/2017|DJ Snake, Justin ...|https://open.spot...|Argentina|top200|    MOVE_DOWN|  87926|4pdPtRcBmOSQDlJ3F...|              Encore|         2|     205946|   false|    8/5/2016|                  []|          0.476|    0.718|     8|     -5.309|      1|        0.0576|         0.0784|            1.02E-5|      0.122|     0.142| 199.864|                4|               0|                   0|                   1|              0|        0|    0.7905440693066265|\n",
      "| 18|La Noche No Es pa...|  19|1/1/2017|         Mano Arriba|https://open.spot...|Argentina|top200|SAME_POSITION|  87033|3gEebOzxHpEwElicl...|La Noche No Es pa...|         0|     199495|   false|   3/11/2016|                  []|          0.549|    0.798|     6|     -4.185|      1|        0.0705|          0.126|                0.0|      0.329|     0.905| 100.054|                4|               0|                   0|                   0|              1|        0|    0.8250744984793095|\n",
      "| 19|          Vacaciones|  20|1/1/2017|               Wisin|https://open.spot...|Argentina|top200|    MOVE_DOWN|  86103|3dQDid3IUNhZy1Oeh...|          Vacaciones|         0|     238800|   false|   9/30/2016|                  []|          0.772|    0.909|     6|     -3.225|      0|         0.166|          0.256|                0.0|      0.255|     0.694|  96.031|                4|               0|                   0|                   1|              0|        0|    0.8545666799791096|\n",
      "+---+--------------------+----+--------+--------------------+--------------------+---------+------+-------------+-------+--------------------+--------------------+----------+-----------+--------+------------+--------------------+---------------+---------+------+-----------+-------+--------------+---------------+-------------------+-----------+----------+--------+-----------------+----------------+--------------------+--------------------+---------------+---------+----------------------+\n",
      "only showing top 20 rows\n",
      "\n"
     ]
    }
   ],
   "source": [
    "df3_normalized.show()"
   ]
  },
  {
   "cell_type": "code",
   "execution_count": 57,
   "metadata": {
    "collapsed": true
   },
   "outputs": [],
   "source": [
    "#run a random forest classification model to determine the accuracy of whether a song contains profanity based on input variables"
   ]
  },
  {
   "cell_type": "code",
   "execution_count": 47,
   "metadata": {
    "collapsed": true
   },
   "outputs": [],
   "source": [
    "classification = df3_normalized.select(\"af_danceability\", \"af_energy\", \"af_loudness\", \"af_speechiness\", \"af_acousticness\", \"af_liveness\", \"af_valence\", \"af_tempo\", \"contains_cussing\")"
   ]
  },
  {
   "cell_type": "code",
   "execution_count": 48,
   "metadata": {},
   "outputs": [
    {
     "name": "stdout",
     "output_type": "stream",
     "text": [
      "+---------------+---------+-----------+--------------+---------------+-----------+----------+--------+----------------+\n",
      "|af_danceability|af_energy|af_loudness|af_speechiness|af_acousticness|af_liveness|af_valence|af_tempo|contains_cussing|\n",
      "+---------------+---------+-----------+--------------+---------------+-----------+----------+--------+----------------+\n",
      "|          0.852|    0.773|     -2.921|        0.0776|          0.187|      0.159|     0.907| 102.034|               0|\n",
      "|          0.663|     0.92|      -4.07|         0.226|        0.00431|      0.101|     0.533|  99.935|               0|\n",
      "|          0.761|    0.838|     -3.073|        0.0502|            0.4|      0.176|      0.71|  93.974|               0|\n",
      "|          0.508|    0.687|     -4.361|         0.326|          0.551|      0.126|     0.555| 180.044|               0|\n",
      "|          0.899|    0.626|     -4.228|         0.292|          0.076|     0.0631|     0.873|  88.007|               0|\n",
      "|          0.776|    0.669|     -4.933|        0.0638|          0.142|      0.219|     0.661|  91.012|               0|\n",
      "|          0.588|    0.682|     -7.169|         0.173|         0.0851|      0.084|     0.937| 205.643|               0|\n",
      "|          0.832|    0.772|     -5.429|           0.1|         0.0559|       0.44|     0.704|  96.016|               0|\n",
      "|          0.736|    0.964|     -2.147|         0.129|          0.198|      0.336|     0.953| 179.935|               0|\n",
      "|          0.721|    0.687|     -6.682|        0.0782|         0.0998|     0.0679|     0.825| 175.914|               0|\n",
      "|           0.68|    0.954|     -1.823|         0.119|         0.0244|      0.112|     0.521| 104.029|               0|\n",
      "|           0.78|    0.929|     -0.739|        0.0532|          0.171|     0.0677|     0.837|  95.012|               0|\n",
      "|           0.73|    0.701|     -5.885|         0.106|          0.132|      0.151|     0.785|  175.95|               0|\n",
      "|          0.723|    0.889|     -4.017|        0.0939|         0.0673|      0.363|     0.701| 101.032|               0|\n",
      "|           0.76|    0.838|     -3.828|        0.0529|          0.547|     0.0664|     0.745|   93.05|               0|\n",
      "|          0.598|    0.917|     -3.455|         0.159|          0.117|      0.398|     0.575| 180.049|               0|\n",
      "|          0.716|    0.908|     -3.254|         0.103|         0.0858|      0.135|     0.869|   91.03|               0|\n",
      "|          0.476|    0.718|     -5.309|        0.0576|         0.0784|      0.122|     0.142| 199.864|               0|\n",
      "|          0.549|    0.798|     -4.185|        0.0705|          0.126|      0.329|     0.905| 100.054|               0|\n",
      "|          0.772|    0.909|     -3.225|         0.166|          0.256|      0.255|     0.694|  96.031|               0|\n",
      "+---------------+---------+-----------+--------------+---------------+-----------+----------+--------+----------------+\n",
      "only showing top 20 rows\n",
      "\n"
     ]
    }
   ],
   "source": [
    "classification.show()"
   ]
  },
  {
   "cell_type": "code",
   "execution_count": 49,
   "metadata": {
    "collapsed": true
   },
   "outputs": [],
   "source": [
    "required_features = [\"af_danceability\", \"af_energy\", \"af_loudness\", \"af_speechiness\", \"af_acousticness\", \"af_liveness\", \"af_valence\", \"af_tempo\"]"
   ]
  },
  {
   "cell_type": "code",
   "execution_count": 50,
   "metadata": {
    "collapsed": true
   },
   "outputs": [],
   "source": [
    "from pyspark.ml.feature import VectorAssembler"
   ]
  },
  {
   "cell_type": "code",
   "execution_count": 51,
   "metadata": {
    "collapsed": true
   },
   "outputs": [],
   "source": [
    "assembler = VectorAssembler(inputCols=required_features, outputCol=\"features\")"
   ]
  },
  {
   "cell_type": "code",
   "execution_count": 52,
   "metadata": {
    "collapsed": true
   },
   "outputs": [],
   "source": [
    "transformed_data = assembler.transform(classification) "
   ]
  },
  {
   "cell_type": "code",
   "execution_count": 53,
   "metadata": {},
   "outputs": [
    {
     "name": "stdout",
     "output_type": "stream",
     "text": [
      "+---------------+---------+-----------+--------------+---------------+-----------+----------+--------+----------------+--------------------+\n",
      "|af_danceability|af_energy|af_loudness|af_speechiness|af_acousticness|af_liveness|af_valence|af_tempo|contains_cussing|            features|\n",
      "+---------------+---------+-----------+--------------+---------------+-----------+----------+--------+----------------+--------------------+\n",
      "|          0.852|    0.773|     -2.921|        0.0776|          0.187|      0.159|     0.907| 102.034|               0|[0.852,0.773,-2.9...|\n",
      "|          0.663|     0.92|      -4.07|         0.226|        0.00431|      0.101|     0.533|  99.935|               0|[0.663,0.92,-4.07...|\n",
      "|          0.761|    0.838|     -3.073|        0.0502|            0.4|      0.176|      0.71|  93.974|               0|[0.761,0.838,-3.0...|\n",
      "|          0.508|    0.687|     -4.361|         0.326|          0.551|      0.126|     0.555| 180.044|               0|[0.508,0.687,-4.3...|\n",
      "|          0.899|    0.626|     -4.228|         0.292|          0.076|     0.0631|     0.873|  88.007|               0|[0.899,0.626,-4.2...|\n",
      "|          0.776|    0.669|     -4.933|        0.0638|          0.142|      0.219|     0.661|  91.012|               0|[0.776,0.669,-4.9...|\n",
      "|          0.588|    0.682|     -7.169|         0.173|         0.0851|      0.084|     0.937| 205.643|               0|[0.588,0.682,-7.1...|\n",
      "|          0.832|    0.772|     -5.429|           0.1|         0.0559|       0.44|     0.704|  96.016|               0|[0.832,0.772,-5.4...|\n",
      "|          0.736|    0.964|     -2.147|         0.129|          0.198|      0.336|     0.953| 179.935|               0|[0.736,0.964,-2.1...|\n",
      "|          0.721|    0.687|     -6.682|        0.0782|         0.0998|     0.0679|     0.825| 175.914|               0|[0.721,0.687,-6.6...|\n",
      "|           0.68|    0.954|     -1.823|         0.119|         0.0244|      0.112|     0.521| 104.029|               0|[0.68,0.954,-1.82...|\n",
      "|           0.78|    0.929|     -0.739|        0.0532|          0.171|     0.0677|     0.837|  95.012|               0|[0.78,0.929,-0.73...|\n",
      "|           0.73|    0.701|     -5.885|         0.106|          0.132|      0.151|     0.785|  175.95|               0|[0.73,0.701,-5.88...|\n",
      "|          0.723|    0.889|     -4.017|        0.0939|         0.0673|      0.363|     0.701| 101.032|               0|[0.723,0.889,-4.0...|\n",
      "|           0.76|    0.838|     -3.828|        0.0529|          0.547|     0.0664|     0.745|   93.05|               0|[0.76,0.838,-3.82...|\n",
      "|          0.598|    0.917|     -3.455|         0.159|          0.117|      0.398|     0.575| 180.049|               0|[0.598,0.917,-3.4...|\n",
      "|          0.716|    0.908|     -3.254|         0.103|         0.0858|      0.135|     0.869|   91.03|               0|[0.716,0.908,-3.2...|\n",
      "|          0.476|    0.718|     -5.309|        0.0576|         0.0784|      0.122|     0.142| 199.864|               0|[0.476,0.718,-5.3...|\n",
      "|          0.549|    0.798|     -4.185|        0.0705|          0.126|      0.329|     0.905| 100.054|               0|[0.549,0.798,-4.1...|\n",
      "|          0.772|    0.909|     -3.225|         0.166|          0.256|      0.255|     0.694|  96.031|               0|[0.772,0.909,-3.2...|\n",
      "+---------------+---------+-----------+--------------+---------------+-----------+----------+--------+----------------+--------------------+\n",
      "only showing top 20 rows\n",
      "\n"
     ]
    }
   ],
   "source": [
    "transformed_data.show()"
   ]
  },
  {
   "cell_type": "code",
   "execution_count": 54,
   "metadata": {
    "collapsed": true
   },
   "outputs": [],
   "source": [
    "(training_data, test_data) = transformed_data.randomSplit([0.75, 0.25])"
   ]
  },
  {
   "cell_type": "code",
   "execution_count": 55,
   "metadata": {},
   "outputs": [
    {
     "data": {
      "text/plain": [
       "DataFrame[af_danceability: double, af_energy: double, af_loudness: double, af_speechiness: double, af_acousticness: double, af_liveness: double, af_valence: double, af_tempo: double, contains_cussing: int, features: vector]"
      ]
     },
     "execution_count": 55,
     "metadata": {},
     "output_type": "execute_result"
    }
   ],
   "source": [
    "training_data"
   ]
  },
  {
   "cell_type": "code",
   "execution_count": 56,
   "metadata": {},
   "outputs": [
    {
     "data": {
      "text/plain": [
       "DataFrame[af_danceability: double, af_energy: double, af_loudness: double, af_speechiness: double, af_acousticness: double, af_liveness: double, af_valence: double, af_tempo: double, contains_cussing: int, features: vector]"
      ]
     },
     "execution_count": 56,
     "metadata": {},
     "output_type": "execute_result"
    }
   ],
   "source": [
    "test_data"
   ]
  },
  {
   "cell_type": "code",
   "execution_count": 57,
   "metadata": {
    "collapsed": true
   },
   "outputs": [],
   "source": [
    "from pyspark.ml.classification import RandomForestClassifier\n",
    "rf = RandomForestClassifier(labelCol=\"contains_cussing\", featuresCol=\"features\", maxDepth=5)"
   ]
  },
  {
   "cell_type": "code",
   "execution_count": 58,
   "metadata": {
    "collapsed": true
   },
   "outputs": [],
   "source": [
    "model = rf.fit(training_data)"
   ]
  },
  {
   "cell_type": "code",
   "execution_count": 59,
   "metadata": {
    "collapsed": true
   },
   "outputs": [],
   "source": [
    "rf_predictions = model.transform(test_data)"
   ]
  },
  {
   "cell_type": "code",
   "execution_count": 60,
   "metadata": {},
   "outputs": [
    {
     "name": "stdout",
     "output_type": "stream",
     "text": [
      "Random Forest classifier Accuracy: 0.8302329160216894\n"
     ]
    }
   ],
   "source": [
    "from pyspark.ml.evaluation import MulticlassClassificationEvaluator \n",
    "multi_evaluator = MulticlassClassificationEvaluator(labelCol=\"contains_cussing\", metricName=\"accuracy\")\n",
    "print(\"Random Forest classifier Accuracy:\", multi_evaluator.evaluate(rf_predictions))"
   ]
  },
  {
   "cell_type": "code",
   "execution_count": null,
   "metadata": {
    "collapsed": true
   },
   "outputs": [],
   "source": [
    "#the random forest accuracy classifier for contain cussing returns with an accuracy of 83.0% "
   ]
  },
  {
   "cell_type": "code",
   "execution_count": 73,
   "metadata": {
    "collapsed": true
   },
   "outputs": [],
   "source": [
    "#run a random classification model to determine the accuracy of whether the song increased in popularity "
   ]
  },
  {
   "cell_type": "code",
   "execution_count": 61,
   "metadata": {},
   "outputs": [
    {
     "name": "stdout",
     "output_type": "stream",
     "text": [
      "+---+--------------------+----+--------+--------------------+--------------------+---------+------+-------------+-------+--------------------+--------------------+----------+-----------+--------+------------+--------------------+---------------+---------+------+-----------+-------+--------------+---------------+-------------------+-----------+----------+--------+-----------------+----------------+--------------------+--------------------+---------------+---------+----------------------+\n",
      "|_c0|               title|rank|    date|              artist|                 url|   region| chart|        trend|streams|            track_id|               album|popularity|duration_ms|explicit|release_date|   available_markets|af_danceability|af_energy|af_key|af_loudness|af_mode|af_speechiness|af_acousticness|af_instrumentalness|af_liveness|af_valence|af_tempo|af_time_signature|contains_cussing|popularity_increased|popularity_decreased|populairty_same|new_entry|af_loudness_normalized|\n",
      "+---+--------------------+----+--------+--------------------+--------------------+---------+------+-------------+-------+--------------------+--------------------+----------+-----------+--------+------------+--------------------+---------------+---------+------+-----------+-------+--------------+---------------+-------------------+-----------+----------+--------+-----------------+----------------+--------------------+--------------------+---------------+---------+----------------------+\n",
      "|  0|Chantaje (feat. M...|   1|1/1/2017|             Shakira|https://open.spot...|Argentina|top200|SAME_POSITION| 253019|6mICuAdrwEjh6Y6lr...|           El Dorado|        78|     195840|   false|   5/26/2017|['AR', 'AU', 'AT'...|          0.852|    0.773|     8|     -2.921|      0|        0.0776|          0.187|            3.05E-5|      0.159|     0.907| 102.034|                4|               0|                   0|                   0|              1|        0|    0.8639058707873798|\n",
      "|  1|Vente Pa' Ca (fea...|   2|1/1/2017|        Ricky Martin|https://open.spot...|Argentina|top200|      MOVE_UP| 223988|7DM4BPaS7uofFul3y...|Vente Pa' Ca (fea...|        72|     259195|   false|   9/22/2016|['AR', 'AU', 'AT'...|          0.663|     0.92|    11|      -4.07|      0|         0.226|        0.00431|            1.69E-5|      0.101|     0.533|  99.935|                4|               0|                   1|                   0|              0|        0|    0.8286074160548063|\n",
      "|  2|Reggaetón Lento (...|   3|1/1/2017|                CNCO|https://open.spot...|Argentina|top200|    MOVE_DOWN| 210943|3AEZUABDXNtecAOSC...|        Primera Cita|        73|     222560|   false|   8/26/2016|['AR', 'AU', 'AT'...|          0.761|    0.838|     4|     -3.073|      0|        0.0502|            0.4|                0.0|      0.176|      0.71|  93.974|                4|               0|                   0|                   1|              0|        0|    0.8592362753832448|\n",
      "|  3|              Safari|   4|1/1/2017|J Balvin, Pharrel...|https://open.spot...|Argentina|top200|SAME_POSITION| 173865|6rQSrBHf7HlZjtcMZ...|             Energía|         0|     205600|   false|   6/24/2016|                  []|          0.508|    0.687|     0|     -4.361|      1|         0.326|          0.551|            3.41E-6|      0.126|     0.555| 180.044|                4|               0|                   0|                   0|              1|        0|    0.8196675985376793|\n",
      "|  4|         Shaky Shaky|   5|1/1/2017|        Daddy Yankee|https://open.spot...|Argentina|top200|      MOVE_UP| 153956|58IL315gMSTD37DOZ...|         Shaky Shaky|         0|     234320|   false|    4/8/2016|                  []|          0.899|    0.626|     6|     -4.228|      0|         0.292|          0.076|                0.0|     0.0631|     0.873|  88.007|                4|               0|                   1|                   0|              0|        0|    0.8237534945162974|\n",
      "|  5|         Traicionera|   6|1/1/2017|     Sebastian Yatra|https://open.spot...|Argentina|top200|    MOVE_DOWN| 151140|5J1c3M4EldCfNxXwr...|         Traicionera|         0|     228466|   false|   6/24/2016|                  []|          0.776|    0.669|    11|     -4.933|      1|        0.0638|          0.142|                0.0|      0.219|     0.661|  91.012|                4|               0|                   0|                   1|              0|        0|    0.8020951737273817|\n",
      "|  6|Cuando Se Pone a ...|   7|1/1/2017|              Rombai|https://open.spot...|Argentina|top200|    MOVE_DOWN| 148369|1MpKZi1zTXpERKwxm...|Cuando Se Pone a ...|        56|     195274|   false|   12/2/2016|['AR', 'AU', 'AT'...|          0.588|    0.682|    11|     -7.169|      0|         0.173|         0.0851|            2.69E-5|      0.084|     0.937| 205.643|                4|               0|                   0|                   1|              0|        0|    0.7334029676507634|\n",
      "|  7|Otra vez (feat. J...|   8|1/1/2017|       Zion & Lennox|https://open.spot...|Argentina|top200|    MOVE_DOWN| 143004|3QwBODjSEzelZyVjx...|            Motivan2|        74|     209453|   false|   9/30/2016|['AG', 'AM', 'AR'...|          0.832|    0.772|    10|     -5.429|      1|           0.1|         0.0559|            4.86E-4|       0.44|     0.704|  96.016|                4|               0|                   0|                   1|              0|        0|    0.7868575466191514|\n",
      "|  8|        La Bicicleta|   9|1/1/2017|Carlos Vives, Sha...|https://open.spot...|Argentina|top200|      MOVE_UP| 126389|0sXvAOmXgjR2QUqLK...|           El Dorado|        59|     227706|   false|   5/26/2017|['AR', 'AU', 'AT'...|          0.736|    0.964|     0|     -2.147|      1|         0.129|          0.198|            2.32E-6|      0.336|     0.953| 179.935|                4|               0|                   1|                   0|              0|        0|    0.8876839421215938|\n",
      "|  9|Dile Que Tu Me Qu...|  10|1/1/2017|               Ozuna|https://open.spot...|Argentina|top200|    MOVE_DOWN| 112012|20ZAJdsKB5IGbGj4i...|Dile Que Tu Me Qu...|         0|     226400|   false|    6/6/2016|                  []|          0.721|    0.687|     1|     -6.682|      1|        0.0782|         0.0998|                0.0|     0.0679|     0.825| 175.914|                4|               0|                   0|                   1|              0|        0|    0.7483641055574329|\n",
      "| 10|  Andas En Mi Cabeza|  11|1/1/2017|Chino & Nacho, Da...|https://open.spot...|Argentina|top200|SAME_POSITION| 110395|5mey7CLLuFToM2P68...|  Andas En Mi Cabeza|         0|     247493|   false|   2/19/2016|                  []|           0.68|    0.954|     9|     -1.823|      1|         0.119|         0.0244|                0.0|      0.112|     0.521| 104.029|                4|               0|                   0|                   0|              1|        0|    0.8976375533777764|\n",
      "| 11|Desde Esa Noche (...|  12|1/1/2017|              Thalia|https://open.spot...|Argentina|top200|      MOVE_UP| 104592|1pWYnQIlqxTh5bxuP...|              Latina|        66|     227693|   false|    5/6/2016|['AR', 'AU', 'AT'...|           0.78|    0.929|    11|     -0.739|      0|        0.0532|          0.171|                0.0|     0.0677|     0.837|  95.012|                4|               0|                   1|                   0|              0|        0|    0.9309391416546342|\n",
      "| 12|      Borro Cassette|  13|1/1/2017|              Maluma|https://open.spot...|Argentina|top200|      MOVE_UP| 101535|6DUdDIRgLqCGq1Dwk...|Pretty Boy, Dirty...|        80|     207306|   false|  10/30/2015|['AR', 'AU', 'AT'...|           0.73|    0.701|     5|     -5.885|      0|         0.106|          0.132|                0.0|      0.151|     0.785|  175.95|                4|               0|                   1|                   0|              0|        0|    0.7728487604067464|\n",
      "| 13|Gyal You A Party ...|  14|1/1/2017|Charly Black, Dad...|https://open.spot...|Argentina|top200|    MOVE_DOWN|  99722|1AkTW13ysu0AJrwuM...|Gyal You A Party ...|         0|     224320|   false|   10/7/2016|                  []|          0.723|    0.889|     0|     -4.017|      1|        0.0939|         0.0673|                0.0|      0.363|     0.701| 101.032|                4|               0|                   0|                   1|              0|        0|    0.8302356302417745|\n",
      "| 14|Me llamas (feat. ...|  15|1/1/2017|             Piso 21|https://open.spot...|Argentina|top200|    MOVE_DOWN|  95010|5hEM0JchdVzQ5PwvS...|Me Llamas (feat. ...|        69|     210322|   false|   12/2/2016|['AR', 'AU', 'AT'...|           0.76|    0.838|     7|     -3.828|      0|        0.0529|          0.547|             1.3E-6|     0.0664|     0.745|   93.05|                4|               0|                   0|                   1|              0|        0|    0.8360419034745477|\n",
      "| 15|La Bicicleta (fea...|  16|1/1/2017|Carlos Vives, Sha...|https://open.spot...|Argentina|top200|      MOVE_UP|  92723|7IRuf7FrdQvOGs0g9...|La Bicicleta (fea...|        48|     254069|   false|   8/19/2016|['AR', 'AU', 'AT'...|          0.598|    0.917|     0|     -3.455|      1|         0.159|          0.117|                0.0|      0.398|     0.575| 180.049|                4|               0|                   1|                   0|              0|        0|    0.8475008448281159|\n",
      "| 16|DUELE EL CORAZON ...|  17|1/1/2017|    Enrique Iglesias|https://open.spot...|Argentina|top200|      MOVE_UP|  91325|6YZdkObH88npeKrrk...|DUELE EL CORAZON ...|        69|     199693|   false|   4/18/2016|['AR', 'AU', 'AT'...|          0.716|    0.908|     8|     -3.254|      0|         0.103|         0.0858|                0.0|      0.135|     0.869|   91.03|                4|               0|                   1|                   0|              0|        0|    0.8536757703296365|\n",
      "| 17|     Let Me Love You|  18|1/1/2017|DJ Snake, Justin ...|https://open.spot...|Argentina|top200|    MOVE_DOWN|  87926|4pdPtRcBmOSQDlJ3F...|              Encore|         2|     205946|   false|    8/5/2016|                  []|          0.476|    0.718|     8|     -5.309|      1|        0.0576|         0.0784|            1.02E-5|      0.122|     0.142| 199.864|                4|               0|                   0|                   1|              0|        0|    0.7905440693066265|\n",
      "| 18|La Noche No Es pa...|  19|1/1/2017|         Mano Arriba|https://open.spot...|Argentina|top200|SAME_POSITION|  87033|3gEebOzxHpEwElicl...|La Noche No Es pa...|         0|     199495|   false|   3/11/2016|                  []|          0.549|    0.798|     6|     -4.185|      1|        0.0705|          0.126|                0.0|      0.329|     0.905| 100.054|                4|               0|                   0|                   0|              1|        0|    0.8250744984793095|\n",
      "| 19|          Vacaciones|  20|1/1/2017|               Wisin|https://open.spot...|Argentina|top200|    MOVE_DOWN|  86103|3dQDid3IUNhZy1Oeh...|          Vacaciones|         0|     238800|   false|   9/30/2016|                  []|          0.772|    0.909|     6|     -3.225|      0|         0.166|          0.256|                0.0|      0.255|     0.694|  96.031|                4|               0|                   0|                   1|              0|        0|    0.8545666799791096|\n",
      "+---+--------------------+----+--------+--------------------+--------------------+---------+------+-------------+-------+--------------------+--------------------+----------+-----------+--------+------------+--------------------+---------------+---------+------+-----------+-------+--------------+---------------+-------------------+-----------+----------+--------+-----------------+----------------+--------------------+--------------------+---------------+---------+----------------------+\n",
      "only showing top 20 rows\n",
      "\n"
     ]
    }
   ],
   "source": [
    "df3_normalized.show()"
   ]
  },
  {
   "cell_type": "code",
   "execution_count": 62,
   "metadata": {
    "collapsed": true
   },
   "outputs": [],
   "source": [
    "classification1 = df3_normalized.select(\"af_danceability\", \"af_energy\", \"af_loudness\", \"af_speechiness\", \"af_acousticness\", \"af_liveness\", \"af_valence\", \"af_tempo\", \"popularity_increased\")"
   ]
  },
  {
   "cell_type": "code",
   "execution_count": 63,
   "metadata": {
    "collapsed": true
   },
   "outputs": [],
   "source": [
    "required_features = [\"af_danceability\", \"af_energy\", \"af_loudness\", \"af_speechiness\", \"af_acousticness\", \"af_liveness\", \"af_valence\", \"af_tempo\"]"
   ]
  },
  {
   "cell_type": "code",
   "execution_count": 64,
   "metadata": {
    "collapsed": true
   },
   "outputs": [],
   "source": [
    "from pyspark.ml.feature import VectorAssembler "
   ]
  },
  {
   "cell_type": "code",
   "execution_count": 65,
   "metadata": {
    "collapsed": true
   },
   "outputs": [],
   "source": [
    "assembler = VectorAssembler(inputCols=required_features, outputCol=\"features\")"
   ]
  },
  {
   "cell_type": "code",
   "execution_count": 66,
   "metadata": {
    "collapsed": true
   },
   "outputs": [],
   "source": [
    "transformed_data = assembler.transform(classification1)"
   ]
  },
  {
   "cell_type": "code",
   "execution_count": 67,
   "metadata": {
    "collapsed": true
   },
   "outputs": [],
   "source": [
    "(training_data, test_data) = transformed_data.randomSplit([0.75, 0.25])"
   ]
  },
  {
   "cell_type": "code",
   "execution_count": 68,
   "metadata": {
    "collapsed": true
   },
   "outputs": [],
   "source": [
    "from pyspark.ml.classification import RandomForestClassifier \n",
    "rf = RandomForestClassifier(labelCol=\"popularity_increased\", featuresCol=\"features\", maxDepth=5)"
   ]
  },
  {
   "cell_type": "code",
   "execution_count": 69,
   "metadata": {
    "collapsed": true
   },
   "outputs": [],
   "source": [
    "model = rf.fit(training_data)"
   ]
  },
  {
   "cell_type": "code",
   "execution_count": 70,
   "metadata": {
    "collapsed": true
   },
   "outputs": [],
   "source": [
    "rf_predictions = model.transform(test_data)"
   ]
  },
  {
   "cell_type": "code",
   "execution_count": 71,
   "metadata": {},
   "outputs": [
    {
     "name": "stdout",
     "output_type": "stream",
     "text": [
      "Random Forest Classifier Accuracy: 0.6153685443983704\n"
     ]
    }
   ],
   "source": [
    "from pyspark.ml.evaluation import MulticlassClassificationEvaluator\n",
    "multi_evaluator = MulticlassClassificationEvaluator(labelCol=\"popularity_increased\", metricName=\"accuracy\")\n",
    "print(\"Random Forest Classifier Accuracy:\", multi_evaluator.evaluate(rf_predictions))"
   ]
  },
  {
   "cell_type": "code",
   "execution_count": 72,
   "metadata": {
    "collapsed": true
   },
   "outputs": [],
   "source": [
    "#the random forest classifier to predict whether the song's popularity increased returned an accuracy score of 61.5%"
   ]
  },
  {
   "cell_type": "code",
   "execution_count": 73,
   "metadata": {
    "collapsed": true
   },
   "outputs": [],
   "source": [
    "#run a classification model for popularity decreased "
   ]
  },
  {
   "cell_type": "code",
   "execution_count": 74,
   "metadata": {
    "collapsed": true
   },
   "outputs": [],
   "source": [
    "classification2 = df3_normalized.select(\"af_danceability\", \"af_energy\", \"af_loudness\", \"af_speechiness\", \"af_acousticness\", \"af_liveness\", \"af_valence\", \"af_tempo\", \"popularity_decreased\")"
   ]
  },
  {
   "cell_type": "code",
   "execution_count": 75,
   "metadata": {
    "collapsed": true
   },
   "outputs": [],
   "source": [
    "required_features = [\"af_danceability\", \"af_energy\", \"af_loudness\", \"af_speechiness\", \"af_acousticness\", \"af_liveness\", \"af_valence\", \"af_tempo\"]"
   ]
  },
  {
   "cell_type": "code",
   "execution_count": 76,
   "metadata": {
    "collapsed": true
   },
   "outputs": [],
   "source": [
    "from pyspark.ml.feature import VectorAssembler \n",
    "assembler = VectorAssembler(inputCols=required_features, outputCol=\"features\")\n",
    "transformed_data = assembler.transform(classification2)"
   ]
  },
  {
   "cell_type": "code",
   "execution_count": 77,
   "metadata": {
    "collapsed": true
   },
   "outputs": [],
   "source": [
    "(training_data, test_data) = transformed_data.randomSplit([0.75, 0.25]) "
   ]
  },
  {
   "cell_type": "code",
   "execution_count": 78,
   "metadata": {
    "collapsed": true
   },
   "outputs": [],
   "source": [
    "from pyspark.ml.classification import RandomForestClassifier\n",
    "rf = RandomForestClassifier(labelCol=\"popularity_decreased\", featuresCol=\"features\", maxDepth=5)"
   ]
  },
  {
   "cell_type": "code",
   "execution_count": 79,
   "metadata": {
    "collapsed": true
   },
   "outputs": [],
   "source": [
    "model = rf.fit(training_data)"
   ]
  },
  {
   "cell_type": "code",
   "execution_count": 80,
   "metadata": {
    "collapsed": true
   },
   "outputs": [],
   "source": [
    "rf_predictions = model.transform(test_data) "
   ]
  },
  {
   "cell_type": "code",
   "execution_count": 81,
   "metadata": {},
   "outputs": [
    {
     "name": "stdout",
     "output_type": "stream",
     "text": [
      "Random Forest classifier Accuracy: 0.5590233005829686\n"
     ]
    }
   ],
   "source": [
    "from pyspark.ml.evaluation import MulticlassClassificationEvaluator\n",
    "multi_evaluator = MulticlassClassificationEvaluator(labelCol=\"popularity_decreased\", metricName=\"accuracy\")\n",
    "print(\"Random Forest classifier Accuracy:\", multi_evaluator.evaluate(rf_predictions))"
   ]
  },
  {
   "cell_type": "code",
   "execution_count": 82,
   "metadata": {
    "collapsed": true
   },
   "outputs": [],
   "source": [
    "#the accuracy score for whether a song's popularity decreased is 55.9% "
   ]
  },
  {
   "cell_type": "code",
   "execution_count": 83,
   "metadata": {
    "collapsed": true
   },
   "outputs": [],
   "source": [
    "#run a classification to predict if the populairty for the song remains the same "
   ]
  },
  {
   "cell_type": "code",
   "execution_count": 84,
   "metadata": {
    "collapsed": true
   },
   "outputs": [],
   "source": [
    "classification3 = df3_normalized.select(\"af_danceability\", \"af_energy\", \"af_loudness\", \"af_speechiness\", \"af_acousticness\", \"af_liveness\", \"af_valence\", \"af_tempo\", \"populairty_same\")"
   ]
  },
  {
   "cell_type": "code",
   "execution_count": 85,
   "metadata": {
    "collapsed": true
   },
   "outputs": [],
   "source": [
    "required_features = [\"af_danceability\", \"af_energy\", \"af_loudness\", \"af_speechiness\", \"af_acousticness\", \"af_liveness\", \"af_valence\", \"af_tempo\"]"
   ]
  },
  {
   "cell_type": "code",
   "execution_count": 86,
   "metadata": {
    "collapsed": true
   },
   "outputs": [],
   "source": [
    "from pyspark.ml.feature import VectorAssembler \n",
    "assembler = VectorAssembler(inputCols=required_features, outputCol=\"features\")\n",
    "transformed_data = assembler.transform(classification3)"
   ]
  },
  {
   "cell_type": "code",
   "execution_count": 87,
   "metadata": {
    "collapsed": true
   },
   "outputs": [],
   "source": [
    "(training_data, test_data) = transformed_data.randomSplit([0.75, 0.25])"
   ]
  },
  {
   "cell_type": "code",
   "execution_count": 88,
   "metadata": {
    "collapsed": true
   },
   "outputs": [],
   "source": [
    "from pyspark.ml.classification import RandomForestClassifier\n",
    "rf = RandomForestClassifier(labelCol=\"populairty_same\", featuresCol=\"features\", maxDepth=5)"
   ]
  },
  {
   "cell_type": "code",
   "execution_count": 89,
   "metadata": {
    "collapsed": true
   },
   "outputs": [],
   "source": [
    "model = rf.fit(training_data)"
   ]
  },
  {
   "cell_type": "code",
   "execution_count": 90,
   "metadata": {
    "collapsed": true
   },
   "outputs": [],
   "source": [
    "rf_predictions = model.transform(test_data)"
   ]
  },
  {
   "cell_type": "code",
   "execution_count": 91,
   "metadata": {},
   "outputs": [
    {
     "name": "stdout",
     "output_type": "stream",
     "text": [
      "Random Forest classifier Accuracy: 0.8846118924612074\n"
     ]
    }
   ],
   "source": [
    "from pyspark.ml.evaluation import MulticlassClassificationEvaluator\n",
    "multi_evaluator = MulticlassClassificationEvaluator(labelCol=\"populairty_same\", metricName=\"accuracy\")\n",
    "print(\"Random Forest classifier Accuracy:\", multi_evaluator.evaluate(rf_predictions))"
   ]
  },
  {
   "cell_type": "code",
   "execution_count": 92,
   "metadata": {
    "collapsed": true
   },
   "outputs": [],
   "source": [
    "#the random forest classifier for whether the same popularity remains the same is 88.4% "
   ]
  },
  {
   "cell_type": "code",
   "execution_count": 93,
   "metadata": {
    "collapsed": true
   },
   "outputs": [],
   "source": [
    "#run a random forest classification model to predict whether the song is a new entry in the popularity"
   ]
  },
  {
   "cell_type": "code",
   "execution_count": 94,
   "metadata": {
    "collapsed": true
   },
   "outputs": [],
   "source": [
    "classification4 = df3_normalized.select(\"af_danceability\", \"af_energy\", \"af_loudness\", \"af_speechiness\", \"af_acousticness\", \"af_liveness\", \"af_valence\", \"af_tempo\", \"new_entry\")"
   ]
  },
  {
   "cell_type": "code",
   "execution_count": 95,
   "metadata": {
    "collapsed": true
   },
   "outputs": [],
   "source": [
    "required_features = [\"af_danceability\", \"af_energy\", \"af_loudness\", \"af_speechiness\", \"af_acousticness\", \"af_liveness\", \"af_valence\", \"af_tempo\"]"
   ]
  },
  {
   "cell_type": "code",
   "execution_count": 96,
   "metadata": {
    "collapsed": true
   },
   "outputs": [],
   "source": [
    "from pyspark.ml.feature import VectorAssembler\n",
    "assembler = VectorAssembler(inputCols=required_features, outputCol='features')\n",
    "transformed_data = assembler.transform(classification4)"
   ]
  },
  {
   "cell_type": "code",
   "execution_count": 97,
   "metadata": {
    "collapsed": true
   },
   "outputs": [],
   "source": [
    "(training_data, test_data) = transformed_data.randomSplit([0.75, 0.25])"
   ]
  },
  {
   "cell_type": "code",
   "execution_count": 98,
   "metadata": {
    "collapsed": true
   },
   "outputs": [],
   "source": [
    "from pyspark.ml.classification import RandomForestClassifier \n",
    "rf = RandomForestClassifier(labelCol=\"new_entry\", featuresCol=\"features\", maxDepth=5) "
   ]
  },
  {
   "cell_type": "code",
   "execution_count": 99,
   "metadata": {
    "collapsed": true
   },
   "outputs": [],
   "source": [
    "model = rf.fit(training_data)"
   ]
  },
  {
   "cell_type": "code",
   "execution_count": 100,
   "metadata": {
    "collapsed": true
   },
   "outputs": [],
   "source": [
    "rf_predictions = model.transform(test_data)"
   ]
  },
  {
   "cell_type": "code",
   "execution_count": 101,
   "metadata": {},
   "outputs": [
    {
     "name": "stdout",
     "output_type": "stream",
     "text": [
      "Random Forest Classifier Accuracy: 0.9395274802737795\n"
     ]
    }
   ],
   "source": [
    "from pyspark.ml.evaluation import MulticlassClassificationEvaluator\n",
    "\n",
    "multi_evaluator = MulticlassClassificationEvaluator(labelCol=\"new_entry\", metricName=\"accuracy\")\n",
    "print(\"Random Forest Classifier Accuracy:\", multi_evaluator.evaluate(rf_predictions))"
   ]
  },
  {
   "cell_type": "code",
   "execution_count": 102,
   "metadata": {
    "collapsed": true
   },
   "outputs": [],
   "source": [
    "#the random forets classifier has an accuracy of 94.0% for whether a song is a new entry in the charts "
   ]
  },
  {
   "cell_type": "code",
   "execution_count": 103,
   "metadata": {
    "collapsed": true
   },
   "outputs": [],
   "source": [
    "#k-means cluster af_danceability and af_popularity "
   ]
  },
  {
   "cell_type": "code",
   "execution_count": 104,
   "metadata": {
    "collapsed": true
   },
   "outputs": [],
   "source": [
    "from pyspark.ml.linalg import Vectors\n",
    "from pyspark.ml.clustering import KMeans\n",
    "from pyspark.ml.feature import StandardScaler \n",
    "from pyspark.ml.evaluation import ClusteringEvaluator\n",
    "from pyspark.ml import Pipeline\n",
    "import matplotlib.pyplot as plt\n",
    "import pandas as pd"
   ]
  },
  {
   "cell_type": "code",
   "execution_count": 105,
   "metadata": {
    "collapsed": true
   },
   "outputs": [],
   "source": [
    "cluster1 = df3_normalized.select(\"af_energy\", \"af_danceability\") "
   ]
  },
  {
   "cell_type": "code",
   "execution_count": 106,
   "metadata": {
    "collapsed": true
   },
   "outputs": [],
   "source": [
    "required_features = [\"af_energy\", \"af_danceability\"]"
   ]
  },
  {
   "cell_type": "code",
   "execution_count": 107,
   "metadata": {
    "collapsed": true
   },
   "outputs": [],
   "source": [
    "assemble = VectorAssembler(inputCols=required_features, outputCol=\"features\")"
   ]
  },
  {
   "cell_type": "code",
   "execution_count": 108,
   "metadata": {
    "collapsed": true
   },
   "outputs": [],
   "source": [
    "data_df = assemble.transform(cluster1)"
   ]
  },
  {
   "cell_type": "code",
   "execution_count": 109,
   "metadata": {
    "collapsed": true
   },
   "outputs": [],
   "source": [
    "scaler = StandardScaler(inputCol=\"features\", outputCol=\"scaled_features\")\n",
    "scaler_model = scaler.fit(data_df)\n",
    "data_df = scaler_model.transform(data_df)"
   ]
  },
  {
   "cell_type": "code",
   "execution_count": 110,
   "metadata": {
    "collapsed": true
   },
   "outputs": [],
   "source": [
    "wssse_values = []\n",
    "evaluator = ClusteringEvaluator()"
   ]
  },
  {
   "cell_type": "code",
   "execution_count": 111,
   "metadata": {},
   "outputs": [
    {
     "name": "stdout",
     "output_type": "stream",
     "text": [
      "Silhouette Score: 0.5539238689394224\n",
      "Silhouette Score: 0.5226857085803746\n",
      "Silhouette Score: 0.5227221373874527\n",
      "Silhouette Score: 0.44184235840599373\n",
      "Silhouette Score: 0.4311151927175161\n",
      "Silhouette Score: 0.48312820957335306\n",
      "Silhouette Score: 0.47560642776873924\n",
      "Silhouette Score: 0.4893289244891712\n"
     ]
    }
   ],
   "source": [
    "for i in range(2,10):    \n",
    "    KMeans_mod = KMeans(featuresCol='scaled_features', k=i)  \n",
    "    KMeans_fit = KMeans_mod.fit(data_df)  \n",
    "    output = KMeans_fit.transform(data_df)   \n",
    "    score = evaluator.evaluate(output)   \n",
    "    wssse_values.append(score)  \n",
    "    print(\"Silhouette Score:\",score)"
   ]
  },
  {
   "cell_type": "code",
   "execution_count": 112,
   "metadata": {
    "collapsed": true
   },
   "outputs": [],
   "source": [
    "#cchoose k = 4 "
   ]
  },
  {
   "cell_type": "code",
   "execution_count": 114,
   "metadata": {},
   "outputs": [
    {
     "data": {
      "image/png": "[encoded data removed]",
      "text/plain": [
       "<Figure size 432x288 with 1 Axes>"
      ]
     },
     "metadata": {},
     "output_type": "display_data"
    }
   ],
   "source": [
    "plt.plot(range(2, 10), wssse_values)\n",
    "plt.xlabel(\"Number of Clusters (K)\")\n",
    "plt.ylabel(\"Within Set Sum of Squared Errors (WSSSE)\")\n",
    "plt.title(\"Elbow Method for Optimal K value\")\n",
    "plt.grid()\n",
    "plt.show()"
   ]
  },
  {
   "cell_type": "code",
   "execution_count": 115,
   "metadata": {
    "collapsed": true
   },
   "outputs": [],
   "source": [
    "kmeans = KMeans(k=6, featuresCol=\"scaled_features\", predictionCol=\"clutser\")\n",
    "kmeans_model = kmeans.fit(data_df) "
   ]
  },
  {
   "cell_type": "code",
   "execution_count": 116,
   "metadata": {
    "collapsed": true
   },
   "outputs": [],
   "source": [
    "clustered_data = kmeans_model.transform(data_df)"
   ]
  },
  {
   "cell_type": "code",
   "execution_count": 117,
   "metadata": {},
   "outputs": [
    {
     "name": "stdout",
     "output_type": "stream",
     "text": [
      "+---------+---------------+-------------+--------------------+-------+\n",
      "|af_energy|af_danceability|     features|     scaled_features|clutser|\n",
      "+---------+---------------+-------------+--------------------+-------+\n",
      "|    0.773|          0.852|[0.773,0.852]|[4.78036366795495...|      1|\n",
      "|     0.92|          0.663| [0.92,0.663]|[5.68943670700977...|      4|\n",
      "|    0.838|          0.761|[0.838,0.761]|[5.18233473964586...|      4|\n",
      "|    0.687|          0.508|[0.687,0.508]|[4.24852501925621...|      2|\n",
      "|    0.626|          0.899|[0.626,0.899]|[3.87129062890012...|      1|\n",
      "|    0.669|          0.776|[0.669,0.776]|[4.13720995324949...|      1|\n",
      "|    0.682|          0.588|[0.682,0.588]|[4.21760416758768...|      2|\n",
      "|    0.772|          0.832|[0.772,0.832]|[4.77417949762124...|      1|\n",
      "|    0.964|          0.736|[0.964,0.736]|[5.96154020169285...|      4|\n",
      "|    0.687|          0.721|[0.687,0.721]|[4.24852501925621...|      1|\n",
      "|    0.954|           0.68| [0.954,0.68]|[5.89969849835578...|      4|\n",
      "|    0.929|           0.78| [0.929,0.78]|[5.74509424001313...|      4|\n",
      "|    0.701|           0.73| [0.701,0.73]|[4.3351034039281,...|      1|\n",
      "|    0.889|          0.723|[0.889,0.723]|[5.49772742666488...|      4|\n",
      "|    0.838|           0.76| [0.838,0.76]|[5.18233473964586...|      4|\n",
      "|    0.917|          0.598|[0.917,0.598]|[5.67088419600865...|      4|\n",
      "|    0.908|          0.716|[0.908,0.716]|[5.61522666300529...|      4|\n",
      "|    0.718|          0.476|[0.718,0.476]|[4.44023429960110...|      2|\n",
      "|    0.798|          0.549|[0.798,0.549]|[4.93496792629760...|      2|\n",
      "|    0.909|          0.772|[0.909,0.772]|[5.62141083333900...|      4|\n",
      "+---------+---------------+-------------+--------------------+-------+\n",
      "only showing top 20 rows\n",
      "\n"
     ]
    }
   ],
   "source": [
    "clustered_data.show()"
   ]
  },
  {
   "cell_type": "code",
   "execution_count": 118,
   "metadata": {
    "collapsed": true
   },
   "outputs": [],
   "source": [
    "clustering_data_pd = clustered_data.toPandas()"
   ]
  },
  {
   "cell_type": "code",
   "execution_count": 119,
   "metadata": {},
   "outputs": [
    {
     "data": {
      "text/html": [
       "<div>\n",
       "<style scoped>\n",
       "    .dataframe tbody tr th:only-of-type {\n",
       "        vertical-align: middle;\n",
       "    }\n",
       "\n",
       "    .dataframe tbody tr th {\n",
       "        vertical-align: top;\n",
       "    }\n",
       "\n",
       "    .dataframe thead th {\n",
       "        text-align: right;\n",
       "    }\n",
       "</style>\n",
       "<table border=\"1\" class=\"dataframe\">\n",
       "  <thead>\n",
       "    <tr style=\"text-align: right;\">\n",
       "      <th></th>\n",
       "      <th>af_energy</th>\n",
       "      <th>af_danceability</th>\n",
       "      <th>features</th>\n",
       "      <th>scaled_features</th>\n",
       "      <th>clutser</th>\n",
       "    </tr>\n",
       "  </thead>\n",
       "  <tbody>\n",
       "    <tr>\n",
       "      <th>0</th>\n",
       "      <td>0.773</td>\n",
       "      <td>0.852</td>\n",
       "      <td>[0.773, 0.852]</td>\n",
       "      <td>[4.780363667954952, 6.526005291630331]</td>\n",
       "      <td>1</td>\n",
       "    </tr>\n",
       "    <tr>\n",
       "      <th>1</th>\n",
       "      <td>0.920</td>\n",
       "      <td>0.663</td>\n",
       "      <td>[0.92, 0.663]</td>\n",
       "      <td>[5.689436707009775, 5.078335103698251]</td>\n",
       "      <td>4</td>\n",
       "    </tr>\n",
       "    <tr>\n",
       "      <th>2</th>\n",
       "      <td>0.838</td>\n",
       "      <td>0.761</td>\n",
       "      <td>[0.838, 0.761]</td>\n",
       "      <td>[5.18233473964586, 5.828978904848219]</td>\n",
       "      <td>4</td>\n",
       "    </tr>\n",
       "    <tr>\n",
       "      <th>3</th>\n",
       "      <td>0.687</td>\n",
       "      <td>0.508</td>\n",
       "      <td>[0.687, 0.508]</td>\n",
       "      <td>[4.2485250192562125, 3.8910923569814653]</td>\n",
       "      <td>2</td>\n",
       "    </tr>\n",
       "    <tr>\n",
       "      <th>4</th>\n",
       "      <td>0.626</td>\n",
       "      <td>0.899</td>\n",
       "      <td>[0.626, 0.899]</td>\n",
       "      <td>[3.8712906289001294, 6.886007930957357]</td>\n",
       "      <td>1</td>\n",
       "    </tr>\n",
       "    <tr>\n",
       "      <th>5</th>\n",
       "      <td>0.669</td>\n",
       "      <td>0.776</td>\n",
       "      <td>[0.669, 0.776]</td>\n",
       "      <td>[4.137209953249499, 5.943873364207907]</td>\n",
       "      <td>1</td>\n",
       "    </tr>\n",
       "    <tr>\n",
       "      <th>6</th>\n",
       "      <td>0.682</td>\n",
       "      <td>0.588</td>\n",
       "      <td>[0.682, 0.588]</td>\n",
       "      <td>[4.217604167587681, 4.5038628068998054]</td>\n",
       "      <td>2</td>\n",
       "    </tr>\n",
       "    <tr>\n",
       "      <th>7</th>\n",
       "      <td>0.772</td>\n",
       "      <td>0.832</td>\n",
       "      <td>[0.772, 0.832]</td>\n",
       "      <td>[4.774179497621246, 6.372812679150746]</td>\n",
       "      <td>1</td>\n",
       "    </tr>\n",
       "    <tr>\n",
       "      <th>8</th>\n",
       "      <td>0.964</td>\n",
       "      <td>0.736</td>\n",
       "      <td>[0.964, 0.736]</td>\n",
       "      <td>[5.96154020169285, 5.637488139248736]</td>\n",
       "      <td>4</td>\n",
       "    </tr>\n",
       "    <tr>\n",
       "      <th>9</th>\n",
       "      <td>0.687</td>\n",
       "      <td>0.721</td>\n",
       "      <td>[0.687, 0.721]</td>\n",
       "      <td>[4.2485250192562125, 5.522593679889048]</td>\n",
       "      <td>1</td>\n",
       "    </tr>\n",
       "    <tr>\n",
       "      <th>10</th>\n",
       "      <td>0.954</td>\n",
       "      <td>0.680</td>\n",
       "      <td>[0.954, 0.68]</td>\n",
       "      <td>[5.899698498355788, 5.208548824305899]</td>\n",
       "      <td>4</td>\n",
       "    </tr>\n",
       "    <tr>\n",
       "      <th>11</th>\n",
       "      <td>0.929</td>\n",
       "      <td>0.780</td>\n",
       "      <td>[0.929, 0.78]</td>\n",
       "      <td>[5.745094240013131, 5.974511886703825]</td>\n",
       "      <td>4</td>\n",
       "    </tr>\n",
       "    <tr>\n",
       "      <th>12</th>\n",
       "      <td>0.701</td>\n",
       "      <td>0.730</td>\n",
       "      <td>[0.701, 0.73]</td>\n",
       "      <td>[4.3351034039281, 5.591530355504861]</td>\n",
       "      <td>1</td>\n",
       "    </tr>\n",
       "    <tr>\n",
       "      <th>13</th>\n",
       "      <td>0.889</td>\n",
       "      <td>0.723</td>\n",
       "      <td>[0.889, 0.723]</td>\n",
       "      <td>[5.497727426664881, 5.537912941137006]</td>\n",
       "      <td>4</td>\n",
       "    </tr>\n",
       "    <tr>\n",
       "      <th>14</th>\n",
       "      <td>0.838</td>\n",
       "      <td>0.760</td>\n",
       "      <td>[0.838, 0.76]</td>\n",
       "      <td>[5.18233473964586, 5.821319274224239]</td>\n",
       "      <td>4</td>\n",
       "    </tr>\n",
       "    <tr>\n",
       "      <th>15</th>\n",
       "      <td>0.917</td>\n",
       "      <td>0.598</td>\n",
       "      <td>[0.917, 0.598]</td>\n",
       "      <td>[5.6708841960086565, 4.580459113139598]</td>\n",
       "      <td>4</td>\n",
       "    </tr>\n",
       "    <tr>\n",
       "      <th>16</th>\n",
       "      <td>0.908</td>\n",
       "      <td>0.716</td>\n",
       "      <td>[0.908, 0.716]</td>\n",
       "      <td>[5.615226663005299, 5.484295526769151]</td>\n",
       "      <td>4</td>\n",
       "    </tr>\n",
       "    <tr>\n",
       "      <th>17</th>\n",
       "      <td>0.718</td>\n",
       "      <td>0.476</td>\n",
       "      <td>[0.718, 0.476]</td>\n",
       "      <td>[4.440234299601107, 3.6459841770141286]</td>\n",
       "      <td>2</td>\n",
       "    </tr>\n",
       "    <tr>\n",
       "      <th>18</th>\n",
       "      <td>0.798</td>\n",
       "      <td>0.549</td>\n",
       "      <td>[0.798, 0.549]</td>\n",
       "      <td>[4.934967926297609, 4.205137212564615]</td>\n",
       "      <td>2</td>\n",
       "    </tr>\n",
       "    <tr>\n",
       "      <th>19</th>\n",
       "      <td>0.909</td>\n",
       "      <td>0.772</td>\n",
       "      <td>[0.909, 0.772]</td>\n",
       "      <td>[5.621410833339006, 5.91323484171199]</td>\n",
       "      <td>4</td>\n",
       "    </tr>\n",
       "    <tr>\n",
       "      <th>20</th>\n",
       "      <td>0.763</td>\n",
       "      <td>0.720</td>\n",
       "      <td>[0.763, 0.72]</td>\n",
       "      <td>[4.7185219646178895, 5.514934049265069]</td>\n",
       "      <td>4</td>\n",
       "    </tr>\n",
       "    <tr>\n",
       "      <th>21</th>\n",
       "      <td>0.859</td>\n",
       "      <td>0.608</td>\n",
       "      <td>[0.859, 0.608]</td>\n",
       "      <td>[5.312202316653692, 4.657055419379391]</td>\n",
       "      <td>4</td>\n",
       "    </tr>\n",
       "    <tr>\n",
       "      <th>22</th>\n",
       "      <td>0.829</td>\n",
       "      <td>0.761</td>\n",
       "      <td>[0.829, 0.761]</td>\n",
       "      <td>[5.126677206642503, 5.828978904848219]</td>\n",
       "      <td>4</td>\n",
       "    </tr>\n",
       "    <tr>\n",
       "      <th>23</th>\n",
       "      <td>0.619</td>\n",
       "      <td>0.791</td>\n",
       "      <td>[0.619, 0.791]</td>\n",
       "      <td>[3.8280014365641852, 6.058767823567597]</td>\n",
       "      <td>5</td>\n",
       "    </tr>\n",
       "    <tr>\n",
       "      <th>24</th>\n",
       "      <td>0.913</td>\n",
       "      <td>0.818</td>\n",
       "      <td>[0.913, 0.818]</td>\n",
       "      <td>[5.646147514673831, 6.265577850415036]</td>\n",
       "      <td>4</td>\n",
       "    </tr>\n",
       "    <tr>\n",
       "      <th>25</th>\n",
       "      <td>0.798</td>\n",
       "      <td>0.608</td>\n",
       "      <td>[0.798, 0.608]</td>\n",
       "      <td>[4.934967926297609, 4.657055419379391]</td>\n",
       "      <td>2</td>\n",
       "    </tr>\n",
       "    <tr>\n",
       "      <th>26</th>\n",
       "      <td>0.989</td>\n",
       "      <td>0.616</td>\n",
       "      <td>[0.989, 0.616]</td>\n",
       "      <td>[6.116144460035508, 4.718332464371225]</td>\n",
       "      <td>4</td>\n",
       "    </tr>\n",
       "    <tr>\n",
       "      <th>27</th>\n",
       "      <td>0.849</td>\n",
       "      <td>0.828</td>\n",
       "      <td>[0.849, 0.828]</td>\n",
       "      <td>[5.250360613316629, 6.342174156654829]</td>\n",
       "      <td>1</td>\n",
       "    </tr>\n",
       "    <tr>\n",
       "      <th>28</th>\n",
       "      <td>0.594</td>\n",
       "      <td>0.681</td>\n",
       "      <td>[0.594, 0.681]</td>\n",
       "      <td>[3.6733971782215282, 5.216208454929878]</td>\n",
       "      <td>5</td>\n",
       "    </tr>\n",
       "    <tr>\n",
       "      <th>29</th>\n",
       "      <td>0.754</td>\n",
       "      <td>0.744</td>\n",
       "      <td>[0.754, 0.744]</td>\n",
       "      <td>[4.6628644316145325, 5.698765184240571]</td>\n",
       "      <td>4</td>\n",
       "    </tr>\n",
       "    <tr>\n",
       "      <th>...</th>\n",
       "      <td>...</td>\n",
       "      <td>...</td>\n",
       "      <td>...</td>\n",
       "      <td>...</td>\n",
       "      <td>...</td>\n",
       "    </tr>\n",
       "    <tr>\n",
       "      <th>881164</th>\n",
       "      <td>0.437</td>\n",
       "      <td>0.259</td>\n",
       "      <td>[0.437, 0.259]</td>\n",
       "      <td>[2.702482435829643, 1.983844331610629]</td>\n",
       "      <td>3</td>\n",
       "    </tr>\n",
       "    <tr>\n",
       "      <th>881165</th>\n",
       "      <td>0.604</td>\n",
       "      <td>0.428</td>\n",
       "      <td>[0.604, 0.428]</td>\n",
       "      <td>[3.735238881558591, 3.278321907063124]</td>\n",
       "      <td>3</td>\n",
       "    </tr>\n",
       "    <tr>\n",
       "      <th>881166</th>\n",
       "      <td>0.815</td>\n",
       "      <td>0.694</td>\n",
       "      <td>[0.815, 0.694]</td>\n",
       "      <td>[5.0400988219706155, 5.315783653041607]</td>\n",
       "      <td>4</td>\n",
       "    </tr>\n",
       "    <tr>\n",
       "      <th>881167</th>\n",
       "      <td>0.607</td>\n",
       "      <td>0.529</td>\n",
       "      <td>[0.607, 0.529]</td>\n",
       "      <td>[3.7537913925597097, 4.051944600085029]</td>\n",
       "      <td>2</td>\n",
       "    </tr>\n",
       "    <tr>\n",
       "      <th>881168</th>\n",
       "      <td>0.619</td>\n",
       "      <td>0.441</td>\n",
       "      <td>[0.619, 0.441]</td>\n",
       "      <td>[3.8280014365641852, 3.3778971051748545]</td>\n",
       "      <td>3</td>\n",
       "    </tr>\n",
       "    <tr>\n",
       "      <th>881169</th>\n",
       "      <td>0.543</td>\n",
       "      <td>0.455</td>\n",
       "      <td>[0.543, 0.455]</td>\n",
       "      <td>[3.3580044912025087, 3.4851319339105644]</td>\n",
       "      <td>3</td>\n",
       "    </tr>\n",
       "    <tr>\n",
       "      <th>881170</th>\n",
       "      <td>0.420</td>\n",
       "      <td>0.663</td>\n",
       "      <td>[0.42, 0.663]</td>\n",
       "      <td>[2.597351540156636, 5.078335103698251]</td>\n",
       "      <td>0</td>\n",
       "    </tr>\n",
       "    <tr>\n",
       "      <th>881171</th>\n",
       "      <td>0.758</td>\n",
       "      <td>0.650</td>\n",
       "      <td>[0.758, 0.65]</td>\n",
       "      <td>[4.687601112949358, 4.978759905586521]</td>\n",
       "      <td>4</td>\n",
       "    </tr>\n",
       "    <tr>\n",
       "      <th>881172</th>\n",
       "      <td>0.465</td>\n",
       "      <td>0.626</td>\n",
       "      <td>[0.465, 0.626]</td>\n",
       "      <td>[2.8756392051734188, 4.794928770611018]</td>\n",
       "      <td>0</td>\n",
       "    </tr>\n",
       "    <tr>\n",
       "      <th>881173</th>\n",
       "      <td>0.477</td>\n",
       "      <td>0.439</td>\n",
       "      <td>[0.477, 0.439]</td>\n",
       "      <td>[2.949849249177894, 3.362577843926896]</td>\n",
       "      <td>3</td>\n",
       "    </tr>\n",
       "    <tr>\n",
       "      <th>881174</th>\n",
       "      <td>0.451</td>\n",
       "      <td>0.735</td>\n",
       "      <td>[0.451, 0.735]</td>\n",
       "      <td>[2.789060820501531, 5.629828508624757]</td>\n",
       "      <td>5</td>\n",
       "    </tr>\n",
       "    <tr>\n",
       "      <th>881175</th>\n",
       "      <td>0.557</td>\n",
       "      <td>0.358</td>\n",
       "      <td>[0.557, 0.358]</td>\n",
       "      <td>[3.4445828758743966, 2.7421477633845757]</td>\n",
       "      <td>3</td>\n",
       "    </tr>\n",
       "    <tr>\n",
       "      <th>881176</th>\n",
       "      <td>0.666</td>\n",
       "      <td>0.655</td>\n",
       "      <td>[0.666, 0.655]</td>\n",
       "      <td>[4.118657442248381, 5.017058058706417]</td>\n",
       "      <td>2</td>\n",
       "    </tr>\n",
       "    <tr>\n",
       "      <th>881177</th>\n",
       "      <td>0.664</td>\n",
       "      <td>0.566</td>\n",
       "      <td>[0.664, 0.566]</td>\n",
       "      <td>[4.106289101580968, 4.335350933172262]</td>\n",
       "      <td>2</td>\n",
       "    </tr>\n",
       "    <tr>\n",
       "      <th>881178</th>\n",
       "      <td>0.532</td>\n",
       "      <td>0.512</td>\n",
       "      <td>[0.532, 0.512]</td>\n",
       "      <td>[3.2899786175317396, 3.921730879477382]</td>\n",
       "      <td>3</td>\n",
       "    </tr>\n",
       "    <tr>\n",
       "      <th>881179</th>\n",
       "      <td>0.534</td>\n",
       "      <td>0.315</td>\n",
       "      <td>[0.534, 0.315]</td>\n",
       "      <td>[3.302346958199152, 2.4127836465534673]</td>\n",
       "      <td>3</td>\n",
       "    </tr>\n",
       "    <tr>\n",
       "      <th>881180</th>\n",
       "      <td>0.761</td>\n",
       "      <td>0.520</td>\n",
       "      <td>[0.761, 0.52]</td>\n",
       "      <td>[4.706153623950477, 3.9830079244692165]</td>\n",
       "      <td>2</td>\n",
       "    </tr>\n",
       "    <tr>\n",
       "      <th>881181</th>\n",
       "      <td>0.651</td>\n",
       "      <td>0.589</td>\n",
       "      <td>[0.651, 0.589]</td>\n",
       "      <td>[4.025894887242786, 4.5115224375237855]</td>\n",
       "      <td>2</td>\n",
       "    </tr>\n",
       "    <tr>\n",
       "      <th>881182</th>\n",
       "      <td>0.425</td>\n",
       "      <td>0.650</td>\n",
       "      <td>[0.425, 0.65]</td>\n",
       "      <td>[2.6282723918251674, 4.978759905586521]</td>\n",
       "      <td>0</td>\n",
       "    </tr>\n",
       "    <tr>\n",
       "      <th>881183</th>\n",
       "      <td>0.705</td>\n",
       "      <td>0.696</td>\n",
       "      <td>[0.705, 0.696]</td>\n",
       "      <td>[4.359840085262925, 5.331102914289566]</td>\n",
       "      <td>4</td>\n",
       "    </tr>\n",
       "    <tr>\n",
       "      <th>881184</th>\n",
       "      <td>0.487</td>\n",
       "      <td>0.426</td>\n",
       "      <td>[0.487, 0.426]</td>\n",
       "      <td>[3.011690952514957, 3.2630026458151655]</td>\n",
       "      <td>3</td>\n",
       "    </tr>\n",
       "    <tr>\n",
       "      <th>881185</th>\n",
       "      <td>0.538</td>\n",
       "      <td>0.556</td>\n",
       "      <td>[0.538, 0.556]</td>\n",
       "      <td>[3.327083639533977, 4.25875462693247]</td>\n",
       "      <td>3</td>\n",
       "    </tr>\n",
       "    <tr>\n",
       "      <th>881186</th>\n",
       "      <td>0.641</td>\n",
       "      <td>0.402</td>\n",
       "      <td>[0.641, 0.402]</td>\n",
       "      <td>[3.9640531839057234, 3.0791715108396636]</td>\n",
       "      <td>3</td>\n",
       "    </tr>\n",
       "    <tr>\n",
       "      <th>881187</th>\n",
       "      <td>0.407</td>\n",
       "      <td>0.421</td>\n",
       "      <td>[0.407, 0.421]</td>\n",
       "      <td>[2.5169573258184545, 3.224704492695269]</td>\n",
       "      <td>3</td>\n",
       "    </tr>\n",
       "    <tr>\n",
       "      <th>881188</th>\n",
       "      <td>0.538</td>\n",
       "      <td>0.509</td>\n",
       "      <td>[0.538, 0.509]</td>\n",
       "      <td>[3.327083639533977, 3.8987519876054444]</td>\n",
       "      <td>3</td>\n",
       "    </tr>\n",
       "    <tr>\n",
       "      <th>881189</th>\n",
       "      <td>0.810</td>\n",
       "      <td>0.600</td>\n",
       "      <td>[0.81, 0.6]</td>\n",
       "      <td>[5.009177970302084, 4.595778374387557]</td>\n",
       "      <td>2</td>\n",
       "    </tr>\n",
       "    <tr>\n",
       "      <th>881190</th>\n",
       "      <td>0.465</td>\n",
       "      <td>0.588</td>\n",
       "      <td>[0.465, 0.588]</td>\n",
       "      <td>[2.8756392051734188, 4.5038628068998054]</td>\n",
       "      <td>0</td>\n",
       "    </tr>\n",
       "    <tr>\n",
       "      <th>881191</th>\n",
       "      <td>0.360</td>\n",
       "      <td>0.423</td>\n",
       "      <td>[0.36, 0.423]</td>\n",
       "      <td>[2.2263013201342594, 3.2400237539432277]</td>\n",
       "      <td>3</td>\n",
       "    </tr>\n",
       "    <tr>\n",
       "      <th>881192</th>\n",
       "      <td>0.264</td>\n",
       "      <td>0.422</td>\n",
       "      <td>[0.264, 0.422]</td>\n",
       "      <td>[1.6326209680984571, 3.2323641233192486]</td>\n",
       "      <td>0</td>\n",
       "    </tr>\n",
       "    <tr>\n",
       "      <th>881193</th>\n",
       "      <td>0.604</td>\n",
       "      <td>0.659</td>\n",
       "      <td>[0.604, 0.659]</td>\n",
       "      <td>[3.735238881558591, 5.0476965812023336]</td>\n",
       "      <td>5</td>\n",
       "    </tr>\n",
       "  </tbody>\n",
       "</table>\n",
       "<p>881194 rows × 5 columns</p>\n",
       "</div>"
      ],
      "text/plain": [
       "        af_energy  af_danceability        features  \\\n",
       "0           0.773            0.852  [0.773, 0.852]   \n",
       "1           0.920            0.663   [0.92, 0.663]   \n",
       "2           0.838            0.761  [0.838, 0.761]   \n",
       "3           0.687            0.508  [0.687, 0.508]   \n",
       "4           0.626            0.899  [0.626, 0.899]   \n",
       "5           0.669            0.776  [0.669, 0.776]   \n",
       "6           0.682            0.588  [0.682, 0.588]   \n",
       "7           0.772            0.832  [0.772, 0.832]   \n",
       "8           0.964            0.736  [0.964, 0.736]   \n",
       "9           0.687            0.721  [0.687, 0.721]   \n",
       "10          0.954            0.680   [0.954, 0.68]   \n",
       "11          0.929            0.780   [0.929, 0.78]   \n",
       "12          0.701            0.730   [0.701, 0.73]   \n",
       "13          0.889            0.723  [0.889, 0.723]   \n",
       "14          0.838            0.760   [0.838, 0.76]   \n",
       "15          0.917            0.598  [0.917, 0.598]   \n",
       "16          0.908            0.716  [0.908, 0.716]   \n",
       "17          0.718            0.476  [0.718, 0.476]   \n",
       "18          0.798            0.549  [0.798, 0.549]   \n",
       "19          0.909            0.772  [0.909, 0.772]   \n",
       "20          0.763            0.720   [0.763, 0.72]   \n",
       "21          0.859            0.608  [0.859, 0.608]   \n",
       "22          0.829            0.761  [0.829, 0.761]   \n",
       "23          0.619            0.791  [0.619, 0.791]   \n",
       "24          0.913            0.818  [0.913, 0.818]   \n",
       "25          0.798            0.608  [0.798, 0.608]   \n",
       "26          0.989            0.616  [0.989, 0.616]   \n",
       "27          0.849            0.828  [0.849, 0.828]   \n",
       "28          0.594            0.681  [0.594, 0.681]   \n",
       "29          0.754            0.744  [0.754, 0.744]   \n",
       "...           ...              ...             ...   \n",
       "881164      0.437            0.259  [0.437, 0.259]   \n",
       "881165      0.604            0.428  [0.604, 0.428]   \n",
       "881166      0.815            0.694  [0.815, 0.694]   \n",
       "881167      0.607            0.529  [0.607, 0.529]   \n",
       "881168      0.619            0.441  [0.619, 0.441]   \n",
       "881169      0.543            0.455  [0.543, 0.455]   \n",
       "881170      0.420            0.663   [0.42, 0.663]   \n",
       "881171      0.758            0.650   [0.758, 0.65]   \n",
       "881172      0.465            0.626  [0.465, 0.626]   \n",
       "881173      0.477            0.439  [0.477, 0.439]   \n",
       "881174      0.451            0.735  [0.451, 0.735]   \n",
       "881175      0.557            0.358  [0.557, 0.358]   \n",
       "881176      0.666            0.655  [0.666, 0.655]   \n",
       "881177      0.664            0.566  [0.664, 0.566]   \n",
       "881178      0.532            0.512  [0.532, 0.512]   \n",
       "881179      0.534            0.315  [0.534, 0.315]   \n",
       "881180      0.761            0.520   [0.761, 0.52]   \n",
       "881181      0.651            0.589  [0.651, 0.589]   \n",
       "881182      0.425            0.650   [0.425, 0.65]   \n",
       "881183      0.705            0.696  [0.705, 0.696]   \n",
       "881184      0.487            0.426  [0.487, 0.426]   \n",
       "881185      0.538            0.556  [0.538, 0.556]   \n",
       "881186      0.641            0.402  [0.641, 0.402]   \n",
       "881187      0.407            0.421  [0.407, 0.421]   \n",
       "881188      0.538            0.509  [0.538, 0.509]   \n",
       "881189      0.810            0.600     [0.81, 0.6]   \n",
       "881190      0.465            0.588  [0.465, 0.588]   \n",
       "881191      0.360            0.423   [0.36, 0.423]   \n",
       "881192      0.264            0.422  [0.264, 0.422]   \n",
       "881193      0.604            0.659  [0.604, 0.659]   \n",
       "\n",
       "                                 scaled_features  clutser  \n",
       "0         [4.780363667954952, 6.526005291630331]        1  \n",
       "1         [5.689436707009775, 5.078335103698251]        4  \n",
       "2          [5.18233473964586, 5.828978904848219]        4  \n",
       "3       [4.2485250192562125, 3.8910923569814653]        2  \n",
       "4        [3.8712906289001294, 6.886007930957357]        1  \n",
       "5         [4.137209953249499, 5.943873364207907]        1  \n",
       "6        [4.217604167587681, 4.5038628068998054]        2  \n",
       "7         [4.774179497621246, 6.372812679150746]        1  \n",
       "8          [5.96154020169285, 5.637488139248736]        4  \n",
       "9        [4.2485250192562125, 5.522593679889048]        1  \n",
       "10        [5.899698498355788, 5.208548824305899]        4  \n",
       "11        [5.745094240013131, 5.974511886703825]        4  \n",
       "12          [4.3351034039281, 5.591530355504861]        1  \n",
       "13        [5.497727426664881, 5.537912941137006]        4  \n",
       "14         [5.18233473964586, 5.821319274224239]        4  \n",
       "15       [5.6708841960086565, 4.580459113139598]        4  \n",
       "16        [5.615226663005299, 5.484295526769151]        4  \n",
       "17       [4.440234299601107, 3.6459841770141286]        2  \n",
       "18        [4.934967926297609, 4.205137212564615]        2  \n",
       "19         [5.621410833339006, 5.91323484171199]        4  \n",
       "20       [4.7185219646178895, 5.514934049265069]        4  \n",
       "21        [5.312202316653692, 4.657055419379391]        4  \n",
       "22        [5.126677206642503, 5.828978904848219]        4  \n",
       "23       [3.8280014365641852, 6.058767823567597]        5  \n",
       "24        [5.646147514673831, 6.265577850415036]        4  \n",
       "25        [4.934967926297609, 4.657055419379391]        2  \n",
       "26        [6.116144460035508, 4.718332464371225]        4  \n",
       "27        [5.250360613316629, 6.342174156654829]        1  \n",
       "28       [3.6733971782215282, 5.216208454929878]        5  \n",
       "29       [4.6628644316145325, 5.698765184240571]        4  \n",
       "...                                          ...      ...  \n",
       "881164    [2.702482435829643, 1.983844331610629]        3  \n",
       "881165    [3.735238881558591, 3.278321907063124]        3  \n",
       "881166   [5.0400988219706155, 5.315783653041607]        4  \n",
       "881167   [3.7537913925597097, 4.051944600085029]        2  \n",
       "881168  [3.8280014365641852, 3.3778971051748545]        3  \n",
       "881169  [3.3580044912025087, 3.4851319339105644]        3  \n",
       "881170    [2.597351540156636, 5.078335103698251]        0  \n",
       "881171    [4.687601112949358, 4.978759905586521]        4  \n",
       "881172   [2.8756392051734188, 4.794928770611018]        0  \n",
       "881173    [2.949849249177894, 3.362577843926896]        3  \n",
       "881174    [2.789060820501531, 5.629828508624757]        5  \n",
       "881175  [3.4445828758743966, 2.7421477633845757]        3  \n",
       "881176    [4.118657442248381, 5.017058058706417]        2  \n",
       "881177    [4.106289101580968, 4.335350933172262]        2  \n",
       "881178   [3.2899786175317396, 3.921730879477382]        3  \n",
       "881179   [3.302346958199152, 2.4127836465534673]        3  \n",
       "881180   [4.706153623950477, 3.9830079244692165]        2  \n",
       "881181   [4.025894887242786, 4.5115224375237855]        2  \n",
       "881182   [2.6282723918251674, 4.978759905586521]        0  \n",
       "881183    [4.359840085262925, 5.331102914289566]        4  \n",
       "881184   [3.011690952514957, 3.2630026458151655]        3  \n",
       "881185     [3.327083639533977, 4.25875462693247]        3  \n",
       "881186  [3.9640531839057234, 3.0791715108396636]        3  \n",
       "881187   [2.5169573258184545, 3.224704492695269]        3  \n",
       "881188   [3.327083639533977, 3.8987519876054444]        3  \n",
       "881189    [5.009177970302084, 4.595778374387557]        2  \n",
       "881190  [2.8756392051734188, 4.5038628068998054]        0  \n",
       "881191  [2.2263013201342594, 3.2400237539432277]        3  \n",
       "881192  [1.6326209680984571, 3.2323641233192486]        0  \n",
       "881193   [3.735238881558591, 5.0476965812023336]        5  \n",
       "\n",
       "[881194 rows x 5 columns]"
      ]
     },
     "execution_count": 119,
     "metadata": {},
     "output_type": "execute_result"
    }
   ],
   "source": [
    "clustering_data_pd"
   ]
  },
  {
   "cell_type": "code",
   "execution_count": 120,
   "metadata": {},
   "outputs": [
    {
     "data": {
      "image/png": "[encoded data removed]",
      "text/plain": [
       "<Figure size 432x288 with 2 Axes>"
      ]
     },
     "metadata": {},
     "output_type": "display_data"
    }
   ],
   "source": [
    "plt.scatter(clustering_data_pd[\"af_energy\"], clustering_data_pd[\"af_danceability\"], c=clustering_data_pd[\"clutser\"])\n",
    "plt.xlabel(\"af_energy\")\n",
    "plt.ylabel(\"af_danceability\")\n",
    "plt.title(\"K-Means Cluster with af_energy and af_danceability\")\n",
    "plt.colorbar().set_label(\"Cluster\")\n",
    "plt.show()"
   ]
  },
  {
   "cell_type": "code",
   "execution_count": 130,
   "metadata": {
    "collapsed": true
   },
   "outputs": [],
   "source": [
    "#cluster 0: this returns data points where the energy is between 0.0 and 1.5 and the danceability is between 0.2 and 0.8\n",
    "#cluster 1: this returns data points where the energy is between 0.6 and 1.0 and the danceability is between 0.7 and 1.0 \n",
    "#cluster 2: this returns data points where the energy is between 0.6 and 1.0 and the danceability is between 0.2 and 0.65\n",
    "#cluster 3: this returns data points where the energy is between 0.2 and 0.8 and the danceability is between 0.2 and 0.6\n",
    "#cluster 4: this returns data points where the energy is between 0.6 and 1.0 and the danceability is between 0.6 and 0.8\n",
    "#cluster 5: this returns data points where the energy is between 0.2 and 0.65 and the danceability is between 0.6 and 1.0"
   ]
  },
  {
   "cell_type": "code",
   "execution_count": 121,
   "metadata": {
    "collapsed": true
   },
   "outputs": [],
   "source": [
    "#cluster "
   ]
  },
  {
   "cell_type": "code",
   "execution_count": 122,
   "metadata": {
    "collapsed": true
   },
   "outputs": [],
   "source": [
    "cluster2 = df3_normalized.select(\"af_energy\", \"af_speechiness\") "
   ]
  },
  {
   "cell_type": "code",
   "execution_count": 123,
   "metadata": {
    "collapsed": true
   },
   "outputs": [],
   "source": [
    "required_features = [\"af_energy\", \"af_speechiness\"]"
   ]
  },
  {
   "cell_type": "code",
   "execution_count": 124,
   "metadata": {
    "collapsed": true
   },
   "outputs": [],
   "source": [
    "assembler = VectorAssembler(inputCols=required_features, outputCol=\"features\")"
   ]
  },
  {
   "cell_type": "code",
   "execution_count": 125,
   "metadata": {
    "collapsed": true
   },
   "outputs": [],
   "source": [
    "data_df = assembler.transform(cluster2) "
   ]
  },
  {
   "cell_type": "code",
   "execution_count": 126,
   "metadata": {
    "collapsed": true
   },
   "outputs": [],
   "source": [
    "scaler = StandardScaler(inputCol=\"features\", outputCol=\"scaled_features\")\n",
    "scaler_model = scaler.fit(data_df)\n",
    "data_df = scaler_model.transform(data_df) "
   ]
  },
  {
   "cell_type": "code",
   "execution_count": 127,
   "metadata": {
    "collapsed": true
   },
   "outputs": [],
   "source": [
    "wssee_values = []\n",
    "evaluator = ClusteringEvaluator()"
   ]
  },
  {
   "cell_type": "code",
   "execution_count": 128,
   "metadata": {},
   "outputs": [
    {
     "name": "stdout",
     "output_type": "stream",
     "text": [
      "Silhouette Score: 0.6063734501401855\n",
      "Silhouette Score: 0.6259412465089856\n",
      "Silhouette Score: 0.503823104183681\n",
      "Silhouette Score: 0.5533285053482256\n",
      "Silhouette Score: 0.5521582406131621\n",
      "Silhouette Score: 0.5461034727702523\n",
      "Silhouette Score: 0.5210875348895873\n",
      "Silhouette Score: 0.5276416828560014\n"
     ]
    }
   ],
   "source": [
    "for i in range(2, 10):\n",
    "    KMeans_mod = KMeans(featuresCol='scaled_features', k=i)\n",
    "    KMeans_fit = KMeans_mod.fit(data_df)\n",
    "    output = KMeans_fit.transform(data_df)\n",
    "    score = evaluator.evaluate(output)\n",
    "    wssee_values.append(score)\n",
    "    print(\"Silhouette Score:\", score)"
   ]
  },
  {
   "cell_type": "code",
   "execution_count": 139,
   "metadata": {
    "collapsed": true
   },
   "outputs": [],
   "source": [
    "#return 4 values "
   ]
  },
  {
   "cell_type": "code",
   "execution_count": 140,
   "metadata": {},
   "outputs": [
    {
     "data": {
      "image/png": "[encoded data removed]",
      "text/plain": [
       "<Figure size 432x288 with 1 Axes>"
      ]
     },
     "metadata": {},
     "output_type": "display_data"
    }
   ],
   "source": [
    "plt.plot(range(2, 10), wssee_values)\n",
    "plt.xlabel(\"Number of Clusters (K)\")\n",
    "plt.ylabel(\"Within Set Sum of Squared Errors (WSSEE)\")\n",
    "plt.title(\"Elbow Method for Optimal K Values\")\n",
    "plt.grid()\n",
    "plt.show()"
   ]
  },
  {
   "cell_type": "code",
   "execution_count": 129,
   "metadata": {
    "collapsed": true
   },
   "outputs": [],
   "source": [
    "kmeans = KMeans(k=4, featuresCol=\"scaled_features\", predictionCol=\"cluster\")\n",
    "kmeans_model = kmeans.fit(data_df) "
   ]
  },
  {
   "cell_type": "code",
   "execution_count": 130,
   "metadata": {
    "collapsed": true
   },
   "outputs": [],
   "source": [
    "clustered_data = kmeans_model.transform(data_df)"
   ]
  },
  {
   "cell_type": "code",
   "execution_count": 131,
   "metadata": {},
   "outputs": [
    {
     "name": "stdout",
     "output_type": "stream",
     "text": [
      "+---------+--------------+--------------+--------------------+-------+\n",
      "|af_energy|af_speechiness|      features|     scaled_features|cluster|\n",
      "+---------+--------------+--------------+--------------------+-------+\n",
      "|    0.773|        0.0776|[0.773,0.0776]|[4.78036366795495...|      0|\n",
      "|     0.92|         0.226|  [0.92,0.226]|[5.68943670700977...|      3|\n",
      "|    0.838|        0.0502|[0.838,0.0502]|[5.18233473964586...|      0|\n",
      "|    0.687|         0.326| [0.687,0.326]|[4.24852501925621...|      2|\n",
      "|    0.626|         0.292| [0.626,0.292]|[3.87129062890012...|      2|\n",
      "|    0.669|        0.0638|[0.669,0.0638]|[4.13720995324949...|      0|\n",
      "|    0.682|         0.173| [0.682,0.173]|[4.21760416758768...|      3|\n",
      "|    0.772|           0.1|   [0.772,0.1]|[4.77417949762124...|      0|\n",
      "|    0.964|         0.129| [0.964,0.129]|[5.96154020169285...|      0|\n",
      "|    0.687|        0.0782|[0.687,0.0782]|[4.24852501925621...|      0|\n",
      "|    0.954|         0.119| [0.954,0.119]|[5.89969849835578...|      0|\n",
      "|    0.929|        0.0532|[0.929,0.0532]|[5.74509424001313...|      0|\n",
      "|    0.701|         0.106| [0.701,0.106]|[4.3351034039281,...|      0|\n",
      "|    0.889|        0.0939|[0.889,0.0939]|[5.49772742666488...|      0|\n",
      "|    0.838|        0.0529|[0.838,0.0529]|[5.18233473964586...|      0|\n",
      "|    0.917|         0.159| [0.917,0.159]|[5.67088419600865...|      3|\n",
      "|    0.908|         0.103| [0.908,0.103]|[5.61522666300529...|      0|\n",
      "|    0.718|        0.0576|[0.718,0.0576]|[4.44023429960110...|      0|\n",
      "|    0.798|        0.0705|[0.798,0.0705]|[4.93496792629760...|      0|\n",
      "|    0.909|         0.166| [0.909,0.166]|[5.62141083333900...|      3|\n",
      "+---------+--------------+--------------+--------------------+-------+\n",
      "only showing top 20 rows\n",
      "\n"
     ]
    }
   ],
   "source": [
    "clustered_data.show()"
   ]
  },
  {
   "cell_type": "code",
   "execution_count": 132,
   "metadata": {
    "collapsed": true
   },
   "outputs": [],
   "source": [
    "clustered_data_pd = clustered_data.toPandas()"
   ]
  },
  {
   "cell_type": "code",
   "execution_count": 133,
   "metadata": {},
   "outputs": [
    {
     "data": {
      "text/html": [
       "<div>\n",
       "<style scoped>\n",
       "    .dataframe tbody tr th:only-of-type {\n",
       "        vertical-align: middle;\n",
       "    }\n",
       "\n",
       "    .dataframe tbody tr th {\n",
       "        vertical-align: top;\n",
       "    }\n",
       "\n",
       "    .dataframe thead th {\n",
       "        text-align: right;\n",
       "    }\n",
       "</style>\n",
       "<table border=\"1\" class=\"dataframe\">\n",
       "  <thead>\n",
       "    <tr style=\"text-align: right;\">\n",
       "      <th></th>\n",
       "      <th>af_energy</th>\n",
       "      <th>af_speechiness</th>\n",
       "      <th>features</th>\n",
       "      <th>scaled_features</th>\n",
       "      <th>cluster</th>\n",
       "    </tr>\n",
       "  </thead>\n",
       "  <tbody>\n",
       "    <tr>\n",
       "      <th>0</th>\n",
       "      <td>0.773</td>\n",
       "      <td>0.0776</td>\n",
       "      <td>[0.773, 0.0776]</td>\n",
       "      <td>[4.780363667954952, 0.8358339676098487]</td>\n",
       "      <td>0</td>\n",
       "    </tr>\n",
       "    <tr>\n",
       "      <th>1</th>\n",
       "      <td>0.920</td>\n",
       "      <td>0.2260</td>\n",
       "      <td>[0.92, 0.226]</td>\n",
       "      <td>[5.689436707009775, 2.434258720100848]</td>\n",
       "      <td>3</td>\n",
       "    </tr>\n",
       "    <tr>\n",
       "      <th>2</th>\n",
       "      <td>0.838</td>\n",
       "      <td>0.0502</td>\n",
       "      <td>[0.838, 0.0502]</td>\n",
       "      <td>[5.18233473964586, 0.5407070254383299]</td>\n",
       "      <td>0</td>\n",
       "    </tr>\n",
       "    <tr>\n",
       "      <th>3</th>\n",
       "      <td>0.687</td>\n",
       "      <td>0.3260</td>\n",
       "      <td>[0.687, 0.326]</td>\n",
       "      <td>[4.2485250192562125, 3.5113643484640553]</td>\n",
       "      <td>2</td>\n",
       "    </tr>\n",
       "    <tr>\n",
       "      <th>4</th>\n",
       "      <td>0.626</td>\n",
       "      <td>0.2920</td>\n",
       "      <td>[0.626, 0.292]</td>\n",
       "      <td>[3.8712906289001294, 3.1451484348205643]</td>\n",
       "      <td>2</td>\n",
       "    </tr>\n",
       "    <tr>\n",
       "      <th>5</th>\n",
       "      <td>0.669</td>\n",
       "      <td>0.0638</td>\n",
       "      <td>[0.669, 0.0638]</td>\n",
       "      <td>[4.137209953249499, 0.6871933908957261]</td>\n",
       "      <td>0</td>\n",
       "    </tr>\n",
       "    <tr>\n",
       "      <th>6</th>\n",
       "      <td>0.682</td>\n",
       "      <td>0.1730</td>\n",
       "      <td>[0.682, 0.173]</td>\n",
       "      <td>[4.217604167587681, 1.863392737068348]</td>\n",
       "      <td>3</td>\n",
       "    </tr>\n",
       "    <tr>\n",
       "      <th>7</th>\n",
       "      <td>0.772</td>\n",
       "      <td>0.1000</td>\n",
       "      <td>[0.772, 0.1]</td>\n",
       "      <td>[4.774179497621246, 1.077105628363207]</td>\n",
       "      <td>0</td>\n",
       "    </tr>\n",
       "    <tr>\n",
       "      <th>8</th>\n",
       "      <td>0.964</td>\n",
       "      <td>0.1290</td>\n",
       "      <td>[0.964, 0.129]</td>\n",
       "      <td>[5.96154020169285, 1.389466260588537]</td>\n",
       "      <td>0</td>\n",
       "    </tr>\n",
       "    <tr>\n",
       "      <th>9</th>\n",
       "      <td>0.687</td>\n",
       "      <td>0.0782</td>\n",
       "      <td>[0.687, 0.0782]</td>\n",
       "      <td>[4.2485250192562125, 0.8422966013800279]</td>\n",
       "      <td>0</td>\n",
       "    </tr>\n",
       "    <tr>\n",
       "      <th>10</th>\n",
       "      <td>0.954</td>\n",
       "      <td>0.1190</td>\n",
       "      <td>[0.954, 0.119]</td>\n",
       "      <td>[5.899698498355788, 1.2817556977522164]</td>\n",
       "      <td>0</td>\n",
       "    </tr>\n",
       "    <tr>\n",
       "      <th>11</th>\n",
       "      <td>0.929</td>\n",
       "      <td>0.0532</td>\n",
       "      <td>[0.929, 0.0532]</td>\n",
       "      <td>[5.745094240013131, 0.5730201942892261]</td>\n",
       "      <td>0</td>\n",
       "    </tr>\n",
       "    <tr>\n",
       "      <th>12</th>\n",
       "      <td>0.701</td>\n",
       "      <td>0.1060</td>\n",
       "      <td>[0.701, 0.106]</td>\n",
       "      <td>[4.3351034039281, 1.1417319660649994]</td>\n",
       "      <td>0</td>\n",
       "    </tr>\n",
       "    <tr>\n",
       "      <th>13</th>\n",
       "      <td>0.889</td>\n",
       "      <td>0.0939</td>\n",
       "      <td>[0.889, 0.0939]</td>\n",
       "      <td>[5.497727426664881, 1.0114021850330515]</td>\n",
       "      <td>0</td>\n",
       "    </tr>\n",
       "    <tr>\n",
       "      <th>14</th>\n",
       "      <td>0.838</td>\n",
       "      <td>0.0529</td>\n",
       "      <td>[0.838, 0.0529]</td>\n",
       "      <td>[5.18233473964586, 0.5697888774041365]</td>\n",
       "      <td>0</td>\n",
       "    </tr>\n",
       "    <tr>\n",
       "      <th>15</th>\n",
       "      <td>0.917</td>\n",
       "      <td>0.1590</td>\n",
       "      <td>[0.917, 0.159]</td>\n",
       "      <td>[5.6708841960086565, 1.7125979490974992]</td>\n",
       "      <td>3</td>\n",
       "    </tr>\n",
       "    <tr>\n",
       "      <th>16</th>\n",
       "      <td>0.908</td>\n",
       "      <td>0.1030</td>\n",
       "      <td>[0.908, 0.103]</td>\n",
       "      <td>[5.615226663005299, 1.1094187972141032]</td>\n",
       "      <td>0</td>\n",
       "    </tr>\n",
       "    <tr>\n",
       "      <th>17</th>\n",
       "      <td>0.718</td>\n",
       "      <td>0.0576</td>\n",
       "      <td>[0.718, 0.0576]</td>\n",
       "      <td>[4.440234299601107, 0.6204128419372072]</td>\n",
       "      <td>0</td>\n",
       "    </tr>\n",
       "    <tr>\n",
       "      <th>18</th>\n",
       "      <td>0.798</td>\n",
       "      <td>0.0705</td>\n",
       "      <td>[0.798, 0.0705]</td>\n",
       "      <td>[4.934967926297609, 0.7593594679960609]</td>\n",
       "      <td>0</td>\n",
       "    </tr>\n",
       "    <tr>\n",
       "      <th>19</th>\n",
       "      <td>0.909</td>\n",
       "      <td>0.1660</td>\n",
       "      <td>[0.909, 0.166]</td>\n",
       "      <td>[5.621410833339006, 1.7879953430829238]</td>\n",
       "      <td>3</td>\n",
       "    </tr>\n",
       "    <tr>\n",
       "      <th>20</th>\n",
       "      <td>0.763</td>\n",
       "      <td>0.0523</td>\n",
       "      <td>[0.763, 0.0523]</td>\n",
       "      <td>[4.7185219646178895, 0.5633262436339572]</td>\n",
       "      <td>0</td>\n",
       "    </tr>\n",
       "    <tr>\n",
       "      <th>21</th>\n",
       "      <td>0.859</td>\n",
       "      <td>0.1850</td>\n",
       "      <td>[0.859, 0.185]</td>\n",
       "      <td>[5.312202316653692, 1.992645412471933]</td>\n",
       "      <td>3</td>\n",
       "    </tr>\n",
       "    <tr>\n",
       "      <th>22</th>\n",
       "      <td>0.829</td>\n",
       "      <td>0.0681</td>\n",
       "      <td>[0.829, 0.0681]</td>\n",
       "      <td>[5.126677206642503, 0.7335089329153439]</td>\n",
       "      <td>0</td>\n",
       "    </tr>\n",
       "    <tr>\n",
       "      <th>23</th>\n",
       "      <td>0.619</td>\n",
       "      <td>0.0532</td>\n",
       "      <td>[0.619, 0.0532]</td>\n",
       "      <td>[3.8280014365641852, 0.5730201942892261]</td>\n",
       "      <td>1</td>\n",
       "    </tr>\n",
       "    <tr>\n",
       "      <th>24</th>\n",
       "      <td>0.913</td>\n",
       "      <td>0.0426</td>\n",
       "      <td>[0.913, 0.0426]</td>\n",
       "      <td>[5.646147514673831, 0.4588469976827262]</td>\n",
       "      <td>0</td>\n",
       "    </tr>\n",
       "    <tr>\n",
       "      <th>25</th>\n",
       "      <td>0.798</td>\n",
       "      <td>0.0432</td>\n",
       "      <td>[0.798, 0.0432]</td>\n",
       "      <td>[4.934967926297609, 0.4653096314529055]</td>\n",
       "      <td>0</td>\n",
       "    </tr>\n",
       "    <tr>\n",
       "      <th>26</th>\n",
       "      <td>0.989</td>\n",
       "      <td>0.0483</td>\n",
       "      <td>[0.989, 0.0483]</td>\n",
       "      <td>[6.116144460035508, 0.5202420184994291]</td>\n",
       "      <td>0</td>\n",
       "    </tr>\n",
       "    <tr>\n",
       "      <th>27</th>\n",
       "      <td>0.849</td>\n",
       "      <td>0.0749</td>\n",
       "      <td>[0.849, 0.0749]</td>\n",
       "      <td>[5.250360613316629, 0.806752115644042]</td>\n",
       "      <td>0</td>\n",
       "    </tr>\n",
       "    <tr>\n",
       "      <th>28</th>\n",
       "      <td>0.594</td>\n",
       "      <td>0.2820</td>\n",
       "      <td>[0.594, 0.282]</td>\n",
       "      <td>[3.6733971782215282, 3.0374378719842436]</td>\n",
       "      <td>2</td>\n",
       "    </tr>\n",
       "    <tr>\n",
       "      <th>29</th>\n",
       "      <td>0.754</td>\n",
       "      <td>0.2400</td>\n",
       "      <td>[0.754, 0.24]</td>\n",
       "      <td>[4.6628644316145325, 2.585053508071697]</td>\n",
       "      <td>3</td>\n",
       "    </tr>\n",
       "    <tr>\n",
       "      <th>...</th>\n",
       "      <td>...</td>\n",
       "      <td>...</td>\n",
       "      <td>...</td>\n",
       "      <td>...</td>\n",
       "      <td>...</td>\n",
       "    </tr>\n",
       "    <tr>\n",
       "      <th>881164</th>\n",
       "      <td>0.437</td>\n",
       "      <td>0.0386</td>\n",
       "      <td>[0.437, 0.0386]</td>\n",
       "      <td>[2.702482435829643, 0.41576277254819793]</td>\n",
       "      <td>1</td>\n",
       "    </tr>\n",
       "    <tr>\n",
       "      <th>881165</th>\n",
       "      <td>0.604</td>\n",
       "      <td>0.0295</td>\n",
       "      <td>[0.604, 0.0295]</td>\n",
       "      <td>[3.735238881558591, 0.31774616036714604]</td>\n",
       "      <td>1</td>\n",
       "    </tr>\n",
       "    <tr>\n",
       "      <th>881166</th>\n",
       "      <td>0.815</td>\n",
       "      <td>0.1200</td>\n",
       "      <td>[0.815, 0.12]</td>\n",
       "      <td>[5.0400988219706155, 1.2925267540358485]</td>\n",
       "      <td>0</td>\n",
       "    </tr>\n",
       "    <tr>\n",
       "      <th>881167</th>\n",
       "      <td>0.607</td>\n",
       "      <td>0.0574</td>\n",
       "      <td>[0.607, 0.0574]</td>\n",
       "      <td>[3.7537913925597097, 0.6182586306804808]</td>\n",
       "      <td>1</td>\n",
       "    </tr>\n",
       "    <tr>\n",
       "      <th>881168</th>\n",
       "      <td>0.619</td>\n",
       "      <td>0.0293</td>\n",
       "      <td>[0.619, 0.0293]</td>\n",
       "      <td>[3.8280014365641852, 0.31559194911041966]</td>\n",
       "      <td>1</td>\n",
       "    </tr>\n",
       "    <tr>\n",
       "      <th>881169</th>\n",
       "      <td>0.543</td>\n",
       "      <td>0.0483</td>\n",
       "      <td>[0.543, 0.0483]</td>\n",
       "      <td>[3.3580044912025087, 0.5202420184994291]</td>\n",
       "      <td>1</td>\n",
       "    </tr>\n",
       "    <tr>\n",
       "      <th>881170</th>\n",
       "      <td>0.420</td>\n",
       "      <td>0.0301</td>\n",
       "      <td>[0.42, 0.0301]</td>\n",
       "      <td>[2.597351540156636, 0.3242087941373253]</td>\n",
       "      <td>1</td>\n",
       "    </tr>\n",
       "    <tr>\n",
       "      <th>881171</th>\n",
       "      <td>0.758</td>\n",
       "      <td>0.1160</td>\n",
       "      <td>[0.758, 0.116]</td>\n",
       "      <td>[4.687601112949358, 1.2494425289013202]</td>\n",
       "      <td>0</td>\n",
       "    </tr>\n",
       "    <tr>\n",
       "      <th>881172</th>\n",
       "      <td>0.465</td>\n",
       "      <td>0.0321</td>\n",
       "      <td>[0.465, 0.0321]</td>\n",
       "      <td>[2.8756392051734188, 0.3457509067045894]</td>\n",
       "      <td>1</td>\n",
       "    </tr>\n",
       "    <tr>\n",
       "      <th>881173</th>\n",
       "      <td>0.477</td>\n",
       "      <td>0.0307</td>\n",
       "      <td>[0.477, 0.0307]</td>\n",
       "      <td>[2.949849249177894, 0.3306714279075046]</td>\n",
       "      <td>1</td>\n",
       "    </tr>\n",
       "    <tr>\n",
       "      <th>881174</th>\n",
       "      <td>0.451</td>\n",
       "      <td>0.0585</td>\n",
       "      <td>[0.451, 0.0585]</td>\n",
       "      <td>[2.789060820501531, 0.6301067925924762]</td>\n",
       "      <td>1</td>\n",
       "    </tr>\n",
       "    <tr>\n",
       "      <th>881175</th>\n",
       "      <td>0.557</td>\n",
       "      <td>0.0590</td>\n",
       "      <td>[0.557, 0.059]</td>\n",
       "      <td>[3.4445828758743966, 0.6354923207342921]</td>\n",
       "      <td>1</td>\n",
       "    </tr>\n",
       "    <tr>\n",
       "      <th>881176</th>\n",
       "      <td>0.666</td>\n",
       "      <td>0.0612</td>\n",
       "      <td>[0.666, 0.0612]</td>\n",
       "      <td>[4.118657442248381, 0.6591886445582826]</td>\n",
       "      <td>0</td>\n",
       "    </tr>\n",
       "    <tr>\n",
       "      <th>881177</th>\n",
       "      <td>0.664</td>\n",
       "      <td>0.0464</td>\n",
       "      <td>[0.664, 0.0464]</td>\n",
       "      <td>[4.106289101580968, 0.49977701156052806]</td>\n",
       "      <td>0</td>\n",
       "    </tr>\n",
       "    <tr>\n",
       "      <th>881178</th>\n",
       "      <td>0.532</td>\n",
       "      <td>0.0266</td>\n",
       "      <td>[0.532, 0.0266]</td>\n",
       "      <td>[3.2899786175317396, 0.28651009714461306]</td>\n",
       "      <td>1</td>\n",
       "    </tr>\n",
       "    <tr>\n",
       "      <th>881179</th>\n",
       "      <td>0.534</td>\n",
       "      <td>0.0332</td>\n",
       "      <td>[0.534, 0.0332]</td>\n",
       "      <td>[3.302346958199152, 0.35759906861658475]</td>\n",
       "      <td>1</td>\n",
       "    </tr>\n",
       "    <tr>\n",
       "      <th>881180</th>\n",
       "      <td>0.761</td>\n",
       "      <td>0.0853</td>\n",
       "      <td>[0.761, 0.0853]</td>\n",
       "      <td>[4.706153623950477, 0.9187711009938156]</td>\n",
       "      <td>0</td>\n",
       "    </tr>\n",
       "    <tr>\n",
       "      <th>881181</th>\n",
       "      <td>0.651</td>\n",
       "      <td>0.0306</td>\n",
       "      <td>[0.651, 0.0306]</td>\n",
       "      <td>[4.025894887242786, 0.3295943222791413]</td>\n",
       "      <td>0</td>\n",
       "    </tr>\n",
       "    <tr>\n",
       "      <th>881182</th>\n",
       "      <td>0.425</td>\n",
       "      <td>0.0266</td>\n",
       "      <td>[0.425, 0.0266]</td>\n",
       "      <td>[2.6282723918251674, 0.28651009714461306]</td>\n",
       "      <td>1</td>\n",
       "    </tr>\n",
       "    <tr>\n",
       "      <th>881183</th>\n",
       "      <td>0.705</td>\n",
       "      <td>0.0344</td>\n",
       "      <td>[0.705, 0.0344]</td>\n",
       "      <td>[4.359840085262925, 0.37052433615694325]</td>\n",
       "      <td>0</td>\n",
       "    </tr>\n",
       "    <tr>\n",
       "      <th>881184</th>\n",
       "      <td>0.487</td>\n",
       "      <td>0.0361</td>\n",
       "      <td>[0.487, 0.0361]</td>\n",
       "      <td>[3.011690952514957, 0.3888351318391177]</td>\n",
       "      <td>1</td>\n",
       "    </tr>\n",
       "    <tr>\n",
       "      <th>881185</th>\n",
       "      <td>0.538</td>\n",
       "      <td>0.0382</td>\n",
       "      <td>[0.538, 0.0382]</td>\n",
       "      <td>[3.327083639533977, 0.41145435003474506]</td>\n",
       "      <td>1</td>\n",
       "    </tr>\n",
       "    <tr>\n",
       "      <th>881186</th>\n",
       "      <td>0.641</td>\n",
       "      <td>0.0335</td>\n",
       "      <td>[0.641, 0.0335]</td>\n",
       "      <td>[3.9640531839057234, 0.3608303855016744]</td>\n",
       "      <td>0</td>\n",
       "    </tr>\n",
       "    <tr>\n",
       "      <th>881187</th>\n",
       "      <td>0.407</td>\n",
       "      <td>0.0267</td>\n",
       "      <td>[0.407, 0.0267]</td>\n",
       "      <td>[2.5169573258184545, 0.2875872027729763]</td>\n",
       "      <td>1</td>\n",
       "    </tr>\n",
       "    <tr>\n",
       "      <th>881188</th>\n",
       "      <td>0.538</td>\n",
       "      <td>0.0572</td>\n",
       "      <td>[0.538, 0.0572]</td>\n",
       "      <td>[3.327083639533977, 0.6161044194237545]</td>\n",
       "      <td>1</td>\n",
       "    </tr>\n",
       "    <tr>\n",
       "      <th>881189</th>\n",
       "      <td>0.810</td>\n",
       "      <td>0.0479</td>\n",
       "      <td>[0.81, 0.0479]</td>\n",
       "      <td>[5.009177970302084, 0.5159335959859761]</td>\n",
       "      <td>0</td>\n",
       "    </tr>\n",
       "    <tr>\n",
       "      <th>881190</th>\n",
       "      <td>0.465</td>\n",
       "      <td>0.0293</td>\n",
       "      <td>[0.465, 0.0293]</td>\n",
       "      <td>[2.8756392051734188, 0.31559194911041966]</td>\n",
       "      <td>1</td>\n",
       "    </tr>\n",
       "    <tr>\n",
       "      <th>881191</th>\n",
       "      <td>0.360</td>\n",
       "      <td>0.0372</td>\n",
       "      <td>[0.36, 0.0372]</td>\n",
       "      <td>[2.2263013201342594, 0.400683293751113]</td>\n",
       "      <td>1</td>\n",
       "    </tr>\n",
       "    <tr>\n",
       "      <th>881192</th>\n",
       "      <td>0.264</td>\n",
       "      <td>0.0322</td>\n",
       "      <td>[0.264, 0.0322]</td>\n",
       "      <td>[1.6326209680984571, 0.3468280123329527]</td>\n",
       "      <td>1</td>\n",
       "    </tr>\n",
       "    <tr>\n",
       "      <th>881193</th>\n",
       "      <td>0.604</td>\n",
       "      <td>0.0542</td>\n",
       "      <td>[0.604, 0.0542]</td>\n",
       "      <td>[3.735238881558591, 0.5837912505728582]</td>\n",
       "      <td>1</td>\n",
       "    </tr>\n",
       "  </tbody>\n",
       "</table>\n",
       "<p>881194 rows × 5 columns</p>\n",
       "</div>"
      ],
      "text/plain": [
       "        af_energy  af_speechiness         features  \\\n",
       "0           0.773          0.0776  [0.773, 0.0776]   \n",
       "1           0.920          0.2260    [0.92, 0.226]   \n",
       "2           0.838          0.0502  [0.838, 0.0502]   \n",
       "3           0.687          0.3260   [0.687, 0.326]   \n",
       "4           0.626          0.2920   [0.626, 0.292]   \n",
       "5           0.669          0.0638  [0.669, 0.0638]   \n",
       "6           0.682          0.1730   [0.682, 0.173]   \n",
       "7           0.772          0.1000     [0.772, 0.1]   \n",
       "8           0.964          0.1290   [0.964, 0.129]   \n",
       "9           0.687          0.0782  [0.687, 0.0782]   \n",
       "10          0.954          0.1190   [0.954, 0.119]   \n",
       "11          0.929          0.0532  [0.929, 0.0532]   \n",
       "12          0.701          0.1060   [0.701, 0.106]   \n",
       "13          0.889          0.0939  [0.889, 0.0939]   \n",
       "14          0.838          0.0529  [0.838, 0.0529]   \n",
       "15          0.917          0.1590   [0.917, 0.159]   \n",
       "16          0.908          0.1030   [0.908, 0.103]   \n",
       "17          0.718          0.0576  [0.718, 0.0576]   \n",
       "18          0.798          0.0705  [0.798, 0.0705]   \n",
       "19          0.909          0.1660   [0.909, 0.166]   \n",
       "20          0.763          0.0523  [0.763, 0.0523]   \n",
       "21          0.859          0.1850   [0.859, 0.185]   \n",
       "22          0.829          0.0681  [0.829, 0.0681]   \n",
       "23          0.619          0.0532  [0.619, 0.0532]   \n",
       "24          0.913          0.0426  [0.913, 0.0426]   \n",
       "25          0.798          0.0432  [0.798, 0.0432]   \n",
       "26          0.989          0.0483  [0.989, 0.0483]   \n",
       "27          0.849          0.0749  [0.849, 0.0749]   \n",
       "28          0.594          0.2820   [0.594, 0.282]   \n",
       "29          0.754          0.2400    [0.754, 0.24]   \n",
       "...           ...             ...              ...   \n",
       "881164      0.437          0.0386  [0.437, 0.0386]   \n",
       "881165      0.604          0.0295  [0.604, 0.0295]   \n",
       "881166      0.815          0.1200    [0.815, 0.12]   \n",
       "881167      0.607          0.0574  [0.607, 0.0574]   \n",
       "881168      0.619          0.0293  [0.619, 0.0293]   \n",
       "881169      0.543          0.0483  [0.543, 0.0483]   \n",
       "881170      0.420          0.0301   [0.42, 0.0301]   \n",
       "881171      0.758          0.1160   [0.758, 0.116]   \n",
       "881172      0.465          0.0321  [0.465, 0.0321]   \n",
       "881173      0.477          0.0307  [0.477, 0.0307]   \n",
       "881174      0.451          0.0585  [0.451, 0.0585]   \n",
       "881175      0.557          0.0590   [0.557, 0.059]   \n",
       "881176      0.666          0.0612  [0.666, 0.0612]   \n",
       "881177      0.664          0.0464  [0.664, 0.0464]   \n",
       "881178      0.532          0.0266  [0.532, 0.0266]   \n",
       "881179      0.534          0.0332  [0.534, 0.0332]   \n",
       "881180      0.761          0.0853  [0.761, 0.0853]   \n",
       "881181      0.651          0.0306  [0.651, 0.0306]   \n",
       "881182      0.425          0.0266  [0.425, 0.0266]   \n",
       "881183      0.705          0.0344  [0.705, 0.0344]   \n",
       "881184      0.487          0.0361  [0.487, 0.0361]   \n",
       "881185      0.538          0.0382  [0.538, 0.0382]   \n",
       "881186      0.641          0.0335  [0.641, 0.0335]   \n",
       "881187      0.407          0.0267  [0.407, 0.0267]   \n",
       "881188      0.538          0.0572  [0.538, 0.0572]   \n",
       "881189      0.810          0.0479   [0.81, 0.0479]   \n",
       "881190      0.465          0.0293  [0.465, 0.0293]   \n",
       "881191      0.360          0.0372   [0.36, 0.0372]   \n",
       "881192      0.264          0.0322  [0.264, 0.0322]   \n",
       "881193      0.604          0.0542  [0.604, 0.0542]   \n",
       "\n",
       "                                  scaled_features  cluster  \n",
       "0         [4.780363667954952, 0.8358339676098487]        0  \n",
       "1          [5.689436707009775, 2.434258720100848]        3  \n",
       "2          [5.18233473964586, 0.5407070254383299]        0  \n",
       "3        [4.2485250192562125, 3.5113643484640553]        2  \n",
       "4        [3.8712906289001294, 3.1451484348205643]        2  \n",
       "5         [4.137209953249499, 0.6871933908957261]        0  \n",
       "6          [4.217604167587681, 1.863392737068348]        3  \n",
       "7          [4.774179497621246, 1.077105628363207]        0  \n",
       "8           [5.96154020169285, 1.389466260588537]        0  \n",
       "9        [4.2485250192562125, 0.8422966013800279]        0  \n",
       "10        [5.899698498355788, 1.2817556977522164]        0  \n",
       "11        [5.745094240013131, 0.5730201942892261]        0  \n",
       "12          [4.3351034039281, 1.1417319660649994]        0  \n",
       "13        [5.497727426664881, 1.0114021850330515]        0  \n",
       "14         [5.18233473964586, 0.5697888774041365]        0  \n",
       "15       [5.6708841960086565, 1.7125979490974992]        3  \n",
       "16        [5.615226663005299, 1.1094187972141032]        0  \n",
       "17        [4.440234299601107, 0.6204128419372072]        0  \n",
       "18        [4.934967926297609, 0.7593594679960609]        0  \n",
       "19        [5.621410833339006, 1.7879953430829238]        3  \n",
       "20       [4.7185219646178895, 0.5633262436339572]        0  \n",
       "21         [5.312202316653692, 1.992645412471933]        3  \n",
       "22        [5.126677206642503, 0.7335089329153439]        0  \n",
       "23       [3.8280014365641852, 0.5730201942892261]        1  \n",
       "24        [5.646147514673831, 0.4588469976827262]        0  \n",
       "25        [4.934967926297609, 0.4653096314529055]        0  \n",
       "26        [6.116144460035508, 0.5202420184994291]        0  \n",
       "27         [5.250360613316629, 0.806752115644042]        0  \n",
       "28       [3.6733971782215282, 3.0374378719842436]        2  \n",
       "29        [4.6628644316145325, 2.585053508071697]        3  \n",
       "...                                           ...      ...  \n",
       "881164   [2.702482435829643, 0.41576277254819793]        1  \n",
       "881165   [3.735238881558591, 0.31774616036714604]        1  \n",
       "881166   [5.0400988219706155, 1.2925267540358485]        0  \n",
       "881167   [3.7537913925597097, 0.6182586306804808]        1  \n",
       "881168  [3.8280014365641852, 0.31559194911041966]        1  \n",
       "881169   [3.3580044912025087, 0.5202420184994291]        1  \n",
       "881170    [2.597351540156636, 0.3242087941373253]        1  \n",
       "881171    [4.687601112949358, 1.2494425289013202]        0  \n",
       "881172   [2.8756392051734188, 0.3457509067045894]        1  \n",
       "881173    [2.949849249177894, 0.3306714279075046]        1  \n",
       "881174    [2.789060820501531, 0.6301067925924762]        1  \n",
       "881175   [3.4445828758743966, 0.6354923207342921]        1  \n",
       "881176    [4.118657442248381, 0.6591886445582826]        0  \n",
       "881177   [4.106289101580968, 0.49977701156052806]        0  \n",
       "881178  [3.2899786175317396, 0.28651009714461306]        1  \n",
       "881179   [3.302346958199152, 0.35759906861658475]        1  \n",
       "881180    [4.706153623950477, 0.9187711009938156]        0  \n",
       "881181    [4.025894887242786, 0.3295943222791413]        0  \n",
       "881182  [2.6282723918251674, 0.28651009714461306]        1  \n",
       "881183   [4.359840085262925, 0.37052433615694325]        0  \n",
       "881184    [3.011690952514957, 0.3888351318391177]        1  \n",
       "881185   [3.327083639533977, 0.41145435003474506]        1  \n",
       "881186   [3.9640531839057234, 0.3608303855016744]        0  \n",
       "881187   [2.5169573258184545, 0.2875872027729763]        1  \n",
       "881188    [3.327083639533977, 0.6161044194237545]        1  \n",
       "881189    [5.009177970302084, 0.5159335959859761]        0  \n",
       "881190  [2.8756392051734188, 0.31559194911041966]        1  \n",
       "881191    [2.2263013201342594, 0.400683293751113]        1  \n",
       "881192   [1.6326209680984571, 0.3468280123329527]        1  \n",
       "881193    [3.735238881558591, 0.5837912505728582]        1  \n",
       "\n",
       "[881194 rows x 5 columns]"
      ]
     },
     "execution_count": 133,
     "metadata": {},
     "output_type": "execute_result"
    }
   ],
   "source": [
    "clustered_data_pd"
   ]
  },
  {
   "cell_type": "code",
   "execution_count": 134,
   "metadata": {},
   "outputs": [
    {
     "data": {
      "image/png": "[encoded data removed]",
      "text/plain": [
       "<Figure size 432x288 with 2 Axes>"
      ]
     },
     "metadata": {},
     "output_type": "display_data"
    }
   ],
   "source": [
    "plt.scatter(clustered_data_pd[\"af_energy\"], clustered_data_pd[\"af_speechiness\"], c=clustered_data_pd[\"cluster\"], cmap=\"viridis\")\n",
    "plt.xlabel(\"af_energy\")\n",
    "plt.ylabel(\"af_speechiness\")\n",
    "plt.title(\"K-Means Clustering with af_energy and af_speechiness\")\n",
    "plt.colorbar().set_label(\"Cluster\")\n",
    "plt.show()"
   ]
  },
  {
   "cell_type": "code",
   "execution_count": 135,
   "metadata": {
    "collapsed": true
   },
   "outputs": [],
   "source": [
    "#cluster 0: the af energy is between 0.6 and 1.0 and the af_speechinness is between 0.0 and 0.15\n",
    "#cluster 1: the af energy is between 0.0 and 0.6 and the af_speechiness is between 0.0 and 0.2 \n",
    "#cluster 2: the af energy is between 0.2 and 1.0 and the af_speechiness is between 0.2 and 1.0\n",
    "#cluster 3: the af energy is between 0.5 and 1.0 and the af_speechiness is between 0.15 and 0.25 "
   ]
  },
  {
   "cell_type": "code",
   "execution_count": 136,
   "metadata": {
    "collapsed": true
   },
   "outputs": [],
   "source": [
    "cluster3 = df3_normalized.select(\"af_energy\", \"af_liveness\") "
   ]
  },
  {
   "cell_type": "code",
   "execution_count": 137,
   "metadata": {
    "collapsed": true
   },
   "outputs": [],
   "source": [
    "required_features = [\"af_energy\", \"af_liveness\"]"
   ]
  },
  {
   "cell_type": "code",
   "execution_count": 138,
   "metadata": {
    "collapsed": true
   },
   "outputs": [],
   "source": [
    "assembler = VectorAssembler(inputCols=required_features, outputCol=\"features\")\n",
    "data_df = assembler.transform(cluster3)"
   ]
  },
  {
   "cell_type": "code",
   "execution_count": 139,
   "metadata": {
    "collapsed": true
   },
   "outputs": [],
   "source": [
    "scaler = StandardScaler(inputCol=\"features\", outputCol=\"scaled_features\")\n",
    "scaler_model = scaler.fit(data_df)\n",
    "data_df = scaler_model.transform(data_df)"
   ]
  },
  {
   "cell_type": "code",
   "execution_count": 140,
   "metadata": {
    "collapsed": true
   },
   "outputs": [],
   "source": [
    "wssee_values = []\n",
    "evaluator = ClusteringEvaluator() "
   ]
  },
  {
   "cell_type": "code",
   "execution_count": 141,
   "metadata": {},
   "outputs": [
    {
     "name": "stdout",
     "output_type": "stream",
     "text": [
      "Silhouette Score: 0.5588134174092381\n",
      "Silhouette Score: 0.608477494235477\n",
      "Silhouette Score: 0.6010636097947389\n",
      "Silhouette Score: 0.5859801304687939\n",
      "Silhouette Score: 0.6109337753106497\n",
      "Silhouette Score: 0.604963197850112\n",
      "Silhouette Score: 0.5828367210361902\n",
      "Silhouette Score: 0.552968258892427\n"
     ]
    }
   ],
   "source": [
    "for i in range(2, 10):\n",
    "    KMeans_mod = KMeans(featuresCol=\"scaled_features\", k=i)\n",
    "    KMeans_fit = KMeans_mod.fit(data_df)\n",
    "    output = KMeans_fit.transform(data_df)\n",
    "    score = evaluator.evaluate(output)\n",
    "    wssee_values.append(score)\n",
    "    print(\"Silhouette Score:\", score)"
   ]
  },
  {
   "cell_type": "code",
   "execution_count": 142,
   "metadata": {
    "collapsed": true
   },
   "outputs": [],
   "source": [
    "#choose two clusters "
   ]
  },
  {
   "cell_type": "code",
   "execution_count": 143,
   "metadata": {},
   "outputs": [
    {
     "data": {
      "image/png": "[encoded data removed]",
      "text/plain": [
       "<Figure size 432x288 with 1 Axes>"
      ]
     },
     "metadata": {},
     "output_type": "display_data"
    }
   ],
   "source": [
    "plt.plot(range(2, 10), wssee_values)\n",
    "plt.xlabel(\"Number of Clusters (K)\")\n",
    "plt.ylabel(\"Within Set Sum of Squared Errors (WSSEE)\")\n",
    "plt.title(\"The Elbow Method\")\n",
    "plt.grid()\n",
    "plt.show() "
   ]
  },
  {
   "cell_type": "code",
   "execution_count": 148,
   "metadata": {
    "collapsed": true
   },
   "outputs": [],
   "source": [
    "kmeans = KMeans(k=5, featuresCol=\"scaled_features\", predictionCol=\"cluster\")\n",
    "kmeans_model = kmeans.fit(data_df)"
   ]
  },
  {
   "cell_type": "code",
   "execution_count": 149,
   "metadata": {
    "collapsed": true
   },
   "outputs": [],
   "source": [
    "clustered_data = kmeans_model.transform(data_df)"
   ]
  },
  {
   "cell_type": "code",
   "execution_count": 150,
   "metadata": {
    "collapsed": true
   },
   "outputs": [],
   "source": [
    "clustered_data_pd = clustered_data.toPandas()"
   ]
  },
  {
   "cell_type": "code",
   "execution_count": 151,
   "metadata": {},
   "outputs": [
    {
     "data": {
      "image/png": "[encoded data removed]",
      "text/plain": [
       "<Figure size 432x288 with 2 Axes>"
      ]
     },
     "metadata": {},
     "output_type": "display_data"
    }
   ],
   "source": [
    "plt.scatter(clustered_data_pd[\"af_energy\"], clustered_data_pd[\"af_liveness\"], c=clustered_data_pd[\"cluster\"], cmap=\"viridis\")\n",
    "plt.title(\"KMeans Clustering for af_energy and af_liveness\")\n",
    "plt.xlabel(\"af_energy\")\n",
    "plt.ylabel(\"af_liveness\")\n",
    "plt.colorbar().set_label(\"cluster\")\n",
    "plt.show()"
   ]
  },
  {
   "cell_type": "code",
   "execution_count": 160,
   "metadata": {
    "collapsed": true
   },
   "outputs": [],
   "source": [
    "#cluster 0: the af energy is between 0.5 and 0.7 and the af liveness is between 0.0 and 0.3\n",
    "#cluster 1: the af energy is betwen 0.4 and 1.0 and the af liveness is between 0.4 and 1.0\n",
    "#cluster 2: the af energy is between 0.7 and 1.0 and the af liveness is between 0.0 and 0.2\n",
    "#cluster 3: the af energy is between 0.0 and 0.5 and the af liveness is between 0.0 and 0.4\n",
    "#cluster 4: the af energy is between 0.4 and 1.0 and the af liveness is between 0.2 and 1.0"
   ]
  },
  {
   "cell_type": "code",
   "execution_count": 152,
   "metadata": {
    "collapsed": true
   },
   "outputs": [],
   "source": [
    "#kmeans cluster with af energy and af acousticness"
   ]
  },
  {
   "cell_type": "code",
   "execution_count": 161,
   "metadata": {
    "collapsed": true
   },
   "outputs": [],
   "source": [
    "cluster4 = df3_normalized.select(\"popularity\", \"af_energy\")"
   ]
  },
  {
   "cell_type": "code",
   "execution_count": 162,
   "metadata": {
    "collapsed": true
   },
   "outputs": [],
   "source": [
    "required_features = [\"popularity\", \"af_energy\"]"
   ]
  },
  {
   "cell_type": "code",
   "execution_count": 163,
   "metadata": {},
   "outputs": [],
   "source": [
    "assembler = VectorAssembler(inputCols=required_features, outputCol=\"features\")\n",
    "data_df = assembler.transform(cluster4)"
   ]
  },
  {
   "cell_type": "code",
   "execution_count": 164,
   "metadata": {
    "collapsed": true
   },
   "outputs": [],
   "source": [
    "scaler = StandardScaler(inputCol=\"features\", outputCol=\"scaled_features\")\n",
    "scaler_model = scaler.fit(data_df)\n",
    "data_df = scaler_model.transform(data_df)"
   ]
  },
  {
   "cell_type": "code",
   "execution_count": 165,
   "metadata": {
    "collapsed": true
   },
   "outputs": [],
   "source": [
    "wssee_values = []\n",
    "evaluator = ClusteringEvaluator() "
   ]
  },
  {
   "cell_type": "code",
   "execution_count": 166,
   "metadata": {},
   "outputs": [
    {
     "name": "stdout",
     "output_type": "stream",
     "text": [
      "Silhouette Score: 0.8975317962701697\n",
      "Silhouette Score: 0.4081324975749436\n",
      "Silhouette Score: 0.033161588412886196\n",
      "Silhouette Score: -0.006701030910086592\n",
      "Silhouette Score: -0.06694478483364841\n",
      "Silhouette Score: -0.0643320456586524\n",
      "Silhouette Score: -0.09882487981817237\n",
      "Silhouette Score: -0.11120156565098935\n"
     ]
    }
   ],
   "source": [
    "for i in range(2, 10):\n",
    "    KMeans_mod = KMeans(featuresCol=\"scaled_features\", k=i)\n",
    "    KMeans_fit = KMeans_mod.fit(data_df)\n",
    "    output = KMeans_fit.transform(data_df)\n",
    "    score = evaluator.evaluate(output)\n",
    "    wssee_values.append(score)\n",
    "    print(\"Silhouette Score:\", score)"
   ]
  },
  {
   "cell_type": "code",
   "execution_count": 167,
   "metadata": {
    "collapsed": true
   },
   "outputs": [],
   "source": [
    "#four clusters"
   ]
  },
  {
   "cell_type": "code",
   "execution_count": 168,
   "metadata": {},
   "outputs": [
    {
     "data": {
      "image/png": "[encoded data removed]",
      "text/plain": [
       "<Figure size 432x288 with 1 Axes>"
      ]
     },
     "metadata": {},
     "output_type": "display_data"
    }
   ],
   "source": [
    "plt.plot(range(2, 10), wssee_values)\n",
    "plt.xlabel(\"Number of Clusters (k)\")\n",
    "plt.ylabel(\"Within Set Sum of Squared Errors (WSSSE)\")\n",
    "plt.title(\"Elbow Method for Optimal K\")\n",
    "plt.grid()\n",
    "plt.show()"
   ]
  },
  {
   "cell_type": "code",
   "execution_count": 169,
   "metadata": {
    "collapsed": true
   },
   "outputs": [],
   "source": [
    "kmeans = KMeans(k=6, featuresCol=\"scaled_features\", predictionCol=\"cluster\")\n",
    "kmeans_model = kmeans.fit(data_df)"
   ]
  },
  {
   "cell_type": "code",
   "execution_count": 170,
   "metadata": {
    "collapsed": true
   },
   "outputs": [],
   "source": [
    "clustered_data = kmeans_model.transform(data_df)"
   ]
  },
  {
   "cell_type": "code",
   "execution_count": 171,
   "metadata": {
    "collapsed": true
   },
   "outputs": [],
   "source": [
    "clustered_data_pd = clustered_data.toPandas()"
   ]
  },
  {
   "cell_type": "code",
   "execution_count": 172,
   "metadata": {},
   "outputs": [
    {
     "data": {
      "text/html": [
       "<div>\n",
       "<style scoped>\n",
       "    .dataframe tbody tr th:only-of-type {\n",
       "        vertical-align: middle;\n",
       "    }\n",
       "\n",
       "    .dataframe tbody tr th {\n",
       "        vertical-align: top;\n",
       "    }\n",
       "\n",
       "    .dataframe thead th {\n",
       "        text-align: right;\n",
       "    }\n",
       "</style>\n",
       "<table border=\"1\" class=\"dataframe\">\n",
       "  <thead>\n",
       "    <tr style=\"text-align: right;\">\n",
       "      <th></th>\n",
       "      <th>popularity</th>\n",
       "      <th>af_energy</th>\n",
       "      <th>features</th>\n",
       "      <th>scaled_features</th>\n",
       "      <th>cluster</th>\n",
       "    </tr>\n",
       "  </thead>\n",
       "  <tbody>\n",
       "    <tr>\n",
       "      <th>0</th>\n",
       "      <td>78</td>\n",
       "      <td>0.773</td>\n",
       "      <td>[78.0, 0.773]</td>\n",
       "      <td>[2.3767357295398015, 4.780363667954952]</td>\n",
       "      <td>2</td>\n",
       "    </tr>\n",
       "    <tr>\n",
       "      <th>1</th>\n",
       "      <td>72</td>\n",
       "      <td>0.920</td>\n",
       "      <td>[72.0, 0.92]</td>\n",
       "      <td>[2.193909904190586, 5.689436707009775]</td>\n",
       "      <td>2</td>\n",
       "    </tr>\n",
       "    <tr>\n",
       "      <th>2</th>\n",
       "      <td>73</td>\n",
       "      <td>0.838</td>\n",
       "      <td>[73.0, 0.838]</td>\n",
       "      <td>[2.224380875082122, 5.18233473964586]</td>\n",
       "      <td>2</td>\n",
       "    </tr>\n",
       "    <tr>\n",
       "      <th>3</th>\n",
       "      <td>0</td>\n",
       "      <td>0.687</td>\n",
       "      <td>[0.0, 0.687]</td>\n",
       "      <td>[0.0, 4.2485250192562125]</td>\n",
       "      <td>5</td>\n",
       "    </tr>\n",
       "    <tr>\n",
       "      <th>4</th>\n",
       "      <td>0</td>\n",
       "      <td>0.626</td>\n",
       "      <td>[0.0, 0.626]</td>\n",
       "      <td>[0.0, 3.8712906289001294]</td>\n",
       "      <td>5</td>\n",
       "    </tr>\n",
       "    <tr>\n",
       "      <th>5</th>\n",
       "      <td>0</td>\n",
       "      <td>0.669</td>\n",
       "      <td>[0.0, 0.669]</td>\n",
       "      <td>[0.0, 4.137209953249499]</td>\n",
       "      <td>5</td>\n",
       "    </tr>\n",
       "    <tr>\n",
       "      <th>6</th>\n",
       "      <td>56</td>\n",
       "      <td>0.682</td>\n",
       "      <td>[56.0, 0.682]</td>\n",
       "      <td>[1.7063743699260114, 4.217604167587681]</td>\n",
       "      <td>4</td>\n",
       "    </tr>\n",
       "    <tr>\n",
       "      <th>7</th>\n",
       "      <td>74</td>\n",
       "      <td>0.772</td>\n",
       "      <td>[74.0, 0.772]</td>\n",
       "      <td>[2.2548518459736577, 4.774179497621246]</td>\n",
       "      <td>2</td>\n",
       "    </tr>\n",
       "    <tr>\n",
       "      <th>8</th>\n",
       "      <td>59</td>\n",
       "      <td>0.964</td>\n",
       "      <td>[59.0, 0.964]</td>\n",
       "      <td>[1.7977872826006192, 5.96154020169285]</td>\n",
       "      <td>2</td>\n",
       "    </tr>\n",
       "    <tr>\n",
       "      <th>9</th>\n",
       "      <td>0</td>\n",
       "      <td>0.687</td>\n",
       "      <td>[0.0, 0.687]</td>\n",
       "      <td>[0.0, 4.2485250192562125]</td>\n",
       "      <td>5</td>\n",
       "    </tr>\n",
       "    <tr>\n",
       "      <th>10</th>\n",
       "      <td>0</td>\n",
       "      <td>0.954</td>\n",
       "      <td>[0.0, 0.954]</td>\n",
       "      <td>[0.0, 5.899698498355788]</td>\n",
       "      <td>0</td>\n",
       "    </tr>\n",
       "    <tr>\n",
       "      <th>11</th>\n",
       "      <td>66</td>\n",
       "      <td>0.929</td>\n",
       "      <td>[66.0, 0.929]</td>\n",
       "      <td>[2.0110840788413706, 5.745094240013131]</td>\n",
       "      <td>2</td>\n",
       "    </tr>\n",
       "    <tr>\n",
       "      <th>12</th>\n",
       "      <td>80</td>\n",
       "      <td>0.701</td>\n",
       "      <td>[80.0, 0.701]</td>\n",
       "      <td>[2.4376776713228736, 4.3351034039281]</td>\n",
       "      <td>4</td>\n",
       "    </tr>\n",
       "    <tr>\n",
       "      <th>13</th>\n",
       "      <td>0</td>\n",
       "      <td>0.889</td>\n",
       "      <td>[0.0, 0.889]</td>\n",
       "      <td>[0.0, 5.497727426664881]</td>\n",
       "      <td>0</td>\n",
       "    </tr>\n",
       "    <tr>\n",
       "      <th>14</th>\n",
       "      <td>69</td>\n",
       "      <td>0.838</td>\n",
       "      <td>[69.0, 0.838]</td>\n",
       "      <td>[2.102496991515978, 5.18233473964586]</td>\n",
       "      <td>2</td>\n",
       "    </tr>\n",
       "    <tr>\n",
       "      <th>15</th>\n",
       "      <td>48</td>\n",
       "      <td>0.917</td>\n",
       "      <td>[48.0, 0.917]</td>\n",
       "      <td>[1.4626066027937241, 5.6708841960086565]</td>\n",
       "      <td>2</td>\n",
       "    </tr>\n",
       "    <tr>\n",
       "      <th>16</th>\n",
       "      <td>69</td>\n",
       "      <td>0.908</td>\n",
       "      <td>[69.0, 0.908]</td>\n",
       "      <td>[2.102496991515978, 5.615226663005299]</td>\n",
       "      <td>2</td>\n",
       "    </tr>\n",
       "    <tr>\n",
       "      <th>17</th>\n",
       "      <td>2</td>\n",
       "      <td>0.718</td>\n",
       "      <td>[2.0, 0.718]</td>\n",
       "      <td>[0.060941941783071836, 4.440234299601107]</td>\n",
       "      <td>0</td>\n",
       "    </tr>\n",
       "    <tr>\n",
       "      <th>18</th>\n",
       "      <td>0</td>\n",
       "      <td>0.798</td>\n",
       "      <td>[0.0, 0.798]</td>\n",
       "      <td>[0.0, 4.934967926297609]</td>\n",
       "      <td>0</td>\n",
       "    </tr>\n",
       "    <tr>\n",
       "      <th>19</th>\n",
       "      <td>0</td>\n",
       "      <td>0.909</td>\n",
       "      <td>[0.0, 0.909]</td>\n",
       "      <td>[0.0, 5.621410833339006]</td>\n",
       "      <td>0</td>\n",
       "    </tr>\n",
       "    <tr>\n",
       "      <th>20</th>\n",
       "      <td>74</td>\n",
       "      <td>0.763</td>\n",
       "      <td>[74.0, 0.763]</td>\n",
       "      <td>[2.2548518459736577, 4.7185219646178895]</td>\n",
       "      <td>2</td>\n",
       "    </tr>\n",
       "    <tr>\n",
       "      <th>21</th>\n",
       "      <td>0</td>\n",
       "      <td>0.859</td>\n",
       "      <td>[0.0, 0.859]</td>\n",
       "      <td>[0.0, 5.312202316653692]</td>\n",
       "      <td>0</td>\n",
       "    </tr>\n",
       "    <tr>\n",
       "      <th>22</th>\n",
       "      <td>0</td>\n",
       "      <td>0.829</td>\n",
       "      <td>[0.0, 0.829]</td>\n",
       "      <td>[0.0, 5.126677206642503]</td>\n",
       "      <td>0</td>\n",
       "    </tr>\n",
       "    <tr>\n",
       "      <th>23</th>\n",
       "      <td>23</td>\n",
       "      <td>0.619</td>\n",
       "      <td>[23.0, 0.619]</td>\n",
       "      <td>[0.7008323305053261, 3.8280014365641852]</td>\n",
       "      <td>5</td>\n",
       "    </tr>\n",
       "    <tr>\n",
       "      <th>24</th>\n",
       "      <td>80</td>\n",
       "      <td>0.913</td>\n",
       "      <td>[80.0, 0.913]</td>\n",
       "      <td>[2.4376776713228736, 5.646147514673831]</td>\n",
       "      <td>2</td>\n",
       "    </tr>\n",
       "    <tr>\n",
       "      <th>25</th>\n",
       "      <td>0</td>\n",
       "      <td>0.798</td>\n",
       "      <td>[0.0, 0.798]</td>\n",
       "      <td>[0.0, 4.934967926297609]</td>\n",
       "      <td>0</td>\n",
       "    </tr>\n",
       "    <tr>\n",
       "      <th>26</th>\n",
       "      <td>74</td>\n",
       "      <td>0.989</td>\n",
       "      <td>[74.0, 0.989]</td>\n",
       "      <td>[2.2548518459736577, 6.116144460035508]</td>\n",
       "      <td>2</td>\n",
       "    </tr>\n",
       "    <tr>\n",
       "      <th>27</th>\n",
       "      <td>0</td>\n",
       "      <td>0.849</td>\n",
       "      <td>[0.0, 0.849]</td>\n",
       "      <td>[0.0, 5.250360613316629]</td>\n",
       "      <td>0</td>\n",
       "    </tr>\n",
       "    <tr>\n",
       "      <th>28</th>\n",
       "      <td>23</td>\n",
       "      <td>0.594</td>\n",
       "      <td>[23.0, 0.594]</td>\n",
       "      <td>[0.7008323305053261, 3.6733971782215282]</td>\n",
       "      <td>5</td>\n",
       "    </tr>\n",
       "    <tr>\n",
       "      <th>29</th>\n",
       "      <td>0</td>\n",
       "      <td>0.754</td>\n",
       "      <td>[0.0, 0.754]</td>\n",
       "      <td>[0.0, 4.6628644316145325]</td>\n",
       "      <td>0</td>\n",
       "    </tr>\n",
       "    <tr>\n",
       "      <th>...</th>\n",
       "      <td>...</td>\n",
       "      <td>...</td>\n",
       "      <td>...</td>\n",
       "      <td>...</td>\n",
       "      <td>...</td>\n",
       "    </tr>\n",
       "    <tr>\n",
       "      <th>881164</th>\n",
       "      <td>74</td>\n",
       "      <td>0.437</td>\n",
       "      <td>[74.0, 0.437]</td>\n",
       "      <td>[2.2548518459736577, 2.702482435829643]</td>\n",
       "      <td>3</td>\n",
       "    </tr>\n",
       "    <tr>\n",
       "      <th>881165</th>\n",
       "      <td>0</td>\n",
       "      <td>0.604</td>\n",
       "      <td>[0.0, 0.604]</td>\n",
       "      <td>[0.0, 3.735238881558591]</td>\n",
       "      <td>5</td>\n",
       "    </tr>\n",
       "    <tr>\n",
       "      <th>881166</th>\n",
       "      <td>0</td>\n",
       "      <td>0.815</td>\n",
       "      <td>[0.0, 0.815]</td>\n",
       "      <td>[0.0, 5.0400988219706155]</td>\n",
       "      <td>0</td>\n",
       "    </tr>\n",
       "    <tr>\n",
       "      <th>881167</th>\n",
       "      <td>67</td>\n",
       "      <td>0.607</td>\n",
       "      <td>[67.0, 0.607]</td>\n",
       "      <td>[2.0415550497329065, 3.7537913925597097]</td>\n",
       "      <td>4</td>\n",
       "    </tr>\n",
       "    <tr>\n",
       "      <th>881168</th>\n",
       "      <td>24</td>\n",
       "      <td>0.619</td>\n",
       "      <td>[24.0, 0.619]</td>\n",
       "      <td>[0.7313033013968621, 3.8280014365641852]</td>\n",
       "      <td>5</td>\n",
       "    </tr>\n",
       "    <tr>\n",
       "      <th>881169</th>\n",
       "      <td>51</td>\n",
       "      <td>0.543</td>\n",
       "      <td>[51.0, 0.543]</td>\n",
       "      <td>[1.5540195154683318, 3.3580044912025087]</td>\n",
       "      <td>3</td>\n",
       "    </tr>\n",
       "    <tr>\n",
       "      <th>881170</th>\n",
       "      <td>47</td>\n",
       "      <td>0.420</td>\n",
       "      <td>[47.0, 0.42]</td>\n",
       "      <td>[1.432135631902188, 2.597351540156636]</td>\n",
       "      <td>3</td>\n",
       "    </tr>\n",
       "    <tr>\n",
       "      <th>881171</th>\n",
       "      <td>58</td>\n",
       "      <td>0.758</td>\n",
       "      <td>[58.0, 0.758]</td>\n",
       "      <td>[1.7673163117090833, 4.687601112949358]</td>\n",
       "      <td>2</td>\n",
       "    </tr>\n",
       "    <tr>\n",
       "      <th>881172</th>\n",
       "      <td>45</td>\n",
       "      <td>0.465</td>\n",
       "      <td>[45.0, 0.465]</td>\n",
       "      <td>[1.3711936901191164, 2.8756392051734188]</td>\n",
       "      <td>3</td>\n",
       "    </tr>\n",
       "    <tr>\n",
       "      <th>881173</th>\n",
       "      <td>65</td>\n",
       "      <td>0.477</td>\n",
       "      <td>[65.0, 0.477]</td>\n",
       "      <td>[1.9806131079498346, 2.949849249177894]</td>\n",
       "      <td>3</td>\n",
       "    </tr>\n",
       "    <tr>\n",
       "      <th>881174</th>\n",
       "      <td>0</td>\n",
       "      <td>0.451</td>\n",
       "      <td>[0.0, 0.451]</td>\n",
       "      <td>[0.0, 2.789060820501531]</td>\n",
       "      <td>1</td>\n",
       "    </tr>\n",
       "    <tr>\n",
       "      <th>881175</th>\n",
       "      <td>88</td>\n",
       "      <td>0.557</td>\n",
       "      <td>[88.0, 0.557]</td>\n",
       "      <td>[2.6814454384551607, 3.4445828758743966]</td>\n",
       "      <td>3</td>\n",
       "    </tr>\n",
       "    <tr>\n",
       "      <th>881176</th>\n",
       "      <td>56</td>\n",
       "      <td>0.666</td>\n",
       "      <td>[56.0, 0.666]</td>\n",
       "      <td>[1.7063743699260114, 4.118657442248381]</td>\n",
       "      <td>4</td>\n",
       "    </tr>\n",
       "    <tr>\n",
       "      <th>881177</th>\n",
       "      <td>0</td>\n",
       "      <td>0.664</td>\n",
       "      <td>[0.0, 0.664]</td>\n",
       "      <td>[0.0, 4.106289101580968]</td>\n",
       "      <td>5</td>\n",
       "    </tr>\n",
       "    <tr>\n",
       "      <th>881178</th>\n",
       "      <td>0</td>\n",
       "      <td>0.532</td>\n",
       "      <td>[0.0, 0.532]</td>\n",
       "      <td>[0.0, 3.2899786175317396]</td>\n",
       "      <td>5</td>\n",
       "    </tr>\n",
       "    <tr>\n",
       "      <th>881179</th>\n",
       "      <td>62</td>\n",
       "      <td>0.534</td>\n",
       "      <td>[62.0, 0.534]</td>\n",
       "      <td>[1.8892001952752269, 3.302346958199152]</td>\n",
       "      <td>3</td>\n",
       "    </tr>\n",
       "    <tr>\n",
       "      <th>881180</th>\n",
       "      <td>83</td>\n",
       "      <td>0.761</td>\n",
       "      <td>[83.0, 0.761]</td>\n",
       "      <td>[2.529090583997481, 4.706153623950477]</td>\n",
       "      <td>2</td>\n",
       "    </tr>\n",
       "    <tr>\n",
       "      <th>881181</th>\n",
       "      <td>72</td>\n",
       "      <td>0.651</td>\n",
       "      <td>[72.0, 0.651]</td>\n",
       "      <td>[2.193909904190586, 4.025894887242786]</td>\n",
       "      <td>4</td>\n",
       "    </tr>\n",
       "    <tr>\n",
       "      <th>881182</th>\n",
       "      <td>55</td>\n",
       "      <td>0.425</td>\n",
       "      <td>[55.0, 0.425]</td>\n",
       "      <td>[1.6759033990344754, 2.6282723918251674]</td>\n",
       "      <td>3</td>\n",
       "    </tr>\n",
       "    <tr>\n",
       "      <th>881183</th>\n",
       "      <td>42</td>\n",
       "      <td>0.705</td>\n",
       "      <td>[42.0, 0.705]</td>\n",
       "      <td>[1.2797807774445085, 4.359840085262925]</td>\n",
       "      <td>4</td>\n",
       "    </tr>\n",
       "    <tr>\n",
       "      <th>881184</th>\n",
       "      <td>0</td>\n",
       "      <td>0.487</td>\n",
       "      <td>[0.0, 0.487]</td>\n",
       "      <td>[0.0, 3.011690952514957]</td>\n",
       "      <td>5</td>\n",
       "    </tr>\n",
       "    <tr>\n",
       "      <th>881185</th>\n",
       "      <td>79</td>\n",
       "      <td>0.538</td>\n",
       "      <td>[79.0, 0.538]</td>\n",
       "      <td>[2.4072067004313373, 3.327083639533977]</td>\n",
       "      <td>3</td>\n",
       "    </tr>\n",
       "    <tr>\n",
       "      <th>881186</th>\n",
       "      <td>64</td>\n",
       "      <td>0.641</td>\n",
       "      <td>[64.0, 0.641]</td>\n",
       "      <td>[1.9501421370582988, 3.9640531839057234]</td>\n",
       "      <td>4</td>\n",
       "    </tr>\n",
       "    <tr>\n",
       "      <th>881187</th>\n",
       "      <td>82</td>\n",
       "      <td>0.407</td>\n",
       "      <td>[82.0, 0.407]</td>\n",
       "      <td>[2.4986196131059453, 2.5169573258184545]</td>\n",
       "      <td>3</td>\n",
       "    </tr>\n",
       "    <tr>\n",
       "      <th>881188</th>\n",
       "      <td>1</td>\n",
       "      <td>0.538</td>\n",
       "      <td>[1.0, 0.538]</td>\n",
       "      <td>[0.030470970891535918, 3.327083639533977]</td>\n",
       "      <td>5</td>\n",
       "    </tr>\n",
       "    <tr>\n",
       "      <th>881189</th>\n",
       "      <td>23</td>\n",
       "      <td>0.810</td>\n",
       "      <td>[23.0, 0.81]</td>\n",
       "      <td>[0.7008323305053261, 5.009177970302084]</td>\n",
       "      <td>0</td>\n",
       "    </tr>\n",
       "    <tr>\n",
       "      <th>881190</th>\n",
       "      <td>51</td>\n",
       "      <td>0.465</td>\n",
       "      <td>[51.0, 0.465]</td>\n",
       "      <td>[1.5540195154683318, 2.8756392051734188]</td>\n",
       "      <td>3</td>\n",
       "    </tr>\n",
       "    <tr>\n",
       "      <th>881191</th>\n",
       "      <td>62</td>\n",
       "      <td>0.360</td>\n",
       "      <td>[62.0, 0.36]</td>\n",
       "      <td>[1.8892001952752269, 2.2263013201342594]</td>\n",
       "      <td>3</td>\n",
       "    </tr>\n",
       "    <tr>\n",
       "      <th>881192</th>\n",
       "      <td>0</td>\n",
       "      <td>0.264</td>\n",
       "      <td>[0.0, 0.264]</td>\n",
       "      <td>[0.0, 1.6326209680984571]</td>\n",
       "      <td>1</td>\n",
       "    </tr>\n",
       "    <tr>\n",
       "      <th>881193</th>\n",
       "      <td>0</td>\n",
       "      <td>0.604</td>\n",
       "      <td>[0.0, 0.604]</td>\n",
       "      <td>[0.0, 3.735238881558591]</td>\n",
       "      <td>5</td>\n",
       "    </tr>\n",
       "  </tbody>\n",
       "</table>\n",
       "<p>881194 rows × 5 columns</p>\n",
       "</div>"
      ],
      "text/plain": [
       "        popularity  af_energy       features  \\\n",
       "0               78      0.773  [78.0, 0.773]   \n",
       "1               72      0.920   [72.0, 0.92]   \n",
       "2               73      0.838  [73.0, 0.838]   \n",
       "3                0      0.687   [0.0, 0.687]   \n",
       "4                0      0.626   [0.0, 0.626]   \n",
       "5                0      0.669   [0.0, 0.669]   \n",
       "6               56      0.682  [56.0, 0.682]   \n",
       "7               74      0.772  [74.0, 0.772]   \n",
       "8               59      0.964  [59.0, 0.964]   \n",
       "9                0      0.687   [0.0, 0.687]   \n",
       "10               0      0.954   [0.0, 0.954]   \n",
       "11              66      0.929  [66.0, 0.929]   \n",
       "12              80      0.701  [80.0, 0.701]   \n",
       "13               0      0.889   [0.0, 0.889]   \n",
       "14              69      0.838  [69.0, 0.838]   \n",
       "15              48      0.917  [48.0, 0.917]   \n",
       "16              69      0.908  [69.0, 0.908]   \n",
       "17               2      0.718   [2.0, 0.718]   \n",
       "18               0      0.798   [0.0, 0.798]   \n",
       "19               0      0.909   [0.0, 0.909]   \n",
       "20              74      0.763  [74.0, 0.763]   \n",
       "21               0      0.859   [0.0, 0.859]   \n",
       "22               0      0.829   [0.0, 0.829]   \n",
       "23              23      0.619  [23.0, 0.619]   \n",
       "24              80      0.913  [80.0, 0.913]   \n",
       "25               0      0.798   [0.0, 0.798]   \n",
       "26              74      0.989  [74.0, 0.989]   \n",
       "27               0      0.849   [0.0, 0.849]   \n",
       "28              23      0.594  [23.0, 0.594]   \n",
       "29               0      0.754   [0.0, 0.754]   \n",
       "...            ...        ...            ...   \n",
       "881164          74      0.437  [74.0, 0.437]   \n",
       "881165           0      0.604   [0.0, 0.604]   \n",
       "881166           0      0.815   [0.0, 0.815]   \n",
       "881167          67      0.607  [67.0, 0.607]   \n",
       "881168          24      0.619  [24.0, 0.619]   \n",
       "881169          51      0.543  [51.0, 0.543]   \n",
       "881170          47      0.420   [47.0, 0.42]   \n",
       "881171          58      0.758  [58.0, 0.758]   \n",
       "881172          45      0.465  [45.0, 0.465]   \n",
       "881173          65      0.477  [65.0, 0.477]   \n",
       "881174           0      0.451   [0.0, 0.451]   \n",
       "881175          88      0.557  [88.0, 0.557]   \n",
       "881176          56      0.666  [56.0, 0.666]   \n",
       "881177           0      0.664   [0.0, 0.664]   \n",
       "881178           0      0.532   [0.0, 0.532]   \n",
       "881179          62      0.534  [62.0, 0.534]   \n",
       "881180          83      0.761  [83.0, 0.761]   \n",
       "881181          72      0.651  [72.0, 0.651]   \n",
       "881182          55      0.425  [55.0, 0.425]   \n",
       "881183          42      0.705  [42.0, 0.705]   \n",
       "881184           0      0.487   [0.0, 0.487]   \n",
       "881185          79      0.538  [79.0, 0.538]   \n",
       "881186          64      0.641  [64.0, 0.641]   \n",
       "881187          82      0.407  [82.0, 0.407]   \n",
       "881188           1      0.538   [1.0, 0.538]   \n",
       "881189          23      0.810   [23.0, 0.81]   \n",
       "881190          51      0.465  [51.0, 0.465]   \n",
       "881191          62      0.360   [62.0, 0.36]   \n",
       "881192           0      0.264   [0.0, 0.264]   \n",
       "881193           0      0.604   [0.0, 0.604]   \n",
       "\n",
       "                                  scaled_features  cluster  \n",
       "0         [2.3767357295398015, 4.780363667954952]        2  \n",
       "1          [2.193909904190586, 5.689436707009775]        2  \n",
       "2           [2.224380875082122, 5.18233473964586]        2  \n",
       "3                       [0.0, 4.2485250192562125]        5  \n",
       "4                       [0.0, 3.8712906289001294]        5  \n",
       "5                        [0.0, 4.137209953249499]        5  \n",
       "6         [1.7063743699260114, 4.217604167587681]        4  \n",
       "7         [2.2548518459736577, 4.774179497621246]        2  \n",
       "8          [1.7977872826006192, 5.96154020169285]        2  \n",
       "9                       [0.0, 4.2485250192562125]        5  \n",
       "10                       [0.0, 5.899698498355788]        0  \n",
       "11        [2.0110840788413706, 5.745094240013131]        2  \n",
       "12          [2.4376776713228736, 4.3351034039281]        4  \n",
       "13                       [0.0, 5.497727426664881]        0  \n",
       "14          [2.102496991515978, 5.18233473964586]        2  \n",
       "15       [1.4626066027937241, 5.6708841960086565]        2  \n",
       "16         [2.102496991515978, 5.615226663005299]        2  \n",
       "17      [0.060941941783071836, 4.440234299601107]        0  \n",
       "18                       [0.0, 4.934967926297609]        0  \n",
       "19                       [0.0, 5.621410833339006]        0  \n",
       "20       [2.2548518459736577, 4.7185219646178895]        2  \n",
       "21                       [0.0, 5.312202316653692]        0  \n",
       "22                       [0.0, 5.126677206642503]        0  \n",
       "23       [0.7008323305053261, 3.8280014365641852]        5  \n",
       "24        [2.4376776713228736, 5.646147514673831]        2  \n",
       "25                       [0.0, 4.934967926297609]        0  \n",
       "26        [2.2548518459736577, 6.116144460035508]        2  \n",
       "27                       [0.0, 5.250360613316629]        0  \n",
       "28       [0.7008323305053261, 3.6733971782215282]        5  \n",
       "29                      [0.0, 4.6628644316145325]        0  \n",
       "...                                           ...      ...  \n",
       "881164    [2.2548518459736577, 2.702482435829643]        3  \n",
       "881165                   [0.0, 3.735238881558591]        5  \n",
       "881166                  [0.0, 5.0400988219706155]        0  \n",
       "881167   [2.0415550497329065, 3.7537913925597097]        4  \n",
       "881168   [0.7313033013968621, 3.8280014365641852]        5  \n",
       "881169   [1.5540195154683318, 3.3580044912025087]        3  \n",
       "881170     [1.432135631902188, 2.597351540156636]        3  \n",
       "881171    [1.7673163117090833, 4.687601112949358]        2  \n",
       "881172   [1.3711936901191164, 2.8756392051734188]        3  \n",
       "881173    [1.9806131079498346, 2.949849249177894]        3  \n",
       "881174                   [0.0, 2.789060820501531]        1  \n",
       "881175   [2.6814454384551607, 3.4445828758743966]        3  \n",
       "881176    [1.7063743699260114, 4.118657442248381]        4  \n",
       "881177                   [0.0, 4.106289101580968]        5  \n",
       "881178                  [0.0, 3.2899786175317396]        5  \n",
       "881179    [1.8892001952752269, 3.302346958199152]        3  \n",
       "881180     [2.529090583997481, 4.706153623950477]        2  \n",
       "881181     [2.193909904190586, 4.025894887242786]        4  \n",
       "881182   [1.6759033990344754, 2.6282723918251674]        3  \n",
       "881183    [1.2797807774445085, 4.359840085262925]        4  \n",
       "881184                   [0.0, 3.011690952514957]        5  \n",
       "881185    [2.4072067004313373, 3.327083639533977]        3  \n",
       "881186   [1.9501421370582988, 3.9640531839057234]        4  \n",
       "881187   [2.4986196131059453, 2.5169573258184545]        3  \n",
       "881188  [0.030470970891535918, 3.327083639533977]        5  \n",
       "881189    [0.7008323305053261, 5.009177970302084]        0  \n",
       "881190   [1.5540195154683318, 2.8756392051734188]        3  \n",
       "881191   [1.8892001952752269, 2.2263013201342594]        3  \n",
       "881192                  [0.0, 1.6326209680984571]        1  \n",
       "881193                   [0.0, 3.735238881558591]        5  \n",
       "\n",
       "[881194 rows x 5 columns]"
      ]
     },
     "execution_count": 172,
     "metadata": {},
     "output_type": "execute_result"
    }
   ],
   "source": [
    "clustered_data_pd"
   ]
  },
  {
   "cell_type": "code",
   "execution_count": 173,
   "metadata": {},
   "outputs": [
    {
     "data": {
      "image/png": "[encoded data removed]",
      "text/plain": [
       "<Figure size 432x288 with 2 Axes>"
      ]
     },
     "metadata": {},
     "output_type": "display_data"
    }
   ],
   "source": [
    "plt.scatter(clustered_data_pd[\"popularity\"], clustered_data_pd[\"af_energy\"], c=clustered_data_pd[\"cluster\"], cmap=\"viridis\")\n",
    "plt.xlabel(\"popularity (0-100)\")\n",
    "plt.ylabel(\"af_energy\")\n",
    "plt.title(\"K Means Clustering for Popularity and af_energy\")\n",
    "plt.colorbar().set_label(\"cluster\")\n",
    "plt.show()"
   ]
  },
  {
   "cell_type": "code",
   "execution_count": 174,
   "metadata": {
    "collapsed": true
   },
   "outputs": [],
   "source": [
    "#cluster 0: popularity is between 0 and 40 and the af energy is between 0.8 and 1\n",
    "#cluster 1: popularity is between 0 and 50 and the af energy is between 0.0 and 0.5 \n",
    "#cluster 2: popularity is between 40 and 100 and the af energy is between 0.7 and 1.0\n",
    "#cluster 3: popularity is between 40 and 100 and the af energy is between 0.0 and 0.5\n",
    "#cluster 4: popularity is between 40 and 100 and the af energy is between 0.5 and 0.7\n",
    "#cluster 5: popularity is between 0 and 50 and the af energy is between 0.5 and .07"
   ]
  },
  {
   "cell_type": "code",
   "execution_count": 175,
   "metadata": {
    "collapsed": true
   },
   "outputs": [],
   "source": [
    "cluster5 = df3_normalized.select(\"popularity\", \"af_danceability\")"
   ]
  },
  {
   "cell_type": "code",
   "execution_count": 176,
   "metadata": {
    "collapsed": true
   },
   "outputs": [],
   "source": [
    "required_features = [\"popularity\", \"af_danceability\"] "
   ]
  },
  {
   "cell_type": "code",
   "execution_count": 178,
   "metadata": {},
   "outputs": [],
   "source": [
    "assembler = VectorAssembler(inputCols=required_features, outputCol=\"features\")\n",
    "data_df = assembler.transform(cluster5) "
   ]
  },
  {
   "cell_type": "code",
   "execution_count": 179,
   "metadata": {
    "collapsed": true
   },
   "outputs": [],
   "source": [
    "scaler = StandardScaler(inputCol=\"features\", outputCol=\"scaled_features\")\n",
    "scaler_model = scaler.fit(data_df)\n",
    "data_df = scaler_model.transform(data_df) "
   ]
  },
  {
   "cell_type": "code",
   "execution_count": 180,
   "metadata": {
    "collapsed": true
   },
   "outputs": [],
   "source": [
    "wssse_values = []\n",
    "evaluator = ClusteringEvaluator() "
   ]
  },
  {
   "cell_type": "code",
   "execution_count": 181,
   "metadata": {},
   "outputs": [
    {
     "name": "stdout",
     "output_type": "stream",
     "text": [
      "Silhouette Score: 0.8969666359211727\n",
      "Silhouette Score: 0.5123654388443374\n",
      "Silhouette Score: 0.01090929875687362\n",
      "Silhouette Score: -0.006492566026767273\n",
      "Silhouette Score: -0.054542292022237156\n",
      "Silhouette Score: -0.050968679289066066\n",
      "Silhouette Score: -0.08993644434720745\n",
      "Silhouette Score: -0.11642413562176539\n"
     ]
    }
   ],
   "source": [
    "for i in range(2, 10):\n",
    "    KMeans_mod = KMeans(featuresCol=\"scaled_features\", k=i)\n",
    "    KMeans_fit = KMeans_mod.fit(data_df)\n",
    "    output = KMeans_fit.transform(data_df)\n",
    "    score = evaluator.evaluate(output)\n",
    "    wssse_values.append(score)\n",
    "    print(\"Silhouette Score:\", score)"
   ]
  },
  {
   "cell_type": "code",
   "execution_count": 182,
   "metadata": {},
   "outputs": [
    {
     "data": {
      "image/png": "[encoded data removed]",
      "text/plain": [
       "<Figure size 432x288 with 1 Axes>"
      ]
     },
     "metadata": {},
     "output_type": "display_data"
    }
   ],
   "source": [
    "plt.plot(range(2, 10), wssse_values)\n",
    "plt.xlabel(\"Number of Clusters (K)\")\n",
    "plt.ylabel(\"Within Set Sum of Squared Errors (WSSSE)\")\n",
    "plt.title(\"Elbow Method for Optimal K\")\n",
    "plt.grid()\n",
    "plt.show()"
   ]
  },
  {
   "cell_type": "code",
   "execution_count": 183,
   "metadata": {
    "collapsed": true
   },
   "outputs": [],
   "source": [
    "kmeans = KMeans(k=4, featuresCol=\"scaled_features\", predictionCol=\"cluster\")\n",
    "kmeans_model = kmeans.fit(data_df)"
   ]
  },
  {
   "cell_type": "code",
   "execution_count": 184,
   "metadata": {
    "collapsed": true
   },
   "outputs": [],
   "source": [
    "clustered_data = kmeans_model.transform(data_df)"
   ]
  },
  {
   "cell_type": "code",
   "execution_count": 185,
   "metadata": {
    "collapsed": true
   },
   "outputs": [],
   "source": [
    "clustered_data_pd = clustered_data.toPandas()"
   ]
  },
  {
   "cell_type": "code",
   "execution_count": 186,
   "metadata": {},
   "outputs": [
    {
     "data": {
      "image/png": "[encoded data removed]",
      "text/plain": [
       "<Figure size 432x288 with 2 Axes>"
      ]
     },
     "metadata": {},
     "output_type": "display_data"
    }
   ],
   "source": [
    "plt.scatter(clustered_data_pd[\"popularity\"], clustered_data_pd[\"af_danceability\"], c=clustered_data_pd[\"cluster\"], cmap=\"viridis\")\n",
    "plt.xlabel(\"Popularity\")\n",
    "plt.ylabel(\"AF Danceability\")\n",
    "plt.title(\"KMeans Clusters for Popularity and Danceability\")\n",
    "plt.colorbar().set_label(\"cluster\")\n",
    "plt.show()"
   ]
  },
  {
   "cell_type": "code",
   "execution_count": 187,
   "metadata": {
    "collapsed": true
   },
   "outputs": [],
   "source": [
    "#cluster 0: the song has a popularity score 40 and 100 and af danceability between 0.2 and 0.6\n",
    "#cluster 1: the song has a popularity score between 0 and 40 and af danceability between 0.6 and 1\n",
    "#cluster 2: the song has a popularity score between 0 and 40 and af danceability between 0.2 and 0.6\n",
    "#cluster 3: the song has a popularity score between 40 and 100 and af danceability between 0.6 and 1.0 "
   ]
  },
  {
   "cell_type": "code",
   "execution_count": 188,
   "metadata": {
    "collapsed": true
   },
   "outputs": [],
   "source": [
    "cluster6 = df3_normalized.select(\"popularity\", \"af_liveness\")"
   ]
  },
  {
   "cell_type": "code",
   "execution_count": 189,
   "metadata": {
    "collapsed": true
   },
   "outputs": [],
   "source": [
    "required_features = [\"popularity\", \"af_liveness\"]"
   ]
  },
  {
   "cell_type": "code",
   "execution_count": 192,
   "metadata": {},
   "outputs": [],
   "source": [
    "assembler = VectorAssembler(inputCols=required_features, outputCol=\"features\")\n",
    "data_df = assembler.transform(cluster6)"
   ]
  },
  {
   "cell_type": "code",
   "execution_count": 193,
   "metadata": {
    "collapsed": true
   },
   "outputs": [],
   "source": [
    "scaler = StandardScaler(inputCol=\"features\", outputCol=\"scaled_features\")\n",
    "scaler_model = scaler.fit(data_df)\n",
    "data_df = scaler_model.transform(data_df)"
   ]
  },
  {
   "cell_type": "code",
   "execution_count": 194,
   "metadata": {
    "collapsed": true
   },
   "outputs": [],
   "source": [
    "wssse_values = []\n",
    "evaluator = ClusteringEvaluator()"
   ]
  },
  {
   "cell_type": "code",
   "execution_count": 195,
   "metadata": {},
   "outputs": [
    {
     "name": "stdout",
     "output_type": "stream",
     "text": [
      "Silhouette Score: 0.8946121885049896\n",
      "Silhouette Score: 0.5977232181222237\n",
      "Silhouette Score: 0.5418444672081254\n",
      "Silhouette Score: 0.0326100281822227\n",
      "Silhouette Score: 0.3737321705724417\n",
      "Silhouette Score: -0.07731661292060264\n",
      "Silhouette Score: 0.2818604858371249\n",
      "Silhouette Score: 0.28413558041706277\n"
     ]
    }
   ],
   "source": [
    "for i in range(2,10):    \n",
    "    KMeans_mod = KMeans(featuresCol='scaled_features', k=i)  \n",
    "    KMeans_fit = KMeans_mod.fit(data_df)  \n",
    "    output = KMeans_fit.transform(data_df)   \n",
    "    score = evaluator.evaluate(output)   \n",
    "    wssse_values.append(score)  \n",
    "    print(\"Silhouette Score:\",score)"
   ]
  },
  {
   "cell_type": "code",
   "execution_count": 196,
   "metadata": {},
   "outputs": [
    {
     "data": {
      "image/png": "[encoded data removed]",
      "text/plain": [
       "<Figure size 432x288 with 1 Axes>"
      ]
     },
     "metadata": {},
     "output_type": "display_data"
    }
   ],
   "source": [
    "plt.plot(range(2, 10), wssse_values)\n",
    "plt.xlabel(\"Number of Clusters (K)\")\n",
    "plt.ylabel(\"Within Set Sum of SQuared Errors (WSSSE)\")\n",
    "plt.title(\"Elbow Method for Optimal K\")\n",
    "plt.grid()\n",
    "plt.show()"
   ]
  },
  {
   "cell_type": "code",
   "execution_count": 197,
   "metadata": {
    "collapsed": true
   },
   "outputs": [],
   "source": [
    "kmeans = KMeans(k=7, featuresCol=\"scaled_features\", predictionCol=\"cluster\")\n",
    "kmeans_model = kmeans.fit(data_df)"
   ]
  },
  {
   "cell_type": "code",
   "execution_count": 198,
   "metadata": {
    "collapsed": true
   },
   "outputs": [],
   "source": [
    "clustered_data = kmeans_model.transform(data_df)"
   ]
  },
  {
   "cell_type": "code",
   "execution_count": 199,
   "metadata": {
    "collapsed": true
   },
   "outputs": [],
   "source": [
    "clustered_data_pd = clustered_data.toPandas()"
   ]
  },
  {
   "cell_type": "code",
   "execution_count": 200,
   "metadata": {},
   "outputs": [
    {
     "data": {
      "image/png": "[encoded data removed]",
      "text/plain": [
       "<Figure size 432x288 with 2 Axes>"
      ]
     },
     "metadata": {},
     "output_type": "display_data"
    }
   ],
   "source": [
    "plt.scatter(clustered_data_pd[\"popularity\"], clustered_data_pd[\"af_liveness\"], c=clustered_data_pd[\"cluster\"], cmap=\"viridis\")\n",
    "plt.xlabel(\"Popularity (0-100)\")\n",
    "plt.ylabel(\"af liveness\")\n",
    "plt.title(\"KMeans Clustering with Popularity and af liveness\")\n",
    "plt.colorbar().set_label(\"cluster\")\n",
    "plt.show()"
   ]
  },
  {
   "cell_type": "code",
   "execution_count": 201,
   "metadata": {
    "collapsed": true
   },
   "outputs": [],
   "source": [
    "#cluster 0: the popularity is between 40 and 100 and the af liveness is between 0.15 and 0.25\n",
    "#cluster 1: the popularity is between 0 and roughly 40 and the af liveness is between 0.15 and 0.25\n",
    "#cluster 2: the popularity is between 0 to 100 and the af liveness is between 0.5 and 1\n",
    "#cluster 3: the popularity is between 0 and roughly 40 and the af liveness is between 0.25 and 0.50\n",
    "#cluster 4: the popularity is between 40 and 100 and the af liveness is between 0 and 0.15 \n",
    "#cluster 5: the popularity is between 40 to 100 and the af liveness are between 0.2 and 0.4  \n",
    "#cluster 6: the popularity is between 0 and 35 and the liveness is between 0 and 0.15 "
   ]
  },
  {
   "cell_type": "code",
   "execution_count": 202,
   "metadata": {
    "collapsed": true
   },
   "outputs": [],
   "source": [
    "cluster7 = df3_normalized.select(\"popularity\", \"af_valence\") "
   ]
  },
  {
   "cell_type": "code",
   "execution_count": 203,
   "metadata": {
    "collapsed": true
   },
   "outputs": [],
   "source": [
    "required_features = [\"popularity\", \"af_valence\"]"
   ]
  },
  {
   "cell_type": "code",
   "execution_count": 208,
   "metadata": {},
   "outputs": [],
   "source": [
    "assembler = VectorAssembler(inputCols=required_features, outputCol=\"features\") \n",
    "data_df = assembler.transform(cluster7)"
   ]
  },
  {
   "cell_type": "code",
   "execution_count": 209,
   "metadata": {},
   "outputs": [],
   "source": [
    "scaler = StandardScaler(inputCol=\"features\", outputCol=\"scaled_features\")\n",
    "scaler_model = scaler.fit(data_df)\n",
    "data_df = scaler_model.transform(data_df) "
   ]
  },
  {
   "cell_type": "code",
   "execution_count": 210,
   "metadata": {
    "collapsed": true
   },
   "outputs": [],
   "source": [
    "wssse_values = []\n",
    "evaluator = ClusteringEvaluator()"
   ]
  },
  {
   "cell_type": "code",
   "execution_count": 211,
   "metadata": {},
   "outputs": [
    {
     "name": "stdout",
     "output_type": "stream",
     "text": [
      "Silhouette Score: 0.018241200964418225\n",
      "Silhouette Score: 0.35588284740447623\n",
      "Silhouette Score: 0.29770343569476765\n",
      "Silhouette Score: -0.04681210581061256\n",
      "Silhouette Score: -0.07438963286739762\n",
      "Silhouette Score: -0.09344698372376538\n",
      "Silhouette Score: -0.10125313547318242\n",
      "Silhouette Score: -0.15183495508209932\n"
     ]
    }
   ],
   "source": [
    "for i in range(2,10):    \n",
    "    KMeans_mod = KMeans(featuresCol='scaled_features', k=i)  \n",
    "    KMeans_fit = KMeans_mod.fit(data_df)  \n",
    "    output = KMeans_fit.transform(data_df)   \n",
    "    score = evaluator.evaluate(output)   \n",
    "    wssse_values.append(score)  \n",
    "    print(\"Silhouette Score:\",score)"
   ]
  },
  {
   "cell_type": "code",
   "execution_count": 213,
   "metadata": {},
   "outputs": [
    {
     "data": {
      "image/png": "[encoded data removed]",
      "text/plain": [
       "<Figure size 432x288 with 1 Axes>"
      ]
     },
     "metadata": {},
     "output_type": "display_data"
    }
   ],
   "source": [
    "plt.plot(range(2, 10), wssse_values)\n",
    "plt.xlabel(\"Number of Clusters (K)\")\n",
    "plt.ylabel(\"Within Set Sum of SQuared Errors (WSSSE)\")\n",
    "plt.title(\"Elbow Method for Optimal K\")\n",
    "plt.grid()\n",
    "plt.show()"
   ]
  },
  {
   "cell_type": "code",
   "execution_count": 214,
   "metadata": {
    "collapsed": true
   },
   "outputs": [],
   "source": [
    "kmeans = KMeans(k=5, featuresCol=\"scaled_features\", predictionCol=\"cluster\")\n",
    "kmeans_model = kmeans.fit(data_df)"
   ]
  },
  {
   "cell_type": "code",
   "execution_count": 215,
   "metadata": {
    "collapsed": true
   },
   "outputs": [],
   "source": [
    "clustered_data = kmeans_model.transform(data_df)"
   ]
  },
  {
   "cell_type": "code",
   "execution_count": 216,
   "metadata": {
    "collapsed": true
   },
   "outputs": [],
   "source": [
    "clustered_data_pd = clustered_data.toPandas()"
   ]
  },
  {
   "cell_type": "code",
   "execution_count": 217,
   "metadata": {},
   "outputs": [
    {
     "data": {
      "image/png": "[encoded data removed]",
      "text/plain": [
       "<Figure size 432x288 with 2 Axes>"
      ]
     },
     "metadata": {},
     "output_type": "display_data"
    }
   ],
   "source": [
    "plt.scatter(clustered_data_pd[\"popularity\"], clustered_data_pd[\"af_valence\"], c=clustered_data_pd[\"cluster\"], cmap=\"viridis\")\n",
    "plt.xlabel(\"Popularity\")\n",
    "plt.ylabel(\"af_valance\")\n",
    "plt.title(\"KMeans Clustering for Popularity and af valance\")\n",
    "plt.colorbar().set_label(\"cluster\")\n",
    "plt.show()"
   ]
  },
  {
   "cell_type": "code",
   "execution_count": 218,
   "metadata": {
    "collapsed": true
   },
   "outputs": [],
   "source": [
    "#cluster 0: the popularity is between 0 and 40 and the af valance is between 0.4 and 0.6 \n",
    "#cluster 1: the popularity is between 0 and 40 and the af valance is between 0.6 and 1.0 \n",
    "#cluster 2: the popularity is between 40 and 100 and the af valance is between 0.5 and 1.0 \n",
    "#cluster 3: the popularity is between 40 and 100 and the af valance is between 0.0 and 0.5 \n",
    "#cluster 4: the popularity is between 0 and 40 and the af valance is between 0.0 and roughly 0.4 "
   ]
  },
  {
   "cell_type": "code",
   "execution_count": 219,
   "metadata": {
    "collapsed": true
   },
   "outputs": [],
   "source": [
    "cluster8 = df3_normalized.select(\"popularity\", \"af_tempo\") "
   ]
  },
  {
   "cell_type": "code",
   "execution_count": 220,
   "metadata": {
    "collapsed": true
   },
   "outputs": [],
   "source": [
    "required_features = [\"popularity\", \"af_tempo\"] "
   ]
  },
  {
   "cell_type": "code",
   "execution_count": 222,
   "metadata": {},
   "outputs": [],
   "source": [
    "assembler = VectorAssembler(inputCols=required_features, outputCol=\"features\")\n",
    "data_df = assembler.transform(cluster8) "
   ]
  },
  {
   "cell_type": "code",
   "execution_count": 223,
   "metadata": {
    "collapsed": true
   },
   "outputs": [],
   "source": [
    "scaler = StandardScaler(inputCol=\"features\", outputCol=\"scaled_features\")\n",
    "scaler_model = scaler.fit(data_df)\n",
    "data_df = scaler_model.transform(data_df) "
   ]
  },
  {
   "cell_type": "code",
   "execution_count": 224,
   "metadata": {
    "collapsed": true
   },
   "outputs": [],
   "source": [
    "wssse_values = []\n",
    "evaluator = ClusteringEvaluator() "
   ]
  },
  {
   "cell_type": "code",
   "execution_count": 225,
   "metadata": {},
   "outputs": [
    {
     "name": "stdout",
     "output_type": "stream",
     "text": [
      "Silhouette Score: 0.6494753478310186\n",
      "Silhouette Score: 0.6595550555257814\n",
      "Silhouette Score: 0.6725019768300512\n",
      "Silhouette Score: 0.6546999390292189\n",
      "Silhouette Score: 0.6106262104243232\n",
      "Silhouette Score: 0.6175965635054401\n",
      "Silhouette Score: 0.5702470760129399\n",
      "Silhouette Score: 0.6150270066668292\n"
     ]
    }
   ],
   "source": [
    "for i in range(2,10):    \n",
    "    KMeans_mod = KMeans(featuresCol='scaled_features', k=i)  \n",
    "    KMeans_fit = KMeans_mod.fit(data_df)  \n",
    "    output = KMeans_fit.transform(data_df)   \n",
    "    score = evaluator.evaluate(output)   \n",
    "    wssse_values.append(score)  \n",
    "    print(\"Silhouette Score:\",score)"
   ]
  },
  {
   "cell_type": "code",
   "execution_count": 226,
   "metadata": {},
   "outputs": [
    {
     "data": {
      "image/png": "[encoded data removed]",
      "text/plain": [
       "<Figure size 432x288 with 1 Axes>"
      ]
     },
     "metadata": {},
     "output_type": "display_data"
    }
   ],
   "source": [
    "plt.plot(range(2, 10), wssse_values)\n",
    "plt.xlabel(\"Number of Clusters (K)\")\n",
    "plt.ylabel(\"Within Set Sum of SQuared Errors (WSSSE)\")\n",
    "plt.title(\"Elbow Method for Optimal K\")\n",
    "plt.grid()\n",
    "plt.show()"
   ]
  },
  {
   "cell_type": "code",
   "execution_count": 227,
   "metadata": {
    "collapsed": true
   },
   "outputs": [],
   "source": [
    "kmeans = KMeans(k=8, featuresCol='scaled_features', predictionCol=\"cluster\")\n",
    "kmeans_model = kmeans.fit(data_df)"
   ]
  },
  {
   "cell_type": "code",
   "execution_count": 228,
   "metadata": {
    "collapsed": true
   },
   "outputs": [],
   "source": [
    "clustered_data = kmeans_model.transform(data_df)"
   ]
  },
  {
   "cell_type": "code",
   "execution_count": 229,
   "metadata": {
    "collapsed": true
   },
   "outputs": [],
   "source": [
    "clustered_data_pd = clustered_data.toPandas()"
   ]
  },
  {
   "cell_type": "code",
   "execution_count": 230,
   "metadata": {},
   "outputs": [
    {
     "data": {
      "image/png": "[encoded data removed]",
      "text/plain": [
       "<Figure size 432x288 with 2 Axes>"
      ]
     },
     "metadata": {},
     "output_type": "display_data"
    }
   ],
   "source": [
    "plt.scatter(clustered_data_pd[\"popularity\"], clustered_data_pd[\"af_tempo\"], c=clustered_data_pd[\"cluster\"], cmap='viridis')\n",
    "plt.xlabel(\"Popularity\")\n",
    "plt.ylabel(\"Af Tempo\")\n",
    "plt.title(\"K Means Clustering with Popularity and Af Tempo\")\n",
    "plt.colorbar().set_label(\"cluster\")\n",
    "plt.show()"
   ]
  },
  {
   "cell_type": "code",
   "execution_count": 232,
   "metadata": {
    "collapsed": true
   },
   "outputs": [],
   "source": [
    "#cluster 0: popularity is between 60 and 100 and the af tempo is between 100 and 125 \n",
    "#cluster 1: popularity is between 0 and 35 and the af tempo is between 125 and 150 \n",
    "#cluster 2: popularity is between 0 and 35 and the af tempo is between 150 and 200 \n",
    "#cluster 3: popularity is between 0 and 25 and the af tempo is between 50 and 120 \n",
    "#cluster 4: popularity is between 40 and 100 and the af tempo is between 125 and 150 \n",
    "#cluster 5: popularity is between 40 and 100 and the af tempo is between 25 and 100 \n",
    "#cluster 6: popularity is between 30 and 60 and the af tempo is between 70 and 125\n",
    "#cluster 7: popularity is between 40 and 100 and the af tempp is between 150 and 200 "
   ]
  },
  {
   "cell_type": "code",
   "execution_count": 236,
   "metadata": {
    "collapsed": true
   },
   "outputs": [],
   "source": [
    "#multiple linear regression"
   ]
  },
  {
   "cell_type": "code",
   "execution_count": 247,
   "metadata": {
    "collapsed": true
   },
   "outputs": [],
   "source": [
    "from pyspark.ml.regression import LinearRegression\n",
    "from pyspark.ml.feature import VectorAssembler\n",
    "from pyspark.ml.evaluation import RegressionEvaluator"
   ]
  },
  {
   "cell_type": "code",
   "execution_count": 240,
   "metadata": {
    "collapsed": true
   },
   "outputs": [],
   "source": [
    "mult1 = df3_normalized.select(\"rank\", \"popularity\", \"streams\") "
   ]
  },
  {
   "cell_type": "code",
   "execution_count": 241,
   "metadata": {},
   "outputs": [],
   "source": [
    "assembler = VectorAssembler(inputCols=[\"rank\", \"popularity\"], outputCol=\"features\") "
   ]
  },
  {
   "cell_type": "code",
   "execution_count": 243,
   "metadata": {},
   "outputs": [],
   "source": [
    "data = assembler.transform(mult1)\n",
    "final_data = data.select(\"features\", \"streams\") "
   ]
  },
  {
   "cell_type": "code",
   "execution_count": 245,
   "metadata": {
    "collapsed": true
   },
   "outputs": [],
   "source": [
    "train_data, test_data = final_data.randomSplit([0.75, 0.25], seed=42) "
   ]
  },
  {
   "cell_type": "code",
   "execution_count": 248,
   "metadata": {},
   "outputs": [],
   "source": [
    "lr = LinearRegression(featuresCol=\"features\", labelCol=\"streams\", predictionCol=\"predicted_streams\")"
   ]
  },
  {
   "cell_type": "code",
   "execution_count": 249,
   "metadata": {
    "collapsed": true
   },
   "outputs": [],
   "source": [
    "lr_model = lr.fit(train_data)"
   ]
  },
  {
   "cell_type": "code",
   "execution_count": 250,
   "metadata": {
    "collapsed": true
   },
   "outputs": [],
   "source": [
    "predictions = lr_model.transform(test_data) "
   ]
  },
  {
   "cell_type": "code",
   "execution_count": 251,
   "metadata": {},
   "outputs": [
    {
     "name": "stdout",
     "output_type": "stream",
     "text": [
      "Root Mean Squared Error (RMSE) on test data: 201273.069\n"
     ]
    }
   ],
   "source": [
    "evaluator = RegressionEvaluator(labelCol=\"streams\", predictionCol=\"predicted_streams\", metricName=\"rmse\")\n",
    "rmse = evaluator.evaluate(predictions)\n",
    "print(\"Root Mean Squared Error (RMSE) on test data: {:.3f}\".format(rmse)) "
   ]
  },
  {
   "cell_type": "code",
   "execution_count": 252,
   "metadata": {},
   "outputs": [
    {
     "name": "stdout",
     "output_type": "stream",
     "text": [
      "R-squared (R2) on test data: 0.017\n"
     ]
    }
   ],
   "source": [
    "evaluator_r2 = RegressionEvaluator(labelCol=\"streams\", predictionCol=\"predicted_streams\", metricName=\"r2\")\n",
    "r2 = evaluator_r2.evaluate(predictions)\n",
    "print(\"R-squared (R2) on test data: {:.3f}\".format(r2))"
   ]
  },
  {
   "cell_type": "code",
   "execution_count": 253,
   "metadata": {
    "collapsed": true
   },
   "outputs": [],
   "source": [
    "#the model based on inputs of rank and popularity can only predict the number of streams with 1.7% accuracy"
   ]
  },
  {
   "cell_type": "code",
   "execution_count": 267,
   "metadata": {
    "collapsed": true
   },
   "outputs": [],
   "source": [
    "#return model for predicting rank by popularity and streams"
   ]
  },
  {
   "cell_type": "code",
   "execution_count": 254,
   "metadata": {
    "collapsed": true
   },
   "outputs": [],
   "source": [
    "mult2 = df3_normalized.select(\"popularity\", \"streams\", \"rank\")  "
   ]
  },
  {
   "cell_type": "code",
   "execution_count": 255,
   "metadata": {
    "collapsed": true
   },
   "outputs": [],
   "source": [
    "assembler = VectorAssembler(inputCols=[\"popularity\", \"streams\"], outputCol=\"features\") "
   ]
  },
  {
   "cell_type": "code",
   "execution_count": 256,
   "metadata": {
    "collapsed": true
   },
   "outputs": [],
   "source": [
    "data = assembler.transform(mult2) "
   ]
  },
  {
   "cell_type": "code",
   "execution_count": 257,
   "metadata": {
    "collapsed": true
   },
   "outputs": [],
   "source": [
    "final_data = data.select(\"features\", \"rank\") "
   ]
  },
  {
   "cell_type": "code",
   "execution_count": 258,
   "metadata": {
    "collapsed": true
   },
   "outputs": [],
   "source": [
    "train_data, test_data = final_data.randomSplit([0.75, 0.25], seed=42) "
   ]
  },
  {
   "cell_type": "code",
   "execution_count": 259,
   "metadata": {
    "collapsed": true
   },
   "outputs": [],
   "source": [
    "lr = LinearRegression(featuresCol=\"features\", labelCol=\"rank\", predictionCol=\"predicted_rank\")\n",
    "lr_model = lr.fit(train_data) "
   ]
  },
  {
   "cell_type": "code",
   "execution_count": 260,
   "metadata": {
    "collapsed": true
   },
   "outputs": [],
   "source": [
    "predictions = lr_model.transform(test_data) "
   ]
  },
  {
   "cell_type": "code",
   "execution_count": 261,
   "metadata": {},
   "outputs": [
    {
     "name": "stdout",
     "output_type": "stream",
     "text": [
      "Root Mean Squared Error (RMSE) on test data: 57.020\n"
     ]
    }
   ],
   "source": [
    "evaluator = RegressionEvaluator(labelCol=\"rank\", predictionCol=\"predicted_rank\", metricName=\"rmse\")\n",
    "rmse = evaluator.evaluate(predictions)\n",
    "print(\"Root Mean Squared Error (RMSE) on test data: {:.3f}\".format(rmse))"
   ]
  },
  {
   "cell_type": "code",
   "execution_count": 262,
   "metadata": {},
   "outputs": [
    {
     "name": "stdout",
     "output_type": "stream",
     "text": [
      "R-squared (R2) on test data: 0.017\n"
     ]
    }
   ],
   "source": [
    "evaluator_r2 = RegressionEvaluator(labelCol=\"rank\", predictionCol=\"predicted_rank\", metricName=\"r2\")\n",
    "r2 = evaluator_r2.evaluate(predictions)\n",
    "print(\"R-squared (R2) on test data: {:.3f}\".format(r2))"
   ]
  },
  {
   "cell_type": "code",
   "execution_count": 269,
   "metadata": {},
   "outputs": [
    {
     "name": "stdout",
     "output_type": "stream",
     "text": [
      "+---+--------------------+----+--------+--------------------+--------------------+---------+------+-------------+-------+--------------------+--------------------+----------+-----------+--------+------------+--------------------+---------------+---------+------+-----------+-------+--------------+---------------+-------------------+-----------+----------+--------+-----------------+----------------+--------------------+--------------------+---------------+---------+----------------------+\n",
      "|_c0|               title|rank|    date|              artist|                 url|   region| chart|        trend|streams|            track_id|               album|popularity|duration_ms|explicit|release_date|   available_markets|af_danceability|af_energy|af_key|af_loudness|af_mode|af_speechiness|af_acousticness|af_instrumentalness|af_liveness|af_valence|af_tempo|af_time_signature|contains_cussing|popularity_increased|popularity_decreased|populairty_same|new_entry|af_loudness_normalized|\n",
      "+---+--------------------+----+--------+--------------------+--------------------+---------+------+-------------+-------+--------------------+--------------------+----------+-----------+--------+------------+--------------------+---------------+---------+------+-----------+-------+--------------+---------------+-------------------+-----------+----------+--------+-----------------+----------------+--------------------+--------------------+---------------+---------+----------------------+\n",
      "|  0|Chantaje (feat. M...|   1|1/1/2017|             Shakira|https://open.spot...|Argentina|top200|SAME_POSITION| 253019|6mICuAdrwEjh6Y6lr...|           El Dorado|        78|     195840|   false|   5/26/2017|['AR', 'AU', 'AT'...|          0.852|    0.773|     8|     -2.921|      0|        0.0776|          0.187|            3.05E-5|      0.159|     0.907| 102.034|                4|               0|                   0|                   0|              1|        0|    0.8639058707873798|\n",
      "|  1|Vente Pa' Ca (fea...|   2|1/1/2017|        Ricky Martin|https://open.spot...|Argentina|top200|      MOVE_UP| 223988|7DM4BPaS7uofFul3y...|Vente Pa' Ca (fea...|        72|     259195|   false|   9/22/2016|['AR', 'AU', 'AT'...|          0.663|     0.92|    11|      -4.07|      0|         0.226|        0.00431|            1.69E-5|      0.101|     0.533|  99.935|                4|               0|                   1|                   0|              0|        0|    0.8286074160548063|\n",
      "|  2|Reggaetón Lento (...|   3|1/1/2017|                CNCO|https://open.spot...|Argentina|top200|    MOVE_DOWN| 210943|3AEZUABDXNtecAOSC...|        Primera Cita|        73|     222560|   false|   8/26/2016|['AR', 'AU', 'AT'...|          0.761|    0.838|     4|     -3.073|      0|        0.0502|            0.4|                0.0|      0.176|      0.71|  93.974|                4|               0|                   0|                   1|              0|        0|    0.8592362753832448|\n",
      "|  3|              Safari|   4|1/1/2017|J Balvin, Pharrel...|https://open.spot...|Argentina|top200|SAME_POSITION| 173865|6rQSrBHf7HlZjtcMZ...|             Energía|         0|     205600|   false|   6/24/2016|                  []|          0.508|    0.687|     0|     -4.361|      1|         0.326|          0.551|            3.41E-6|      0.126|     0.555| 180.044|                4|               0|                   0|                   0|              1|        0|    0.8196675985376793|\n",
      "|  4|         Shaky Shaky|   5|1/1/2017|        Daddy Yankee|https://open.spot...|Argentina|top200|      MOVE_UP| 153956|58IL315gMSTD37DOZ...|         Shaky Shaky|         0|     234320|   false|    4/8/2016|                  []|          0.899|    0.626|     6|     -4.228|      0|         0.292|          0.076|                0.0|     0.0631|     0.873|  88.007|                4|               0|                   1|                   0|              0|        0|    0.8237534945162974|\n",
      "|  5|         Traicionera|   6|1/1/2017|     Sebastian Yatra|https://open.spot...|Argentina|top200|    MOVE_DOWN| 151140|5J1c3M4EldCfNxXwr...|         Traicionera|         0|     228466|   false|   6/24/2016|                  []|          0.776|    0.669|    11|     -4.933|      1|        0.0638|          0.142|                0.0|      0.219|     0.661|  91.012|                4|               0|                   0|                   1|              0|        0|    0.8020951737273817|\n",
      "|  6|Cuando Se Pone a ...|   7|1/1/2017|              Rombai|https://open.spot...|Argentina|top200|    MOVE_DOWN| 148369|1MpKZi1zTXpERKwxm...|Cuando Se Pone a ...|        56|     195274|   false|   12/2/2016|['AR', 'AU', 'AT'...|          0.588|    0.682|    11|     -7.169|      0|         0.173|         0.0851|            2.69E-5|      0.084|     0.937| 205.643|                4|               0|                   0|                   1|              0|        0|    0.7334029676507634|\n",
      "|  7|Otra vez (feat. J...|   8|1/1/2017|       Zion & Lennox|https://open.spot...|Argentina|top200|    MOVE_DOWN| 143004|3QwBODjSEzelZyVjx...|            Motivan2|        74|     209453|   false|   9/30/2016|['AG', 'AM', 'AR'...|          0.832|    0.772|    10|     -5.429|      1|           0.1|         0.0559|            4.86E-4|       0.44|     0.704|  96.016|                4|               0|                   0|                   1|              0|        0|    0.7868575466191514|\n",
      "|  8|        La Bicicleta|   9|1/1/2017|Carlos Vives, Sha...|https://open.spot...|Argentina|top200|      MOVE_UP| 126389|0sXvAOmXgjR2QUqLK...|           El Dorado|        59|     227706|   false|   5/26/2017|['AR', 'AU', 'AT'...|          0.736|    0.964|     0|     -2.147|      1|         0.129|          0.198|            2.32E-6|      0.336|     0.953| 179.935|                4|               0|                   1|                   0|              0|        0|    0.8876839421215938|\n",
      "|  9|Dile Que Tu Me Qu...|  10|1/1/2017|               Ozuna|https://open.spot...|Argentina|top200|    MOVE_DOWN| 112012|20ZAJdsKB5IGbGj4i...|Dile Que Tu Me Qu...|         0|     226400|   false|    6/6/2016|                  []|          0.721|    0.687|     1|     -6.682|      1|        0.0782|         0.0998|                0.0|     0.0679|     0.825| 175.914|                4|               0|                   0|                   1|              0|        0|    0.7483641055574329|\n",
      "| 10|  Andas En Mi Cabeza|  11|1/1/2017|Chino & Nacho, Da...|https://open.spot...|Argentina|top200|SAME_POSITION| 110395|5mey7CLLuFToM2P68...|  Andas En Mi Cabeza|         0|     247493|   false|   2/19/2016|                  []|           0.68|    0.954|     9|     -1.823|      1|         0.119|         0.0244|                0.0|      0.112|     0.521| 104.029|                4|               0|                   0|                   0|              1|        0|    0.8976375533777764|\n",
      "| 11|Desde Esa Noche (...|  12|1/1/2017|              Thalia|https://open.spot...|Argentina|top200|      MOVE_UP| 104592|1pWYnQIlqxTh5bxuP...|              Latina|        66|     227693|   false|    5/6/2016|['AR', 'AU', 'AT'...|           0.78|    0.929|    11|     -0.739|      0|        0.0532|          0.171|                0.0|     0.0677|     0.837|  95.012|                4|               0|                   1|                   0|              0|        0|    0.9309391416546342|\n",
      "| 12|      Borro Cassette|  13|1/1/2017|              Maluma|https://open.spot...|Argentina|top200|      MOVE_UP| 101535|6DUdDIRgLqCGq1Dwk...|Pretty Boy, Dirty...|        80|     207306|   false|  10/30/2015|['AR', 'AU', 'AT'...|           0.73|    0.701|     5|     -5.885|      0|         0.106|          0.132|                0.0|      0.151|     0.785|  175.95|                4|               0|                   1|                   0|              0|        0|    0.7728487604067464|\n",
      "| 13|Gyal You A Party ...|  14|1/1/2017|Charly Black, Dad...|https://open.spot...|Argentina|top200|    MOVE_DOWN|  99722|1AkTW13ysu0AJrwuM...|Gyal You A Party ...|         0|     224320|   false|   10/7/2016|                  []|          0.723|    0.889|     0|     -4.017|      1|        0.0939|         0.0673|                0.0|      0.363|     0.701| 101.032|                4|               0|                   0|                   1|              0|        0|    0.8302356302417745|\n",
      "| 14|Me llamas (feat. ...|  15|1/1/2017|             Piso 21|https://open.spot...|Argentina|top200|    MOVE_DOWN|  95010|5hEM0JchdVzQ5PwvS...|Me Llamas (feat. ...|        69|     210322|   false|   12/2/2016|['AR', 'AU', 'AT'...|           0.76|    0.838|     7|     -3.828|      0|        0.0529|          0.547|             1.3E-6|     0.0664|     0.745|   93.05|                4|               0|                   0|                   1|              0|        0|    0.8360419034745477|\n",
      "| 15|La Bicicleta (fea...|  16|1/1/2017|Carlos Vives, Sha...|https://open.spot...|Argentina|top200|      MOVE_UP|  92723|7IRuf7FrdQvOGs0g9...|La Bicicleta (fea...|        48|     254069|   false|   8/19/2016|['AR', 'AU', 'AT'...|          0.598|    0.917|     0|     -3.455|      1|         0.159|          0.117|                0.0|      0.398|     0.575| 180.049|                4|               0|                   1|                   0|              0|        0|    0.8475008448281159|\n",
      "| 16|DUELE EL CORAZON ...|  17|1/1/2017|    Enrique Iglesias|https://open.spot...|Argentina|top200|      MOVE_UP|  91325|6YZdkObH88npeKrrk...|DUELE EL CORAZON ...|        69|     199693|   false|   4/18/2016|['AR', 'AU', 'AT'...|          0.716|    0.908|     8|     -3.254|      0|         0.103|         0.0858|                0.0|      0.135|     0.869|   91.03|                4|               0|                   1|                   0|              0|        0|    0.8536757703296365|\n",
      "| 17|     Let Me Love You|  18|1/1/2017|DJ Snake, Justin ...|https://open.spot...|Argentina|top200|    MOVE_DOWN|  87926|4pdPtRcBmOSQDlJ3F...|              Encore|         2|     205946|   false|    8/5/2016|                  []|          0.476|    0.718|     8|     -5.309|      1|        0.0576|         0.0784|            1.02E-5|      0.122|     0.142| 199.864|                4|               0|                   0|                   1|              0|        0|    0.7905440693066265|\n",
      "| 18|La Noche No Es pa...|  19|1/1/2017|         Mano Arriba|https://open.spot...|Argentina|top200|SAME_POSITION|  87033|3gEebOzxHpEwElicl...|La Noche No Es pa...|         0|     199495|   false|   3/11/2016|                  []|          0.549|    0.798|     6|     -4.185|      1|        0.0705|          0.126|                0.0|      0.329|     0.905| 100.054|                4|               0|                   0|                   0|              1|        0|    0.8250744984793095|\n",
      "| 19|          Vacaciones|  20|1/1/2017|               Wisin|https://open.spot...|Argentina|top200|    MOVE_DOWN|  86103|3dQDid3IUNhZy1Oeh...|          Vacaciones|         0|     238800|   false|   9/30/2016|                  []|          0.772|    0.909|     6|     -3.225|      0|         0.166|          0.256|                0.0|      0.255|     0.694|  96.031|                4|               0|                   0|                   1|              0|        0|    0.8545666799791096|\n",
      "+---+--------------------+----+--------+--------------------+--------------------+---------+------+-------------+-------+--------------------+--------------------+----------+-----------+--------+------------+--------------------+---------------+---------+------+-----------+-------+--------------+---------------+-------------------+-----------+----------+--------+-----------------+----------------+--------------------+--------------------+---------------+---------+----------------------+\n",
      "only showing top 20 rows\n",
      "\n"
     ]
    }
   ],
   "source": [
    "df3_normalized.show()"
   ]
  },
  {
   "cell_type": "code",
   "execution_count": 276,
   "metadata": {
    "collapsed": true
   },
   "outputs": [],
   "source": [
    "mult3 = df3_normalized.select(\"streams\", \"duration_ms\", \"af_danceability\", \"af_energy\",  \"popularity\")"
   ]
  },
  {
   "cell_type": "code",
   "execution_count": 278,
   "metadata": {
    "collapsed": true
   },
   "outputs": [],
   "source": [
    "assembler = VectorAssembler(inputCols=[\"streams\", \"duration_ms\", \"af_danceability\", \"af_energy\"], outputCol=\"features\")"
   ]
  },
  {
   "cell_type": "code",
   "execution_count": 279,
   "metadata": {},
   "outputs": [],
   "source": [
    "data = assembler.transform(mult3) "
   ]
  },
  {
   "cell_type": "code",
   "execution_count": 280,
   "metadata": {
    "collapsed": true
   },
   "outputs": [],
   "source": [
    "final_data = data.select(\"features\", \"popularity\") "
   ]
  },
  {
   "cell_type": "code",
   "execution_count": 281,
   "metadata": {
    "collapsed": true
   },
   "outputs": [],
   "source": [
    "train_data, test_data = final_data.randomSplit([0.75, 0.25], seed=42)"
   ]
  },
  {
   "cell_type": "code",
   "execution_count": 282,
   "metadata": {
    "collapsed": true
   },
   "outputs": [],
   "source": [
    "lr = LinearRegression(featuresCol=\"features\", labelCol=\"popularity\", predictionCol=\"predicted_popularity\")\n",
    "lr_model = lr.fit(train_data) "
   ]
  },
  {
   "cell_type": "code",
   "execution_count": 283,
   "metadata": {
    "collapsed": true
   },
   "outputs": [],
   "source": [
    "predictions = lr_model.transform(test_data)"
   ]
  },
  {
   "cell_type": "code",
   "execution_count": 284,
   "metadata": {},
   "outputs": [
    {
     "name": "stdout",
     "output_type": "stream",
     "text": [
      "Root Mean Squared Error (RMSE) on test data: 32.721\n"
     ]
    }
   ],
   "source": [
    "evaluator = RegressionEvaluator(labelCol=\"popularity\", predictionCol=\"predicted_popularity\", metricName=\"rmse\")\n",
    "rmse = evaluator.evaluate(predictions)\n",
    "print(\"Root Mean Squared Error (RMSE) on test data: {:.3f}\".format(rmse))"
   ]
  },
  {
   "cell_type": "code",
   "execution_count": 285,
   "metadata": {},
   "outputs": [
    {
     "name": "stdout",
     "output_type": "stream",
     "text": [
      "R-squared (R2) on test data: 0.006\n"
     ]
    }
   ],
   "source": [
    "evaluator_r2 = RegressionEvaluator(labelCol=\"popularity\", predictionCol=\"predicted_popularity\", metricName=\"r2\")\n",
    "r2 = evaluator_r2.evaluate(predictions)\n",
    "print(\"R-squared (R2) on test data: {:.3f}\".format(r2))"
   ]
  },
  {
   "cell_type": "code",
   "execution_count": 288,
   "metadata": {},
   "outputs": [],
   "source": [
    "mult4 = df3_normalized.select(\"streams\", \"popularity\", \"duration_ms\", \"af_danceability\", \"af_energy\",\"rank\")"
   ]
  },
  {
   "cell_type": "code",
   "execution_count": 289,
   "metadata": {
    "collapsed": true
   },
   "outputs": [],
   "source": [
    "assembler = VectorAssembler(inputCols=[\"streams\", \"popularity\", \"duration_ms\", \"af_danceability\", \"af_energy\"], outputCol=\"features\")"
   ]
  },
  {
   "cell_type": "code",
   "execution_count": 291,
   "metadata": {},
   "outputs": [],
   "source": [
    "data = assembler.transform(mult4) "
   ]
  },
  {
   "cell_type": "code",
   "execution_count": 292,
   "metadata": {
    "collapsed": true
   },
   "outputs": [],
   "source": [
    "final_data = data.select(\"features\", \"rank\") "
   ]
  },
  {
   "cell_type": "code",
   "execution_count": 293,
   "metadata": {
    "collapsed": true
   },
   "outputs": [],
   "source": [
    "train_data, test_data = final_data.randomSplit([0.75, 0.25], seed=42) "
   ]
  },
  {
   "cell_type": "code",
   "execution_count": 294,
   "metadata": {
    "collapsed": true
   },
   "outputs": [],
   "source": [
    "lr = LinearRegression(featuresCol=\"features\", labelCol=\"rank\", predictionCol=\"predicted_rank\")\n",
    "lr_model = lr.fit(train_data) "
   ]
  },
  {
   "cell_type": "code",
   "execution_count": 295,
   "metadata": {
    "collapsed": true
   },
   "outputs": [],
   "source": [
    "predictions = lr_model.transform(test_data)"
   ]
  },
  {
   "cell_type": "code",
   "execution_count": 297,
   "metadata": {},
   "outputs": [
    {
     "name": "stdout",
     "output_type": "stream",
     "text": [
      "Root Mean Squared Error (RMSE) on test data: 56.713\n"
     ]
    }
   ],
   "source": [
    "evaluator = RegressionEvaluator(labelCol=\"rank\", predictionCol=\"predicted_rank\", metricName=\"rmse\")\n",
    "rmse = evaluator.evaluate(predictions)\n",
    "print(\"Root Mean Squared Error (RMSE) on test data: {:.3f}\".format(rmse))"
   ]
  },
  {
   "cell_type": "code",
   "execution_count": 298,
   "metadata": {},
   "outputs": [
    {
     "name": "stdout",
     "output_type": "stream",
     "text": [
      "R-squared (R2) on test data: 0.028\n"
     ]
    }
   ],
   "source": [
    "evaluator_r2 = RegressionEvaluator(labelCol=\"rank\", predictionCol=\"predicted_rank\", metricName=\"r2\")\n",
    "r2 = evaluator_r2.evaluate(predictions)\n",
    "print(\"R-squared (R2) on test data: {:.3f}\".format(r2))"
   ]
  },
  {
   "cell_type": "code",
   "execution_count": 299,
   "metadata": {
    "collapsed": true
   },
   "outputs": [],
   "source": [
    "#the model returns a correalation of 2.8% "
   ]
  },
  {
   "cell_type": "code",
   "execution_count": 300,
   "metadata": {
    "collapsed": true
   },
   "outputs": [],
   "source": [
    "#simple linear regression "
   ]
  },
  {
   "cell_type": "code",
   "execution_count": 305,
   "metadata": {
    "collapsed": true
   },
   "outputs": [],
   "source": [
    "simple1 = df3_normalized.select(\"popularity\", \"streams\") "
   ]
  },
  {
   "cell_type": "code",
   "execution_count": 306,
   "metadata": {
    "collapsed": true
   },
   "outputs": [],
   "source": [
    "assembler = VectorAssembler(inputCols=[\"popularity\"], outputCol=\"features\") "
   ]
  },
  {
   "cell_type": "code",
   "execution_count": 307,
   "metadata": {},
   "outputs": [],
   "source": [
    "data = assembler.transform(simple1)"
   ]
  },
  {
   "cell_type": "code",
   "execution_count": 308,
   "metadata": {
    "collapsed": true
   },
   "outputs": [],
   "source": [
    "final_data = data.select(\"features\", \"streams\") "
   ]
  },
  {
   "cell_type": "code",
   "execution_count": 309,
   "metadata": {
    "collapsed": true
   },
   "outputs": [],
   "source": [
    "train_data, test_data = final_data.randomSplit([0.75, 0.25], seed=42) "
   ]
  },
  {
   "cell_type": "code",
   "execution_count": 313,
   "metadata": {},
   "outputs": [],
   "source": [
    "lr = LinearRegression(featuresCol=\"features\", labelCol=\"streams\", predictionCol=\"predicted_streams\")\n",
    "lr_model = lr.fit(train_data)"
   ]
  },
  {
   "cell_type": "code",
   "execution_count": 314,
   "metadata": {
    "collapsed": true
   },
   "outputs": [],
   "source": [
    "lr_model = lr.fit(train_data)"
   ]
  },
  {
   "cell_type": "code",
   "execution_count": 315,
   "metadata": {
    "collapsed": true
   },
   "outputs": [],
   "source": [
    "predictions = lr_model.transform(test_data) "
   ]
  },
  {
   "cell_type": "code",
   "execution_count": 316,
   "metadata": {},
   "outputs": [
    {
     "name": "stdout",
     "output_type": "stream",
     "text": [
      "Root Mean Squared Error (RMSE) on test data: 200091.238\n"
     ]
    }
   ],
   "source": [
    "evaluator = RegressionEvaluator(labelCol=\"streams\", predictionCol=\"predicted_streams\", metricName=\"rmse\")\n",
    "rmse = evaluator.evaluate(predictions)\n",
    "print(\"Root Mean Squared Error (RMSE) on test data: {:.3f}\".format(rmse))"
   ]
  },
  {
   "cell_type": "code",
   "execution_count": 317,
   "metadata": {},
   "outputs": [
    {
     "name": "stdout",
     "output_type": "stream",
     "text": [
      "Root Mean Squared Error (RMSE) on test data: 0.028\n"
     ]
    }
   ],
   "source": [
    "evaluator = RegressionEvaluator(labelCol=\"streams\", predictionCol=\"predicted_streams\", metricName=\"r2\")\n",
    "rmse = evaluator.evaluate(predictions)\n",
    "print(\"Root Mean Squared Error (RMSE) on test data: {:.3f}\".format(r2))"
   ]
  },
  {
   "cell_type": "code",
   "execution_count": 318,
   "metadata": {
    "collapsed": true
   },
   "outputs": [],
   "source": [
    "#the model returns a correalation of 2.8% "
   ]
  },
  {
   "cell_type": "code",
   "execution_count": 319,
   "metadata": {
    "collapsed": true
   },
   "outputs": [],
   "source": [
    "simple2 = df3_normalized.select(\"popularity\", \"rank\")  "
   ]
  },
  {
   "cell_type": "code",
   "execution_count": 322,
   "metadata": {},
   "outputs": [],
   "source": [
    "assembler = VectorAssembler(inputCols=[\"popularity\"], outputCol=\"features\") "
   ]
  },
  {
   "cell_type": "code",
   "execution_count": 324,
   "metadata": {},
   "outputs": [],
   "source": [
    "data = assembler.transform(simple2)"
   ]
  },
  {
   "cell_type": "code",
   "execution_count": 325,
   "metadata": {
    "collapsed": true
   },
   "outputs": [],
   "source": [
    "final_data= data.select(\"features\", \"rank\") "
   ]
  },
  {
   "cell_type": "code",
   "execution_count": 327,
   "metadata": {},
   "outputs": [],
   "source": [
    "train_data, test_data = final_data.randomSplit([0.75, 0.25], seed=42) "
   ]
  },
  {
   "cell_type": "code",
   "execution_count": 328,
   "metadata": {
    "collapsed": true
   },
   "outputs": [],
   "source": [
    "lr = LinearRegression(featuresCol=\"features\", labelCol=\"rank\", predictionCol=\"predicted_rank\")\n",
    "lr_model = lr.fit(train_data)"
   ]
  },
  {
   "cell_type": "code",
   "execution_count": 329,
   "metadata": {
    "collapsed": true
   },
   "outputs": [],
   "source": [
    "predictions = lr_model.transform(test_data)"
   ]
  },
  {
   "cell_type": "code",
   "execution_count": 330,
   "metadata": {},
   "outputs": [
    {
     "name": "stdout",
     "output_type": "stream",
     "text": [
      "Root Mean Squared Error (RMSE) on test data: 57.447\n"
     ]
    }
   ],
   "source": [
    "evaluator = RegressionEvaluator(labelCol=\"rank\", predictionCol=\"predicted_rank\", metricName=\"rmse\")\n",
    "rmse = evaluator.evaluate(predictions)\n",
    "print(\"Root Mean Squared Error (RMSE) on test data: {:.3f}\".format(rmse))"
   ]
  },
  {
   "cell_type": "code",
   "execution_count": 331,
   "metadata": {},
   "outputs": [
    {
     "name": "stdout",
     "output_type": "stream",
     "text": [
      "Root Mean Squared Error (RMSE) on test data: 0.028\n"
     ]
    }
   ],
   "source": [
    "evaluator = RegressionEvaluator(labelCol=\"rank\", predictionCol=\"predicted_rank\", metricName=\"r2\")\n",
    "rmse = evaluator.evaluate(predictions)\n",
    "print(\"Root Mean Squared Error (RMSE) on test data: {:.3f}\".format(r2))"
   ]
  },
  {
   "cell_type": "code",
   "execution_count": 332,
   "metadata": {
    "collapsed": true
   },
   "outputs": [],
   "source": [
    "simple3 = df3_normalized.select(\"popularity\", \"af_valence\") "
   ]
  },
  {
   "cell_type": "code",
   "execution_count": 333,
   "metadata": {
    "collapsed": true
   },
   "outputs": [],
   "source": [
    "assembler = VectorAssembler(inputCols=[\"popularity\"], outputCol=\"features\") "
   ]
  },
  {
   "cell_type": "code",
   "execution_count": 334,
   "metadata": {
    "collapsed": true
   },
   "outputs": [],
   "source": [
    "data = assembler.transform(simple3)\n",
    "final_data = data.select(\"features\", \"af_valence\")"
   ]
  },
  {
   "cell_type": "code",
   "execution_count": 335,
   "metadata": {
    "collapsed": true
   },
   "outputs": [],
   "source": [
    "train_data, test_data = final_data.randomSplit([0.75, 0.25], seed=42) "
   ]
  },
  {
   "cell_type": "code",
   "execution_count": 341,
   "metadata": {},
   "outputs": [],
   "source": [
    "lr = LinearRegression(featuresCol=\"features\", labelCol=\"af_valence\", predictionCol=\"predicted_af_valence\")\n",
    "lr_model = lr.fit(train_data) "
   ]
  },
  {
   "cell_type": "code",
   "execution_count": 342,
   "metadata": {
    "collapsed": true
   },
   "outputs": [],
   "source": [
    "predictions = lr_model.transform(test_data)"
   ]
  },
  {
   "cell_type": "code",
   "execution_count": 344,
   "metadata": {},
   "outputs": [
    {
     "name": "stdout",
     "output_type": "stream",
     "text": [
      "Root Mean Squared Error (RMSE) on test data: 0.223\n"
     ]
    }
   ],
   "source": [
    "evaluator = RegressionEvaluator(labelCol=\"af_valence\", predictionCol=\"predicted_af_valence\", metricName=\"rmse\")\n",
    "rmse = evaluator.evaluate(predictions)\n",
    "print(\"Root Mean Squared Error (RMSE) on test data: {:.3f}\".format(rmse))"
   ]
  },
  {
   "cell_type": "code",
   "execution_count": 345,
   "metadata": {},
   "outputs": [
    {
     "name": "stdout",
     "output_type": "stream",
     "text": [
      "Root Mean Squared Error (RMSE) on test data: 0.028\n"
     ]
    }
   ],
   "source": [
    "evaluator = RegressionEvaluator(labelCol=\"af_valence\", predictionCol=\"predicted_af_valence\", metricName=\"r2\")\n",
    "rmse = evaluator.evaluate(predictions)\n",
    "print(\"Root Mean Squared Error (RMSE) on test data: {:.3f}\".format(r2))"
   ]
  },
  {
   "cell_type": "code",
   "execution_count": 348,
   "metadata": {
    "collapsed": true
   },
   "outputs": [],
   "source": [
    "#the correlation between popularity and af valance is 2.8% "
   ]
  },
  {
   "cell_type": "code",
   "execution_count": 350,
   "metadata": {},
   "outputs": [],
   "source": [
    "simple4 = df3_normalized.select(\"streams\", \"af_valence\") "
   ]
  },
  {
   "cell_type": "code",
   "execution_count": 351,
   "metadata": {
    "collapsed": true
   },
   "outputs": [],
   "source": [
    "assembler = VectorAssembler(inputCols=[\"streams\"], outputCol=\"features\") "
   ]
  },
  {
   "cell_type": "code",
   "execution_count": 352,
   "metadata": {
    "collapsed": true
   },
   "outputs": [],
   "source": [
    "data = assembler.transform(simple4)"
   ]
  },
  {
   "cell_type": "code",
   "execution_count": 354,
   "metadata": {},
   "outputs": [],
   "source": [
    "final_data = data.select(\"features\", \"af_valence\") "
   ]
  },
  {
   "cell_type": "code",
   "execution_count": 355,
   "metadata": {
    "collapsed": true
   },
   "outputs": [],
   "source": [
    "train_data, test_data = final_data.randomSplit([0.75, 0.25], seed=42)"
   ]
  },
  {
   "cell_type": "code",
   "execution_count": 356,
   "metadata": {
    "collapsed": true
   },
   "outputs": [],
   "source": [
    "lr = LinearRegression(featuresCol=\"features\", labelCol=\"af_valence\", predictionCol=\"predicted_af_valence\")"
   ]
  },
  {
   "cell_type": "code",
   "execution_count": 357,
   "metadata": {
    "collapsed": true
   },
   "outputs": [],
   "source": [
    "lr_model = lr.fit(train_data)"
   ]
  },
  {
   "cell_type": "code",
   "execution_count": 358,
   "metadata": {
    "collapsed": true
   },
   "outputs": [],
   "source": [
    "predictions = lr_model.transform(test_data) "
   ]
  },
  {
   "cell_type": "code",
   "execution_count": 360,
   "metadata": {},
   "outputs": [
    {
     "name": "stdout",
     "output_type": "stream",
     "text": [
      "Root Mean Squared Error (RMSE) on test data: 0.223\n"
     ]
    }
   ],
   "source": [
    "evaluator = RegressionEvaluator(labelCol=\"af_valence\", predictionCol=\"predicted_af_valence\", metricName=\"rmse\")\n",
    "rmse = evaluator.evaluate(predictions)\n",
    "print(\"Root Mean Squared Error (RMSE) on test data: {:.3f}\".format(rmse))"
   ]
  },
  {
   "cell_type": "code",
   "execution_count": 361,
   "metadata": {},
   "outputs": [
    {
     "name": "stdout",
     "output_type": "stream",
     "text": [
      "R-squared (R2) on test data: 0.000\n"
     ]
    }
   ],
   "source": [
    "evaluator_r2 = RegressionEvaluator(labelCol=\"af_valence\", predictionCol=\"predicted_af_valence\", metricName=\"r2\")\n",
    "r2 = evaluator_r2.evaluate(predictions)\n",
    "print(\"R-squared (R2) on test data: {:.3f}\".format(r2))"
   ]
  },
  {
   "cell_type": "code",
   "execution_count": null,
   "metadata": {
    "collapsed": true
   },
   "outputs": [],
   "source": []
  }
 ],
 "metadata": {
  "kernelspec": {
   "display_name": "Python 3.5",
   "language": "python",
   "name": "python35"
  },
  "language_info": {
   "codemirror_mode": {
    "name": "ipython",
    "version": 3
   },
   "file_extension": ".py",
   "mimetype": "text/x-python",
   "name": "python",
   "nbconvert_exporter": "python",
   "pygments_lexer": "ipython3",
   "version": "3.5.2"
  }
 },
 "nbformat": 4,
 "nbformat_minor": 2
}
