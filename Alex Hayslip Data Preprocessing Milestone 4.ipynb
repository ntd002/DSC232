{
 "cells": [
  {
   "cell_type": "code",
   "execution_count": 1,
   "metadata": {
    "collapsed": true
   },
   "outputs": [],
   "source": [
    "import os\n",
    "import sys\n",
    "os.environ[\"PYSPARK_PYTHON\"] = sys.executable\n",
    "os.environ[\"PYSPARK_DRIVER_PYTHON\"] = sys.executable"
   ]
  },
  {
   "cell_type": "code",
   "execution_count": 2,
   "metadata": {},
   "outputs": [
    {
     "data": {
      "text/plain": [
       "'2.3.0'"
      ]
     },
     "execution_count": 2,
     "metadata": {},
     "output_type": "execute_result"
    }
   ],
   "source": [
    "from pyspark import SparkContext\n",
    "sc = SparkContext(master=\"local[4]\")\n",
    "sc.version"
   ]
  },
  {
   "cell_type": "code",
   "execution_count": 3,
   "metadata": {},
   "outputs": [
    {
     "data": {
      "text/plain": [
       "<pyspark.sql.context.SQLContext at 0x7ffaa4c632e8>"
      ]
     },
     "execution_count": 3,
     "metadata": {},
     "output_type": "execute_result"
    }
   ],
   "source": [
    "from pyspark import SparkContext\n",
    "from pyspark.sql import SQLContext\n",
    "from pyspark.sql.types import Row, StructField, StructType, StringType, IntegerType, BinaryType\n",
    "\n",
    "sqlContext = SQLContext(sc)\n",
    "sqlContext"
   ]
  },
  {
   "cell_type": "code",
   "execution_count": 136,
   "metadata": {},
   "outputs": [],
   "source": [
    "import pyspark.sql.functions as F"
   ]
  },
  {
   "cell_type": "code",
   "execution_count": 4,
   "metadata": {
    "collapsed": true
   },
   "outputs": [],
   "source": [
    "from pyspark.sql import SparkSession\n",
    "spark = SparkSession.builder.appName(\"CSV Reader\").getOrCreate()\n",
    "df1 = spark.read.format(\"csv\").option(\"header\", \"true\").option(\"inferSchema\", \"true\").option(\"escape\", \"\\\"\").load(\"merged_data.csv\")"
   ]
  },
  {
   "cell_type": "code",
   "execution_count": 5,
   "metadata": {},
   "outputs": [
    {
     "name": "stdout",
     "output_type": "stream",
     "text": [
      "+---+--------------------+----+--------+--------------------+--------------------+---------+------+-------------+-------+--------------------+--------------------+----------+-----------+--------+------------+--------------------+---------------+---------+------+-----------+-------+--------------+---------------+-------------------+-----------+----------+--------+-----------------+\n",
      "|_c0|               title|rank|    date|              artist|                 url|   region| chart|        trend|streams|            track_id|               album|popularity|duration_ms|explicit|release_date|   available_markets|af_danceability|af_energy|af_key|af_loudness|af_mode|af_speechiness|af_acousticness|af_instrumentalness|af_liveness|af_valence|af_tempo|af_time_signature|\n",
      "+---+--------------------+----+--------+--------------------+--------------------+---------+------+-------------+-------+--------------------+--------------------+----------+-----------+--------+------------+--------------------+---------------+---------+------+-----------+-------+--------------+---------------+-------------------+-----------+----------+--------+-----------------+\n",
      "|  0|Chantaje (feat. M...|   1|1/1/2017|             Shakira|https://open.spot...|Argentina|top200|SAME_POSITION| 253019|6mICuAdrwEjh6Y6lr...|           El Dorado|        78|     195840|   false|   5/26/2017|['AR', 'AU', 'AT'...|          0.852|    0.773|     8|     -2.921|      0|        0.0776|          0.187|            3.05E-5|      0.159|     0.907| 102.034|                4|\n",
      "|  1|Vente Pa' Ca (fea...|   2|1/1/2017|        Ricky Martin|https://open.spot...|Argentina|top200|      MOVE_UP| 223988|7DM4BPaS7uofFul3y...|Vente Pa' Ca (fea...|        72|     259195|   false|   9/22/2016|['AR', 'AU', 'AT'...|          0.663|     0.92|    11|      -4.07|      0|         0.226|        0.00431|            1.69E-5|      0.101|     0.533|  99.935|                4|\n",
      "|  2|Reggaetón Lento (...|   3|1/1/2017|                CNCO|https://open.spot...|Argentina|top200|    MOVE_DOWN| 210943|3AEZUABDXNtecAOSC...|        Primera Cita|        73|     222560|   false|   8/26/2016|['AR', 'AU', 'AT'...|          0.761|    0.838|     4|     -3.073|      0|        0.0502|            0.4|                0.0|      0.176|      0.71|  93.974|                4|\n",
      "|  3|              Safari|   4|1/1/2017|J Balvin, Pharrel...|https://open.spot...|Argentina|top200|SAME_POSITION| 173865|6rQSrBHf7HlZjtcMZ...|             Energía|         0|     205600|   false|   6/24/2016|                  []|          0.508|    0.687|     0|     -4.361|      1|         0.326|          0.551|            3.41E-6|      0.126|     0.555| 180.044|                4|\n",
      "|  4|         Shaky Shaky|   5|1/1/2017|        Daddy Yankee|https://open.spot...|Argentina|top200|      MOVE_UP| 153956|58IL315gMSTD37DOZ...|         Shaky Shaky|         0|     234320|   false|    4/8/2016|                  []|          0.899|    0.626|     6|     -4.228|      0|         0.292|          0.076|                0.0|     0.0631|     0.873|  88.007|                4|\n",
      "|  5|         Traicionera|   6|1/1/2017|     Sebastian Yatra|https://open.spot...|Argentina|top200|    MOVE_DOWN| 151140|5J1c3M4EldCfNxXwr...|         Traicionera|         0|     228466|   false|   6/24/2016|                  []|          0.776|    0.669|    11|     -4.933|      1|        0.0638|          0.142|                0.0|      0.219|     0.661|  91.012|                4|\n",
      "|  6|Cuando Se Pone a ...|   7|1/1/2017|              Rombai|https://open.spot...|Argentina|top200|    MOVE_DOWN| 148369|1MpKZi1zTXpERKwxm...|Cuando Se Pone a ...|        56|     195274|   false|   12/2/2016|['AR', 'AU', 'AT'...|          0.588|    0.682|    11|     -7.169|      0|         0.173|         0.0851|            2.69E-5|      0.084|     0.937| 205.643|                4|\n",
      "|  7|Otra vez (feat. J...|   8|1/1/2017|       Zion & Lennox|https://open.spot...|Argentina|top200|    MOVE_DOWN| 143004|3QwBODjSEzelZyVjx...|            Motivan2|        74|     209453|   false|   9/30/2016|['AG', 'AM', 'AR'...|          0.832|    0.772|    10|     -5.429|      1|           0.1|         0.0559|            4.86E-4|       0.44|     0.704|  96.016|                4|\n",
      "|  8|        La Bicicleta|   9|1/1/2017|Carlos Vives, Sha...|https://open.spot...|Argentina|top200|      MOVE_UP| 126389|0sXvAOmXgjR2QUqLK...|           El Dorado|        59|     227706|   false|   5/26/2017|['AR', 'AU', 'AT'...|          0.736|    0.964|     0|     -2.147|      1|         0.129|          0.198|            2.32E-6|      0.336|     0.953| 179.935|                4|\n",
      "|  9|Dile Que Tu Me Qu...|  10|1/1/2017|               Ozuna|https://open.spot...|Argentina|top200|    MOVE_DOWN| 112012|20ZAJdsKB5IGbGj4i...|Dile Que Tu Me Qu...|         0|     226400|   false|    6/6/2016|                  []|          0.721|    0.687|     1|     -6.682|      1|        0.0782|         0.0998|                0.0|     0.0679|     0.825| 175.914|                4|\n",
      "| 10|  Andas En Mi Cabeza|  11|1/1/2017|Chino & Nacho, Da...|https://open.spot...|Argentina|top200|SAME_POSITION| 110395|5mey7CLLuFToM2P68...|  Andas En Mi Cabeza|         0|     247493|   false|   2/19/2016|                  []|           0.68|    0.954|     9|     -1.823|      1|         0.119|         0.0244|                0.0|      0.112|     0.521| 104.029|                4|\n",
      "| 11|Desde Esa Noche (...|  12|1/1/2017|              Thalia|https://open.spot...|Argentina|top200|      MOVE_UP| 104592|1pWYnQIlqxTh5bxuP...|              Latina|        66|     227693|   false|    5/6/2016|['AR', 'AU', 'AT'...|           0.78|    0.929|    11|     -0.739|      0|        0.0532|          0.171|                0.0|     0.0677|     0.837|  95.012|                4|\n",
      "| 12|      Borro Cassette|  13|1/1/2017|              Maluma|https://open.spot...|Argentina|top200|      MOVE_UP| 101535|6DUdDIRgLqCGq1Dwk...|Pretty Boy, Dirty...|        80|     207306|   false|  10/30/2015|['AR', 'AU', 'AT'...|           0.73|    0.701|     5|     -5.885|      0|         0.106|          0.132|                0.0|      0.151|     0.785|  175.95|                4|\n",
      "| 13|Gyal You A Party ...|  14|1/1/2017|Charly Black, Dad...|https://open.spot...|Argentina|top200|    MOVE_DOWN|  99722|1AkTW13ysu0AJrwuM...|Gyal You A Party ...|         0|     224320|   false|   10/7/2016|                  []|          0.723|    0.889|     0|     -4.017|      1|        0.0939|         0.0673|                0.0|      0.363|     0.701| 101.032|                4|\n",
      "| 14|Me llamas (feat. ...|  15|1/1/2017|             Piso 21|https://open.spot...|Argentina|top200|    MOVE_DOWN|  95010|5hEM0JchdVzQ5PwvS...|Me Llamas (feat. ...|        69|     210322|   false|   12/2/2016|['AR', 'AU', 'AT'...|           0.76|    0.838|     7|     -3.828|      0|        0.0529|          0.547|             1.3E-6|     0.0664|     0.745|   93.05|                4|\n",
      "| 15|La Bicicleta (fea...|  16|1/1/2017|Carlos Vives, Sha...|https://open.spot...|Argentina|top200|      MOVE_UP|  92723|7IRuf7FrdQvOGs0g9...|La Bicicleta (fea...|        48|     254069|   false|   8/19/2016|['AR', 'AU', 'AT'...|          0.598|    0.917|     0|     -3.455|      1|         0.159|          0.117|                0.0|      0.398|     0.575| 180.049|                4|\n",
      "| 16|DUELE EL CORAZON ...|  17|1/1/2017|    Enrique Iglesias|https://open.spot...|Argentina|top200|      MOVE_UP|  91325|6YZdkObH88npeKrrk...|DUELE EL CORAZON ...|        69|     199693|   false|   4/18/2016|['AR', 'AU', 'AT'...|          0.716|    0.908|     8|     -3.254|      0|         0.103|         0.0858|                0.0|      0.135|     0.869|   91.03|                4|\n",
      "| 17|     Let Me Love You|  18|1/1/2017|DJ Snake, Justin ...|https://open.spot...|Argentina|top200|    MOVE_DOWN|  87926|4pdPtRcBmOSQDlJ3F...|              Encore|         2|     205946|   false|    8/5/2016|                  []|          0.476|    0.718|     8|     -5.309|      1|        0.0576|         0.0784|            1.02E-5|      0.122|     0.142| 199.864|                4|\n",
      "| 18|La Noche No Es pa...|  19|1/1/2017|         Mano Arriba|https://open.spot...|Argentina|top200|SAME_POSITION|  87033|3gEebOzxHpEwElicl...|La Noche No Es pa...|         0|     199495|   false|   3/11/2016|                  []|          0.549|    0.798|     6|     -4.185|      1|        0.0705|          0.126|                0.0|      0.329|     0.905| 100.054|                4|\n",
      "| 19|          Vacaciones|  20|1/1/2017|               Wisin|https://open.spot...|Argentina|top200|    MOVE_DOWN|  86103|3dQDid3IUNhZy1Oeh...|          Vacaciones|         0|     238800|   false|   9/30/2016|                  []|          0.772|    0.909|     6|     -3.225|      0|         0.166|          0.256|                0.0|      0.255|     0.694|  96.031|                4|\n",
      "+---+--------------------+----+--------+--------------------+--------------------+---------+------+-------------+-------+--------------------+--------------------+----------+-----------+--------+------------+--------------------+---------------+---------+------+-----------+-------+--------------+---------------+-------------------+-----------+----------+--------+-----------------+\n",
      "only showing top 20 rows\n",
      "\n"
     ]
    }
   ],
   "source": [
    "df2 = df1.dropna(\"any\")\n",
    "df2.show()"
   ]
  },
  {
   "cell_type": "code",
   "execution_count": 6,
   "metadata": {
    "collapsed": true
   },
   "outputs": [],
   "source": [
    "#adjust data types "
   ]
  },
  {
   "cell_type": "code",
   "execution_count": 7,
   "metadata": {
    "collapsed": true
   },
   "outputs": [],
   "source": [
    "df2 = df2.withColumn(\"streams\", df1[\"streams\"].cast(\"Integer\"))\n",
    "df2 = df2.withColumn(\"popularity\", df1[\"popularity\"].cast(\"Integer\"))\n",
    "df2 = df2.withColumn(\"duration_ms\", df1[\"duration_ms\"].cast(\"Integer\"))"
   ]
  },
  {
   "cell_type": "code",
   "execution_count": 131,
   "metadata": {},
   "outputs": [
    {
     "name": "stdout",
     "output_type": "stream",
     "text": [
      "+-------+-----------------+------------------+------------------+\n",
      "|summary|          streams|        popularity|       duration_ms|\n",
      "+-------+-----------------+------------------+------------------+\n",
      "|  count|           881194|            881194|            881194|\n",
      "|   mean|51662.10985322188|41.246040032047425|216176.87010465347|\n",
      "| stddev|199992.0502176531| 32.81812068147051| 56106.56857221959|\n",
      "|    min|             1001|                 0|                 0|\n",
      "|    max|          7985803|                90|           9318296|\n",
      "+-------+-----------------+------------------+------------------+\n",
      "\n"
     ]
    }
   ],
   "source": [
    "df2.select(\"streams\", \"popularity\", \"duration_ms\").describe().show()"
   ]
  },
  {
   "cell_type": "code",
   "execution_count": 132,
   "metadata": {},
   "outputs": [
    {
     "name": "stdout",
     "output_type": "stream",
     "text": [
      "+-------+-------------------+-------------------+------------------+------------------+-------------------+-------------------+\n",
      "|summary|    af_danceability|          af_energy|            af_key|       af_loudness|            af_mode|     af_speechiness|\n",
      "+-------+-------------------+-------------------+------------------+------------------+-------------------+-------------------+\n",
      "|  count|             881194|             881194|            881194|            881194|             881194|             881194|\n",
      "|   mean| 0.6816865531313122| 0.6609642107186692| 5.312490779555921|-5.930670455086607| 0.5858766628006999| 0.1036562745547574|\n",
      "| stddev|0.13055459839922265|0.16170317860580066|3.6720516324479893|2.2369797982472805|0.49257027328432845|0.09284140512009223|\n",
      "|    min|             0.0645|             0.0107|                 0|           -31.042|                  0|              0.022|\n",
      "|    max|               0.98|              0.999|                11|             1.509|                  1|              0.955|\n",
      "+-------+-------------------+-------------------+------------------+------------------+-------------------+-------------------+\n",
      "\n"
     ]
    }
   ],
   "source": [
    "#numerical af values set 1\n",
    "df2.select(\"af_danceability\", \"af_energy\", \"af_key\", \"af_loudness\", \"af_mode\", \"af_speechiness\").describe().show()"
   ]
  },
  {
   "cell_type": "code",
   "execution_count": 133,
   "metadata": {},
   "outputs": [
    {
     "name": "stdout",
     "output_type": "stream",
     "text": [
      "+-------+-------------------+--------------------+-------------------+-------------------+------------------+------------------+\n",
      "|summary|    af_acousticness| af_instrumentalness|        af_liveness|         af_valence|          af_tempo| af_time_signature|\n",
      "+-------+-------------------+--------------------+-------------------+-------------------+------------------+------------------+\n",
      "|  count|             881194|              881194|             881194|             881194|            881194|            881194|\n",
      "|   mean|0.22777686138974462|0.007402772556520002| 0.1666076523444272| 0.5157139318924048|120.42735367127528|3.9799726280478533|\n",
      "| stddev|0.23103506875657026| 0.06087904450319127|0.12424479466780335|0.22296872218563127| 29.21653759331071|0.2283049545989595|\n",
      "|    min|             8.8E-6|                 0.0|             0.0176|             0.0306|            31.262|                 1|\n",
      "|    max|              0.992|               0.987|              0.993|              0.989|           216.821|                 5|\n",
      "+-------+-------------------+--------------------+-------------------+-------------------+------------------+------------------+\n",
      "\n"
     ]
    }
   ],
   "source": [
    "df2.select(\"af_acousticness\", \"af_instrumentalness\", \"af_liveness\", \"af_valence\", \"af_tempo\", \"af_time_signature\").describe().show()"
   ]
  },
  {
   "cell_type": "code",
   "execution_count": 137,
   "metadata": {},
   "outputs": [
    {
     "name": "stdout",
     "output_type": "stream",
     "text": [
      "+-----------+-----+\n",
      "|     region|count|\n",
      "+-----------+-----+\n",
      "|  Argentina|18601|\n",
      "|  Australia|18600|\n",
      "|    Austria|18472|\n",
      "|    Belgium|18400|\n",
      "|     Brazil|18396|\n",
      "|     Canada|18326|\n",
      "|    Ecuador|18202|\n",
      "| Costa Rica|18201|\n",
      "|    Denmark|18200|\n",
      "|     France|18200|\n",
      "|      Chile|18200|\n",
      "|   Colombia|18200|\n",
      "|    Finland|18200|\n",
      "|     Global|18200|\n",
      "|    Germany|18071|\n",
      "|  Hong Kong|17893|\n",
      "|  Indonesia|17802|\n",
      "|    Ireland|17801|\n",
      "|     Norway|17800|\n",
      "|New Zealand|17800|\n",
      "+-----------+-----+\n",
      "only showing top 20 rows\n",
      "\n"
     ]
    }
   ],
   "source": [
    "df2.groupBy(\"region\").count().sort(F.col(\"count\").desc()).show()"
   ]
  },
  {
   "cell_type": "code",
   "execution_count": 138,
   "metadata": {},
   "outputs": [
    {
     "name": "stdout",
     "output_type": "stream",
     "text": [
      "+----------+-----+\n",
      "|    region|count|\n",
      "+----------+-----+\n",
      "| Argentina|18601|\n",
      "| Australia|18600|\n",
      "|   Austria|18472|\n",
      "|   Belgium|18400|\n",
      "|    Brazil|18396|\n",
      "|    Canada|18326|\n",
      "|   Ecuador|18202|\n",
      "|Costa Rica|18201|\n",
      "|    France|18200|\n",
      "|   Denmark|18200|\n",
      "+----------+-----+\n",
      "only showing top 10 rows\n",
      "\n"
     ]
    }
   ],
   "source": [
    "#show for top 10 regions only\n",
    "df2.groupBy(\"region\").count().sort(F.col(\"count\").desc()).show(10)"
   ]
  },
  {
   "cell_type": "code",
   "execution_count": 140,
   "metadata": {},
   "outputs": [
    {
     "name": "stdout",
     "output_type": "stream",
     "text": [
      "+-----------------+-----+\n",
      "|           artist|count|\n",
      "+-----------------+-----+\n",
      "|       Ed Sheeran|20479|\n",
      "|      Post Malone| 9921|\n",
      "|            Drake| 8693|\n",
      "|       The Weeknd| 8136|\n",
      "|         Dua Lipa| 7503|\n",
      "|       Bruno Mars| 7020|\n",
      "|     Shawn Mendes| 6825|\n",
      "|  Imagine Dragons| 6369|\n",
      "| The Chainsmokers| 5853|\n",
      "|     Charlie Puth| 5630|\n",
      "|   Camila Cabello| 5609|\n",
      "|            Ozuna| 5598|\n",
      "|        Bad Bunny| 5301|\n",
      "|    Justin Bieber| 5284|\n",
      "|           Maluma| 5137|\n",
      "|     Clean Bandit| 4845|\n",
      "|Twenty One Pilots| 4792|\n",
      "|              Sia| 4635|\n",
      "|      Major Lazer| 4579|\n",
      "|   Kendrick Lamar| 4449|\n",
      "+-----------------+-----+\n",
      "only showing top 20 rows\n",
      "\n"
     ]
    }
   ],
   "source": [
    "#group by artists that occur most frequently\n",
    "df2.groupBy(\"artist\").count().sort(F.col(\"count\").desc()).show()"
   ]
  },
  {
   "cell_type": "code",
   "execution_count": 141,
   "metadata": {},
   "outputs": [
    {
     "name": "stdout",
     "output_type": "stream",
     "text": [
      "+----------------+-----+\n",
      "|          artist|count|\n",
      "+----------------+-----+\n",
      "|      Ed Sheeran|20479|\n",
      "|     Post Malone| 9921|\n",
      "|           Drake| 8693|\n",
      "|      The Weeknd| 8136|\n",
      "|        Dua Lipa| 7503|\n",
      "|      Bruno Mars| 7020|\n",
      "|    Shawn Mendes| 6825|\n",
      "| Imagine Dragons| 6369|\n",
      "|The Chainsmokers| 5853|\n",
      "|    Charlie Puth| 5630|\n",
      "+----------------+-----+\n",
      "only showing top 10 rows\n",
      "\n"
     ]
    }
   ],
   "source": [
    "#group by top 10 artists that occur most frequently\n",
    "df2.groupBy(\"artist\").count().sort(F.col(\"count\").desc()).show(10)"
   ]
  },
  {
   "cell_type": "code",
   "execution_count": 142,
   "metadata": {},
   "outputs": [
    {
     "name": "stdout",
     "output_type": "stream",
     "text": [
      "+-------------+------+\n",
      "|        trend| count|\n",
      "+-------------+------+\n",
      "|    MOVE_DOWN|387450|\n",
      "|      MOVE_UP|338921|\n",
      "|SAME_POSITION|101845|\n",
      "|    NEW_ENTRY| 52978|\n",
      "+-------------+------+\n",
      "\n"
     ]
    }
   ],
   "source": [
    "#return unique trend types and record counts of each\n",
    "df2.groupBy(\"trend\").count().sort(F.col(\"count\").desc()).show()"
   ]
  },
  {
   "cell_type": "code",
   "execution_count": 143,
   "metadata": {},
   "outputs": [
    {
     "name": "stdout",
     "output_type": "stream",
     "text": [
      "+-----------------+------+\n",
      "|af_time_signature| count|\n",
      "+-----------------+------+\n",
      "|                4|848342|\n",
      "|                3| 21892|\n",
      "|                5|  9281|\n",
      "|                1|  1679|\n",
      "+-----------------+------+\n",
      "\n"
     ]
    }
   ],
   "source": [
    "#return records for af time signature\n",
    "df2.groupBy(\"af_time_signature\").count().sort(F.col(\"count\").desc()).show()"
   ]
  },
  {
   "cell_type": "code",
   "execution_count": 144,
   "metadata": {},
   "outputs": [
    {
     "name": "stdout",
     "output_type": "stream",
     "text": [
      "+--------+------+\n",
      "|explicit| count|\n",
      "+--------+------+\n",
      "|   false|656785|\n",
      "|    true|224409|\n",
      "+--------+------+\n",
      "\n"
     ]
    }
   ],
   "source": [
    "#return record counts for explicit content\n",
    "df2.groupBy(\"explicit\").count().sort(F.col(\"count\").desc()).show()"
   ]
  },
  {
   "cell_type": "code",
   "execution_count": 145,
   "metadata": {},
   "outputs": [
    {
     "name": "stdout",
     "output_type": "stream",
     "text": [
      "+-------+------+\n",
      "|af_mode| count|\n",
      "+-------+------+\n",
      "|      1|516271|\n",
      "|      0|364923|\n",
      "+-------+------+\n",
      "\n"
     ]
    }
   ],
   "source": [
    "#return records for af mode\n",
    "df2.groupBy(\"af_mode\").count().sort(F.col(\"count\").desc()).show()"
   ]
  },
  {
   "cell_type": "code",
   "execution_count": 146,
   "metadata": {},
   "outputs": [
    {
     "name": "stdout",
     "output_type": "stream",
     "text": [
      "+--------------------+--------------------+-----+\n",
      "|              artist|               title|count|\n",
      "+--------------------+--------------------+-----+\n",
      "|          Ed Sheeran|        Shape of You| 4021|\n",
      "|        James Arthur|Say You Won't Let Go| 3006|\n",
      "|The Chainsmokers,...|              Closer| 2919|\n",
      "|          Ed Sheeran|   Thinking out Loud| 2798|\n",
      "|          Ed Sheeran|          Photograph| 2740|\n",
      "|     Imagine Dragons|            Believer| 2715|\n",
      "| Drake, WizKid, Kyla|           One Dance| 2579|\n",
      "|  ZAYN, Taylor Swift|I Don’t Wanna Liv...| 2544|\n",
      "|          Ed Sheeran|             Perfect| 2303|\n",
      "|        Clean Bandit|Rockabye (feat. S...| 2273|\n",
      "+--------------------+--------------------+-----+\n",
      "only showing top 10 rows\n",
      "\n"
     ]
    }
   ],
   "source": [
    "df2.groupBy(\"artist\", \"title\").count().sort(F.col(\"count\").desc()).show(10)"
   ]
  },
  {
   "cell_type": "code",
   "execution_count": 147,
   "metadata": {},
   "outputs": [
    {
     "name": "stdout",
     "output_type": "stream",
     "text": [
      "+------+--------------------+-----+\n",
      "|artist|               title|count|\n",
      "+------+--------------------+-----+\n",
      "| Drake|          God's Plan| 2249|\n",
      "| Drake|           Fake Love| 1641|\n",
      "| Drake|        Toosie Slide|  970|\n",
      "| Drake|       Nice For What|  485|\n",
      "| Drake|           Controlla|  450|\n",
      "| Drake|Chicago Freestyle...|  404|\n",
      "| Drake|Pain 1993 (with P...|  374|\n",
      "| Drake|        Passionfruit|  311|\n",
      "| Drake|       Hotline Bling|  267|\n",
      "| Drake|Money In The Grav...|  182|\n",
      "+------+--------------------+-----+\n",
      "only showing top 10 rows\n",
      "\n"
     ]
    }
   ],
   "source": [
    "df3 = df2.filter(F.col(\"artist\")==\"Drake\")\n",
    "df3.groupBy(\"artist\", \"title\").count().sort(F.col(\"count\").desc()).show(10)"
   ]
  },
  {
   "cell_type": "code",
   "execution_count": 148,
   "metadata": {},
   "outputs": [
    {
     "name": "stdout",
     "output_type": "stream",
     "text": [
      "+------+--------------+-----+\n",
      "|artist|        region|count|\n",
      "+------+--------------+-----+\n",
      "| Drake|        Canada|  458|\n",
      "| Drake| United States|  412|\n",
      "| Drake|     Australia|  316|\n",
      "| Drake|        Global|  314|\n",
      "| Drake|United Kingdom|  309|\n",
      "| Drake|       Ireland|  276|\n",
      "| Drake|   New Zealand|  257|\n",
      "| Drake|      Portugal|  248|\n",
      "| Drake|   Switzerland|  200|\n",
      "| Drake|       Belgium|  194|\n",
      "+------+--------------+-----+\n",
      "only showing top 10 rows\n",
      "\n"
     ]
    }
   ],
   "source": [
    "df3.groupBy(\"artist\", \"region\").count().sort(F.col(\"count\").desc()).show(10)"
   ]
  },
  {
   "cell_type": "code",
   "execution_count": 149,
   "metadata": {},
   "outputs": [
    {
     "name": "stdout",
     "output_type": "stream",
     "text": [
      "+----------------------------+\n",
      "|approx_count_distinct(title)|\n",
      "+----------------------------+\n",
      "|                          28|\n",
      "+----------------------------+\n",
      "\n"
     ]
    }
   ],
   "source": [
    "df3.agg({\"title\": \"approx_count_distinct\"}).show()"
   ]
  },
  {
   "cell_type": "code",
   "execution_count": 150,
   "metadata": {},
   "outputs": [
    {
     "name": "stdout",
     "output_type": "stream",
     "text": [
      "+-----------+--------------------+-----+\n",
      "|     artist|               title|count|\n",
      "+-----------+--------------------+-----+\n",
      "|Post Malone|Psycho (feat. Ty ...| 1489|\n",
      "|Post Malone|        I Fall Apart| 1222|\n",
      "|Post Malone|             Circles|  826|\n",
      "|Post Malone|rockstar (feat. 2...|  763|\n",
      "|Post Malone|         Candy Paint|  705|\n",
      "|Post Malone|             Go Flex|  518|\n",
      "|Post Malone|          Better Now|  486|\n",
      "|Post Malone|       White Iverson|  437|\n",
      "|Post Malone|            Paranoid|  349|\n",
      "|Post Malone|Spoil My Night (f...|  299|\n",
      "+-----------+--------------------+-----+\n",
      "only showing top 10 rows\n",
      "\n"
     ]
    }
   ],
   "source": [
    "df4 = df2.filter(F.col(\"artist\")==\"Post Malone\")\n",
    "df4.groupBy(\"artist\", \"title\").count().sort(F.col(\"count\").desc()).show(10)"
   ]
  },
  {
   "cell_type": "code",
   "execution_count": 151,
   "metadata": {},
   "outputs": [
    {
     "name": "stdout",
     "output_type": "stream",
     "text": [
      "+-----------+--------------+-----+\n",
      "|     artist|        region|count|\n",
      "+-----------+--------------+-----+\n",
      "|Post Malone|        Canada|  500|\n",
      "|Post Malone| United States|  474|\n",
      "|Post Malone|     Australia|  404|\n",
      "|Post Malone|        Global|  402|\n",
      "|Post Malone|   New Zealand|  392|\n",
      "|Post Malone|       Ireland|  360|\n",
      "|Post Malone|        Norway|  320|\n",
      "|Post Malone|       Denmark|  317|\n",
      "|Post Malone|United Kingdom|  316|\n",
      "|Post Malone|        Sweden|  291|\n",
      "+-----------+--------------+-----+\n",
      "only showing top 10 rows\n",
      "\n"
     ]
    }
   ],
   "source": [
    "#return the regions where post malone occurs most frequently on a top list \n",
    "df4.groupBy(\"artist\", \"region\").count().sort(F.col(\"count\").desc()).show(10)"
   ]
  },
  {
   "cell_type": "code",
   "execution_count": 152,
   "metadata": {},
   "outputs": [
    {
     "name": "stdout",
     "output_type": "stream",
     "text": [
      "+----------------------------+\n",
      "|approx_count_distinct(title)|\n",
      "+----------------------------+\n",
      "|                          30|\n",
      "+----------------------------+\n",
      "\n"
     ]
    }
   ],
   "source": [
    "#count unique post malone songs that appear in these top lists\n",
    "df4.agg({\"title\": \"approx_count_distinct\"}).show()"
   ]
  },
  {
   "cell_type": "code",
   "execution_count": 153,
   "metadata": {},
   "outputs": [
    {
     "name": "stdout",
     "output_type": "stream",
     "text": [
      "+--------------+-------------+-----+\n",
      "|        artist|       region|count|\n",
      "+--------------+-------------+-----+\n",
      "|   Post Malone|United States|  474|\n",
      "|    The Weeknd|United States|  413|\n",
      "|         Drake|United States|  412|\n",
      "|       J. Cole|United States|  381|\n",
      "|         Migos|United States|  346|\n",
      "|  XXXTENTACION|United States|  342|\n",
      "|  Lil Uzi Vert|United States|  339|\n",
      "|Kendrick Lamar|United States|  226|\n",
      "|  Travis Scott|United States|  216|\n",
      "|    Ed Sheeran|United States|  215|\n",
      "+--------------+-------------+-----+\n",
      "only showing top 10 rows\n",
      "\n"
     ]
    }
   ],
   "source": [
    "df5 = df2.filter(F.col(\"region\")==\"United States\")\n",
    "df5.groupBy(\"artist\", \"region\").count().sort(F.col(\"count\").desc()).show(10)"
   ]
  },
  {
   "cell_type": "code",
   "execution_count": 154,
   "metadata": {},
   "outputs": [
    {
     "name": "stdout",
     "output_type": "stream",
     "text": [
      "+--------------+------+-----+\n",
      "|        artist|region|count|\n",
      "+--------------+------+-----+\n",
      "|   Post Malone|Canada|  500|\n",
      "|    The Weeknd|Canada|  469|\n",
      "|         Drake|Canada|  458|\n",
      "|    Ed Sheeran|Canada|  449|\n",
      "|         Migos|Canada|  304|\n",
      "|  XXXTENTACION|Canada|  246|\n",
      "|       J. Cole|Canada|  228|\n",
      "|Kendrick Lamar|Canada|  227|\n",
      "|  Travis Scott|Canada|  214|\n",
      "|    Tory Lanez|Canada|  208|\n",
      "+--------------+------+-----+\n",
      "only showing top 10 rows\n",
      "\n"
     ]
    }
   ],
   "source": [
    "#top 10 referenced artists in canada\n",
    "df6 = df2.filter(F.col(\"region\")==\"Canada\")\n",
    "df6.groupBy(\"artist\", \"region\").count().sort(F.col(\"count\").desc()).show(10)"
   ]
  },
  {
   "cell_type": "code",
   "execution_count": 155,
   "metadata": {},
   "outputs": [
    {
     "name": "stdout",
     "output_type": "stream",
     "text": [
      "+--------------------+------+-----+\n",
      "|              artist|region|count|\n",
      "+--------------------+------+-----+\n",
      "|Banda MS de Sergi...|Mexico|  417|\n",
      "|              Maluma|Mexico|  384|\n",
      "|               Ozuna|Mexico|  308|\n",
      "|          Ed Sheeran|Mexico|  285|\n",
      "|     Cartel De Santa|Mexico|  284|\n",
      "|           Bad Bunny|Mexico|  273|\n",
      "|            J Balvin|Mexico|  257|\n",
      "|     Christian Nodal|Mexico|  246|\n",
      "|         Luis Miguel|Mexico|  237|\n",
      "|                Reik|Mexico|  184|\n",
      "+--------------------+------+-----+\n",
      "only showing top 10 rows\n",
      "\n"
     ]
    }
   ],
   "source": [
    "#top 10 referenced artists for mexico\n",
    "df7 = df2.filter(F.col(\"region\")==\"Mexico\")\n",
    "df7.groupBy(\"artist\", \"region\").count().sort(F.col(\"count\").desc()).show(10)"
   ]
  },
  {
   "cell_type": "code",
   "execution_count": 156,
   "metadata": {},
   "outputs": [
    {
     "name": "stdout",
     "output_type": "stream",
     "text": [
      "+-------------------+--------------------+-------------+-----+\n",
      "|             artist|               title|       region|count|\n",
      "+-------------------+--------------------+-------------+-----+\n",
      "|       Travis Scott|          goosebumps|United States|   86|\n",
      "|            J. Cole|      No Role Modelz|United States|   84|\n",
      "| Post Malone, Quavo|     Congratulations|United States|   82|\n",
      "|       James Arthur|Say You Won't Let Go|United States|   79|\n",
      "|   Childish Gambino|             Redbone|United States|   74|\n",
      "|        Post Malone|       White Iverson|United States|   72|\n",
      "|Drake, WizKid, Kyla|           One Dance|United States|   72|\n",
      "|        Post Malone|             Go Flex|United States|   72|\n",
      "|             Khalid|            Location|United States|   71|\n",
      "|               KYLE|iSpy (feat. Lil Y...|United States|   68|\n",
      "+-------------------+--------------------+-------------+-----+\n",
      "only showing top 10 rows\n",
      "\n"
     ]
    }
   ],
   "source": [
    "#top 10 most referenced songs in america\n",
    "df5.groupBy(\"artist\", \"title\", \"region\").count().sort(F.col(\"count\").desc()).show(10)"
   ]
  },
  {
   "cell_type": "code",
   "execution_count": 157,
   "metadata": {},
   "outputs": [
    {
     "name": "stdout",
     "output_type": "stream",
     "text": [
      "+--------------------+--------------------+------+-----+\n",
      "|              artist|               title|region|count|\n",
      "+--------------------+--------------------+------+-----+\n",
      "|        Travis Scott|          goosebumps|Canada|   92|\n",
      "|        James Arthur|Say You Won't Let Go|Canada|   91|\n",
      "|          Ed Sheeran|        Shape of You|Canada|   80|\n",
      "|    Childish Gambino|             Redbone|Canada|   76|\n",
      "| Drake, WizKid, Kyla|           One Dance|Canada|   76|\n",
      "|         Post Malone|       White Iverson|Canada|   76|\n",
      "|The Chainsmokers,...|              Closer|Canada|   74|\n",
      "|            Sam Hunt|Body Like A Back ...|Canada|   72|\n",
      "|   Eminem, Nate Dogg|    'Till I Collapse|Canada|   71|\n",
      "|The Weeknd, Daft ...|             Starboy|Canada|   68|\n",
      "+--------------------+--------------------+------+-----+\n",
      "only showing top 10 rows\n",
      "\n"
     ]
    }
   ],
   "source": [
    "#top 10 referenced songs in canada\n",
    "df6.groupBy(\"artist\", \"title\", \"region\").count().sort(F.col(\"count\").desc()).show(10)"
   ]
  },
  {
   "cell_type": "code",
   "execution_count": 158,
   "metadata": {},
   "outputs": [
    {
     "name": "stdout",
     "output_type": "stream",
     "text": [
      "+--------------------+--------------------+------+-----+\n",
      "|              artist|               title|region|count|\n",
      "+--------------------+--------------------+------+-----+\n",
      "|     Christian Nodal|          Adiós Amor|Mexico|   89|\n",
      "|       León Larregui|             Brillas|Mexico|   89|\n",
      "|         Luis Miguel|Ahora Te Puedes M...|Mexico|   89|\n",
      "| Alejandro Fernández|Me Dediqué a Perd...|Mexico|   88|\n",
      "|               Queen|Bohemian Rhapsody...|Mexico|   84|\n",
      "|      Panteon Rococo|   La Dosis Perfecta|Mexico|   75|\n",
      "|  Natalia Lafourcade|       Hasta la Raíz|Mexico|   74|\n",
      "| IAmChino, El Chacal|Ay Mi Dios (feat....|Mexico|   74|\n",
      "|Ozuna, Bad Bunny,...|Diles (feat. Arca...|Mexico|   74|\n",
      "|                CNCO|Reggaetón Lento (...|Mexico|   74|\n",
      "+--------------------+--------------------+------+-----+\n",
      "only showing top 10 rows\n",
      "\n"
     ]
    }
   ],
   "source": [
    "#top 10 referenced songs in mexico\n",
    "df7.groupBy(\"artist\", \"title\", \"region\").count().sort(F.col(\"count\").desc()).show(10)"
   ]
  },
  {
   "cell_type": "code",
   "execution_count": 159,
   "metadata": {},
   "outputs": [
    {
     "name": "stdout",
     "output_type": "stream",
     "text": [
      "+--------------------+--------------------+-----+\n",
      "|              artist|               album|count|\n",
      "+--------------------+--------------------+-----+\n",
      "|          Ed Sheeran|          ÷ (Deluxe)| 9894|\n",
      "|          Ed Sheeran| x (Wembley Edition)| 6343|\n",
      "|     Imagine Dragons|              Evolve| 5722|\n",
      "|      Camila Cabello|              Camila| 5268|\n",
      "|         Post Malone|beerbongs & bentleys| 4974|\n",
      "|            Dua Lipa|   Dua Lipa (Deluxe)| 4866|\n",
      "|          Bruno Mars|           24K Magic| 4431|\n",
      "|The Weeknd, Daft ...|             Starboy| 4392|\n",
      "|       Justin Bieber|    Purpose (Deluxe)| 3482|\n",
      "|        Shawn Mendes|          Illuminate| 3365|\n",
      "+--------------------+--------------------+-----+\n",
      "only showing top 10 rows\n",
      "\n"
     ]
    }
   ],
   "source": [
    "#albums referenced the most frequenly\n",
    "df2.groupBy(\"artist\", \"album\").count().sort(F.col(\"count\").desc()).show(10)"
   ]
  },
  {
   "cell_type": "code",
   "execution_count": 160,
   "metadata": {},
   "outputs": [
    {
     "name": "stdout",
     "output_type": "stream",
     "text": [
      "+--------------+--------------------+-----+\n",
      "|        artist|               album|count|\n",
      "+--------------+--------------------+-----+\n",
      "|    The Weeknd|             Starboy|  240|\n",
      "|         Migos|             Culture|  229|\n",
      "|   Post Malone|     Stoney (Deluxe)|  209|\n",
      "|      Big Sean|          I Decided.|  168|\n",
      "|       J. Cole|    4 Your Eyez Only|  167|\n",
      "|   Post Malone|beerbongs & bentleys|  154|\n",
      "|Kendrick Lamar|               DAMN.|  148|\n",
      "|  XXXTENTACION|                  17|  148|\n",
      "|        Khalid|       American Teen|  137|\n",
      "|  XXXTENTACION|                   ?|  136|\n",
      "+--------------+--------------------+-----+\n",
      "only showing top 10 rows\n",
      "\n"
     ]
    }
   ],
   "source": [
    "#albums referenced the most frequenly in the united states\n",
    "df5.groupBy(\"artist\", \"album\").count().sort(F.col(\"count\").desc()).show(10)"
   ]
  },
  {
   "cell_type": "code",
   "execution_count": 161,
   "metadata": {},
   "outputs": [
    {
     "name": "stdout",
     "output_type": "stream",
     "text": [
      "+--------------+--------------------+-----+\n",
      "|        artist|               album|count|\n",
      "+--------------+--------------------+-----+\n",
      "|    The Weeknd|             Starboy|  290|\n",
      "|   Post Malone|     Stoney (Deluxe)|  219|\n",
      "|    Ed Sheeran|          ÷ (Deluxe)|  214|\n",
      "|         Migos|             Culture|  197|\n",
      "|   Post Malone|beerbongs & bentleys|  173|\n",
      "|Kendrick Lamar|               DAMN.|  137|\n",
      "|    Tory Lanez|  MEMORIES DON'T DIE|  135|\n",
      "|      Big Sean|          I Decided.|  135|\n",
      "|    Ed Sheeran| x (Wembley Edition)|  135|\n",
      "|Camila Cabello|              Camila|  134|\n",
      "+--------------+--------------------+-----+\n",
      "only showing top 10 rows\n",
      "\n"
     ]
    }
   ],
   "source": [
    "#albums referenced the most frequenly in canada\n",
    "df6.groupBy(\"artist\", \"album\").count().sort(F.col(\"count\").desc()).show(10)"
   ]
  },
  {
   "cell_type": "code",
   "execution_count": 162,
   "metadata": {},
   "outputs": [
    {
     "name": "stdout",
     "output_type": "stream",
     "text": [
      "+--------------------+-------------------+-----+\n",
      "|              artist|              album|count|\n",
      "+--------------------+-------------------+-----+\n",
      "|     Cartel De Santa|    Viejo Marihuano|  219|\n",
      "|Banda MS de Sergi...|      Que Bendición|  204|\n",
      "|               Ozuna|             Odisea|  192|\n",
      "|             Shakira|          El Dorado|  160|\n",
      "|     Christian Nodal|     Me Dejé Llevar|  141|\n",
      "|          Ed Sheeran|         ÷ (Deluxe)|  139|\n",
      "|          Ed Sheeran|x (Wembley Edition)|  127|\n",
      "|           Nicky Jam|              Fénix|  125|\n",
      "|            J Balvin|            Colores|  120|\n",
      "|The Weeknd, Daft ...|            Starboy|  113|\n",
      "+--------------------+-------------------+-----+\n",
      "only showing top 10 rows\n",
      "\n"
     ]
    }
   ],
   "source": [
    "#albums referenced the most frequenly in mexico\n",
    "df7.groupBy(\"artist\", \"album\").count().sort(F.col(\"count\").desc()).show(10)"
   ]
  },
  {
   "cell_type": "code",
   "execution_count": 8,
   "metadata": {
    "collapsed": true
   },
   "outputs": [],
   "source": [
    "from pyspark.sql.functions import when\n",
    "from pyspark.sql.functions import lit"
   ]
  },
  {
   "cell_type": "code",
   "execution_count": 9,
   "metadata": {
    "collapsed": true
   },
   "outputs": [],
   "source": [
    "#create new columns"
   ]
  },
  {
   "cell_type": "code",
   "execution_count": 10,
   "metadata": {
    "collapsed": true
   },
   "outputs": [],
   "source": [
    "df3 = df2.withColumn(\"contains_cussing\", \\\n",
    "               when((df2.explicit == True), lit(1))\\\n",
    "               .otherwise(lit(0)))"
   ]
  },
  {
   "cell_type": "code",
   "execution_count": 11,
   "metadata": {},
   "outputs": [
    {
     "name": "stdout",
     "output_type": "stream",
     "text": [
      "+----------------+\n",
      "|contains_cussing|\n",
      "+----------------+\n",
      "|               0|\n",
      "|               0|\n",
      "|               0|\n",
      "|               0|\n",
      "|               0|\n",
      "|               0|\n",
      "|               0|\n",
      "|               0|\n",
      "|               0|\n",
      "|               0|\n",
      "|               0|\n",
      "|               0|\n",
      "|               0|\n",
      "|               0|\n",
      "|               0|\n",
      "|               0|\n",
      "|               0|\n",
      "|               0|\n",
      "|               0|\n",
      "|               0|\n",
      "+----------------+\n",
      "only showing top 20 rows\n",
      "\n"
     ]
    }
   ],
   "source": [
    "df3.select(\"contains_cussing\").show()"
   ]
  },
  {
   "cell_type": "code",
   "execution_count": 12,
   "metadata": {
    "collapsed": true
   },
   "outputs": [],
   "source": [
    "df3 = df3.withColumn(\"popularity_increased\", \\\n",
    "                    when((df3.trend == \"MOVE_UP\"), lit(1))\\\n",
    "                    .otherwise(lit(0)))"
   ]
  },
  {
   "cell_type": "code",
   "execution_count": 13,
   "metadata": {},
   "outputs": [
    {
     "name": "stdout",
     "output_type": "stream",
     "text": [
      "+--------------------+\n",
      "|popularity_increased|\n",
      "+--------------------+\n",
      "|                   0|\n",
      "|                   1|\n",
      "|                   0|\n",
      "|                   0|\n",
      "|                   1|\n",
      "|                   0|\n",
      "|                   0|\n",
      "|                   0|\n",
      "|                   1|\n",
      "|                   0|\n",
      "|                   0|\n",
      "|                   1|\n",
      "|                   1|\n",
      "|                   0|\n",
      "|                   0|\n",
      "|                   1|\n",
      "|                   1|\n",
      "|                   0|\n",
      "|                   0|\n",
      "|                   0|\n",
      "+--------------------+\n",
      "only showing top 20 rows\n",
      "\n"
     ]
    }
   ],
   "source": [
    "df3.select(\"popularity_increased\").show()"
   ]
  },
  {
   "cell_type": "code",
   "execution_count": 14,
   "metadata": {
    "collapsed": true
   },
   "outputs": [],
   "source": [
    "df3 = df3.withColumn(\"popularity_decreased\", \\\n",
    "                    when((df3.trend == \"MOVE_DOWN\"), lit(1))\\\n",
    "                    .otherwise(lit(0)))"
   ]
  },
  {
   "cell_type": "code",
   "execution_count": 15,
   "metadata": {},
   "outputs": [
    {
     "name": "stdout",
     "output_type": "stream",
     "text": [
      "+--------------------+\n",
      "|popularity_decreased|\n",
      "+--------------------+\n",
      "|                   0|\n",
      "|                   0|\n",
      "|                   1|\n",
      "|                   0|\n",
      "|                   0|\n",
      "|                   1|\n",
      "|                   1|\n",
      "|                   1|\n",
      "|                   0|\n",
      "|                   1|\n",
      "|                   0|\n",
      "|                   0|\n",
      "|                   0|\n",
      "|                   1|\n",
      "|                   1|\n",
      "|                   0|\n",
      "|                   0|\n",
      "|                   1|\n",
      "|                   0|\n",
      "|                   1|\n",
      "+--------------------+\n",
      "only showing top 20 rows\n",
      "\n"
     ]
    }
   ],
   "source": [
    "df3.select(\"popularity_decreased\").show()"
   ]
  },
  {
   "cell_type": "code",
   "execution_count": 16,
   "metadata": {
    "collapsed": true
   },
   "outputs": [],
   "source": [
    "df3 = df3.withColumn(\"populairty_same\", \\\n",
    "                    when((df3.trend == \"SAME_POSITION\"), lit(1))\\\n",
    "                    .otherwise(lit(0)))"
   ]
  },
  {
   "cell_type": "code",
   "execution_count": 17,
   "metadata": {},
   "outputs": [
    {
     "name": "stdout",
     "output_type": "stream",
     "text": [
      "+---------------+\n",
      "|populairty_same|\n",
      "+---------------+\n",
      "|              1|\n",
      "|              0|\n",
      "|              0|\n",
      "|              1|\n",
      "|              0|\n",
      "|              0|\n",
      "|              0|\n",
      "|              0|\n",
      "|              0|\n",
      "|              0|\n",
      "|              1|\n",
      "|              0|\n",
      "|              0|\n",
      "|              0|\n",
      "|              0|\n",
      "|              0|\n",
      "|              0|\n",
      "|              0|\n",
      "|              1|\n",
      "|              0|\n",
      "+---------------+\n",
      "only showing top 20 rows\n",
      "\n"
     ]
    }
   ],
   "source": [
    "df3.select(\"populairty_same\").show()"
   ]
  },
  {
   "cell_type": "code",
   "execution_count": 18,
   "metadata": {
    "collapsed": true
   },
   "outputs": [],
   "source": [
    "df3 = df3.withColumn(\"new_entry\", \\\n",
    "                    when((df3.trend == \"NEW_ENTRY\"), lit(1))\\\n",
    "                    .otherwise(lit(0))) "
   ]
  },
  {
   "cell_type": "code",
   "execution_count": 19,
   "metadata": {},
   "outputs": [
    {
     "name": "stdout",
     "output_type": "stream",
     "text": [
      "+---------+\n",
      "|new_entry|\n",
      "+---------+\n",
      "|        0|\n",
      "|        0|\n",
      "|        0|\n",
      "|        0|\n",
      "|        0|\n",
      "|        0|\n",
      "|        0|\n",
      "|        0|\n",
      "|        0|\n",
      "|        0|\n",
      "|        0|\n",
      "|        0|\n",
      "|        0|\n",
      "|        0|\n",
      "|        0|\n",
      "|        0|\n",
      "|        0|\n",
      "|        0|\n",
      "|        0|\n",
      "|        0|\n",
      "+---------+\n",
      "only showing top 20 rows\n",
      "\n"
     ]
    }
   ],
   "source": [
    "df3.select(\"new_entry\").show()"
   ]
  },
  {
   "cell_type": "code",
   "execution_count": 20,
   "metadata": {
    "collapsed": true
   },
   "outputs": [],
   "source": [
    "#normalize af acousticness "
   ]
  },
  {
   "cell_type": "code",
   "execution_count": 21,
   "metadata": {
    "collapsed": true
   },
   "outputs": [],
   "source": [
    "from pyspark.sql.functions import col, min, max"
   ]
  },
  {
   "cell_type": "code",
   "execution_count": 22,
   "metadata": {
    "collapsed": true
   },
   "outputs": [],
   "source": [
    "af_acousticness_min = df3.select(min(col(\"af_acousticness\"))).collect()[0][0]\n",
    "af_acousticness_max = df3.select(max(col(\"af_acousticness\"))).collect()[0][0]\n",
    "df3_normalized = df3.withColumn(\"af_acousticness_normalized\", (col(\"af_acousticness\") - af_acousticness_min) / (af_acousticness_max - af_acousticness_min))"
   ]
  },
  {
   "cell_type": "code",
   "execution_count": 23,
   "metadata": {
    "collapsed": true
   },
   "outputs": [],
   "source": [
    "df3_normalized = df3.withColumn(\"af_acousticness_normalized\", (col(\"af_acousticness\") - af_acousticness_min) / (af_acousticness_max - af_acousticness_min))"
   ]
  },
  {
   "cell_type": "code",
   "execution_count": 24,
   "metadata": {},
   "outputs": [
    {
     "name": "stdout",
     "output_type": "stream",
     "text": [
      "+--------------------------+\n",
      "|af_acousticness_normalized|\n",
      "+--------------------------+\n",
      "|       0.18850086573348634|\n",
      "|      0.004335925560629973|\n",
      "|       0.40322051244002977|\n",
      "|        0.5554396047061708|\n",
      "|       0.07660471181599192|\n",
      "|       0.14313756009125886|\n",
      "|       0.08577818029030902|\n",
      "|       0.05634243529579697|\n",
      "|       0.19958967377936418|\n",
      "|       0.10059686013343667|\n",
      "|       0.02458812134623775|\n",
      "|        0.1723716903940277|\n",
      "|       0.13305682550409723|\n",
      "|       0.06783447272516127|\n",
      "|        0.5514073108713061|\n",
      "|       0.11793572362335474|\n",
      "|       0.08648383171141034|\n",
      "|       0.07902408811691071|\n",
      "|        0.1270083847518002|\n",
      "|        0.2580579343849018|\n",
      "+--------------------------+\n",
      "only showing top 20 rows\n",
      "\n"
     ]
    }
   ],
   "source": [
    "df3_normalized.select(\"af_acousticness_normalized\").show()"
   ]
  },
  {
   "cell_type": "code",
   "execution_count": 25,
   "metadata": {
    "collapsed": true
   },
   "outputs": [],
   "source": [
    "#normalize af lousness"
   ]
  },
  {
   "cell_type": "code",
   "execution_count": 26,
   "metadata": {
    "collapsed": true
   },
   "outputs": [],
   "source": [
    "af_loudness_min = df3.select(min(col(\"af_loudness\"))).collect()[0][0]\n",
    "af_loudness_max = df3.select(max(col(\"af_loudness\"))).collect()[0][0]\n",
    "df3_normalized = df3.withColumn(\"af_loudness_normalized\", (col(\"af_loudness\") - af_loudness_min) / (af_loudness_max - af_loudness_min))"
   ]
  },
  {
   "cell_type": "code",
   "execution_count": 27,
   "metadata": {},
   "outputs": [
    {
     "name": "stdout",
     "output_type": "stream",
     "text": [
      "+----------------------+\n",
      "|af_loudness_normalized|\n",
      "+----------------------+\n",
      "|    0.8639058707873798|\n",
      "|    0.8286074160548063|\n",
      "|    0.8592362753832448|\n",
      "|    0.8196675985376793|\n",
      "|    0.8237534945162974|\n",
      "|    0.8020951737273817|\n",
      "|    0.7334029676507634|\n",
      "|    0.7868575466191514|\n",
      "|    0.8876839421215938|\n",
      "|    0.7483641055574329|\n",
      "|    0.8976375533777764|\n",
      "|    0.9309391416546342|\n",
      "|    0.7728487604067464|\n",
      "|    0.8302356302417745|\n",
      "|    0.8360419034745477|\n",
      "|    0.8475008448281159|\n",
      "|    0.8536757703296365|\n",
      "|    0.7905440693066265|\n",
      "|    0.8250744984793095|\n",
      "|    0.8545666799791096|\n",
      "+----------------------+\n",
      "only showing top 20 rows\n",
      "\n"
     ]
    }
   ],
   "source": [
    "df3_normalized.select(\"af_loudness_normalized\").show()"
   ]
  },
  {
   "cell_type": "code",
   "execution_count": 28,
   "metadata": {
    "collapsed": true
   },
   "outputs": [],
   "source": [
    "#find clusters with best silhoute score "
   ]
  },
  {
   "cell_type": "code",
   "execution_count": 29,
   "metadata": {
    "collapsed": true
   },
   "outputs": [],
   "source": [
    "from pyspark.ml.linalg import Vectors\n",
    "from pyspark.ml.clustering import KMeans\n",
    "from pyspark.ml.feature import StandardScaler \n",
    "from pyspark.ml.evaluation import ClusteringEvaluator\n",
    "from pyspark.ml import Pipeline\n",
    "import matplotlib.pyplot as plt\n",
    "import pandas as pd\n",
    "from pyspark.ml.feature import VectorAssembler"
   ]
  },
  {
   "cell_type": "code",
   "execution_count": 30,
   "metadata": {},
   "outputs": [
    {
     "name": "stdout",
     "output_type": "stream",
     "text": [
      "+---+--------------------+----+--------+------------+--------------------+---------+------+-------------+-------+--------------------+--------------------+----------+-----------+--------+------------+--------------------+---------------+---------+------+-----------+-------+--------------+---------------+-------------------+-----------+----------+--------+-----------------+----------------+--------------------+--------------------+---------------+---------+----------------------+\n",
      "|_c0|               title|rank|    date|      artist|                 url|   region| chart|        trend|streams|            track_id|               album|popularity|duration_ms|explicit|release_date|   available_markets|af_danceability|af_energy|af_key|af_loudness|af_mode|af_speechiness|af_acousticness|af_instrumentalness|af_liveness|af_valence|af_tempo|af_time_signature|contains_cussing|popularity_increased|popularity_decreased|populairty_same|new_entry|af_loudness_normalized|\n",
      "+---+--------------------+----+--------+------------+--------------------+---------+------+-------------+-------+--------------------+--------------------+----------+-----------+--------+------------+--------------------+---------------+---------+------+-----------+-------+--------------+---------------+-------------------+-----------+----------+--------+-----------------+----------------+--------------------+--------------------+---------------+---------+----------------------+\n",
      "|  0|Chantaje (feat. M...|   1|1/1/2017|     Shakira|https://open.spot...|Argentina|top200|SAME_POSITION| 253019|6mICuAdrwEjh6Y6lr...|           El Dorado|        78|     195840|   false|   5/26/2017|['AR', 'AU', 'AT'...|          0.852|    0.773|     8|     -2.921|      0|        0.0776|          0.187|            3.05E-5|      0.159|     0.907| 102.034|                4|               0|                   0|                   0|              1|        0|    0.8639058707873798|\n",
      "|  1|Vente Pa' Ca (fea...|   2|1/1/2017|Ricky Martin|https://open.spot...|Argentina|top200|      MOVE_UP| 223988|7DM4BPaS7uofFul3y...|Vente Pa' Ca (fea...|        72|     259195|   false|   9/22/2016|['AR', 'AU', 'AT'...|          0.663|     0.92|    11|      -4.07|      0|         0.226|        0.00431|            1.69E-5|      0.101|     0.533|  99.935|                4|               0|                   1|                   0|              0|        0|    0.8286074160548063|\n",
      "|  2|Reggaetón Lento (...|   3|1/1/2017|        CNCO|https://open.spot...|Argentina|top200|    MOVE_DOWN| 210943|3AEZUABDXNtecAOSC...|        Primera Cita|        73|     222560|   false|   8/26/2016|['AR', 'AU', 'AT'...|          0.761|    0.838|     4|     -3.073|      0|        0.0502|            0.4|                0.0|      0.176|      0.71|  93.974|                4|               0|                   0|                   1|              0|        0|    0.8592362753832448|\n",
      "+---+--------------------+----+--------+------------+--------------------+---------+------+-------------+-------+--------------------+--------------------+----------+-----------+--------+------------+--------------------+---------------+---------+------+-----------+-------+--------------+---------------+-------------------+-----------+----------+--------+-----------------+----------------+--------------------+--------------------+---------------+---------+----------------------+\n",
      "only showing top 3 rows\n",
      "\n"
     ]
    }
   ],
   "source": [
    "df3_normalized.show(3)"
   ]
  },
  {
   "cell_type": "code",
   "execution_count": 31,
   "metadata": {
    "collapsed": true
   },
   "outputs": [],
   "source": [
    "cluster1 = df3_normalized.select(\"af_danceability\", \"af_energy\", \"af_loudness_normalized\", \"af_acousticness\", \"af_speechiness\")"
   ]
  },
  {
   "cell_type": "code",
   "execution_count": 32,
   "metadata": {
    "collapsed": true
   },
   "outputs": [],
   "source": [
    "required_features = [\"af_danceability\", \"af_energy\", \"af_loudness_normalized\", \"af_acousticness\", \"af_speechiness\"]"
   ]
  },
  {
   "cell_type": "code",
   "execution_count": 33,
   "metadata": {},
   "outputs": [
    {
     "name": "stdout",
     "output_type": "stream",
     "text": [
      "+---------------+---------+----------------------+---------------+--------------+--------------------+\n",
      "|af_danceability|af_energy|af_loudness_normalized|af_acousticness|af_speechiness|            features|\n",
      "+---------------+---------+----------------------+---------------+--------------+--------------------+\n",
      "|          0.852|    0.773|    0.8639058707873798|          0.187|        0.0776|[0.852,0.773,0.86...|\n",
      "|          0.663|     0.92|    0.8286074160548063|        0.00431|         0.226|[0.663,0.92,0.828...|\n",
      "|          0.761|    0.838|    0.8592362753832448|            0.4|        0.0502|[0.761,0.838,0.85...|\n",
      "|          0.508|    0.687|    0.8196675985376793|          0.551|         0.326|[0.508,0.687,0.81...|\n",
      "|          0.899|    0.626|    0.8237534945162974|          0.076|         0.292|[0.899,0.626,0.82...|\n",
      "|          0.776|    0.669|    0.8020951737273817|          0.142|        0.0638|[0.776,0.669,0.80...|\n",
      "|          0.588|    0.682|    0.7334029676507634|         0.0851|         0.173|[0.588,0.682,0.73...|\n",
      "|          0.832|    0.772|    0.7868575466191514|         0.0559|           0.1|[0.832,0.772,0.78...|\n",
      "|          0.736|    0.964|    0.8876839421215938|          0.198|         0.129|[0.736,0.964,0.88...|\n",
      "|          0.721|    0.687|    0.7483641055574329|         0.0998|        0.0782|[0.721,0.687,0.74...|\n",
      "|           0.68|    0.954|    0.8976375533777764|         0.0244|         0.119|[0.68,0.954,0.897...|\n",
      "|           0.78|    0.929|    0.9309391416546342|          0.171|        0.0532|[0.78,0.929,0.930...|\n",
      "|           0.73|    0.701|    0.7728487604067464|          0.132|         0.106|[0.73,0.701,0.772...|\n",
      "|          0.723|    0.889|    0.8302356302417745|         0.0673|        0.0939|[0.723,0.889,0.83...|\n",
      "|           0.76|    0.838|    0.8360419034745477|          0.547|        0.0529|[0.76,0.838,0.836...|\n",
      "|          0.598|    0.917|    0.8475008448281159|          0.117|         0.159|[0.598,0.917,0.84...|\n",
      "|          0.716|    0.908|    0.8536757703296365|         0.0858|         0.103|[0.716,0.908,0.85...|\n",
      "|          0.476|    0.718|    0.7905440693066265|         0.0784|        0.0576|[0.476,0.718,0.79...|\n",
      "|          0.549|    0.798|    0.8250744984793095|          0.126|        0.0705|[0.549,0.798,0.82...|\n",
      "|          0.772|    0.909|    0.8545666799791096|          0.256|         0.166|[0.772,0.909,0.85...|\n",
      "+---------------+---------+----------------------+---------------+--------------+--------------------+\n",
      "only showing top 20 rows\n",
      "\n"
     ]
    }
   ],
   "source": [
    "assemblerC1 = VectorAssembler(inputCols=required_features, outputCol=\"features\")\n",
    "transformed_dataC1 = assemblerC1.transform(cluster1)\n",
    "transformed_dataC1.show()"
   ]
  },
  {
   "cell_type": "code",
   "execution_count": 34,
   "metadata": {
    "collapsed": true
   },
   "outputs": [],
   "source": [
    "scalerC1 = StandardScaler(inputCol=\"features\", outputCol=\"scaled_features\")\n",
    "scaled_modelC1 = scalerC1.fit(transformed_dataC1)\n",
    "transformed_dataC1 = scaled_modelC1.transform(transformed_dataC1)"
   ]
  },
  {
   "cell_type": "code",
   "execution_count": 35,
   "metadata": {
    "collapsed": true
   },
   "outputs": [],
   "source": [
    "wssse_valuesC1 = []\n",
    "evaluatorC1 = ClusteringEvaluator()"
   ]
  },
  {
   "cell_type": "code",
   "execution_count": 36,
   "metadata": {},
   "outputs": [
    {
     "name": "stdout",
     "output_type": "stream",
     "text": [
      "Silhoutte Score: 0.5592307062179285\n",
      "Silhoutte Score: 0.3786993084714367\n",
      "Silhoutte Score: 0.2680067070925349\n",
      "Silhoutte Score: 0.2691693795271904\n",
      "Silhoutte Score: 0.19538854555622256\n",
      "Silhoutte Score: 0.21864387509653774\n",
      "Silhoutte Score: 0.2529691060803563\n",
      "Silhoutte Score: 0.23395109409529435\n"
     ]
    }
   ],
   "source": [
    "for i in range(2, 10):\n",
    "    KMeans_modC1 = KMeans(featuresCol=\"scaled_features\", k=i)\n",
    "    KMeans_fitC1 = KMeans_modC1.fit(transformed_dataC1)\n",
    "    outputC1 = KMeans_fitC1.transform(transformed_dataC1)\n",
    "    scoreC1 = evaluatorC1.evaluate(outputC1)\n",
    "    wssse_valuesC1.append(scoreC1)\n",
    "    print(\"Silhoutte Score:\", scoreC1)"
   ]
  },
  {
   "cell_type": "code",
   "execution_count": 37,
   "metadata": {
    "collapsed": true
   },
   "outputs": [],
   "source": [
    "cluster2 = df3_normalized.select(\"af_energy\", \"af_speechiness\", \"af_liveness\", \"af_valence\", \"af_tempo\")"
   ]
  },
  {
   "cell_type": "code",
   "execution_count": 38,
   "metadata": {
    "collapsed": true
   },
   "outputs": [],
   "source": [
    "required_featuresC2 = [\"af_energy\", \"af_speechiness\", \"af_liveness\", \"af_valence\", \"af_tempo\"]"
   ]
  },
  {
   "cell_type": "code",
   "execution_count": 39,
   "metadata": {},
   "outputs": [
    {
     "name": "stdout",
     "output_type": "stream",
     "text": [
      "+---------+--------------+-----------+----------+--------+--------------------+\n",
      "|af_energy|af_speechiness|af_liveness|af_valence|af_tempo|            features|\n",
      "+---------+--------------+-----------+----------+--------+--------------------+\n",
      "|    0.773|        0.0776|      0.159|     0.907| 102.034|[0.773,0.0776,0.1...|\n",
      "|     0.92|         0.226|      0.101|     0.533|  99.935|[0.92,0.226,0.101...|\n",
      "|    0.838|        0.0502|      0.176|      0.71|  93.974|[0.838,0.0502,0.1...|\n",
      "|    0.687|         0.326|      0.126|     0.555| 180.044|[0.687,0.326,0.12...|\n",
      "|    0.626|         0.292|     0.0631|     0.873|  88.007|[0.626,0.292,0.06...|\n",
      "|    0.669|        0.0638|      0.219|     0.661|  91.012|[0.669,0.0638,0.2...|\n",
      "|    0.682|         0.173|      0.084|     0.937| 205.643|[0.682,0.173,0.08...|\n",
      "|    0.772|           0.1|       0.44|     0.704|  96.016|[0.772,0.1,0.44,0...|\n",
      "|    0.964|         0.129|      0.336|     0.953| 179.935|[0.964,0.129,0.33...|\n",
      "|    0.687|        0.0782|     0.0679|     0.825| 175.914|[0.687,0.0782,0.0...|\n",
      "|    0.954|         0.119|      0.112|     0.521| 104.029|[0.954,0.119,0.11...|\n",
      "|    0.929|        0.0532|     0.0677|     0.837|  95.012|[0.929,0.0532,0.0...|\n",
      "|    0.701|         0.106|      0.151|     0.785|  175.95|[0.701,0.106,0.15...|\n",
      "|    0.889|        0.0939|      0.363|     0.701| 101.032|[0.889,0.0939,0.3...|\n",
      "|    0.838|        0.0529|     0.0664|     0.745|   93.05|[0.838,0.0529,0.0...|\n",
      "|    0.917|         0.159|      0.398|     0.575| 180.049|[0.917,0.159,0.39...|\n",
      "|    0.908|         0.103|      0.135|     0.869|   91.03|[0.908,0.103,0.13...|\n",
      "|    0.718|        0.0576|      0.122|     0.142| 199.864|[0.718,0.0576,0.1...|\n",
      "|    0.798|        0.0705|      0.329|     0.905| 100.054|[0.798,0.0705,0.3...|\n",
      "|    0.909|         0.166|      0.255|     0.694|  96.031|[0.909,0.166,0.25...|\n",
      "+---------+--------------+-----------+----------+--------+--------------------+\n",
      "only showing top 20 rows\n",
      "\n"
     ]
    }
   ],
   "source": [
    "assemblerC2 = VectorAssembler(inputCols=required_featuresC2, outputCol=\"features\")\n",
    "transformed_dataC2 = assemblerC2.transform(cluster2)\n",
    "transformed_dataC2.show()"
   ]
  },
  {
   "cell_type": "code",
   "execution_count": 40,
   "metadata": {
    "collapsed": true
   },
   "outputs": [],
   "source": [
    "scalerC2 = StandardScaler(inputCol=\"features\", outputCol=\"scaled_features\")\n",
    "scaled_modelC2 = scalerC2.fit(transformed_dataC2)\n",
    "transformed_dataC2 = scaled_modelC2.transform(transformed_dataC2) "
   ]
  },
  {
   "cell_type": "code",
   "execution_count": 41,
   "metadata": {
    "collapsed": true
   },
   "outputs": [],
   "source": [
    "wssse_valuesC2 = []\n",
    "evaluatorC2 = ClusteringEvaluator()"
   ]
  },
  {
   "cell_type": "code",
   "execution_count": 42,
   "metadata": {},
   "outputs": [
    {
     "name": "stdout",
     "output_type": "stream",
     "text": [
      "silhoutte scores: -0.004550354834769647\n",
      "silhoutte scores: -0.03717126046516815\n",
      "silhoutte scores: -0.06024153009609083\n",
      "silhoutte scores: 0.03082941464548074\n",
      "silhoutte scores: -0.07619620979659311\n",
      "silhoutte scores: -0.11478249171977344\n",
      "silhoutte scores: -0.15071756598577768\n",
      "silhoutte scores: -0.19476136785170964\n"
     ]
    }
   ],
   "source": [
    "for i in range(2, 10):\n",
    "    KMeans_modC2 = KMeans(featuresCol=\"scaled_features\", k=i)\n",
    "    KMeans_fitC2 = KMeans_modC2.fit(transformed_dataC2)\n",
    "    outputC2 = KMeans_fitC2.transform(transformed_dataC2)\n",
    "    scoreC2 = evaluatorC2.evaluate(outputC2)\n",
    "    wssse_valuesC2.append(scoreC2)\n",
    "    print(\"silhoutte scores:\", scoreC2)"
   ]
  },
  {
   "cell_type": "code",
   "execution_count": 43,
   "metadata": {
    "collapsed": true
   },
   "outputs": [],
   "source": [
    "cluster3 = df3_normalized.select(\"af_danceability\", \"af_speechiness\", \"af_tempo\", \"af_liveness\", \"af_valence\")"
   ]
  },
  {
   "cell_type": "code",
   "execution_count": 44,
   "metadata": {
    "collapsed": true
   },
   "outputs": [],
   "source": [
    "required_featuresC3 = [\"af_danceability\", \"af_speechiness\", \"af_tempo\", \"af_liveness\", \"af_valence\"]"
   ]
  },
  {
   "cell_type": "code",
   "execution_count": 45,
   "metadata": {},
   "outputs": [
    {
     "name": "stdout",
     "output_type": "stream",
     "text": [
      "+---------------+--------------+--------+-----------+----------+--------------------+\n",
      "|af_danceability|af_speechiness|af_tempo|af_liveness|af_valence|            features|\n",
      "+---------------+--------------+--------+-----------+----------+--------------------+\n",
      "|          0.852|        0.0776| 102.034|      0.159|     0.907|[0.852,0.0776,102...|\n",
      "|          0.663|         0.226|  99.935|      0.101|     0.533|[0.663,0.226,99.9...|\n",
      "|          0.761|        0.0502|  93.974|      0.176|      0.71|[0.761,0.0502,93....|\n",
      "|          0.508|         0.326| 180.044|      0.126|     0.555|[0.508,0.326,180....|\n",
      "|          0.899|         0.292|  88.007|     0.0631|     0.873|[0.899,0.292,88.0...|\n",
      "|          0.776|        0.0638|  91.012|      0.219|     0.661|[0.776,0.0638,91....|\n",
      "|          0.588|         0.173| 205.643|      0.084|     0.937|[0.588,0.173,205....|\n",
      "|          0.832|           0.1|  96.016|       0.44|     0.704|[0.832,0.1,96.016...|\n",
      "|          0.736|         0.129| 179.935|      0.336|     0.953|[0.736,0.129,179....|\n",
      "|          0.721|        0.0782| 175.914|     0.0679|     0.825|[0.721,0.0782,175...|\n",
      "|           0.68|         0.119| 104.029|      0.112|     0.521|[0.68,0.119,104.0...|\n",
      "|           0.78|        0.0532|  95.012|     0.0677|     0.837|[0.78,0.0532,95.0...|\n",
      "|           0.73|         0.106|  175.95|      0.151|     0.785|[0.73,0.106,175.9...|\n",
      "|          0.723|        0.0939| 101.032|      0.363|     0.701|[0.723,0.0939,101...|\n",
      "|           0.76|        0.0529|   93.05|     0.0664|     0.745|[0.76,0.0529,93.0...|\n",
      "|          0.598|         0.159| 180.049|      0.398|     0.575|[0.598,0.159,180....|\n",
      "|          0.716|         0.103|   91.03|      0.135|     0.869|[0.716,0.103,91.0...|\n",
      "|          0.476|        0.0576| 199.864|      0.122|     0.142|[0.476,0.0576,199...|\n",
      "|          0.549|        0.0705| 100.054|      0.329|     0.905|[0.549,0.0705,100...|\n",
      "|          0.772|         0.166|  96.031|      0.255|     0.694|[0.772,0.166,96.0...|\n",
      "+---------------+--------------+--------+-----------+----------+--------------------+\n",
      "only showing top 20 rows\n",
      "\n"
     ]
    }
   ],
   "source": [
    "assemblerC3 = VectorAssembler(inputCols=required_featuresC3, outputCol=\"features\")\n",
    "transformed_dataC3 = assemblerC3.transform(cluster3)\n",
    "transformed_dataC3.show()"
   ]
  },
  {
   "cell_type": "code",
   "execution_count": 46,
   "metadata": {
    "collapsed": true
   },
   "outputs": [],
   "source": [
    "scalerC3 = StandardScaler(inputCol=\"features\", outputCol=\"scaled_features\")\n",
    "scaler_modelC3 = scalerC3.fit(transformed_dataC3)\n",
    "transformed_dataC3 = scaler_modelC3.transform(transformed_dataC3)"
   ]
  },
  {
   "cell_type": "code",
   "execution_count": 47,
   "metadata": {
    "collapsed": true
   },
   "outputs": [],
   "source": [
    "wssse_valuesC3 = []\n",
    "evaluatorC3 = ClusteringEvaluator()"
   ]
  },
  {
   "cell_type": "code",
   "execution_count": 48,
   "metadata": {},
   "outputs": [
    {
     "name": "stdout",
     "output_type": "stream",
     "text": [
      "Silhoutte Score: 0.0384278009780905\n",
      "Silhoutte Score: 0.052314162755752\n",
      "Silhoutte Score: -0.035398117487439616\n",
      "Silhoutte Score: -0.0040004611929593615\n",
      "Silhoutte Score: -0.10976272338839249\n",
      "Silhoutte Score: -0.15930389189755428\n",
      "Silhoutte Score: -0.19487583909304815\n",
      "Silhoutte Score: -0.2687066339457469\n"
     ]
    }
   ],
   "source": [
    "for i in range(2, 10):\n",
    "    KMeans_modC3 = KMeans(featuresCol=\"scaled_features\", k=i)\n",
    "    KMeans_fitC3 = KMeans_modC3.fit(transformed_dataC3)\n",
    "    outputC3 = KMeans_fitC3.transform(transformed_dataC3)\n",
    "    scoreC3 = evaluatorC3.evaluate(outputC3)\n",
    "    wssse_valuesC3.append(scoreC3)\n",
    "    print(\"Silhoutte Score:\", scoreC3)"
   ]
  },
  {
   "cell_type": "code",
   "execution_count": 49,
   "metadata": {
    "collapsed": true
   },
   "outputs": [],
   "source": [
    "cluster4 = df3_normalized.select(\"af_danceability\", \"af_energy\", \"af_speechiness\", \"af_tempo\")"
   ]
  },
  {
   "cell_type": "code",
   "execution_count": 50,
   "metadata": {
    "collapsed": true
   },
   "outputs": [],
   "source": [
    "required_featuresC4 = [\"af_danceability\", \"af_energy\", \"af_speechiness\", \"af_tempo\"]"
   ]
  },
  {
   "cell_type": "code",
   "execution_count": 51,
   "metadata": {},
   "outputs": [
    {
     "name": "stdout",
     "output_type": "stream",
     "text": [
      "+---------------+---------+--------------+--------+--------------------+\n",
      "|af_danceability|af_energy|af_speechiness|af_tempo|            features|\n",
      "+---------------+---------+--------------+--------+--------------------+\n",
      "|          0.852|    0.773|        0.0776| 102.034|[0.852,0.773,0.07...|\n",
      "|          0.663|     0.92|         0.226|  99.935|[0.663,0.92,0.226...|\n",
      "|          0.761|    0.838|        0.0502|  93.974|[0.761,0.838,0.05...|\n",
      "|          0.508|    0.687|         0.326| 180.044|[0.508,0.687,0.32...|\n",
      "|          0.899|    0.626|         0.292|  88.007|[0.899,0.626,0.29...|\n",
      "|          0.776|    0.669|        0.0638|  91.012|[0.776,0.669,0.06...|\n",
      "|          0.588|    0.682|         0.173| 205.643|[0.588,0.682,0.17...|\n",
      "|          0.832|    0.772|           0.1|  96.016|[0.832,0.772,0.1,...|\n",
      "|          0.736|    0.964|         0.129| 179.935|[0.736,0.964,0.12...|\n",
      "|          0.721|    0.687|        0.0782| 175.914|[0.721,0.687,0.07...|\n",
      "|           0.68|    0.954|         0.119| 104.029|[0.68,0.954,0.119...|\n",
      "|           0.78|    0.929|        0.0532|  95.012|[0.78,0.929,0.053...|\n",
      "|           0.73|    0.701|         0.106|  175.95|[0.73,0.701,0.106...|\n",
      "|          0.723|    0.889|        0.0939| 101.032|[0.723,0.889,0.09...|\n",
      "|           0.76|    0.838|        0.0529|   93.05|[0.76,0.838,0.052...|\n",
      "|          0.598|    0.917|         0.159| 180.049|[0.598,0.917,0.15...|\n",
      "|          0.716|    0.908|         0.103|   91.03|[0.716,0.908,0.10...|\n",
      "|          0.476|    0.718|        0.0576| 199.864|[0.476,0.718,0.05...|\n",
      "|          0.549|    0.798|        0.0705| 100.054|[0.549,0.798,0.07...|\n",
      "|          0.772|    0.909|         0.166|  96.031|[0.772,0.909,0.16...|\n",
      "+---------------+---------+--------------+--------+--------------------+\n",
      "only showing top 20 rows\n",
      "\n"
     ]
    }
   ],
   "source": [
    "assemblerC4 = VectorAssembler(inputCols=required_featuresC4, outputCol=\"features\")\n",
    "transformed_dataC4 = assemblerC4.transform(cluster4)\n",
    "transformed_dataC4.show()"
   ]
  },
  {
   "cell_type": "code",
   "execution_count": 52,
   "metadata": {
    "collapsed": true
   },
   "outputs": [],
   "source": [
    "scalerC4 = StandardScaler(inputCol=\"features\", outputCol=\"scaled_features\")\n",
    "scaler_modelC4 = scalerC4.fit(transformed_dataC4)\n",
    "transformed_dataC4 = scaler_modelC4.transform(transformed_dataC4)"
   ]
  },
  {
   "cell_type": "code",
   "execution_count": 53,
   "metadata": {
    "collapsed": true
   },
   "outputs": [],
   "source": [
    "wssse_valuesC4 = []\n",
    "evaluatorC4 = ClusteringEvaluator()"
   ]
  },
  {
   "cell_type": "code",
   "execution_count": 54,
   "metadata": {},
   "outputs": [
    {
     "name": "stdout",
     "output_type": "stream",
     "text": [
      "silhouette score: 0.06174456911049847\n",
      "silhouette score: 0.20077657663561033\n",
      "silhouette score: 0.07560130152081043\n",
      "silhouette score: -0.0349531335713453\n",
      "silhouette score: -0.05252936720961323\n",
      "silhouette score: -0.12474049312452522\n",
      "silhouette score: -0.1919654279366577\n",
      "silhouette score: -0.22579373376916945\n"
     ]
    }
   ],
   "source": [
    "for i in range(2, 10):\n",
    "    KMeans_modC4 = KMeans(featuresCol=\"scaled_features\", k=i)\n",
    "    KMeans_fitC4 = KMeans_modC4.fit(transformed_dataC4)\n",
    "    outputC4 = KMeans_fitC4.transform(transformed_dataC4)\n",
    "    scoreC4 = evaluatorC4.evaluate(outputC4)\n",
    "    wssse_valuesC4.append(scoreC4)\n",
    "    print(\"silhouette score:\", scoreC4) "
   ]
  },
  {
   "cell_type": "code",
   "execution_count": 55,
   "metadata": {
    "collapsed": true
   },
   "outputs": [],
   "source": [
    "cluster5 = df3_normalized.select(\"af_acousticness\", \"af_liveness\", \"af_valence\", \"af_tempo\")"
   ]
  },
  {
   "cell_type": "code",
   "execution_count": 56,
   "metadata": {
    "collapsed": true
   },
   "outputs": [],
   "source": [
    "required_featuresC5 = [\"af_acousticness\", \"af_liveness\", \"af_valence\", \"af_tempo\"]"
   ]
  },
  {
   "cell_type": "code",
   "execution_count": 57,
   "metadata": {},
   "outputs": [
    {
     "name": "stdout",
     "output_type": "stream",
     "text": [
      "+---------------+-----------+----------+--------+--------------------+\n",
      "|af_acousticness|af_liveness|af_valence|af_tempo|            features|\n",
      "+---------------+-----------+----------+--------+--------------------+\n",
      "|          0.187|      0.159|     0.907| 102.034|[0.187,0.159,0.90...|\n",
      "|        0.00431|      0.101|     0.533|  99.935|[0.00431,0.101,0....|\n",
      "|            0.4|      0.176|      0.71|  93.974|[0.4,0.176,0.71,9...|\n",
      "|          0.551|      0.126|     0.555| 180.044|[0.551,0.126,0.55...|\n",
      "|          0.076|     0.0631|     0.873|  88.007|[0.076,0.0631,0.8...|\n",
      "|          0.142|      0.219|     0.661|  91.012|[0.142,0.219,0.66...|\n",
      "|         0.0851|      0.084|     0.937| 205.643|[0.0851,0.084,0.9...|\n",
      "|         0.0559|       0.44|     0.704|  96.016|[0.0559,0.44,0.70...|\n",
      "|          0.198|      0.336|     0.953| 179.935|[0.198,0.336,0.95...|\n",
      "|         0.0998|     0.0679|     0.825| 175.914|[0.0998,0.0679,0....|\n",
      "|         0.0244|      0.112|     0.521| 104.029|[0.0244,0.112,0.5...|\n",
      "|          0.171|     0.0677|     0.837|  95.012|[0.171,0.0677,0.8...|\n",
      "|          0.132|      0.151|     0.785|  175.95|[0.132,0.151,0.78...|\n",
      "|         0.0673|      0.363|     0.701| 101.032|[0.0673,0.363,0.7...|\n",
      "|          0.547|     0.0664|     0.745|   93.05|[0.547,0.0664,0.7...|\n",
      "|          0.117|      0.398|     0.575| 180.049|[0.117,0.398,0.57...|\n",
      "|         0.0858|      0.135|     0.869|   91.03|[0.0858,0.135,0.8...|\n",
      "|         0.0784|      0.122|     0.142| 199.864|[0.0784,0.122,0.1...|\n",
      "|          0.126|      0.329|     0.905| 100.054|[0.126,0.329,0.90...|\n",
      "|          0.256|      0.255|     0.694|  96.031|[0.256,0.255,0.69...|\n",
      "+---------------+-----------+----------+--------+--------------------+\n",
      "only showing top 20 rows\n",
      "\n"
     ]
    }
   ],
   "source": [
    "assemblerC5 = VectorAssembler(inputCols=required_featuresC5, outputCol=\"features\")\n",
    "transformed_dataC5 = assemblerC5.transform(cluster5)\n",
    "transformed_dataC5.show()"
   ]
  },
  {
   "cell_type": "code",
   "execution_count": 58,
   "metadata": {
    "collapsed": true
   },
   "outputs": [],
   "source": [
    "scalerC5 = StandardScaler(inputCol=\"features\", outputCol=\"scaled_features\")\n",
    "scaler_modelC5 = scalerC5.fit(transformed_dataC5)\n",
    "transformed_dataC5 = scaler_modelC5.transform(transformed_dataC5) "
   ]
  },
  {
   "cell_type": "code",
   "execution_count": 59,
   "metadata": {
    "collapsed": true
   },
   "outputs": [],
   "source": [
    "wssse_valuesC5 = []\n",
    "evaluatorC5 = ClusteringEvaluator()"
   ]
  },
  {
   "cell_type": "code",
   "execution_count": 60,
   "metadata": {},
   "outputs": [
    {
     "name": "stdout",
     "output_type": "stream",
     "text": [
      "Silhoutte Score: -0.022311040219850406\n",
      "Silhoutte Score: -0.08993984506051252\n",
      "Silhoutte Score: -0.09785803087937336\n",
      "Silhoutte Score: 0.011633094277028992\n",
      "Silhoutte Score: -0.1084145635099417\n",
      "Silhoutte Score: -0.04518141121642075\n",
      "Silhoutte Score: -0.17219239046330995\n",
      "Silhoutte Score: -0.17590052716045154\n"
     ]
    }
   ],
   "source": [
    "for i in range(2, 10):\n",
    "    KMeans_modC5 = KMeans(featuresCol=\"scaled_features\", k=i)\n",
    "    KMeans_fitC5 = KMeans_modC5.fit(transformed_dataC5)\n",
    "    outputC5 = KMeans_fitC5.transform(transformed_dataC5)\n",
    "    scoreC5 = evaluatorC5.evaluate(outputC5)\n",
    "    wssse_valuesC5.append(scoreC5)\n",
    "    print(\"Silhoutte Score:\", scoreC5)"
   ]
  },
  {
   "cell_type": "code",
   "execution_count": 61,
   "metadata": {
    "collapsed": true
   },
   "outputs": [],
   "source": [
    "#final cluster columns \"\"af_danceability\", \"af_energy\", \"af_loudness_normalized\", \"af_acousticness\", \"af_speechiness\"\""
   ]
  },
  {
   "cell_type": "code",
   "execution_count": 62,
   "metadata": {
    "collapsed": true
   },
   "outputs": [],
   "source": [
    "finalcluster1 = df3_normalized.select(\"af_danceability\",\"af_loudness_normalized\") "
   ]
  },
  {
   "cell_type": "code",
   "execution_count": 63,
   "metadata": {
    "collapsed": true
   },
   "outputs": [],
   "source": [
    "required_features1 = [\"af_danceability\", \"af_loudness_normalized\"] "
   ]
  },
  {
   "cell_type": "code",
   "execution_count": 64,
   "metadata": {},
   "outputs": [
    {
     "name": "stdout",
     "output_type": "stream",
     "text": [
      "+---------------+----------------------+--------------------+\n",
      "|af_danceability|af_loudness_normalized|            features|\n",
      "+---------------+----------------------+--------------------+\n",
      "|          0.852|    0.8639058707873798|[0.852,0.86390587...|\n",
      "|          0.663|    0.8286074160548063|[0.663,0.82860741...|\n",
      "|          0.761|    0.8592362753832448|[0.761,0.85923627...|\n",
      "|          0.508|    0.8196675985376793|[0.508,0.81966759...|\n",
      "|          0.899|    0.8237534945162974|[0.899,0.82375349...|\n",
      "|          0.776|    0.8020951737273817|[0.776,0.80209517...|\n",
      "|          0.588|    0.7334029676507634|[0.588,0.73340296...|\n",
      "|          0.832|    0.7868575466191514|[0.832,0.78685754...|\n",
      "|          0.736|    0.8876839421215938|[0.736,0.88768394...|\n",
      "|          0.721|    0.7483641055574329|[0.721,0.74836410...|\n",
      "|           0.68|    0.8976375533777764|[0.68,0.897637553...|\n",
      "|           0.78|    0.9309391416546342|[0.78,0.930939141...|\n",
      "|           0.73|    0.7728487604067464|[0.73,0.772848760...|\n",
      "|          0.723|    0.8302356302417745|[0.723,0.83023563...|\n",
      "|           0.76|    0.8360419034745477|[0.76,0.836041903...|\n",
      "|          0.598|    0.8475008448281159|[0.598,0.84750084...|\n",
      "|          0.716|    0.8536757703296365|[0.716,0.85367577...|\n",
      "|          0.476|    0.7905440693066265|[0.476,0.79054406...|\n",
      "|          0.549|    0.8250744984793095|[0.549,0.82507449...|\n",
      "|          0.772|    0.8545666799791096|[0.772,0.85456667...|\n",
      "+---------------+----------------------+--------------------+\n",
      "only showing top 20 rows\n",
      "\n"
     ]
    }
   ],
   "source": [
    "assembler1 = VectorAssembler(inputCols=required_features1, outputCol=\"features\")\n",
    "transformed_data1 = assembler1.transform(finalcluster1)\n",
    "transformed_data1.show()"
   ]
  },
  {
   "cell_type": "code",
   "execution_count": 65,
   "metadata": {
    "collapsed": true
   },
   "outputs": [],
   "source": [
    "scaler1 = StandardScaler(inputCol=\"features\", outputCol=\"scaled_features\")\n",
    "scaler_model1 = scaler1.fit(transformed_data1)\n",
    "transformed_data1 = scaler_model1.transform(transformed_data1)"
   ]
  },
  {
   "cell_type": "code",
   "execution_count": 66,
   "metadata": {
    "collapsed": true
   },
   "outputs": [],
   "source": [
    "wssse_values1 = []\n",
    "evaluator1 = ClusteringEvaluator()"
   ]
  },
  {
   "cell_type": "code",
   "execution_count": 67,
   "metadata": {},
   "outputs": [
    {
     "name": "stdout",
     "output_type": "stream",
     "text": [
      "Silhouette Score: 0.5749461942251062\n",
      "Silhouette Score: 0.4933093420440687\n",
      "Silhouette Score: 0.38525311214360175\n",
      "Silhouette Score: 0.4275362784769231\n",
      "Silhouette Score: 0.3985910021598285\n",
      "Silhouette Score: 0.3352242426649858\n",
      "Silhouette Score: 0.37388589469227496\n",
      "Silhouette Score: 0.389114854708985\n"
     ]
    }
   ],
   "source": [
    "for i in range(2, 10):\n",
    "    KMeans_mod1 = KMeans(featuresCol=\"scaled_features\", k=i)\n",
    "    KMeans_fit1 = KMeans_mod1.fit(transformed_data1)\n",
    "    output1 = KMeans_fit1.transform(transformed_data1)\n",
    "    score1 = evaluator1.evaluate(output1)\n",
    "    wssse_values1.append(score1)\n",
    "    print(\"Silhouette Score:\", score1)"
   ]
  },
  {
   "cell_type": "code",
   "execution_count": 68,
   "metadata": {},
   "outputs": [
    {
     "data": {
      "image/png": "[encoded data removed]",
      "text/plain": [
       "<Figure size 432x288 with 1 Axes>"
      ]
     },
     "metadata": {},
     "output_type": "display_data"
    }
   ],
   "source": [
    "plt.plot(range(2, 10), wssse_values1)\n",
    "plt.xlabel(\"Number of Clusters (K)\")\n",
    "plt.ylabel(\"Within Set Sum of Squared Errors (WSSSE)\")\n",
    "plt.title(\"Elbow Method for Optimal K Value\")\n",
    "plt.grid()\n",
    "plt.show()"
   ]
  },
  {
   "cell_type": "code",
   "execution_count": 69,
   "metadata": {
    "collapsed": true
   },
   "outputs": [],
   "source": [
    "kmeans1 = KMeans(k=7, featuresCol=\"scaled_features\", predictionCol=\"cluster\")\n",
    "kmeans_model1 = kmeans1.fit(transformed_data1)\n",
    "clustered_data1 = kmeans_model1.transform(transformed_data1)"
   ]
  },
  {
   "cell_type": "code",
   "execution_count": 70,
   "metadata": {
    "collapsed": true
   },
   "outputs": [],
   "source": [
    "dataframe_viz1 = clustered_data1.toPandas()"
   ]
  },
  {
   "cell_type": "code",
   "execution_count": 71,
   "metadata": {},
   "outputs": [
    {
     "data": {
      "text/html": [
       "<div>\n",
       "<style scoped>\n",
       "    .dataframe tbody tr th:only-of-type {\n",
       "        vertical-align: middle;\n",
       "    }\n",
       "\n",
       "    .dataframe tbody tr th {\n",
       "        vertical-align: top;\n",
       "    }\n",
       "\n",
       "    .dataframe thead th {\n",
       "        text-align: right;\n",
       "    }\n",
       "</style>\n",
       "<table border=\"1\" class=\"dataframe\">\n",
       "  <thead>\n",
       "    <tr style=\"text-align: right;\">\n",
       "      <th></th>\n",
       "      <th>af_danceability</th>\n",
       "      <th>af_loudness_normalized</th>\n",
       "      <th>features</th>\n",
       "      <th>scaled_features</th>\n",
       "      <th>cluster</th>\n",
       "    </tr>\n",
       "  </thead>\n",
       "  <tbody>\n",
       "    <tr>\n",
       "      <th>0</th>\n",
       "      <td>0.852</td>\n",
       "      <td>0.863906</td>\n",
       "      <td>[0.852, 0.8639058707873798]</td>\n",
       "      <td>[6.526005291630333, 12.57096734714969]</td>\n",
       "      <td>4</td>\n",
       "    </tr>\n",
       "    <tr>\n",
       "      <th>1</th>\n",
       "      <td>0.663</td>\n",
       "      <td>0.828607</td>\n",
       "      <td>[0.663, 0.8286074160548063]</td>\n",
       "      <td>[5.078335103698252, 12.057328376918367]</td>\n",
       "      <td>4</td>\n",
       "    </tr>\n",
       "    <tr>\n",
       "      <th>2</th>\n",
       "      <td>0.761</td>\n",
       "      <td>0.859236</td>\n",
       "      <td>[0.761, 0.8592362753832448]</td>\n",
       "      <td>[5.82897890484822, 12.503018588685668]</td>\n",
       "      <td>4</td>\n",
       "    </tr>\n",
       "    <tr>\n",
       "      <th>3</th>\n",
       "      <td>0.508</td>\n",
       "      <td>0.819668</td>\n",
       "      <td>[0.508, 0.8196675985376793]</td>\n",
       "      <td>[3.891092356981466, 11.927242266964221]</td>\n",
       "      <td>2</td>\n",
       "    </tr>\n",
       "    <tr>\n",
       "      <th>4</th>\n",
       "      <td>0.899</td>\n",
       "      <td>0.823753</td>\n",
       "      <td>[0.899, 0.8237534945162974]</td>\n",
       "      <td>[6.8860079309573585, 11.98669743062024]</td>\n",
       "      <td>0</td>\n",
       "    </tr>\n",
       "    <tr>\n",
       "      <th>5</th>\n",
       "      <td>0.776</td>\n",
       "      <td>0.802095</td>\n",
       "      <td>[0.776, 0.8020951737273817]</td>\n",
       "      <td>[5.943873364207909, 11.671540360112772]</td>\n",
       "      <td>0</td>\n",
       "    </tr>\n",
       "    <tr>\n",
       "      <th>6</th>\n",
       "      <td>0.588</td>\n",
       "      <td>0.733403</td>\n",
       "      <td>[0.588, 0.7334029676507634]</td>\n",
       "      <td>[4.503862806899807, 10.671978360602559]</td>\n",
       "      <td>3</td>\n",
       "    </tr>\n",
       "    <tr>\n",
       "      <th>7</th>\n",
       "      <td>0.832</td>\n",
       "      <td>0.786858</td>\n",
       "      <td>[0.832, 0.7868575466191514]</td>\n",
       "      <td>[6.372812679150747, 11.44981283249333]</td>\n",
       "      <td>0</td>\n",
       "    </tr>\n",
       "    <tr>\n",
       "      <th>8</th>\n",
       "      <td>0.736</td>\n",
       "      <td>0.887684</td>\n",
       "      <td>[0.736, 0.8876839421215938]</td>\n",
       "      <td>[5.637488139248738, 12.916969577749379]</td>\n",
       "      <td>4</td>\n",
       "    </tr>\n",
       "    <tr>\n",
       "      <th>9</th>\n",
       "      <td>0.721</td>\n",
       "      <td>0.748364</td>\n",
       "      <td>[0.721, 0.7483641055574329]</td>\n",
       "      <td>[5.522593679889049, 10.889682606470839]</td>\n",
       "      <td>3</td>\n",
       "    </tr>\n",
       "    <tr>\n",
       "      <th>10</th>\n",
       "      <td>0.680</td>\n",
       "      <td>0.897638</td>\n",
       "      <td>[0.68, 0.8976375533777764]</td>\n",
       "      <td>[5.2085488243058995, 13.061807720791109]</td>\n",
       "      <td>4</td>\n",
       "    </tr>\n",
       "    <tr>\n",
       "      <th>11</th>\n",
       "      <td>0.780</td>\n",
       "      <td>0.930939</td>\n",
       "      <td>[0.78, 0.9309391416546342]</td>\n",
       "      <td>[5.974511886703826, 13.546389656152947]</td>\n",
       "      <td>4</td>\n",
       "    </tr>\n",
       "    <tr>\n",
       "      <th>12</th>\n",
       "      <td>0.730</td>\n",
       "      <td>0.772849</td>\n",
       "      <td>[0.73, 0.7728487604067464]</td>\n",
       "      <td>[5.5915303555048625, 11.24596655710127]</td>\n",
       "      <td>0</td>\n",
       "    </tr>\n",
       "    <tr>\n",
       "      <th>13</th>\n",
       "      <td>0.723</td>\n",
       "      <td>0.830236</td>\n",
       "      <td>[0.723, 0.8302356302417745]</td>\n",
       "      <td>[5.537912941137008, 12.081021036119639]</td>\n",
       "      <td>4</td>\n",
       "    </tr>\n",
       "    <tr>\n",
       "      <th>14</th>\n",
       "      <td>0.760</td>\n",
       "      <td>0.836042</td>\n",
       "      <td>[0.76, 0.8360419034745477]</td>\n",
       "      <td>[5.821319274224241, 12.16550995289398]</td>\n",
       "      <td>4</td>\n",
       "    </tr>\n",
       "    <tr>\n",
       "      <th>15</th>\n",
       "      <td>0.598</td>\n",
       "      <td>0.847501</td>\n",
       "      <td>[0.598, 0.8475008448281159]</td>\n",
       "      <td>[4.580459113139599, 12.332252629914246]</td>\n",
       "      <td>2</td>\n",
       "    </tr>\n",
       "    <tr>\n",
       "      <th>16</th>\n",
       "      <td>0.716</td>\n",
       "      <td>0.853676</td>\n",
       "      <td>[0.716, 0.8536757703296365]</td>\n",
       "      <td>[5.484295526769152, 12.4221059223568]</td>\n",
       "      <td>4</td>\n",
       "    </tr>\n",
       "    <tr>\n",
       "      <th>17</th>\n",
       "      <td>0.476</td>\n",
       "      <td>0.790544</td>\n",
       "      <td>[0.476, 0.7905440693066265]</td>\n",
       "      <td>[3.6459841770141295, 11.503456589175453]</td>\n",
       "      <td>2</td>\n",
       "    </tr>\n",
       "    <tr>\n",
       "      <th>18</th>\n",
       "      <td>0.549</td>\n",
       "      <td>0.825074</td>\n",
       "      <td>[0.549, 0.8250744984793095]</td>\n",
       "      <td>[4.205137212564616, 12.005919776764669]</td>\n",
       "      <td>2</td>\n",
       "    </tr>\n",
       "    <tr>\n",
       "      <th>19</th>\n",
       "      <td>0.772</td>\n",
       "      <td>0.854567</td>\n",
       "      <td>[0.772, 0.8545666799791096]</td>\n",
       "      <td>[5.913234841711992, 12.435069830221645]</td>\n",
       "      <td>4</td>\n",
       "    </tr>\n",
       "    <tr>\n",
       "      <th>20</th>\n",
       "      <td>0.720</td>\n",
       "      <td>0.828669</td>\n",
       "      <td>[0.72, 0.8286688580995977]</td>\n",
       "      <td>[5.51493404926507, 12.058222439529738]</td>\n",
       "      <td>4</td>\n",
       "    </tr>\n",
       "    <tr>\n",
       "      <th>21</th>\n",
       "      <td>0.608</td>\n",
       "      <td>0.782219</td>\n",
       "      <td>[0.608, 0.7822186722374121]</td>\n",
       "      <td>[4.657055419379392, 11.382311105334995]</td>\n",
       "      <td>3</td>\n",
       "    </tr>\n",
       "    <tr>\n",
       "      <th>22</th>\n",
       "      <td>0.761</td>\n",
       "      <td>0.855243</td>\n",
       "      <td>[0.761, 0.8552425424718135]</td>\n",
       "      <td>[5.82897890484822, 12.444904518946704]</td>\n",
       "      <td>4</td>\n",
       "    </tr>\n",
       "    <tr>\n",
       "      <th>23</th>\n",
       "      <td>0.791</td>\n",
       "      <td>0.772818</td>\n",
       "      <td>[0.791, 0.7728180393843508]</td>\n",
       "      <td>[6.058767823567598, 11.245519525795585]</td>\n",
       "      <td>0</td>\n",
       "    </tr>\n",
       "    <tr>\n",
       "      <th>24</th>\n",
       "      <td>0.818</td>\n",
       "      <td>0.859636</td>\n",
       "      <td>[0.818, 0.8596356486743879]</td>\n",
       "      <td>[6.2655778504150375, 12.508829995659564]</td>\n",
       "      <td>4</td>\n",
       "    </tr>\n",
       "    <tr>\n",
       "      <th>25</th>\n",
       "      <td>0.608</td>\n",
       "      <td>0.797211</td>\n",
       "      <td>[0.608, 0.7972105311664772]</td>\n",
       "      <td>[4.657055419379392, 11.60046238250896]</td>\n",
       "      <td>3</td>\n",
       "    </tr>\n",
       "    <tr>\n",
       "      <th>26</th>\n",
       "      <td>0.616</td>\n",
       "      <td>0.901478</td>\n",
       "      <td>[0.616, 0.9014776811772296]</td>\n",
       "      <td>[4.718332464371226, 13.117686634001654]</td>\n",
       "      <td>4</td>\n",
       "    </tr>\n",
       "    <tr>\n",
       "      <th>27</th>\n",
       "      <td>0.828</td>\n",
       "      <td>0.817548</td>\n",
       "      <td>[0.828, 0.8175478479923812]</td>\n",
       "      <td>[6.34217415665483, 11.896397106872001]</td>\n",
       "      <td>0</td>\n",
       "    </tr>\n",
       "    <tr>\n",
       "      <th>28</th>\n",
       "      <td>0.681</td>\n",
       "      <td>0.737735</td>\n",
       "      <td>[0.681, 0.7377346318085466]</td>\n",
       "      <td>[5.216208454929879, 10.735009774704052]</td>\n",
       "      <td>3</td>\n",
       "    </tr>\n",
       "    <tr>\n",
       "      <th>29</th>\n",
       "      <td>0.744</td>\n",
       "      <td>0.836011</td>\n",
       "      <td>[0.744, 0.836011182452152]</td>\n",
       "      <td>[5.698765184240572, 12.165062921588296]</td>\n",
       "      <td>4</td>\n",
       "    </tr>\n",
       "    <tr>\n",
       "      <th>...</th>\n",
       "      <td>...</td>\n",
       "      <td>...</td>\n",
       "      <td>...</td>\n",
       "      <td>...</td>\n",
       "      <td>...</td>\n",
       "    </tr>\n",
       "    <tr>\n",
       "      <th>881164</th>\n",
       "      <td>0.259</td>\n",
       "      <td>0.751221</td>\n",
       "      <td>[0.259, 0.7512211606402261]</td>\n",
       "      <td>[1.9838443316106293, 10.931256517899483]</td>\n",
       "      <td>5</td>\n",
       "    </tr>\n",
       "    <tr>\n",
       "      <th>881165</th>\n",
       "      <td>0.428</td>\n",
       "      <td>0.840159</td>\n",
       "      <td>[0.428, 0.8401585204755615]</td>\n",
       "      <td>[3.2783219070631247, 12.225412147855685]</td>\n",
       "      <td>2</td>\n",
       "    </tr>\n",
       "    <tr>\n",
       "      <th>881166</th>\n",
       "      <td>0.694</td>\n",
       "      <td>0.820681</td>\n",
       "      <td>[0.694, 0.820681392276735]</td>\n",
       "      <td>[5.315783653041609, 11.941994300051805]</td>\n",
       "      <td>4</td>\n",
       "    </tr>\n",
       "    <tr>\n",
       "      <th>881167</th>\n",
       "      <td>0.529</td>\n",
       "      <td>0.745323</td>\n",
       "      <td>[0.529, 0.7453227243402661]</td>\n",
       "      <td>[4.05194460008503, 10.845426507208089]</td>\n",
       "      <td>5</td>\n",
       "    </tr>\n",
       "    <tr>\n",
       "      <th>881168</th>\n",
       "      <td>0.441</td>\n",
       "      <td>0.750607</td>\n",
       "      <td>[0.441, 0.7506067401923135]</td>\n",
       "      <td>[3.3778971051748554, 10.922315891785795]</td>\n",
       "      <td>5</td>\n",
       "    </tr>\n",
       "    <tr>\n",
       "      <th>881169</th>\n",
       "      <td>0.455</td>\n",
       "      <td>0.733557</td>\n",
       "      <td>[0.455, 0.7335565727627416]</td>\n",
       "      <td>[3.4851319339105653, 10.67421351713098]</td>\n",
       "      <td>5</td>\n",
       "    </tr>\n",
       "    <tr>\n",
       "      <th>881170</th>\n",
       "      <td>0.663</td>\n",
       "      <td>0.724310</td>\n",
       "      <td>[0.663, 0.7243095450216583]</td>\n",
       "      <td>[5.078335103698252, 10.53965709411999]</td>\n",
       "      <td>3</td>\n",
       "    </tr>\n",
       "    <tr>\n",
       "      <th>881171</th>\n",
       "      <td>0.650</td>\n",
       "      <td>0.830143</td>\n",
       "      <td>[0.65, 0.8301434671745875]</td>\n",
       "      <td>[4.9787599055865215, 12.079679942202585]</td>\n",
       "      <td>4</td>\n",
       "    </tr>\n",
       "    <tr>\n",
       "      <th>881172</th>\n",
       "      <td>0.626</td>\n",
       "      <td>0.695616</td>\n",
       "      <td>[0.626, 0.6956161101041443]</td>\n",
       "      <td>[4.794928770611019, 10.122129854610805]</td>\n",
       "      <td>3</td>\n",
       "    </tr>\n",
       "    <tr>\n",
       "      <th>881173</th>\n",
       "      <td>0.439</td>\n",
       "      <td>0.780437</td>\n",
       "      <td>[0.439, 0.7804368529384659]</td>\n",
       "      <td>[3.3625778439268967, 11.356383289605304]</td>\n",
       "      <td>2</td>\n",
       "    </tr>\n",
       "    <tr>\n",
       "      <th>881174</th>\n",
       "      <td>0.735</td>\n",
       "      <td>0.696384</td>\n",
       "      <td>[0.735, 0.6963841356640348]</td>\n",
       "      <td>[5.629828508624759, 10.133305637252912]</td>\n",
       "      <td>1</td>\n",
       "    </tr>\n",
       "    <tr>\n",
       "      <th>881175</th>\n",
       "      <td>0.358</td>\n",
       "      <td>0.726368</td>\n",
       "      <td>[0.358, 0.7263678535221653]</td>\n",
       "      <td>[2.742147763384576, 10.569608191600842]</td>\n",
       "      <td>5</td>\n",
       "    </tr>\n",
       "    <tr>\n",
       "      <th>881176</th>\n",
       "      <td>0.655</td>\n",
       "      <td>0.790544</td>\n",
       "      <td>[0.655, 0.7905440693066265]</td>\n",
       "      <td>[5.017058058706418, 11.503456589175453]</td>\n",
       "      <td>3</td>\n",
       "    </tr>\n",
       "    <tr>\n",
       "      <th>881177</th>\n",
       "      <td>0.566</td>\n",
       "      <td>0.790728</td>\n",
       "      <td>[0.566, 0.7907283954410003]</td>\n",
       "      <td>[4.335350933172263, 11.50613877700956]</td>\n",
       "      <td>2</td>\n",
       "    </tr>\n",
       "    <tr>\n",
       "      <th>881178</th>\n",
       "      <td>0.512</td>\n",
       "      <td>0.744094</td>\n",
       "      <td>[0.512, 0.744093883444441]</td>\n",
       "      <td>[3.921730879477383, 10.827545254980713]</td>\n",
       "      <td>5</td>\n",
       "    </tr>\n",
       "    <tr>\n",
       "      <th>881179</th>\n",
       "      <td>0.315</td>\n",
       "      <td>0.771436</td>\n",
       "      <td>[0.315, 0.7714355933765475]</td>\n",
       "      <td>[2.412783646553468, 11.225403117039786]</td>\n",
       "      <td>5</td>\n",
       "    </tr>\n",
       "    <tr>\n",
       "      <th>881180</th>\n",
       "      <td>0.520</td>\n",
       "      <td>0.858622</td>\n",
       "      <td>[0.52, 0.8586218549353323]</td>\n",
       "      <td>[3.9830079244692174, 12.49407796257198]</td>\n",
       "      <td>2</td>\n",
       "    </tr>\n",
       "    <tr>\n",
       "      <th>881181</th>\n",
       "      <td>0.589</td>\n",
       "      <td>0.797057</td>\n",
       "      <td>[0.589, 0.7970569260544991]</td>\n",
       "      <td>[4.511522437523786, 11.598227225980537]</td>\n",
       "      <td>2</td>\n",
       "    </tr>\n",
       "    <tr>\n",
       "      <th>881182</th>\n",
       "      <td>0.650</td>\n",
       "      <td>0.713526</td>\n",
       "      <td>[0.65, 0.7135264661607938]</td>\n",
       "      <td>[4.9787599055865215, 10.382749105824782]</td>\n",
       "      <td>3</td>\n",
       "    </tr>\n",
       "    <tr>\n",
       "      <th>881183</th>\n",
       "      <td>0.696</td>\n",
       "      <td>0.725108</td>\n",
       "      <td>[0.696, 0.7251082916039446]</td>\n",
       "      <td>[5.331102914289567, 10.551279908067784]</td>\n",
       "      <td>3</td>\n",
       "    </tr>\n",
       "    <tr>\n",
       "      <th>881184</th>\n",
       "      <td>0.426</td>\n",
       "      <td>0.791558</td>\n",
       "      <td>[0.426, 0.7915578630456822]</td>\n",
       "      <td>[3.2630026458151664, 11.518208622263039]</td>\n",
       "      <td>2</td>\n",
       "    </tr>\n",
       "    <tr>\n",
       "      <th>881185</th>\n",
       "      <td>0.556</td>\n",
       "      <td>0.787503</td>\n",
       "      <td>[0.556, 0.7875026880894596]</td>\n",
       "      <td>[4.258754626932471, 11.459200489912703]</td>\n",
       "      <td>2</td>\n",
       "    </tr>\n",
       "    <tr>\n",
       "      <th>881186</th>\n",
       "      <td>0.402</td>\n",
       "      <td>0.772234</td>\n",
       "      <td>[0.402, 0.7722343399588338]</td>\n",
       "      <td>[3.079171510839664, 11.23702593098758]</td>\n",
       "      <td>5</td>\n",
       "    </tr>\n",
       "    <tr>\n",
       "      <th>881187</th>\n",
       "      <td>0.421</td>\n",
       "      <td>0.724924</td>\n",
       "      <td>[0.421, 0.7249239654695708]</td>\n",
       "      <td>[3.22470449269527, 10.548597720233676]</td>\n",
       "      <td>5</td>\n",
       "    </tr>\n",
       "    <tr>\n",
       "      <th>881188</th>\n",
       "      <td>0.509</td>\n",
       "      <td>0.728303</td>\n",
       "      <td>[0.509, 0.7283032779330896]</td>\n",
       "      <td>[3.8987519876054453, 10.597771163858955]</td>\n",
       "      <td>5</td>\n",
       "    </tr>\n",
       "    <tr>\n",
       "      <th>881189</th>\n",
       "      <td>0.600</td>\n",
       "      <td>0.807748</td>\n",
       "      <td>[0.6, 0.8077478418481767]</td>\n",
       "      <td>[4.595778374387558, 11.753794120358693]</td>\n",
       "      <td>2</td>\n",
       "    </tr>\n",
       "    <tr>\n",
       "      <th>881190</th>\n",
       "      <td>0.588</td>\n",
       "      <td>0.723603</td>\n",
       "      <td>[0.588, 0.723602961506559]</td>\n",
       "      <td>[4.503862806899807, 10.52937537408925]</td>\n",
       "      <td>3</td>\n",
       "    </tr>\n",
       "    <tr>\n",
       "      <th>881191</th>\n",
       "      <td>0.423</td>\n",
       "      <td>0.663083</td>\n",
       "      <td>[0.423, 0.6630825473871771]</td>\n",
       "      <td>[3.2400237539432286, 9.648723701891075]</td>\n",
       "      <td>5</td>\n",
       "    </tr>\n",
       "    <tr>\n",
       "      <th>881192</th>\n",
       "      <td>0.422</td>\n",
       "      <td>0.736629</td>\n",
       "      <td>[0.422, 0.7366286750023041]</td>\n",
       "      <td>[3.232364123319249, 10.718916647699416]</td>\n",
       "      <td>5</td>\n",
       "    </tr>\n",
       "    <tr>\n",
       "      <th>881193</th>\n",
       "      <td>0.659</td>\n",
       "      <td>0.797456</td>\n",
       "      <td>[0.659, 0.7974562993456422]</td>\n",
       "      <td>[5.047696581202335, 11.604038632954435]</td>\n",
       "      <td>3</td>\n",
       "    </tr>\n",
       "  </tbody>\n",
       "</table>\n",
       "<p>881194 rows × 5 columns</p>\n",
       "</div>"
      ],
      "text/plain": [
       "        af_danceability  af_loudness_normalized                     features  \\\n",
       "0                 0.852                0.863906  [0.852, 0.8639058707873798]   \n",
       "1                 0.663                0.828607  [0.663, 0.8286074160548063]   \n",
       "2                 0.761                0.859236  [0.761, 0.8592362753832448]   \n",
       "3                 0.508                0.819668  [0.508, 0.8196675985376793]   \n",
       "4                 0.899                0.823753  [0.899, 0.8237534945162974]   \n",
       "5                 0.776                0.802095  [0.776, 0.8020951737273817]   \n",
       "6                 0.588                0.733403  [0.588, 0.7334029676507634]   \n",
       "7                 0.832                0.786858  [0.832, 0.7868575466191514]   \n",
       "8                 0.736                0.887684  [0.736, 0.8876839421215938]   \n",
       "9                 0.721                0.748364  [0.721, 0.7483641055574329]   \n",
       "10                0.680                0.897638   [0.68, 0.8976375533777764]   \n",
       "11                0.780                0.930939   [0.78, 0.9309391416546342]   \n",
       "12                0.730                0.772849   [0.73, 0.7728487604067464]   \n",
       "13                0.723                0.830236  [0.723, 0.8302356302417745]   \n",
       "14                0.760                0.836042   [0.76, 0.8360419034745477]   \n",
       "15                0.598                0.847501  [0.598, 0.8475008448281159]   \n",
       "16                0.716                0.853676  [0.716, 0.8536757703296365]   \n",
       "17                0.476                0.790544  [0.476, 0.7905440693066265]   \n",
       "18                0.549                0.825074  [0.549, 0.8250744984793095]   \n",
       "19                0.772                0.854567  [0.772, 0.8545666799791096]   \n",
       "20                0.720                0.828669   [0.72, 0.8286688580995977]   \n",
       "21                0.608                0.782219  [0.608, 0.7822186722374121]   \n",
       "22                0.761                0.855243  [0.761, 0.8552425424718135]   \n",
       "23                0.791                0.772818  [0.791, 0.7728180393843508]   \n",
       "24                0.818                0.859636  [0.818, 0.8596356486743879]   \n",
       "25                0.608                0.797211  [0.608, 0.7972105311664772]   \n",
       "26                0.616                0.901478  [0.616, 0.9014776811772296]   \n",
       "27                0.828                0.817548  [0.828, 0.8175478479923812]   \n",
       "28                0.681                0.737735  [0.681, 0.7377346318085466]   \n",
       "29                0.744                0.836011   [0.744, 0.836011182452152]   \n",
       "...                 ...                     ...                          ...   \n",
       "881164            0.259                0.751221  [0.259, 0.7512211606402261]   \n",
       "881165            0.428                0.840159  [0.428, 0.8401585204755615]   \n",
       "881166            0.694                0.820681   [0.694, 0.820681392276735]   \n",
       "881167            0.529                0.745323  [0.529, 0.7453227243402661]   \n",
       "881168            0.441                0.750607  [0.441, 0.7506067401923135]   \n",
       "881169            0.455                0.733557  [0.455, 0.7335565727627416]   \n",
       "881170            0.663                0.724310  [0.663, 0.7243095450216583]   \n",
       "881171            0.650                0.830143   [0.65, 0.8301434671745875]   \n",
       "881172            0.626                0.695616  [0.626, 0.6956161101041443]   \n",
       "881173            0.439                0.780437  [0.439, 0.7804368529384659]   \n",
       "881174            0.735                0.696384  [0.735, 0.6963841356640348]   \n",
       "881175            0.358                0.726368  [0.358, 0.7263678535221653]   \n",
       "881176            0.655                0.790544  [0.655, 0.7905440693066265]   \n",
       "881177            0.566                0.790728  [0.566, 0.7907283954410003]   \n",
       "881178            0.512                0.744094   [0.512, 0.744093883444441]   \n",
       "881179            0.315                0.771436  [0.315, 0.7714355933765475]   \n",
       "881180            0.520                0.858622   [0.52, 0.8586218549353323]   \n",
       "881181            0.589                0.797057  [0.589, 0.7970569260544991]   \n",
       "881182            0.650                0.713526   [0.65, 0.7135264661607938]   \n",
       "881183            0.696                0.725108  [0.696, 0.7251082916039446]   \n",
       "881184            0.426                0.791558  [0.426, 0.7915578630456822]   \n",
       "881185            0.556                0.787503  [0.556, 0.7875026880894596]   \n",
       "881186            0.402                0.772234  [0.402, 0.7722343399588338]   \n",
       "881187            0.421                0.724924  [0.421, 0.7249239654695708]   \n",
       "881188            0.509                0.728303  [0.509, 0.7283032779330896]   \n",
       "881189            0.600                0.807748    [0.6, 0.8077478418481767]   \n",
       "881190            0.588                0.723603   [0.588, 0.723602961506559]   \n",
       "881191            0.423                0.663083  [0.423, 0.6630825473871771]   \n",
       "881192            0.422                0.736629  [0.422, 0.7366286750023041]   \n",
       "881193            0.659                0.797456  [0.659, 0.7974562993456422]   \n",
       "\n",
       "                                 scaled_features  cluster  \n",
       "0         [6.526005291630333, 12.57096734714969]        4  \n",
       "1        [5.078335103698252, 12.057328376918367]        4  \n",
       "2         [5.82897890484822, 12.503018588685668]        4  \n",
       "3        [3.891092356981466, 11.927242266964221]        2  \n",
       "4        [6.8860079309573585, 11.98669743062024]        0  \n",
       "5        [5.943873364207909, 11.671540360112772]        0  \n",
       "6        [4.503862806899807, 10.671978360602559]        3  \n",
       "7         [6.372812679150747, 11.44981283249333]        0  \n",
       "8        [5.637488139248738, 12.916969577749379]        4  \n",
       "9        [5.522593679889049, 10.889682606470839]        3  \n",
       "10      [5.2085488243058995, 13.061807720791109]        4  \n",
       "11       [5.974511886703826, 13.546389656152947]        4  \n",
       "12       [5.5915303555048625, 11.24596655710127]        0  \n",
       "13       [5.537912941137008, 12.081021036119639]        4  \n",
       "14        [5.821319274224241, 12.16550995289398]        4  \n",
       "15       [4.580459113139599, 12.332252629914246]        2  \n",
       "16         [5.484295526769152, 12.4221059223568]        4  \n",
       "17      [3.6459841770141295, 11.503456589175453]        2  \n",
       "18       [4.205137212564616, 12.005919776764669]        2  \n",
       "19       [5.913234841711992, 12.435069830221645]        4  \n",
       "20        [5.51493404926507, 12.058222439529738]        4  \n",
       "21       [4.657055419379392, 11.382311105334995]        3  \n",
       "22        [5.82897890484822, 12.444904518946704]        4  \n",
       "23       [6.058767823567598, 11.245519525795585]        0  \n",
       "24      [6.2655778504150375, 12.508829995659564]        4  \n",
       "25        [4.657055419379392, 11.60046238250896]        3  \n",
       "26       [4.718332464371226, 13.117686634001654]        4  \n",
       "27        [6.34217415665483, 11.896397106872001]        0  \n",
       "28       [5.216208454929879, 10.735009774704052]        3  \n",
       "29       [5.698765184240572, 12.165062921588296]        4  \n",
       "...                                          ...      ...  \n",
       "881164  [1.9838443316106293, 10.931256517899483]        5  \n",
       "881165  [3.2783219070631247, 12.225412147855685]        2  \n",
       "881166   [5.315783653041609, 11.941994300051805]        4  \n",
       "881167    [4.05194460008503, 10.845426507208089]        5  \n",
       "881168  [3.3778971051748554, 10.922315891785795]        5  \n",
       "881169   [3.4851319339105653, 10.67421351713098]        5  \n",
       "881170    [5.078335103698252, 10.53965709411999]        3  \n",
       "881171  [4.9787599055865215, 12.079679942202585]        4  \n",
       "881172   [4.794928770611019, 10.122129854610805]        3  \n",
       "881173  [3.3625778439268967, 11.356383289605304]        2  \n",
       "881174   [5.629828508624759, 10.133305637252912]        1  \n",
       "881175   [2.742147763384576, 10.569608191600842]        5  \n",
       "881176   [5.017058058706418, 11.503456589175453]        3  \n",
       "881177    [4.335350933172263, 11.50613877700956]        2  \n",
       "881178   [3.921730879477383, 10.827545254980713]        5  \n",
       "881179   [2.412783646553468, 11.225403117039786]        5  \n",
       "881180   [3.9830079244692174, 12.49407796257198]        2  \n",
       "881181   [4.511522437523786, 11.598227225980537]        2  \n",
       "881182  [4.9787599055865215, 10.382749105824782]        3  \n",
       "881183   [5.331102914289567, 10.551279908067784]        3  \n",
       "881184  [3.2630026458151664, 11.518208622263039]        2  \n",
       "881185   [4.258754626932471, 11.459200489912703]        2  \n",
       "881186    [3.079171510839664, 11.23702593098758]        5  \n",
       "881187    [3.22470449269527, 10.548597720233676]        5  \n",
       "881188  [3.8987519876054453, 10.597771163858955]        5  \n",
       "881189   [4.595778374387558, 11.753794120358693]        2  \n",
       "881190    [4.503862806899807, 10.52937537408925]        3  \n",
       "881191   [3.2400237539432286, 9.648723701891075]        5  \n",
       "881192   [3.232364123319249, 10.718916647699416]        5  \n",
       "881193   [5.047696581202335, 11.604038632954435]        3  \n",
       "\n",
       "[881194 rows x 5 columns]"
      ]
     },
     "execution_count": 71,
     "metadata": {},
     "output_type": "execute_result"
    }
   ],
   "source": [
    "dataframe_viz1"
   ]
  },
  {
   "cell_type": "code",
   "execution_count": 72,
   "metadata": {},
   "outputs": [
    {
     "data": {
      "image/png": "[encoded data removed]",
      "text/plain": [
       "<Figure size 432x288 with 2 Axes>"
      ]
     },
     "metadata": {},
     "output_type": "display_data"
    }
   ],
   "source": [
    "plt.scatter(dataframe_viz1[\"af_danceability\"], dataframe_viz1[\"af_loudness_normalized\"], c=dataframe_viz1[\"cluster\"])\n",
    "plt.xlabel(\"af_danceability\")\n",
    "plt.ylabel(\"af loudness normalized\")\n",
    "plt.title(\"K-Means Clustering with af danceability and af loudness normalized\")\n",
    "plt.colorbar().set_label(\"Cluster\")\n",
    "plt.show()"
   ]
  },
  {
   "cell_type": "code",
   "execution_count": 109,
   "metadata": {
    "collapsed": true
   },
   "outputs": [],
   "source": [
    "#cluster 0 has af_danceability between 0.7 and 1.0 and af_loudness_normalizied between 0.7 and 0.8 \n",
    "#cluster 1 has af_danceability between 0.6 and 1.0 and af_loudness_normalized between 0.5 and 0.7 \n",
    "#cluster 2 has af_danceability between 0.2 and 0.6 and af_loudness_normalizied between 0.8 and 1.0 \n",
    "#cluster 3 has af_danceability between 0.6 and 0.8 and af_loudness_normalizied between 0.6 and 0.8 \n",
    "#cluster 4 has af_danceability between 0.6 and 1.0 and af_loudness_normalizied between 0.6 and 1.0 \n",
    "#cluster 5 has af_danceability between 0.2 and 0.6 and af_loudness_normalized between 0.6 and 0.8 \n",
    "#cluster 6 has af_denacability betwen 0.0 and 1.0 and af_loudness_normalized between 0.0 and 0.6  "
   ]
  },
  {
   "cell_type": "code",
   "execution_count": 74,
   "metadata": {
    "collapsed": true
   },
   "outputs": [],
   "source": [
    "finalcluster2 = df3_normalized.select(\"af_energy\", \"af_speechiness\") "
   ]
  },
  {
   "cell_type": "code",
   "execution_count": 75,
   "metadata": {
    "collapsed": true
   },
   "outputs": [],
   "source": [
    "required_features2 = [\"af_energy\", \"af_speechiness\"]"
   ]
  },
  {
   "cell_type": "code",
   "execution_count": 76,
   "metadata": {},
   "outputs": [
    {
     "name": "stdout",
     "output_type": "stream",
     "text": [
      "+---------+--------------+--------------+\n",
      "|af_energy|af_speechiness|      features|\n",
      "+---------+--------------+--------------+\n",
      "|    0.773|        0.0776|[0.773,0.0776]|\n",
      "|     0.92|         0.226|  [0.92,0.226]|\n",
      "|    0.838|        0.0502|[0.838,0.0502]|\n",
      "|    0.687|         0.326| [0.687,0.326]|\n",
      "|    0.626|         0.292| [0.626,0.292]|\n",
      "|    0.669|        0.0638|[0.669,0.0638]|\n",
      "|    0.682|         0.173| [0.682,0.173]|\n",
      "|    0.772|           0.1|   [0.772,0.1]|\n",
      "|    0.964|         0.129| [0.964,0.129]|\n",
      "|    0.687|        0.0782|[0.687,0.0782]|\n",
      "|    0.954|         0.119| [0.954,0.119]|\n",
      "|    0.929|        0.0532|[0.929,0.0532]|\n",
      "|    0.701|         0.106| [0.701,0.106]|\n",
      "|    0.889|        0.0939|[0.889,0.0939]|\n",
      "|    0.838|        0.0529|[0.838,0.0529]|\n",
      "|    0.917|         0.159| [0.917,0.159]|\n",
      "|    0.908|         0.103| [0.908,0.103]|\n",
      "|    0.718|        0.0576|[0.718,0.0576]|\n",
      "|    0.798|        0.0705|[0.798,0.0705]|\n",
      "|    0.909|         0.166| [0.909,0.166]|\n",
      "+---------+--------------+--------------+\n",
      "only showing top 20 rows\n",
      "\n"
     ]
    }
   ],
   "source": [
    "assembler2 = VectorAssembler(inputCols=required_features2, outputCol=\"features\")\n",
    "transformed_data2 = assembler2.transform(finalcluster2)\n",
    "transformed_data2.show() "
   ]
  },
  {
   "cell_type": "code",
   "execution_count": 77,
   "metadata": {
    "collapsed": true
   },
   "outputs": [],
   "source": [
    "scaler2 = StandardScaler(inputCol=\"features\", outputCol=\"scaled_features\")\n",
    "scaler_model2 = scaler2.fit(transformed_data2)\n",
    "transformed_data2 = scaler_model2.transform(transformed_data2)"
   ]
  },
  {
   "cell_type": "code",
   "execution_count": 78,
   "metadata": {
    "collapsed": true
   },
   "outputs": [],
   "source": [
    "wssse_values2 = []\n",
    "evaluator2 = ClusteringEvaluator()"
   ]
  },
  {
   "cell_type": "code",
   "execution_count": 79,
   "metadata": {},
   "outputs": [
    {
     "name": "stdout",
     "output_type": "stream",
     "text": [
      "Silhouette Score: 0.6062225358803529\n",
      "Silhouette Score: 0.6222510478963655\n",
      "Silhouette Score: 0.5132056240138658\n",
      "Silhouette Score: 0.5667432463997534\n",
      "Silhouette Score: 0.5527228293715927\n",
      "Silhouette Score: 0.4998254159107387\n",
      "Silhouette Score: 0.5392575133067082\n",
      "Silhouette Score: 0.5344857637064463\n"
     ]
    }
   ],
   "source": [
    "for i in range(2, 10):\n",
    "    KMeans_mod2 = KMeans(featuresCol=\"scaled_features\", k=i)\n",
    "    KMeans_fit2 = KMeans_mod2.fit(transformed_data2)\n",
    "    output2 = KMeans_fit2.transform(transformed_data2)\n",
    "    score2 = evaluator2.evaluate(output2)\n",
    "    wssse_values2.append(score2)\n",
    "    print(\"Silhouette Score:\", score2)"
   ]
  },
  {
   "cell_type": "code",
   "execution_count": 80,
   "metadata": {},
   "outputs": [
    {
     "data": {
      "image/png": "[encoded data removed]",
      "text/plain": [
       "<Figure size 432x288 with 1 Axes>"
      ]
     },
     "metadata": {},
     "output_type": "display_data"
    }
   ],
   "source": [
    "plt.plot(range(2, 10), wssse_values1)\n",
    "plt.xlabel(\"Number of Clusters\")\n",
    "plt.ylabel(\"Within Set Sum of Squared Errors (WSSSE)\")\n",
    "plt.title(\"Elbow Method for Optimal K Values\")\n",
    "plt.grid()\n",
    "plt.show()"
   ]
  },
  {
   "cell_type": "code",
   "execution_count": 81,
   "metadata": {
    "collapsed": true
   },
   "outputs": [],
   "source": [
    "kmeans2 = KMeans(k=7, featuresCol=\"scaled_features\", predictionCol=\"cluster\")\n",
    "kmeans_model2 = kmeans2.fit(transformed_data2)\n",
    "clustered_data2 = kmeans_model2.transform(transformed_data2)"
   ]
  },
  {
   "cell_type": "code",
   "execution_count": 82,
   "metadata": {},
   "outputs": [
    {
     "name": "stdout",
     "output_type": "stream",
     "text": [
      "+---------+--------------+--------------+--------------------+-------+\n",
      "|af_energy|af_speechiness|      features|     scaled_features|cluster|\n",
      "+---------+--------------+--------------+--------------------+-------+\n",
      "|    0.773|        0.0776|[0.773,0.0776]|[4.78036366795495...|      4|\n",
      "|     0.92|         0.226|  [0.92,0.226]|[5.68943670700977...|      2|\n",
      "|    0.838|        0.0502|[0.838,0.0502]|[5.18233473964586...|      0|\n",
      "|    0.687|         0.326| [0.687,0.326]|[4.24852501925621...|      5|\n",
      "|    0.626|         0.292| [0.626,0.292]|[3.87129062890012...|      5|\n",
      "|    0.669|        0.0638|[0.669,0.0638]|[4.13720995324949...|      3|\n",
      "|    0.682|         0.173| [0.682,0.173]|[4.21760416758768...|      2|\n",
      "|    0.772|           0.1|   [0.772,0.1]|[4.77417949762124...|      4|\n",
      "|    0.964|         0.129| [0.964,0.129]|[5.96154020169285...|      0|\n",
      "|    0.687|        0.0782|[0.687,0.0782]|[4.24852501925621...|      3|\n",
      "|    0.954|         0.119| [0.954,0.119]|[5.89969849835578...|      0|\n",
      "|    0.929|        0.0532|[0.929,0.0532]|[5.74509424001313...|      0|\n",
      "|    0.701|         0.106| [0.701,0.106]|[4.3351034039281,...|      4|\n",
      "|    0.889|        0.0939|[0.889,0.0939]|[5.49772742666488...|      0|\n",
      "|    0.838|        0.0529|[0.838,0.0529]|[5.18233473964586...|      0|\n",
      "|    0.917|         0.159| [0.917,0.159]|[5.67088419600865...|      0|\n",
      "|    0.908|         0.103| [0.908,0.103]|[5.61522666300529...|      0|\n",
      "|    0.718|        0.0576|[0.718,0.0576]|[4.44023429960110...|      4|\n",
      "|    0.798|        0.0705|[0.798,0.0705]|[4.93496792629760...|      4|\n",
      "|    0.909|         0.166| [0.909,0.166]|[5.62141083333900...|      0|\n",
      "+---------+--------------+--------------+--------------------+-------+\n",
      "only showing top 20 rows\n",
      "\n"
     ]
    }
   ],
   "source": [
    "clustered_data2.show()"
   ]
  },
  {
   "cell_type": "code",
   "execution_count": 83,
   "metadata": {
    "collapsed": true
   },
   "outputs": [],
   "source": [
    "dataframe_vis2 = clustered_data2.toPandas()"
   ]
  },
  {
   "cell_type": "code",
   "execution_count": 85,
   "metadata": {},
   "outputs": [
    {
     "data": {
      "image/png": "[encoded data removed]",
      "text/plain": [
       "<Figure size 432x288 with 2 Axes>"
      ]
     },
     "metadata": {},
     "output_type": "display_data"
    }
   ],
   "source": [
    "plt.scatter(dataframe_vis2[\"af_energy\"], dataframe_vis2[\"af_speechiness\"], c=dataframe_vis2[\"cluster\"])\n",
    "plt.xlabel(\"af_energy\")\n",
    "plt.ylabel(\"af_speechiness\")\n",
    "plt.title(\"K-Means Cluster with af energy and af_speechiness\")\n",
    "plt.colorbar().set_label(\"Cluster\")\n",
    "plt.show()"
   ]
  },
  {
   "cell_type": "code",
   "execution_count": 133,
   "metadata": {
    "collapsed": true
   },
   "outputs": [],
   "source": [
    "#cluster 0: the af energy was between 0.8 and 1.0 and af_speechiness is between 0 and 0.2 \n",
    "#cluster 1: the af energy was between 0.0 and 0.4 and af_speechiness is beween 0.0 and 0.2 \n",
    "#cluster 2: the af energy was between 0.6 and 1.0 and af_speechiness is between 0.2 and 0.4\n",
    "#cluster 3: the af energy was between 0.6 and 0.7 and af_speechiness is between 0.6 and 0.7\n",
    "#cluster 4: the af energy wsa between 0.7 and 0.8 and af speechines is between 0.0 and 0.2 \n",
    "#cluster 5: the af energy is between 0.2 and 1.0 and af speechiness is between 0.2 and 1.0 \n",
    "#cluster 6: the af enregy is between 0.4 and 0.6 and af speeciness is between 0.0 and 0.2 "
   ]
  },
  {
   "cell_type": "code",
   "execution_count": 89,
   "metadata": {
    "collapsed": true
   },
   "outputs": [],
   "source": [
    "finalcluster3 = df3_normalized.select(\"af_acousticness\", \"af_energy\") "
   ]
  },
  {
   "cell_type": "code",
   "execution_count": 90,
   "metadata": {
    "collapsed": true
   },
   "outputs": [],
   "source": [
    "required_features3 = [\"af_acousticness\", \"af_energy\"]"
   ]
  },
  {
   "cell_type": "code",
   "execution_count": 91,
   "metadata": {},
   "outputs": [
    {
     "name": "stdout",
     "output_type": "stream",
     "text": [
      "+---------------+---------+--------------+\n",
      "|af_acousticness|af_energy|      features|\n",
      "+---------------+---------+--------------+\n",
      "|          0.187|    0.773| [0.187,0.773]|\n",
      "|        0.00431|     0.92|[0.00431,0.92]|\n",
      "|            0.4|    0.838|   [0.4,0.838]|\n",
      "|          0.551|    0.687| [0.551,0.687]|\n",
      "|          0.076|    0.626| [0.076,0.626]|\n",
      "|          0.142|    0.669| [0.142,0.669]|\n",
      "|         0.0851|    0.682|[0.0851,0.682]|\n",
      "|         0.0559|    0.772|[0.0559,0.772]|\n",
      "|          0.198|    0.964| [0.198,0.964]|\n",
      "|         0.0998|    0.687|[0.0998,0.687]|\n",
      "|         0.0244|    0.954|[0.0244,0.954]|\n",
      "|          0.171|    0.929| [0.171,0.929]|\n",
      "|          0.132|    0.701| [0.132,0.701]|\n",
      "|         0.0673|    0.889|[0.0673,0.889]|\n",
      "|          0.547|    0.838| [0.547,0.838]|\n",
      "|          0.117|    0.917| [0.117,0.917]|\n",
      "|         0.0858|    0.908|[0.0858,0.908]|\n",
      "|         0.0784|    0.718|[0.0784,0.718]|\n",
      "|          0.126|    0.798| [0.126,0.798]|\n",
      "|          0.256|    0.909| [0.256,0.909]|\n",
      "+---------------+---------+--------------+\n",
      "only showing top 20 rows\n",
      "\n"
     ]
    }
   ],
   "source": [
    "assemblerC3 = VectorAssembler(inputCols=required_features3, outputCol=\"features\")\n",
    "transformed_dataC3 = assemblerC3.transform(finalcluster3)\n",
    "transformed_dataC3.show()"
   ]
  },
  {
   "cell_type": "code",
   "execution_count": 92,
   "metadata": {
    "collapsed": true
   },
   "outputs": [],
   "source": [
    "scalerC3 = StandardScaler(inputCol=\"features\", outputCol=\"scaled_features\")\n",
    "scaler_modelC3 = scalerC3.fit(transformed_dataC3)\n",
    "transformed_dataC3 = scaler_modelC3.transform(transformed_dataC3) "
   ]
  },
  {
   "cell_type": "code",
   "execution_count": 93,
   "metadata": {
    "collapsed": true
   },
   "outputs": [],
   "source": [
    "wssse_valuesC3 = []\n",
    "evaluatorC3 = ClusteringEvaluator()"
   ]
  },
  {
   "cell_type": "code",
   "execution_count": 94,
   "metadata": {},
   "outputs": [
    {
     "name": "stdout",
     "output_type": "stream",
     "text": [
      "Silhouette Scores: 0.7420277803769102\n",
      "Silhouette Scores: 0.5242509216228488\n",
      "Silhouette Scores: 0.5696396310464363\n",
      "Silhouette Scores: 0.4747916542741543\n",
      "Silhouette Scores: 0.47969243990675925\n",
      "Silhouette Scores: 0.4830571979152273\n",
      "Silhouette Scores: 0.5073968027535389\n",
      "Silhouette Scores: 0.49751232199595186\n"
     ]
    }
   ],
   "source": [
    "for i in range(2, 10):\n",
    "    KMeans_modC3 = KMeans(featuresCol=\"scaled_features\", k=i)\n",
    "    KMeans_fitC3 = KMeans_modC3.fit(transformed_dataC3)\n",
    "    outputC3 = KMeans_fitC3.transform(transformed_dataC3)\n",
    "    scoreC3 = evaluatorC3.evaluate(outputC3)\n",
    "    wssse_valuesC3.append(scoreC3)\n",
    "    print(\"Silhouette Scores:\", scoreC3)"
   ]
  },
  {
   "cell_type": "code",
   "execution_count": 95,
   "metadata": {},
   "outputs": [
    {
     "data": {
      "image/png": "[encoded data removed]",
      "text/plain": [
       "<Figure size 432x288 with 1 Axes>"
      ]
     },
     "metadata": {},
     "output_type": "display_data"
    }
   ],
   "source": [
    "plt.plot(range(2, 10), wssse_valuesC3)\n",
    "plt.xlabel(\"Number of Clusters (K)\")\n",
    "plt.ylabel(\"Within Set Sum of Squared Errors (WSSSE)\")\n",
    "plt.title(\"Elbow Method for Optimal K Value\")\n",
    "plt.grid()\n",
    "plt.show()"
   ]
  },
  {
   "cell_type": "code",
   "execution_count": 97,
   "metadata": {
    "collapsed": true
   },
   "outputs": [],
   "source": [
    "kmeansC3 = KMeans(k=5, featuresCol=\"scaled_features\", predictionCol=\"cluster\")\n",
    "kmeans_modelC3 = kmeansC3.fit(transformed_dataC3)\n",
    "clustered_dataC3 = kmeans_modelC3.transform(transformed_dataC3)"
   ]
  },
  {
   "cell_type": "code",
   "execution_count": 98,
   "metadata": {},
   "outputs": [
    {
     "name": "stdout",
     "output_type": "stream",
     "text": [
      "+---------------+---------+--------------+--------------------+-------+\n",
      "|af_acousticness|af_energy|      features|     scaled_features|cluster|\n",
      "+---------------+---------+--------------+--------------------+-------+\n",
      "|          0.187|    0.773| [0.187,0.773]|[0.80940093210278...|      0|\n",
      "|        0.00431|     0.92|[0.00431,0.92]|[0.01865517656343...|      0|\n",
      "|            0.4|    0.838|   [0.4,0.838]|[1.73133889219848...|      4|\n",
      "|          0.551|    0.687| [0.551,0.687]|[2.38491932400340...|      4|\n",
      "|          0.076|    0.626| [0.076,0.626]|[0.32895438951771...|      3|\n",
      "|          0.142|    0.669| [0.142,0.669]|[0.61462530673046...|      3|\n",
      "|         0.0851|    0.682|[0.0851,0.682]|[0.36834234931522...|      3|\n",
      "|         0.0559|    0.772|[0.0559,0.772]|[0.24195461018473...|      0|\n",
      "|          0.198|    0.964| [0.198,0.964]|[0.85701275163824...|      0|\n",
      "|         0.0998|    0.687|[0.0998,0.687]|[0.43196905360352...|      3|\n",
      "|         0.0244|    0.954|[0.0244,0.954]|[0.10561167242410...|      0|\n",
      "|          0.171|    0.929| [0.171,0.929]|[0.74014737641485...|      0|\n",
      "|          0.132|    0.701| [0.132,0.701]|[0.57134183442549...|      3|\n",
      "|         0.0673|    0.889|[0.0673,0.889]|[0.29129776861239...|      0|\n",
      "|          0.547|    0.838| [0.547,0.838]|[2.36760593508142...|      4|\n",
      "|          0.117|    0.917| [0.117,0.917]|[0.50641662596805...|      0|\n",
      "|         0.0858|    0.908|[0.0858,0.908]|[0.37137219237657...|      0|\n",
      "|         0.0784|    0.718|[0.0784,0.718]|[0.33934242287090...|      3|\n",
      "|          0.126|    0.798| [0.126,0.798]|[0.54537175104252...|      0|\n",
      "|          0.256|    0.909| [0.256,0.909]|[1.10805689100702...|      0|\n",
      "+---------------+---------+--------------+--------------------+-------+\n",
      "only showing top 20 rows\n",
      "\n"
     ]
    }
   ],
   "source": [
    "clustered_dataC3.show()"
   ]
  },
  {
   "cell_type": "code",
   "execution_count": 99,
   "metadata": {
    "collapsed": true
   },
   "outputs": [],
   "source": [
    "dataframe3_viz = clustered_dataC3.toPandas()"
   ]
  },
  {
   "cell_type": "code",
   "execution_count": 100,
   "metadata": {},
   "outputs": [
    {
     "data": {
      "image/png": "[encoded data removed]",
      "text/plain": [
       "<Figure size 432x288 with 2 Axes>"
      ]
     },
     "metadata": {},
     "output_type": "display_data"
    }
   ],
   "source": [
    "plt.scatter(dataframe3_viz[\"af_acousticness\"], dataframe3_viz[\"af_energy\"], c=dataframe3_viz[\"cluster\"])\n",
    "plt.xlabel(\"af_acousticness\")\n",
    "plt.ylabel(\"af_energy\")\n",
    "plt.title(\"K-Means Cluster with af acousticness and af energy\")\n",
    "plt.colorbar().set_label(\"Cluster\")\n",
    "plt.show()"
   ]
  },
  {
   "cell_type": "code",
   "execution_count": null,
   "metadata": {
    "collapsed": true
   },
   "outputs": [],
   "source": [
    "#cluster 0: af acousticness is between 0.0 and 0.4 and the af energy is between 0.8 and 1.0 \n",
    "#cluster 1: af acousticness is between 0.4 and 1.0 and the af energy is between 0.0 and 0.6 \n",
    "#cluster 2: af acousticness is between 0.0 and 0.4 and the af energy is between 0.2 and 0.6\n",
    "#cluster 3: af acousticness is between 0.0 and 0.3 and the af energy is between 0.6 and 0.8 \n",
    "#cluster 4: af acousticness is between 0.3 and 1.0 and the af energy is between 0.5 and 1.0 "
   ]
  },
  {
   "cell_type": "code",
   "execution_count": 117,
   "metadata": {},
   "outputs": [],
   "source": [
    "finalcluster4 = df3_normalized.select(\"af_energy\",\"af_loudness_normalized\") "
   ]
  },
  {
   "cell_type": "code",
   "execution_count": 118,
   "metadata": {
    "collapsed": true
   },
   "outputs": [],
   "source": [
    "required_features4 = [\"af_energy\", \"af_loudness_normalized\"] "
   ]
  },
  {
   "cell_type": "code",
   "execution_count": 120,
   "metadata": {},
   "outputs": [
    {
     "name": "stdout",
     "output_type": "stream",
     "text": [
      "+---------+----------------------+--------------------+\n",
      "|af_energy|af_loudness_normalized|            features|\n",
      "+---------+----------------------+--------------------+\n",
      "|    0.773|    0.8639058707873798|[0.773,0.86390587...|\n",
      "|     0.92|    0.8286074160548063|[0.92,0.828607416...|\n",
      "|    0.838|    0.8592362753832448|[0.838,0.85923627...|\n",
      "|    0.687|    0.8196675985376793|[0.687,0.81966759...|\n",
      "|    0.626|    0.8237534945162974|[0.626,0.82375349...|\n",
      "|    0.669|    0.8020951737273817|[0.669,0.80209517...|\n",
      "|    0.682|    0.7334029676507634|[0.682,0.73340296...|\n",
      "|    0.772|    0.7868575466191514|[0.772,0.78685754...|\n",
      "|    0.964|    0.8876839421215938|[0.964,0.88768394...|\n",
      "|    0.687|    0.7483641055574329|[0.687,0.74836410...|\n",
      "|    0.954|    0.8976375533777764|[0.954,0.89763755...|\n",
      "|    0.929|    0.9309391416546342|[0.929,0.93093914...|\n",
      "|    0.701|    0.7728487604067464|[0.701,0.77284876...|\n",
      "|    0.889|    0.8302356302417745|[0.889,0.83023563...|\n",
      "|    0.838|    0.8360419034745477|[0.838,0.83604190...|\n",
      "|    0.917|    0.8475008448281159|[0.917,0.84750084...|\n",
      "|    0.908|    0.8536757703296365|[0.908,0.85367577...|\n",
      "|    0.718|    0.7905440693066265|[0.718,0.79054406...|\n",
      "|    0.798|    0.8250744984793095|[0.798,0.82507449...|\n",
      "|    0.909|    0.8545666799791096|[0.909,0.85456667...|\n",
      "+---------+----------------------+--------------------+\n",
      "only showing top 20 rows\n",
      "\n"
     ]
    }
   ],
   "source": [
    "assemblerC4 = VectorAssembler(inputCols=required_features4, outputCol=\"features\")\n",
    "transformed_dataC4 = assemblerC4.transform(finalcluster4)\n",
    "transformed_dataC4.show()"
   ]
  },
  {
   "cell_type": "code",
   "execution_count": 121,
   "metadata": {
    "collapsed": true
   },
   "outputs": [],
   "source": [
    "scalerC4 = StandardScaler(inputCol=\"features\", outputCol=\"scaled_features\")\n",
    "scaler_modelC4 = scalerC4.fit(transformed_dataC4)\n",
    "transformed_dataC4 = scaler_modelC4.transform(transformed_dataC4)"
   ]
  },
  {
   "cell_type": "code",
   "execution_count": 122,
   "metadata": {
    "collapsed": true
   },
   "outputs": [],
   "source": [
    "wssse_valuesC4 = []\n",
    "evaluatorC4 = ClusteringEvaluator()"
   ]
  },
  {
   "cell_type": "code",
   "execution_count": 124,
   "metadata": {},
   "outputs": [
    {
     "name": "stdout",
     "output_type": "stream",
     "text": [
      "Silhouette Score: 0.6693536406086752\n",
      "Silhouette Score: 0.5541055650053771\n",
      "Silhouette Score: 0.4663443278624399\n",
      "Silhouette Score: 0.387403147720667\n",
      "Silhouette Score: 0.39458532460361784\n",
      "Silhouette Score: 0.34243550350042234\n",
      "Silhouette Score: 0.34221721514547265\n",
      "Silhouette Score: 0.3321335464949175\n"
     ]
    }
   ],
   "source": [
    "for i in range(2, 10):\n",
    "    KMeans_modC4 = KMeans(featuresCol=\"scaled_features\", k=i)\n",
    "    KMeans_fitC4 = KMeans_modC4.fit(transformed_dataC4)\n",
    "    outputC4 = KMeans_fitC4.transform(transformed_dataC4)\n",
    "    scoreC4 = evaluatorC4.evaluate(outputC4)\n",
    "    wssse_valuesC4.append(scoreC4)\n",
    "    print(\"Silhouette Score:\", scoreC4)"
   ]
  },
  {
   "cell_type": "code",
   "execution_count": 125,
   "metadata": {},
   "outputs": [
    {
     "data": {
      "image/png": "[encoded data removed]",
      "text/plain": [
       "<Figure size 432x288 with 1 Axes>"
      ]
     },
     "metadata": {},
     "output_type": "display_data"
    }
   ],
   "source": [
    "plt.plot(range(2, 10), wssse_valuesC4)\n",
    "plt.xlabel(\"Number of Clusters (K)\")\n",
    "plt.ylabel(\"Within Set Sum of Squared Errors (WSSSE)\")\n",
    "plt.title(\"Elbow Method for Optimal K Values\")\n",
    "plt.grid()\n",
    "plt.show()"
   ]
  },
  {
   "cell_type": "code",
   "execution_count": 127,
   "metadata": {
    "collapsed": true
   },
   "outputs": [],
   "source": [
    "kmeansC4 = KMeans(k=7, featuresCol=\"scaled_features\", predictionCol=\"cluster\")\n",
    "kmeans_modelC4 = kmeansC4.fit(transformed_dataC4)\n",
    "clustered_dataC4 = kmeans_modelC4.transform(transformed_dataC4)"
   ]
  },
  {
   "cell_type": "code",
   "execution_count": 128,
   "metadata": {},
   "outputs": [
    {
     "name": "stdout",
     "output_type": "stream",
     "text": [
      "+---------+----------------------+--------------------+--------------------+-------+\n",
      "|af_energy|af_loudness_normalized|            features|     scaled_features|cluster|\n",
      "+---------+----------------------+--------------------+--------------------+-------+\n",
      "|    0.773|    0.8639058707873798|[0.773,0.86390587...|[4.78036366795495...|      3|\n",
      "|     0.92|    0.8286074160548063|[0.92,0.828607416...|[5.68943670700977...|      3|\n",
      "|    0.838|    0.8592362753832448|[0.838,0.85923627...|[5.18233473964586...|      3|\n",
      "|    0.687|    0.8196675985376793|[0.687,0.81966759...|[4.24852501925621...|      0|\n",
      "|    0.626|    0.8237534945162974|[0.626,0.82375349...|[3.87129062890012...|      0|\n",
      "|    0.669|    0.8020951737273817|[0.669,0.80209517...|[4.13720995324949...|      0|\n",
      "|    0.682|    0.7334029676507634|[0.682,0.73340296...|[4.21760416758768...|      5|\n",
      "|    0.772|    0.7868575466191514|[0.772,0.78685754...|[4.77417949762124...|      4|\n",
      "|    0.964|    0.8876839421215938|[0.964,0.88768394...|[5.96154020169285...|      3|\n",
      "|    0.687|    0.7483641055574329|[0.687,0.74836410...|[4.24852501925621...|      5|\n",
      "|    0.954|    0.8976375533777764|[0.954,0.89763755...|[5.89969849835578...|      3|\n",
      "|    0.929|    0.9309391416546342|[0.929,0.93093914...|[5.74509424001313...|      3|\n",
      "|    0.701|    0.7728487604067464|[0.701,0.77284876...|[4.3351034039281,...|      4|\n",
      "|    0.889|    0.8302356302417745|[0.889,0.83023563...|[5.49772742666488...|      3|\n",
      "|    0.838|    0.8360419034745477|[0.838,0.83604190...|[5.18233473964586...|      3|\n",
      "|    0.917|    0.8475008448281159|[0.917,0.84750084...|[5.67088419600865...|      3|\n",
      "|    0.908|    0.8536757703296365|[0.908,0.85367577...|[5.61522666300529...|      3|\n",
      "|    0.718|    0.7905440693066265|[0.718,0.79054406...|[4.44023429960110...|      4|\n",
      "|    0.798|    0.8250744984793095|[0.798,0.82507449...|[4.93496792629760...|      3|\n",
      "|    0.909|    0.8545666799791096|[0.909,0.85456667...|[5.62141083333900...|      3|\n",
      "+---------+----------------------+--------------------+--------------------+-------+\n",
      "only showing top 20 rows\n",
      "\n"
     ]
    }
   ],
   "source": [
    "clustered_dataC4.show()"
   ]
  },
  {
   "cell_type": "code",
   "execution_count": 129,
   "metadata": {
    "collapsed": true
   },
   "outputs": [],
   "source": [
    "dataframe4_viz = clustered_dataC4.toPandas()"
   ]
  },
  {
   "cell_type": "code",
   "execution_count": 130,
   "metadata": {},
   "outputs": [
    {
     "data": {
      "image/png": "[encoded data removed]",
      "text/plain": [
       "<Figure size 432x288 with 2 Axes>"
      ]
     },
     "metadata": {},
     "output_type": "display_data"
    }
   ],
   "source": [
    "plt.scatter(dataframe4_viz[\"af_energy\"], dataframe4_viz[\"af_loudness_normalized\"], c=dataframe4_viz[\"cluster\"])\n",
    "plt.xlabel(\"af_energy\")\n",
    "plt.ylabel(\"af_loudness_normalized\")\n",
    "plt.title(\"K-Means Cluster with af_energy and af_loudness_normalized\")\n",
    "plt.colorbar().set_label(\"Cluster\")\n",
    "plt.show()"
   ]
  },
  {
   "cell_type": "code",
   "execution_count": null,
   "metadata": {
    "collapsed": true
   },
   "outputs": [],
   "source": [
    "#cluster 0: af energy is between 0.5 and 0.8 and af loudness normalized is between 0.7 and 0.9\n",
    "#cluster 1: af energy is between 0.0 and 0.6 and af loudness normalized is between 0.0 and 0.6 \n",
    "#cluster 2: af energy is between 0.2 and 0.6 and af loudness normalized is between 0.7 and 0.8 \n",
    "#cluster 3: af energy is between 0.6 and 1.0 and af loudness normalized is between 0.8 and 1.0 \n",
    "#cluster 4: af energy is between 0.7 and 1.0 and af loudness normalized is between 0.6 and 0.8\n",
    "#cluster 5: af energy is between 0.6 and 1.0 and af loudness normalized is between 0.6 and 0.8\n",
    "#cluster 6: af energy is between 0.0 and 0.6 and af loudness normlaized is between 0.6 and 0.8"
   ]
  }
 ],
 "metadata": {
  "kernelspec": {
   "display_name": "Python 3.5",
   "language": "python",
   "name": "python35"
  },
  "language_info": {
   "codemirror_mode": {
    "name": "ipython",
    "version": 3
   },
   "file_extension": ".py",
   "mimetype": "text/x-python",
   "name": "python",
   "nbconvert_exporter": "python",
   "pygments_lexer": "ipython3",
   "version": "3.5.2"
  }
 },
 "nbformat": 4,
 "nbformat_minor": 2
}
